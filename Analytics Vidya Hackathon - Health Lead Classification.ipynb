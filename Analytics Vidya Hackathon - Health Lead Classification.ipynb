{
 "cells": [
  {
   "cell_type": "code",
   "execution_count": 1,
   "metadata": {},
   "outputs": [],
   "source": [
    "import pandas as pd\n",
    "import numpy as np\n",
    "import matplotlib.pyplot as plt\n",
    "import seaborn as sns\n",
    "%matplotlib inline"
   ]
  },
  {
   "cell_type": "code",
   "execution_count": 2,
   "metadata": {},
   "outputs": [
    {
     "data": {
      "text/html": [
       "<div>\n",
       "<style scoped>\n",
       "    .dataframe tbody tr th:only-of-type {\n",
       "        vertical-align: middle;\n",
       "    }\n",
       "\n",
       "    .dataframe tbody tr th {\n",
       "        vertical-align: top;\n",
       "    }\n",
       "\n",
       "    .dataframe thead th {\n",
       "        text-align: right;\n",
       "    }\n",
       "</style>\n",
       "<table border=\"1\" class=\"dataframe\">\n",
       "  <thead>\n",
       "    <tr style=\"text-align: right;\">\n",
       "      <th></th>\n",
       "      <th>ID</th>\n",
       "      <th>City_Code</th>\n",
       "      <th>Region_Code</th>\n",
       "      <th>Accomodation_Type</th>\n",
       "      <th>Reco_Insurance_Type</th>\n",
       "      <th>Upper_Age</th>\n",
       "      <th>Lower_Age</th>\n",
       "      <th>Is_Spouse</th>\n",
       "      <th>Health Indicator</th>\n",
       "      <th>Holding_Policy_Duration</th>\n",
       "      <th>Holding_Policy_Type</th>\n",
       "      <th>Reco_Policy_Cat</th>\n",
       "      <th>Reco_Policy_Premium</th>\n",
       "      <th>Response</th>\n",
       "    </tr>\n",
       "  </thead>\n",
       "  <tbody>\n",
       "    <tr>\n",
       "      <th>0</th>\n",
       "      <td>1</td>\n",
       "      <td>C3</td>\n",
       "      <td>3213</td>\n",
       "      <td>Rented</td>\n",
       "      <td>Individual</td>\n",
       "      <td>36</td>\n",
       "      <td>36</td>\n",
       "      <td>No</td>\n",
       "      <td>X1</td>\n",
       "      <td>14+</td>\n",
       "      <td>3.0</td>\n",
       "      <td>22</td>\n",
       "      <td>11628.0</td>\n",
       "      <td>0</td>\n",
       "    </tr>\n",
       "    <tr>\n",
       "      <th>1</th>\n",
       "      <td>2</td>\n",
       "      <td>C5</td>\n",
       "      <td>1117</td>\n",
       "      <td>Owned</td>\n",
       "      <td>Joint</td>\n",
       "      <td>75</td>\n",
       "      <td>22</td>\n",
       "      <td>No</td>\n",
       "      <td>X2</td>\n",
       "      <td>NaN</td>\n",
       "      <td>NaN</td>\n",
       "      <td>22</td>\n",
       "      <td>30510.0</td>\n",
       "      <td>0</td>\n",
       "    </tr>\n",
       "    <tr>\n",
       "      <th>2</th>\n",
       "      <td>3</td>\n",
       "      <td>C5</td>\n",
       "      <td>3732</td>\n",
       "      <td>Owned</td>\n",
       "      <td>Individual</td>\n",
       "      <td>32</td>\n",
       "      <td>32</td>\n",
       "      <td>No</td>\n",
       "      <td>NaN</td>\n",
       "      <td>1.0</td>\n",
       "      <td>1.0</td>\n",
       "      <td>19</td>\n",
       "      <td>7450.0</td>\n",
       "      <td>1</td>\n",
       "    </tr>\n",
       "    <tr>\n",
       "      <th>3</th>\n",
       "      <td>4</td>\n",
       "      <td>C24</td>\n",
       "      <td>4378</td>\n",
       "      <td>Owned</td>\n",
       "      <td>Joint</td>\n",
       "      <td>52</td>\n",
       "      <td>48</td>\n",
       "      <td>No</td>\n",
       "      <td>X1</td>\n",
       "      <td>14+</td>\n",
       "      <td>3.0</td>\n",
       "      <td>19</td>\n",
       "      <td>17780.0</td>\n",
       "      <td>0</td>\n",
       "    </tr>\n",
       "    <tr>\n",
       "      <th>4</th>\n",
       "      <td>5</td>\n",
       "      <td>C8</td>\n",
       "      <td>2190</td>\n",
       "      <td>Rented</td>\n",
       "      <td>Individual</td>\n",
       "      <td>44</td>\n",
       "      <td>44</td>\n",
       "      <td>No</td>\n",
       "      <td>X2</td>\n",
       "      <td>3.0</td>\n",
       "      <td>1.0</td>\n",
       "      <td>16</td>\n",
       "      <td>10404.0</td>\n",
       "      <td>0</td>\n",
       "    </tr>\n",
       "  </tbody>\n",
       "</table>\n",
       "</div>"
      ],
      "text/plain": [
       "   ID City_Code  Region_Code Accomodation_Type Reco_Insurance_Type  Upper_Age  \\\n",
       "0   1        C3         3213            Rented          Individual         36   \n",
       "1   2        C5         1117             Owned               Joint         75   \n",
       "2   3        C5         3732             Owned          Individual         32   \n",
       "3   4       C24         4378             Owned               Joint         52   \n",
       "4   5        C8         2190            Rented          Individual         44   \n",
       "\n",
       "   Lower_Age Is_Spouse Health Indicator Holding_Policy_Duration  \\\n",
       "0         36        No               X1                     14+   \n",
       "1         22        No               X2                     NaN   \n",
       "2         32        No              NaN                     1.0   \n",
       "3         48        No               X1                     14+   \n",
       "4         44        No               X2                     3.0   \n",
       "\n",
       "   Holding_Policy_Type  Reco_Policy_Cat  Reco_Policy_Premium  Response  \n",
       "0                  3.0               22              11628.0         0  \n",
       "1                  NaN               22              30510.0         0  \n",
       "2                  1.0               19               7450.0         1  \n",
       "3                  3.0               19              17780.0         0  \n",
       "4                  1.0               16              10404.0         0  "
      ]
     },
     "execution_count": 2,
     "metadata": {},
     "output_type": "execute_result"
    }
   ],
   "source": [
    "data = pd.read_csv(r\"C:\\Users\\Admin\\Downloads\\Analytics Vidya Hackathon (Feb 2021)\\train_data.csv\")\n",
    "data.head()"
   ]
  },
  {
   "cell_type": "code",
   "execution_count": 3,
   "metadata": {},
   "outputs": [
    {
     "data": {
      "text/plain": [
       "(50882, 14)"
      ]
     },
     "execution_count": 3,
     "metadata": {},
     "output_type": "execute_result"
    }
   ],
   "source": [
    "data.shape"
   ]
  },
  {
   "cell_type": "code",
   "execution_count": 4,
   "metadata": {},
   "outputs": [
    {
     "data": {
      "text/html": [
       "<div>\n",
       "<style scoped>\n",
       "    .dataframe tbody tr th:only-of-type {\n",
       "        vertical-align: middle;\n",
       "    }\n",
       "\n",
       "    .dataframe tbody tr th {\n",
       "        vertical-align: top;\n",
       "    }\n",
       "\n",
       "    .dataframe thead th {\n",
       "        text-align: right;\n",
       "    }\n",
       "</style>\n",
       "<table border=\"1\" class=\"dataframe\">\n",
       "  <thead>\n",
       "    <tr style=\"text-align: right;\">\n",
       "      <th></th>\n",
       "      <th>ID</th>\n",
       "      <th>Region_Code</th>\n",
       "      <th>Upper_Age</th>\n",
       "      <th>Lower_Age</th>\n",
       "      <th>Holding_Policy_Type</th>\n",
       "      <th>Reco_Policy_Cat</th>\n",
       "      <th>Reco_Policy_Premium</th>\n",
       "      <th>Response</th>\n",
       "    </tr>\n",
       "  </thead>\n",
       "  <tbody>\n",
       "    <tr>\n",
       "      <th>count</th>\n",
       "      <td>50882.000000</td>\n",
       "      <td>50882.000000</td>\n",
       "      <td>50882.000000</td>\n",
       "      <td>50882.000000</td>\n",
       "      <td>30631.000000</td>\n",
       "      <td>50882.000000</td>\n",
       "      <td>50882.000000</td>\n",
       "      <td>50882.000000</td>\n",
       "    </tr>\n",
       "    <tr>\n",
       "      <th>mean</th>\n",
       "      <td>25441.500000</td>\n",
       "      <td>1732.788707</td>\n",
       "      <td>44.856275</td>\n",
       "      <td>42.738866</td>\n",
       "      <td>2.439228</td>\n",
       "      <td>15.115188</td>\n",
       "      <td>14183.950069</td>\n",
       "      <td>0.239947</td>\n",
       "    </tr>\n",
       "    <tr>\n",
       "      <th>std</th>\n",
       "      <td>14688.512535</td>\n",
       "      <td>1424.081652</td>\n",
       "      <td>17.310271</td>\n",
       "      <td>17.319375</td>\n",
       "      <td>1.025923</td>\n",
       "      <td>6.340663</td>\n",
       "      <td>6590.074873</td>\n",
       "      <td>0.427055</td>\n",
       "    </tr>\n",
       "    <tr>\n",
       "      <th>min</th>\n",
       "      <td>1.000000</td>\n",
       "      <td>1.000000</td>\n",
       "      <td>18.000000</td>\n",
       "      <td>16.000000</td>\n",
       "      <td>1.000000</td>\n",
       "      <td>1.000000</td>\n",
       "      <td>2280.000000</td>\n",
       "      <td>0.000000</td>\n",
       "    </tr>\n",
       "    <tr>\n",
       "      <th>25%</th>\n",
       "      <td>12721.250000</td>\n",
       "      <td>523.000000</td>\n",
       "      <td>28.000000</td>\n",
       "      <td>27.000000</td>\n",
       "      <td>1.000000</td>\n",
       "      <td>12.000000</td>\n",
       "      <td>9248.000000</td>\n",
       "      <td>0.000000</td>\n",
       "    </tr>\n",
       "    <tr>\n",
       "      <th>50%</th>\n",
       "      <td>25441.500000</td>\n",
       "      <td>1391.000000</td>\n",
       "      <td>44.000000</td>\n",
       "      <td>40.000000</td>\n",
       "      <td>3.000000</td>\n",
       "      <td>17.000000</td>\n",
       "      <td>13178.000000</td>\n",
       "      <td>0.000000</td>\n",
       "    </tr>\n",
       "    <tr>\n",
       "      <th>75%</th>\n",
       "      <td>38161.750000</td>\n",
       "      <td>2667.000000</td>\n",
       "      <td>59.000000</td>\n",
       "      <td>57.000000</td>\n",
       "      <td>3.000000</td>\n",
       "      <td>20.000000</td>\n",
       "      <td>18096.000000</td>\n",
       "      <td>0.000000</td>\n",
       "    </tr>\n",
       "    <tr>\n",
       "      <th>max</th>\n",
       "      <td>50882.000000</td>\n",
       "      <td>6194.000000</td>\n",
       "      <td>75.000000</td>\n",
       "      <td>75.000000</td>\n",
       "      <td>4.000000</td>\n",
       "      <td>22.000000</td>\n",
       "      <td>43350.400000</td>\n",
       "      <td>1.000000</td>\n",
       "    </tr>\n",
       "  </tbody>\n",
       "</table>\n",
       "</div>"
      ],
      "text/plain": [
       "                 ID   Region_Code     Upper_Age     Lower_Age  \\\n",
       "count  50882.000000  50882.000000  50882.000000  50882.000000   \n",
       "mean   25441.500000   1732.788707     44.856275     42.738866   \n",
       "std    14688.512535   1424.081652     17.310271     17.319375   \n",
       "min        1.000000      1.000000     18.000000     16.000000   \n",
       "25%    12721.250000    523.000000     28.000000     27.000000   \n",
       "50%    25441.500000   1391.000000     44.000000     40.000000   \n",
       "75%    38161.750000   2667.000000     59.000000     57.000000   \n",
       "max    50882.000000   6194.000000     75.000000     75.000000   \n",
       "\n",
       "       Holding_Policy_Type  Reco_Policy_Cat  Reco_Policy_Premium      Response  \n",
       "count         30631.000000     50882.000000         50882.000000  50882.000000  \n",
       "mean              2.439228        15.115188         14183.950069      0.239947  \n",
       "std               1.025923         6.340663          6590.074873      0.427055  \n",
       "min               1.000000         1.000000          2280.000000      0.000000  \n",
       "25%               1.000000        12.000000          9248.000000      0.000000  \n",
       "50%               3.000000        17.000000         13178.000000      0.000000  \n",
       "75%               3.000000        20.000000         18096.000000      0.000000  \n",
       "max               4.000000        22.000000         43350.400000      1.000000  "
      ]
     },
     "execution_count": 4,
     "metadata": {},
     "output_type": "execute_result"
    }
   ],
   "source": [
    "data.describe()"
   ]
  },
  {
   "cell_type": "code",
   "execution_count": 5,
   "metadata": {},
   "outputs": [
    {
     "name": "stdout",
     "output_type": "stream",
     "text": [
      "<class 'pandas.core.frame.DataFrame'>\n",
      "RangeIndex: 50882 entries, 0 to 50881\n",
      "Data columns (total 14 columns):\n",
      " #   Column                   Non-Null Count  Dtype  \n",
      "---  ------                   --------------  -----  \n",
      " 0   ID                       50882 non-null  int64  \n",
      " 1   City_Code                50882 non-null  object \n",
      " 2   Region_Code              50882 non-null  int64  \n",
      " 3   Accomodation_Type        50882 non-null  object \n",
      " 4   Reco_Insurance_Type      50882 non-null  object \n",
      " 5   Upper_Age                50882 non-null  int64  \n",
      " 6   Lower_Age                50882 non-null  int64  \n",
      " 7   Is_Spouse                50882 non-null  object \n",
      " 8   Health Indicator         39191 non-null  object \n",
      " 9   Holding_Policy_Duration  30631 non-null  object \n",
      " 10  Holding_Policy_Type      30631 non-null  float64\n",
      " 11  Reco_Policy_Cat          50882 non-null  int64  \n",
      " 12  Reco_Policy_Premium      50882 non-null  float64\n",
      " 13  Response                 50882 non-null  int64  \n",
      "dtypes: float64(2), int64(6), object(6)\n",
      "memory usage: 5.4+ MB\n"
     ]
    }
   ],
   "source": [
    "data.info()"
   ]
  },
  {
   "cell_type": "code",
   "execution_count": 6,
   "metadata": {},
   "outputs": [],
   "source": [
    "# Dropping the ID column"
   ]
  },
  {
   "cell_type": "code",
   "execution_count": 7,
   "metadata": {},
   "outputs": [],
   "source": [
    "data = data.drop(columns=[\"ID\"],axis=1)"
   ]
  },
  {
   "cell_type": "code",
   "execution_count": 8,
   "metadata": {},
   "outputs": [
    {
     "data": {
      "text/html": [
       "<div>\n",
       "<style scoped>\n",
       "    .dataframe tbody tr th:only-of-type {\n",
       "        vertical-align: middle;\n",
       "    }\n",
       "\n",
       "    .dataframe tbody tr th {\n",
       "        vertical-align: top;\n",
       "    }\n",
       "\n",
       "    .dataframe thead th {\n",
       "        text-align: right;\n",
       "    }\n",
       "</style>\n",
       "<table border=\"1\" class=\"dataframe\">\n",
       "  <thead>\n",
       "    <tr style=\"text-align: right;\">\n",
       "      <th></th>\n",
       "      <th>City_Code</th>\n",
       "      <th>Region_Code</th>\n",
       "      <th>Accomodation_Type</th>\n",
       "      <th>Reco_Insurance_Type</th>\n",
       "      <th>Upper_Age</th>\n",
       "      <th>Lower_Age</th>\n",
       "      <th>Is_Spouse</th>\n",
       "      <th>Health Indicator</th>\n",
       "      <th>Holding_Policy_Duration</th>\n",
       "      <th>Holding_Policy_Type</th>\n",
       "      <th>Reco_Policy_Cat</th>\n",
       "      <th>Reco_Policy_Premium</th>\n",
       "      <th>Response</th>\n",
       "    </tr>\n",
       "  </thead>\n",
       "  <tbody>\n",
       "    <tr>\n",
       "      <th>0</th>\n",
       "      <td>C3</td>\n",
       "      <td>3213</td>\n",
       "      <td>Rented</td>\n",
       "      <td>Individual</td>\n",
       "      <td>36</td>\n",
       "      <td>36</td>\n",
       "      <td>No</td>\n",
       "      <td>X1</td>\n",
       "      <td>14+</td>\n",
       "      <td>3.0</td>\n",
       "      <td>22</td>\n",
       "      <td>11628.0</td>\n",
       "      <td>0</td>\n",
       "    </tr>\n",
       "    <tr>\n",
       "      <th>1</th>\n",
       "      <td>C5</td>\n",
       "      <td>1117</td>\n",
       "      <td>Owned</td>\n",
       "      <td>Joint</td>\n",
       "      <td>75</td>\n",
       "      <td>22</td>\n",
       "      <td>No</td>\n",
       "      <td>X2</td>\n",
       "      <td>NaN</td>\n",
       "      <td>NaN</td>\n",
       "      <td>22</td>\n",
       "      <td>30510.0</td>\n",
       "      <td>0</td>\n",
       "    </tr>\n",
       "    <tr>\n",
       "      <th>2</th>\n",
       "      <td>C5</td>\n",
       "      <td>3732</td>\n",
       "      <td>Owned</td>\n",
       "      <td>Individual</td>\n",
       "      <td>32</td>\n",
       "      <td>32</td>\n",
       "      <td>No</td>\n",
       "      <td>NaN</td>\n",
       "      <td>1.0</td>\n",
       "      <td>1.0</td>\n",
       "      <td>19</td>\n",
       "      <td>7450.0</td>\n",
       "      <td>1</td>\n",
       "    </tr>\n",
       "    <tr>\n",
       "      <th>3</th>\n",
       "      <td>C24</td>\n",
       "      <td>4378</td>\n",
       "      <td>Owned</td>\n",
       "      <td>Joint</td>\n",
       "      <td>52</td>\n",
       "      <td>48</td>\n",
       "      <td>No</td>\n",
       "      <td>X1</td>\n",
       "      <td>14+</td>\n",
       "      <td>3.0</td>\n",
       "      <td>19</td>\n",
       "      <td>17780.0</td>\n",
       "      <td>0</td>\n",
       "    </tr>\n",
       "    <tr>\n",
       "      <th>4</th>\n",
       "      <td>C8</td>\n",
       "      <td>2190</td>\n",
       "      <td>Rented</td>\n",
       "      <td>Individual</td>\n",
       "      <td>44</td>\n",
       "      <td>44</td>\n",
       "      <td>No</td>\n",
       "      <td>X2</td>\n",
       "      <td>3.0</td>\n",
       "      <td>1.0</td>\n",
       "      <td>16</td>\n",
       "      <td>10404.0</td>\n",
       "      <td>0</td>\n",
       "    </tr>\n",
       "  </tbody>\n",
       "</table>\n",
       "</div>"
      ],
      "text/plain": [
       "  City_Code  Region_Code Accomodation_Type Reco_Insurance_Type  Upper_Age  \\\n",
       "0        C3         3213            Rented          Individual         36   \n",
       "1        C5         1117             Owned               Joint         75   \n",
       "2        C5         3732             Owned          Individual         32   \n",
       "3       C24         4378             Owned               Joint         52   \n",
       "4        C8         2190            Rented          Individual         44   \n",
       "\n",
       "   Lower_Age Is_Spouse Health Indicator Holding_Policy_Duration  \\\n",
       "0         36        No               X1                     14+   \n",
       "1         22        No               X2                     NaN   \n",
       "2         32        No              NaN                     1.0   \n",
       "3         48        No               X1                     14+   \n",
       "4         44        No               X2                     3.0   \n",
       "\n",
       "   Holding_Policy_Type  Reco_Policy_Cat  Reco_Policy_Premium  Response  \n",
       "0                  3.0               22              11628.0         0  \n",
       "1                  NaN               22              30510.0         0  \n",
       "2                  1.0               19               7450.0         1  \n",
       "3                  3.0               19              17780.0         0  \n",
       "4                  1.0               16              10404.0         0  "
      ]
     },
     "execution_count": 8,
     "metadata": {},
     "output_type": "execute_result"
    }
   ],
   "source": [
    "data.head()"
   ]
  },
  {
   "cell_type": "markdown",
   "metadata": {},
   "source": [
    "## Exploratory Data Analysis"
   ]
  },
  {
   "cell_type": "code",
   "execution_count": 9,
   "metadata": {},
   "outputs": [],
   "source": [
    "# Checking the null values in the dataset"
   ]
  },
  {
   "cell_type": "code",
   "execution_count": 10,
   "metadata": {},
   "outputs": [
    {
     "data": {
      "text/plain": [
       "City_Code                      0\n",
       "Region_Code                    0\n",
       "Accomodation_Type              0\n",
       "Reco_Insurance_Type            0\n",
       "Upper_Age                      0\n",
       "Lower_Age                      0\n",
       "Is_Spouse                      0\n",
       "Health Indicator           11691\n",
       "Holding_Policy_Duration    20251\n",
       "Holding_Policy_Type        20251\n",
       "Reco_Policy_Cat                0\n",
       "Reco_Policy_Premium            0\n",
       "Response                       0\n",
       "dtype: int64"
      ]
     },
     "execution_count": 10,
     "metadata": {},
     "output_type": "execute_result"
    }
   ],
   "source": [
    "data.isna().sum()"
   ]
  },
  {
   "cell_type": "code",
   "execution_count": 11,
   "metadata": {},
   "outputs": [],
   "source": [
    "# 'Health Indicator','Holding_Policy_Duration' and 'Holding_Policy_Type' columns have many missing values"
   ]
  },
  {
   "cell_type": "code",
   "execution_count": 12,
   "metadata": {},
   "outputs": [],
   "source": [
    "# Checking the null values in the dataset interms of percentage"
   ]
  },
  {
   "cell_type": "code",
   "execution_count": 13,
   "metadata": {},
   "outputs": [],
   "source": [
    "features_na = [feature for feature in data.columns if data[feature].isnull().sum()>1]"
   ]
  },
  {
   "cell_type": "code",
   "execution_count": 14,
   "metadata": {},
   "outputs": [
    {
     "name": "stdout",
     "output_type": "stream",
     "text": [
      "\u001b[1mMissing values in each variable,\u001b[0m\n",
      "Health Indicator  - 22.98 %\n",
      "Holding_Policy_Duration  - 39.80 %\n",
      "Holding_Policy_Type  - 39.80 %\n"
     ]
    }
   ],
   "source": [
    "print('\\033[1m'+ \"Missing values in each variable,\"+ \"\\033[0m\")\n",
    "for feature in features_na:\n",
    "    percentage = (np.round(data[feature].isnull().mean(), 4)*100)\n",
    "    print(feature,\" - \" \"%.2f\" % percentage,\"%\")"
   ]
  },
  {
   "cell_type": "markdown",
   "metadata": {},
   "source": [
    "### Numerical variables in the data"
   ]
  },
  {
   "cell_type": "code",
   "execution_count": 15,
   "metadata": {},
   "outputs": [
    {
     "name": "stdout",
     "output_type": "stream",
     "text": [
      "Number of numerical features: 4\n"
     ]
    }
   ],
   "source": [
    "numerical_features=[feature for feature in data.columns if len(data[feature].unique())>25 and data[feature].dtypes != \"O\"] \n",
    "print(\"Number of numerical features:\", len(numerical_features))"
   ]
  },
  {
   "cell_type": "code",
   "execution_count": 16,
   "metadata": {},
   "outputs": [
    {
     "data": {
      "text/html": [
       "<div>\n",
       "<style scoped>\n",
       "    .dataframe tbody tr th:only-of-type {\n",
       "        vertical-align: middle;\n",
       "    }\n",
       "\n",
       "    .dataframe tbody tr th {\n",
       "        vertical-align: top;\n",
       "    }\n",
       "\n",
       "    .dataframe thead th {\n",
       "        text-align: right;\n",
       "    }\n",
       "</style>\n",
       "<table border=\"1\" class=\"dataframe\">\n",
       "  <thead>\n",
       "    <tr style=\"text-align: right;\">\n",
       "      <th></th>\n",
       "      <th>Region_Code</th>\n",
       "      <th>Upper_Age</th>\n",
       "      <th>Lower_Age</th>\n",
       "      <th>Reco_Policy_Premium</th>\n",
       "    </tr>\n",
       "  </thead>\n",
       "  <tbody>\n",
       "    <tr>\n",
       "      <th>0</th>\n",
       "      <td>3213</td>\n",
       "      <td>36</td>\n",
       "      <td>36</td>\n",
       "      <td>11628.0</td>\n",
       "    </tr>\n",
       "    <tr>\n",
       "      <th>1</th>\n",
       "      <td>1117</td>\n",
       "      <td>75</td>\n",
       "      <td>22</td>\n",
       "      <td>30510.0</td>\n",
       "    </tr>\n",
       "    <tr>\n",
       "      <th>2</th>\n",
       "      <td>3732</td>\n",
       "      <td>32</td>\n",
       "      <td>32</td>\n",
       "      <td>7450.0</td>\n",
       "    </tr>\n",
       "    <tr>\n",
       "      <th>3</th>\n",
       "      <td>4378</td>\n",
       "      <td>52</td>\n",
       "      <td>48</td>\n",
       "      <td>17780.0</td>\n",
       "    </tr>\n",
       "    <tr>\n",
       "      <th>4</th>\n",
       "      <td>2190</td>\n",
       "      <td>44</td>\n",
       "      <td>44</td>\n",
       "      <td>10404.0</td>\n",
       "    </tr>\n",
       "  </tbody>\n",
       "</table>\n",
       "</div>"
      ],
      "text/plain": [
       "   Region_Code  Upper_Age  Lower_Age  Reco_Policy_Premium\n",
       "0         3213         36         36              11628.0\n",
       "1         1117         75         22              30510.0\n",
       "2         3732         32         32               7450.0\n",
       "3         4378         52         48              17780.0\n",
       "4         2190         44         44              10404.0"
      ]
     },
     "execution_count": 16,
     "metadata": {},
     "output_type": "execute_result"
    }
   ],
   "source": [
    "data[numerical_features].head()"
   ]
  },
  {
   "cell_type": "markdown",
   "metadata": {},
   "source": [
    "###  Univariate analysis"
   ]
  },
  {
   "cell_type": "code",
   "execution_count": 17,
   "metadata": {},
   "outputs": [],
   "source": [
    "# Using histograms to analyze the distribution of numerical features"
   ]
  },
  {
   "cell_type": "code",
   "execution_count": 18,
   "metadata": {
    "scrolled": true
   },
   "outputs": [
    {
     "data": {
      "image/png": "[encoded data removed]",
      "text/plain": [
       "<Figure size 432x288 with 1 Axes>"
      ]
     },
     "metadata": {
      "needs_background": "light"
     },
     "output_type": "display_data"
    },
    {
     "data": {
      "image/png": "[encoded data removed]",
      "text/plain": [
       "<Figure size 432x288 with 1 Axes>"
      ]
     },
     "metadata": {
      "needs_background": "light"
     },
     "output_type": "display_data"
    },
    {
     "data": {
      "image/png": "[encoded data removed]",
      "text/plain": [
       "<Figure size 432x288 with 1 Axes>"
      ]
     },
     "metadata": {
      "needs_background": "light"
     },
     "output_type": "display_data"
    },
    {
     "data": {
      "image/png": "[encoded data removed]",
      "text/plain": [
       "<Figure size 432x288 with 1 Axes>"
      ]
     },
     "metadata": {
      "needs_background": "light"
     },
     "output_type": "display_data"
    }
   ],
   "source": [
    "for feature in numerical_features:\n",
    "    dataset = data.copy()\n",
    "    dataset[feature].hist(bins=20)\n",
    "    plt.xlabel(feature)\n",
    "    plt.ylabel(\"Count\")\n",
    "    plt.title(\"Histogram of \"+ feature)\n",
    "    plt.show()"
   ]
  },
  {
   "cell_type": "markdown",
   "metadata": {},
   "source": [
    "#### The distribution of data is not normal in all the numerical features"
   ]
  },
  {
   "cell_type": "code",
   "execution_count": 19,
   "metadata": {},
   "outputs": [],
   "source": [
    "# Using the boxplots to identify the outliers in the dataset"
   ]
  },
  {
   "cell_type": "code",
   "execution_count": 20,
   "metadata": {},
   "outputs": [
    {
     "data": {
      "image/png": "[encoded data removed]",
      "text/plain": [
       "<Figure size 432x288 with 1 Axes>"
      ]
     },
     "metadata": {
      "needs_background": "light"
     },
     "output_type": "display_data"
    },
    {
     "data": {
      "image/png": "[encoded data removed]",
      "text/plain": [
       "<Figure size 432x288 with 1 Axes>"
      ]
     },
     "metadata": {
      "needs_background": "light"
     },
     "output_type": "display_data"
    },
    {
     "data": {
      "image/png": "[encoded data removed]",
      "text/plain": [
       "<Figure size 432x288 with 1 Axes>"
      ]
     },
     "metadata": {
      "needs_background": "light"
     },
     "output_type": "display_data"
    },
    {
     "data": {
      "image/png": "[encoded data removed]",
      "text/plain": [
       "<Figure size 432x288 with 1 Axes>"
      ]
     },
     "metadata": {
      "needs_background": "light"
     },
     "output_type": "display_data"
    }
   ],
   "source": [
    "for feature in numerical_features:\n",
    "    dataset = data.copy()\n",
    "    dataset.boxplot(column=feature)\n",
    "    plt.title(\"Boxplot of \"+ feature)\n",
    "    plt.show()"
   ]
  },
  {
   "cell_type": "markdown",
   "metadata": {},
   "source": [
    "#### There are many outliers in the 'Reco_Policy_Premium' feature"
   ]
  },
  {
   "cell_type": "code",
   "execution_count": 21,
   "metadata": {},
   "outputs": [],
   "source": [
    "# Quantile calculations"
   ]
  },
  {
   "cell_type": "code",
   "execution_count": 22,
   "metadata": {},
   "outputs": [],
   "source": [
    "Q1 = dataset.quantile(0.25)\n",
    "Q3 = dataset.quantile(0.75)\n",
    "IQR = Q3 - Q1"
   ]
  },
  {
   "cell_type": "code",
   "execution_count": 23,
   "metadata": {},
   "outputs": [],
   "source": [
    "# Number of extreme outliers in each variable"
   ]
  },
  {
   "cell_type": "code",
   "execution_count": 24,
   "metadata": {},
   "outputs": [
    {
     "data": {
      "text/plain": [
       "Accomodation_Type              0\n",
       "City_Code                      0\n",
       "Health Indicator               0\n",
       "Holding_Policy_Duration        0\n",
       "Holding_Policy_Type            0\n",
       "Is_Spouse                      0\n",
       "Lower_Age                      0\n",
       "Reco_Insurance_Type            0\n",
       "Reco_Policy_Cat                0\n",
       "Reco_Policy_Premium          821\n",
       "Region_Code                  201\n",
       "Response                   12209\n",
       "Upper_Age                      0\n",
       "dtype: int64"
      ]
     },
     "execution_count": 24,
     "metadata": {},
     "output_type": "execute_result"
    }
   ],
   "source": [
    "((dataset < (Q1 - 1.5 * IQR)) | (dataset > (Q3 + 1.5 * IQR))).sum()"
   ]
  },
  {
   "cell_type": "code",
   "execution_count": 25,
   "metadata": {},
   "outputs": [
    {
     "name": "stdout",
     "output_type": "stream",
     "text": [
      "Reco_Policy_Premium -4024.0\n",
      "Reco_Policy_Premium 31368.0\n"
     ]
    },
    {
     "data": {
      "text/plain": [
       "(None, None)"
      ]
     },
     "execution_count": 25,
     "metadata": {},
     "output_type": "execute_result"
    }
   ],
   "source": [
    "IQR = dataset['Reco_Policy_Premium'].quantile(0.75)-dataset['Reco_Policy_Premium'].quantile(0.25)\n",
    "lower_bridge=dataset['Reco_Policy_Premium'].quantile(0.25)-(IQR*1.5)\n",
    "upper_bridge=dataset['Reco_Policy_Premium'].quantile(0.75)+(IQR*1.5)\n",
    "print(feature, lower_bridge), print(feature,upper_bridge)"
   ]
  },
  {
   "cell_type": "code",
   "execution_count": 26,
   "metadata": {},
   "outputs": [],
   "source": [
    "dataset.loc[dataset['Reco_Policy_Premium']> upper_bridge]=upper_bridge"
   ]
  },
  {
   "cell_type": "markdown",
   "metadata": {},
   "source": [
    "### Bivariate analysis"
   ]
  },
  {
   "cell_type": "code",
   "execution_count": 27,
   "metadata": {},
   "outputs": [],
   "source": [
    "# Using boxplots to represent indepedent numerical variables with the output variable "
   ]
  },
  {
   "cell_type": "code",
   "execution_count": 28,
   "metadata": {},
   "outputs": [
    {
     "data": {
      "image/png": "[encoded data removed]",
      "text/plain": [
       "<Figure size 432x288 with 1 Axes>"
      ]
     },
     "metadata": {
      "needs_background": "light"
     },
     "output_type": "display_data"
    },
    {
     "data": {
      "image/png": "[encoded data removed]",
      "text/plain": [
       "<Figure size 432x288 with 1 Axes>"
      ]
     },
     "metadata": {
      "needs_background": "light"
     },
     "output_type": "display_data"
    },
    {
     "data": {
      "image/png": "[encoded data removed]",
      "text/plain": [
       "<Figure size 432x288 with 1 Axes>"
      ]
     },
     "metadata": {
      "needs_background": "light"
     },
     "output_type": "display_data"
    },
    {
     "data": {
      "image/png": "[encoded data removed]",
      "text/plain": [
       "<Figure size 432x288 with 1 Axes>"
      ]
     },
     "metadata": {
      "needs_background": "light"
     },
     "output_type": "display_data"
    }
   ],
   "source": [
    "for feature in numerical_features:\n",
    "    sns.boxplot(\"Response\", feature, data=data, palette='hls')\n",
    "    plt.title(\"Boxplot of \"+ feature +\" and Response\")\n",
    "    plt.show()"
   ]
  },
  {
   "cell_type": "code",
   "execution_count": 29,
   "metadata": {},
   "outputs": [],
   "source": [
    "# Countplot of dependent variable"
   ]
  },
  {
   "cell_type": "code",
   "execution_count": 30,
   "metadata": {},
   "outputs": [
    {
     "data": {
      "text/plain": [
       "<matplotlib.axes._subplots.AxesSubplot at 0x20c00bec688>"
      ]
     },
     "execution_count": 30,
     "metadata": {},
     "output_type": "execute_result"
    },
    {
     "data": {
      "image/png": "[encoded data removed]",
      "text/plain": [
       "<Figure size 432x288 with 1 Axes>"
      ]
     },
     "metadata": {
      "needs_background": "light"
     },
     "output_type": "display_data"
    }
   ],
   "source": [
    "sns.countplot(\"Response\", data=data, palette=\"hls\")"
   ]
  },
  {
   "cell_type": "code",
   "execution_count": 31,
   "metadata": {},
   "outputs": [
    {
     "data": {
      "text/plain": [
       "0    38673\n",
       "1    12209\n",
       "Name: Response, dtype: int64"
      ]
     },
     "execution_count": 31,
     "metadata": {},
     "output_type": "execute_result"
    }
   ],
   "source": [
    "data[\"Response\"].value_counts()"
   ]
  },
  {
   "cell_type": "code",
   "execution_count": 32,
   "metadata": {},
   "outputs": [
    {
     "data": {
      "text/plain": [
       "array([0, 1], dtype=int64)"
      ]
     },
     "execution_count": 32,
     "metadata": {},
     "output_type": "execute_result"
    }
   ],
   "source": [
    "data[\"Response\"].unique()"
   ]
  },
  {
   "cell_type": "code",
   "execution_count": 33,
   "metadata": {},
   "outputs": [
    {
     "name": "stdout",
     "output_type": "stream",
     "text": [
      "31.569829079719703 % not interested responses\n",
      "68.43017092028029 % interested responses\n"
     ]
    }
   ],
   "source": [
    "print(sum(data[\"Response\"]== 1)/sum(data[\"Response\"]== 0)*100, \"% not interested responses\")\n",
    "print(100 - sum(data[\"Response\"]==1)/sum(data[\"Response\"]== 0)*100, \"% interested responses\")"
   ]
  },
  {
   "cell_type": "markdown",
   "metadata": {},
   "source": [
    "### Categorical variables"
   ]
  },
  {
   "cell_type": "code",
   "execution_count": 34,
   "metadata": {},
   "outputs": [
    {
     "name": "stdout",
     "output_type": "stream",
     "text": [
      "Number of categorical variables : 6\n"
     ]
    }
   ],
   "source": [
    "categorical_features = [feature for feature in data.columns if data[feature].dtype == \"O\"]\n",
    "print(\"Number of categorical variables :\", len(categorical_features))"
   ]
  },
  {
   "cell_type": "code",
   "execution_count": 35,
   "metadata": {},
   "outputs": [
    {
     "data": {
      "text/html": [
       "<div>\n",
       "<style scoped>\n",
       "    .dataframe tbody tr th:only-of-type {\n",
       "        vertical-align: middle;\n",
       "    }\n",
       "\n",
       "    .dataframe tbody tr th {\n",
       "        vertical-align: top;\n",
       "    }\n",
       "\n",
       "    .dataframe thead th {\n",
       "        text-align: right;\n",
       "    }\n",
       "</style>\n",
       "<table border=\"1\" class=\"dataframe\">\n",
       "  <thead>\n",
       "    <tr style=\"text-align: right;\">\n",
       "      <th></th>\n",
       "      <th>City_Code</th>\n",
       "      <th>Accomodation_Type</th>\n",
       "      <th>Reco_Insurance_Type</th>\n",
       "      <th>Is_Spouse</th>\n",
       "      <th>Health Indicator</th>\n",
       "      <th>Holding_Policy_Duration</th>\n",
       "    </tr>\n",
       "  </thead>\n",
       "  <tbody>\n",
       "    <tr>\n",
       "      <th>0</th>\n",
       "      <td>C3</td>\n",
       "      <td>Rented</td>\n",
       "      <td>Individual</td>\n",
       "      <td>No</td>\n",
       "      <td>X1</td>\n",
       "      <td>14+</td>\n",
       "    </tr>\n",
       "    <tr>\n",
       "      <th>1</th>\n",
       "      <td>C5</td>\n",
       "      <td>Owned</td>\n",
       "      <td>Joint</td>\n",
       "      <td>No</td>\n",
       "      <td>X2</td>\n",
       "      <td>NaN</td>\n",
       "    </tr>\n",
       "    <tr>\n",
       "      <th>2</th>\n",
       "      <td>C5</td>\n",
       "      <td>Owned</td>\n",
       "      <td>Individual</td>\n",
       "      <td>No</td>\n",
       "      <td>NaN</td>\n",
       "      <td>1.0</td>\n",
       "    </tr>\n",
       "    <tr>\n",
       "      <th>3</th>\n",
       "      <td>C24</td>\n",
       "      <td>Owned</td>\n",
       "      <td>Joint</td>\n",
       "      <td>No</td>\n",
       "      <td>X1</td>\n",
       "      <td>14+</td>\n",
       "    </tr>\n",
       "    <tr>\n",
       "      <th>4</th>\n",
       "      <td>C8</td>\n",
       "      <td>Rented</td>\n",
       "      <td>Individual</td>\n",
       "      <td>No</td>\n",
       "      <td>X2</td>\n",
       "      <td>3.0</td>\n",
       "    </tr>\n",
       "  </tbody>\n",
       "</table>\n",
       "</div>"
      ],
      "text/plain": [
       "  City_Code Accomodation_Type Reco_Insurance_Type Is_Spouse Health Indicator  \\\n",
       "0        C3            Rented          Individual        No               X1   \n",
       "1        C5             Owned               Joint        No               X2   \n",
       "2        C5             Owned          Individual        No              NaN   \n",
       "3       C24             Owned               Joint        No               X1   \n",
       "4        C8            Rented          Individual        No               X2   \n",
       "\n",
       "  Holding_Policy_Duration  \n",
       "0                     14+  \n",
       "1                     NaN  \n",
       "2                     1.0  \n",
       "3                     14+  \n",
       "4                     3.0  "
      ]
     },
     "execution_count": 35,
     "metadata": {},
     "output_type": "execute_result"
    }
   ],
   "source": [
    "dataset[categorical_features].head()"
   ]
  },
  {
   "cell_type": "code",
   "execution_count": 36,
   "metadata": {},
   "outputs": [],
   "source": [
    "# Checking the number of unique values in each variable"
   ]
  },
  {
   "cell_type": "code",
   "execution_count": 37,
   "metadata": {},
   "outputs": [
    {
     "data": {
      "text/plain": [
       "City_Code                  36\n",
       "Accomodation_Type           2\n",
       "Reco_Insurance_Type         2\n",
       "Is_Spouse                   2\n",
       "Health Indicator            9\n",
       "Holding_Policy_Duration    15\n",
       "dtype: int64"
      ]
     },
     "execution_count": 37,
     "metadata": {},
     "output_type": "execute_result"
    }
   ],
   "source": [
    "data[categorical_features].nunique()"
   ]
  },
  {
   "cell_type": "markdown",
   "metadata": {},
   "source": [
    "### Univariate analysis of categorical variables"
   ]
  },
  {
   "cell_type": "code",
   "execution_count": 38,
   "metadata": {},
   "outputs": [],
   "source": [
    "# Using countplots see the frequencies of each categotical values"
   ]
  },
  {
   "cell_type": "code",
   "execution_count": 39,
   "metadata": {},
   "outputs": [
    {
     "data": {
      "image/png": "[encoded data removed]",
      "text/plain": [
       "<Figure size 864x360 with 1 Axes>"
      ]
     },
     "metadata": {
      "needs_background": "light"
     },
     "output_type": "display_data"
    },
    {
     "data": {
      "image/png": "[encoded data removed]",
      "text/plain": [
       "<Figure size 864x360 with 1 Axes>"
      ]
     },
     "metadata": {
      "needs_background": "light"
     },
     "output_type": "display_data"
    },
    {
     "data": {
      "image/png": "[encoded data removed]",
      "text/plain": [
       "<Figure size 864x360 with 1 Axes>"
      ]
     },
     "metadata": {
      "needs_background": "light"
     },
     "output_type": "display_data"
    },
    {
     "data": {
      "image/png": "[encoded data removed]",
      "text/plain": [
       "<Figure size 864x360 with 1 Axes>"
      ]
     },
     "metadata": {
      "needs_background": "light"
     },
     "output_type": "display_data"
    },
    {
     "data": {
      "image/png": "[encoded data removed]",
      "text/plain": [
       "<Figure size 864x360 with 1 Axes>"
      ]
     },
     "metadata": {
      "needs_background": "light"
     },
     "output_type": "display_data"
    },
    {
     "data": {
      "image/png": "[encoded data removed]",
      "text/plain": [
       "<Figure size 864x360 with 1 Axes>"
      ]
     },
     "metadata": {
      "needs_background": "light"
     },
     "output_type": "display_data"
    }
   ],
   "source": [
    "for feature in categorical_features:\n",
    "    plt.figure(figsize = (12,5))\n",
    "    dataset = data.copy()\n",
    "    sns.countplot(feature, data = data, palette = 'hls')\n",
    "    plt.title(\"Count plot of \" + feature)\n",
    "    plt.show()"
   ]
  },
  {
   "cell_type": "markdown",
   "metadata": {},
   "source": [
    "### BI-variate analysis"
   ]
  },
  {
   "cell_type": "code",
   "execution_count": 40,
   "metadata": {},
   "outputs": [],
   "source": [
    "# Cross-tabulation of independent varibales with respect to dependent variable"
   ]
  },
  {
   "cell_type": "code",
   "execution_count": 41,
   "metadata": {},
   "outputs": [
    {
     "data": {
      "text/plain": [
       "<Figure size 864x360 with 0 Axes>"
      ]
     },
     "metadata": {},
     "output_type": "display_data"
    },
    {
     "data": {
      "image/png": "[encoded data removed]",
      "text/plain": [
       "<Figure size 432x288 with 1 Axes>"
      ]
     },
     "metadata": {
      "needs_background": "light"
     },
     "output_type": "display_data"
    },
    {
     "data": {
      "text/plain": [
       "<Figure size 864x360 with 0 Axes>"
      ]
     },
     "metadata": {},
     "output_type": "display_data"
    },
    {
     "data": {
      "image/png": "[encoded data removed]",
      "text/plain": [
       "<Figure size 432x288 with 1 Axes>"
      ]
     },
     "metadata": {
      "needs_background": "light"
     },
     "output_type": "display_data"
    },
    {
     "data": {
      "text/plain": [
       "<Figure size 864x360 with 0 Axes>"
      ]
     },
     "metadata": {},
     "output_type": "display_data"
    },
    {
     "data": {
      "image/png": "[encoded data removed]",
      "text/plain": [
       "<Figure size 432x288 with 1 Axes>"
      ]
     },
     "metadata": {
      "needs_background": "light"
     },
     "output_type": "display_data"
    },
    {
     "data": {
      "text/plain": [
       "<Figure size 864x360 with 0 Axes>"
      ]
     },
     "metadata": {},
     "output_type": "display_data"
    },
    {
     "data": {
      "image/png": "[encoded data removed]",
      "text/plain": [
       "<Figure size 432x288 with 1 Axes>"
      ]
     },
     "metadata": {
      "needs_background": "light"
     },
     "output_type": "display_data"
    },
    {
     "data": {
      "text/plain": [
       "<Figure size 864x360 with 0 Axes>"
      ]
     },
     "metadata": {},
     "output_type": "display_data"
    },
    {
     "data": {
      "image/png": "[encoded data removed]",
      "text/plain": [
       "<Figure size 432x288 with 1 Axes>"
      ]
     },
     "metadata": {
      "needs_background": "light"
     },
     "output_type": "display_data"
    },
    {
     "data": {
      "text/plain": [
       "<Figure size 864x360 with 0 Axes>"
      ]
     },
     "metadata": {},
     "output_type": "display_data"
    },
    {
     "data": {
      "image/png": "[encoded data removed]",
      "text/plain": [
       "<Figure size 432x288 with 1 Axes>"
      ]
     },
     "metadata": {
      "needs_background": "light"
     },
     "output_type": "display_data"
    }
   ],
   "source": [
    "for feature in categorical_features:\n",
    "    plt.figure(figsize = (12,5))\n",
    "    pd.crosstab(data[feature], data[\"Response\"]).plot(kind=\"bar\")\n",
    "    plt.title(\"Cross tabulation of \" + feature + \" and Response\")\n",
    "    plt.show()"
   ]
  },
  {
   "cell_type": "markdown",
   "metadata": {},
   "source": [
    "## Feature Engineering"
   ]
  },
  {
   "cell_type": "code",
   "execution_count": 42,
   "metadata": {},
   "outputs": [],
   "source": [
    "correlation = data.corr()"
   ]
  },
  {
   "cell_type": "code",
   "execution_count": 43,
   "metadata": {},
   "outputs": [
    {
     "data": {
      "text/plain": [
       "<matplotlib.axes._subplots.AxesSubplot at 0x20c03204988>"
      ]
     },
     "execution_count": 43,
     "metadata": {},
     "output_type": "execute_result"
    },
    {
     "data": {
      "image/png": "[encoded data removed]",
      "text/plain": [
       "<Figure size 1080x432 with 2 Axes>"
      ]
     },
     "metadata": {
      "needs_background": "light"
     },
     "output_type": "display_data"
    }
   ],
   "source": [
    "plt.figure(figsize = (15,6))\n",
    "sns.heatmap(correlation, cbar = True, cmap = \"viridis\")"
   ]
  },
  {
   "cell_type": "code",
   "execution_count": 44,
   "metadata": {},
   "outputs": [
    {
     "data": {
      "text/plain": [
       "Index(['City_Code', 'Region_Code', 'Accomodation_Type', 'Reco_Insurance_Type',\n",
       "       'Upper_Age', 'Lower_Age', 'Is_Spouse', 'Health Indicator',\n",
       "       'Holding_Policy_Duration', 'Holding_Policy_Type', 'Reco_Policy_Cat',\n",
       "       'Reco_Policy_Premium', 'Response'],\n",
       "      dtype='object')"
      ]
     },
     "execution_count": 44,
     "metadata": {},
     "output_type": "execute_result"
    }
   ],
   "source": [
    "data.columns"
   ]
  },
  {
   "cell_type": "code",
   "execution_count": 45,
   "metadata": {},
   "outputs": [
    {
     "data": {
      "text/plain": [
       "0.9213922158232755"
      ]
     },
     "execution_count": 45,
     "metadata": {},
     "output_type": "execute_result"
    }
   ],
   "source": [
    "data[\"Upper_Age\"].corr(data[\"Lower_Age\"])"
   ]
  },
  {
   "cell_type": "code",
   "execution_count": 46,
   "metadata": {},
   "outputs": [
    {
     "data": {
      "text/plain": [
       "0.792689117800555"
      ]
     },
     "execution_count": 46,
     "metadata": {},
     "output_type": "execute_result"
    }
   ],
   "source": [
    "data[\"Upper_Age\"].corr(data[\"Reco_Policy_Premium\"])"
   ]
  },
  {
   "cell_type": "code",
   "execution_count": 47,
   "metadata": {},
   "outputs": [
    {
     "data": {
      "text/plain": [
       "0.6157385261425684"
      ]
     },
     "execution_count": 47,
     "metadata": {},
     "output_type": "execute_result"
    }
   ],
   "source": [
    "data[\"Lower_Age\"].corr(data[\"Reco_Policy_Premium\"])"
   ]
  },
  {
   "cell_type": "markdown",
   "metadata": {},
   "source": [
    "#### There is a high correlation between 'Upper_Age' and 'Lower_Age', hence dropping 'Lower_Age' from the dataset"
   ]
  },
  {
   "cell_type": "code",
   "execution_count": 48,
   "metadata": {},
   "outputs": [],
   "source": [
    "data = data.drop(columns=[\"Lower_Age\"], axis =1)"
   ]
  },
  {
   "cell_type": "code",
   "execution_count": 49,
   "metadata": {},
   "outputs": [
    {
     "data": {
      "text/plain": [
       "(50882, 12)"
      ]
     },
     "execution_count": 49,
     "metadata": {},
     "output_type": "execute_result"
    }
   ],
   "source": [
    "data.shape"
   ]
  },
  {
   "cell_type": "markdown",
   "metadata": {},
   "source": [
    "### Handling the missing values"
   ]
  },
  {
   "cell_type": "code",
   "execution_count": 50,
   "metadata": {
    "scrolled": true
   },
   "outputs": [
    {
     "data": {
      "text/plain": [
       "City_Code                      0\n",
       "Region_Code                    0\n",
       "Accomodation_Type              0\n",
       "Reco_Insurance_Type            0\n",
       "Upper_Age                      0\n",
       "Is_Spouse                      0\n",
       "Health Indicator           11691\n",
       "Holding_Policy_Duration    20251\n",
       "Holding_Policy_Type        20251\n",
       "Reco_Policy_Cat                0\n",
       "Reco_Policy_Premium            0\n",
       "Response                       0\n",
       "dtype: int64"
      ]
     },
     "execution_count": 50,
     "metadata": {},
     "output_type": "execute_result"
    }
   ],
   "source": [
    "data.isna().sum()"
   ]
  },
  {
   "cell_type": "code",
   "execution_count": 51,
   "metadata": {},
   "outputs": [],
   "source": [
    "# Categorical variables missing values imputation"
   ]
  },
  {
   "cell_type": "code",
   "execution_count": 52,
   "metadata": {},
   "outputs": [
    {
     "data": {
      "text/plain": [
       "X1    13010\n",
       "X2    10332\n",
       "X3     6762\n",
       "X4     5743\n",
       "X5     1727\n",
       "X6     1280\n",
       "X7      196\n",
       "X8       78\n",
       "X9       63\n",
       "Name: Health Indicator, dtype: int64"
      ]
     },
     "execution_count": 52,
     "metadata": {},
     "output_type": "execute_result"
    }
   ],
   "source": [
    "data[\"Health Indicator\"].value_counts()"
   ]
  },
  {
   "cell_type": "code",
   "execution_count": 53,
   "metadata": {},
   "outputs": [],
   "source": [
    "data[\"Health Indicator\"].fillna(\"X10\", inplace = True)"
   ]
  },
  {
   "cell_type": "code",
   "execution_count": 54,
   "metadata": {},
   "outputs": [],
   "source": [
    "# Holding_Policy_Duration"
   ]
  },
  {
   "cell_type": "code",
   "execution_count": 55,
   "metadata": {
    "scrolled": false
   },
   "outputs": [
    {
     "data": {
      "text/plain": [
       "1.0     4499\n",
       "14+     4335\n",
       "2.0     4260\n",
       "3.0     3586\n",
       "4.0     2771\n",
       "5.0     2362\n",
       "6.0     1894\n",
       "7.0     1645\n",
       "8.0     1316\n",
       "9.0     1114\n",
       "10.0     813\n",
       "11.0     546\n",
       "12.0     513\n",
       "13.0     511\n",
       "14.0     466\n",
       "Name: Holding_Policy_Duration, dtype: int64"
      ]
     },
     "execution_count": 55,
     "metadata": {},
     "output_type": "execute_result"
    }
   ],
   "source": [
    "data[\"Holding_Policy_Duration\"].value_counts()"
   ]
  },
  {
   "cell_type": "code",
   "execution_count": 56,
   "metadata": {},
   "outputs": [],
   "source": [
    "data[\"Holding_Policy_Duration\"].fillna(\"15.0\", inplace = True)"
   ]
  },
  {
   "cell_type": "code",
   "execution_count": 57,
   "metadata": {
    "scrolled": false
   },
   "outputs": [
    {
     "data": {
      "text/plain": [
       "3.0    13279\n",
       "1.0     8173\n",
       "2.0     5005\n",
       "4.0     4174\n",
       "Name: Holding_Policy_Type, dtype: int64"
      ]
     },
     "execution_count": 57,
     "metadata": {},
     "output_type": "execute_result"
    }
   ],
   "source": [
    "data[\"Holding_Policy_Type\"].value_counts()"
   ]
  },
  {
   "cell_type": "code",
   "execution_count": 58,
   "metadata": {},
   "outputs": [],
   "source": [
    "data[\"Holding_Policy_Type\"].fillna(5.0, inplace = True)"
   ]
  },
  {
   "cell_type": "code",
   "execution_count": 59,
   "metadata": {},
   "outputs": [
    {
     "data": {
      "text/plain": [
       "City_Code                  0\n",
       "Region_Code                0\n",
       "Accomodation_Type          0\n",
       "Reco_Insurance_Type        0\n",
       "Upper_Age                  0\n",
       "Is_Spouse                  0\n",
       "Health Indicator           0\n",
       "Holding_Policy_Duration    0\n",
       "Holding_Policy_Type        0\n",
       "Reco_Policy_Cat            0\n",
       "Reco_Policy_Premium        0\n",
       "Response                   0\n",
       "dtype: int64"
      ]
     },
     "execution_count": 59,
     "metadata": {},
     "output_type": "execute_result"
    }
   ],
   "source": [
    "data.isna().sum()"
   ]
  },
  {
   "cell_type": "markdown",
   "metadata": {},
   "source": [
    "#### All the missing values have been imputed"
   ]
  },
  {
   "cell_type": "markdown",
   "metadata": {},
   "source": [
    "### Encoding of categorial variables"
   ]
  },
  {
   "cell_type": "code",
   "execution_count": 60,
   "metadata": {},
   "outputs": [],
   "source": [
    "from numpy import asarray"
   ]
  },
  {
   "cell_type": "code",
   "execution_count": 61,
   "metadata": {},
   "outputs": [],
   "source": [
    "from sklearn.preprocessing import LabelEncoder"
   ]
  },
  {
   "cell_type": "code",
   "execution_count": 62,
   "metadata": {},
   "outputs": [],
   "source": [
    "encoder = LabelEncoder()"
   ]
  },
  {
   "cell_type": "code",
   "execution_count": 63,
   "metadata": {},
   "outputs": [],
   "source": [
    "# Holding_Policy_Duration"
   ]
  },
  {
   "cell_type": "code",
   "execution_count": 64,
   "metadata": {},
   "outputs": [],
   "source": [
    "hpd = asarray(data['Holding_Policy_Duration'])"
   ]
  },
  {
   "cell_type": "code",
   "execution_count": 65,
   "metadata": {},
   "outputs": [],
   "source": [
    "# transform data\n",
    "hpd = encoder.fit_transform(hpd)"
   ]
  },
  {
   "cell_type": "code",
   "execution_count": 66,
   "metadata": {},
   "outputs": [],
   "source": [
    "data['Holding_Policy_Duration'] = hpd"
   ]
  },
  {
   "cell_type": "code",
   "execution_count": 67,
   "metadata": {},
   "outputs": [],
   "source": [
    "# Encoding other categorical variables"
   ]
  },
  {
   "cell_type": "code",
   "execution_count": 68,
   "metadata": {
    "scrolled": false
   },
   "outputs": [
    {
     "data": {
      "text/html": [
       "<div>\n",
       "<style scoped>\n",
       "    .dataframe tbody tr th:only-of-type {\n",
       "        vertical-align: middle;\n",
       "    }\n",
       "\n",
       "    .dataframe tbody tr th {\n",
       "        vertical-align: top;\n",
       "    }\n",
       "\n",
       "    .dataframe thead th {\n",
       "        text-align: right;\n",
       "    }\n",
       "</style>\n",
       "<table border=\"1\" class=\"dataframe\">\n",
       "  <thead>\n",
       "    <tr style=\"text-align: right;\">\n",
       "      <th></th>\n",
       "      <th>City_Code</th>\n",
       "      <th>Region_Code</th>\n",
       "      <th>Accomodation_Type</th>\n",
       "      <th>Reco_Insurance_Type</th>\n",
       "      <th>Upper_Age</th>\n",
       "      <th>Is_Spouse</th>\n",
       "      <th>Health Indicator</th>\n",
       "      <th>Holding_Policy_Duration</th>\n",
       "      <th>Holding_Policy_Type</th>\n",
       "      <th>Reco_Policy_Cat</th>\n",
       "      <th>Reco_Policy_Premium</th>\n",
       "      <th>Response</th>\n",
       "    </tr>\n",
       "  </thead>\n",
       "  <tbody>\n",
       "    <tr>\n",
       "      <th>0</th>\n",
       "      <td>C3</td>\n",
       "      <td>3213</td>\n",
       "      <td>Rented</td>\n",
       "      <td>Individual</td>\n",
       "      <td>36</td>\n",
       "      <td>No</td>\n",
       "      <td>X1</td>\n",
       "      <td>5</td>\n",
       "      <td>3.0</td>\n",
       "      <td>22</td>\n",
       "      <td>11628.0</td>\n",
       "      <td>0</td>\n",
       "    </tr>\n",
       "    <tr>\n",
       "      <th>1</th>\n",
       "      <td>C5</td>\n",
       "      <td>1117</td>\n",
       "      <td>Owned</td>\n",
       "      <td>Joint</td>\n",
       "      <td>75</td>\n",
       "      <td>No</td>\n",
       "      <td>X2</td>\n",
       "      <td>7</td>\n",
       "      <td>5.0</td>\n",
       "      <td>22</td>\n",
       "      <td>30510.0</td>\n",
       "      <td>0</td>\n",
       "    </tr>\n",
       "    <tr>\n",
       "      <th>2</th>\n",
       "      <td>C5</td>\n",
       "      <td>3732</td>\n",
       "      <td>Owned</td>\n",
       "      <td>Individual</td>\n",
       "      <td>32</td>\n",
       "      <td>No</td>\n",
       "      <td>X10</td>\n",
       "      <td>0</td>\n",
       "      <td>1.0</td>\n",
       "      <td>19</td>\n",
       "      <td>7450.0</td>\n",
       "      <td>1</td>\n",
       "    </tr>\n",
       "    <tr>\n",
       "      <th>3</th>\n",
       "      <td>C24</td>\n",
       "      <td>4378</td>\n",
       "      <td>Owned</td>\n",
       "      <td>Joint</td>\n",
       "      <td>52</td>\n",
       "      <td>No</td>\n",
       "      <td>X1</td>\n",
       "      <td>5</td>\n",
       "      <td>3.0</td>\n",
       "      <td>19</td>\n",
       "      <td>17780.0</td>\n",
       "      <td>0</td>\n",
       "    </tr>\n",
       "    <tr>\n",
       "      <th>4</th>\n",
       "      <td>C8</td>\n",
       "      <td>2190</td>\n",
       "      <td>Rented</td>\n",
       "      <td>Individual</td>\n",
       "      <td>44</td>\n",
       "      <td>No</td>\n",
       "      <td>X2</td>\n",
       "      <td>9</td>\n",
       "      <td>1.0</td>\n",
       "      <td>16</td>\n",
       "      <td>10404.0</td>\n",
       "      <td>0</td>\n",
       "    </tr>\n",
       "  </tbody>\n",
       "</table>\n",
       "</div>"
      ],
      "text/plain": [
       "  City_Code  Region_Code Accomodation_Type Reco_Insurance_Type  Upper_Age  \\\n",
       "0        C3         3213            Rented          Individual         36   \n",
       "1        C5         1117             Owned               Joint         75   \n",
       "2        C5         3732             Owned          Individual         32   \n",
       "3       C24         4378             Owned               Joint         52   \n",
       "4        C8         2190            Rented          Individual         44   \n",
       "\n",
       "  Is_Spouse Health Indicator  Holding_Policy_Duration  Holding_Policy_Type  \\\n",
       "0        No               X1                        5                  3.0   \n",
       "1        No               X2                        7                  5.0   \n",
       "2        No              X10                        0                  1.0   \n",
       "3        No               X1                        5                  3.0   \n",
       "4        No               X2                        9                  1.0   \n",
       "\n",
       "   Reco_Policy_Cat  Reco_Policy_Premium  Response  \n",
       "0               22              11628.0         0  \n",
       "1               22              30510.0         0  \n",
       "2               19               7450.0         1  \n",
       "3               19              17780.0         0  \n",
       "4               16              10404.0         0  "
      ]
     },
     "execution_count": 68,
     "metadata": {},
     "output_type": "execute_result"
    }
   ],
   "source": [
    "data.head()"
   ]
  },
  {
   "cell_type": "code",
   "execution_count": 69,
   "metadata": {},
   "outputs": [],
   "source": [
    "dataset = pd.get_dummies(data, columns=[\"City_Code\",'Health Indicator','Holding_Policy_Type','Accomodation_Type', 'Reco_Insurance_Type','Is_Spouse'], drop_first=True)"
   ]
  },
  {
   "cell_type": "code",
   "execution_count": 70,
   "metadata": {},
   "outputs": [
    {
     "data": {
      "text/html": [
       "<div>\n",
       "<style scoped>\n",
       "    .dataframe tbody tr th:only-of-type {\n",
       "        vertical-align: middle;\n",
       "    }\n",
       "\n",
       "    .dataframe tbody tr th {\n",
       "        vertical-align: top;\n",
       "    }\n",
       "\n",
       "    .dataframe thead th {\n",
       "        text-align: right;\n",
       "    }\n",
       "</style>\n",
       "<table border=\"1\" class=\"dataframe\">\n",
       "  <thead>\n",
       "    <tr style=\"text-align: right;\">\n",
       "      <th></th>\n",
       "      <th>Region_Code</th>\n",
       "      <th>Upper_Age</th>\n",
       "      <th>Holding_Policy_Duration</th>\n",
       "      <th>Reco_Policy_Cat</th>\n",
       "      <th>Reco_Policy_Premium</th>\n",
       "      <th>Response</th>\n",
       "      <th>City_Code_C10</th>\n",
       "      <th>City_Code_C11</th>\n",
       "      <th>City_Code_C12</th>\n",
       "      <th>City_Code_C13</th>\n",
       "      <th>...</th>\n",
       "      <th>Health Indicator_X7</th>\n",
       "      <th>Health Indicator_X8</th>\n",
       "      <th>Health Indicator_X9</th>\n",
       "      <th>Holding_Policy_Type_2.0</th>\n",
       "      <th>Holding_Policy_Type_3.0</th>\n",
       "      <th>Holding_Policy_Type_4.0</th>\n",
       "      <th>Holding_Policy_Type_5.0</th>\n",
       "      <th>Accomodation_Type_Rented</th>\n",
       "      <th>Reco_Insurance_Type_Joint</th>\n",
       "      <th>Is_Spouse_Yes</th>\n",
       "    </tr>\n",
       "  </thead>\n",
       "  <tbody>\n",
       "    <tr>\n",
       "      <th>0</th>\n",
       "      <td>3213</td>\n",
       "      <td>36</td>\n",
       "      <td>5</td>\n",
       "      <td>22</td>\n",
       "      <td>11628.0</td>\n",
       "      <td>0</td>\n",
       "      <td>0</td>\n",
       "      <td>0</td>\n",
       "      <td>0</td>\n",
       "      <td>0</td>\n",
       "      <td>...</td>\n",
       "      <td>0</td>\n",
       "      <td>0</td>\n",
       "      <td>0</td>\n",
       "      <td>0</td>\n",
       "      <td>1</td>\n",
       "      <td>0</td>\n",
       "      <td>0</td>\n",
       "      <td>1</td>\n",
       "      <td>0</td>\n",
       "      <td>0</td>\n",
       "    </tr>\n",
       "    <tr>\n",
       "      <th>1</th>\n",
       "      <td>1117</td>\n",
       "      <td>75</td>\n",
       "      <td>7</td>\n",
       "      <td>22</td>\n",
       "      <td>30510.0</td>\n",
       "      <td>0</td>\n",
       "      <td>0</td>\n",
       "      <td>0</td>\n",
       "      <td>0</td>\n",
       "      <td>0</td>\n",
       "      <td>...</td>\n",
       "      <td>0</td>\n",
       "      <td>0</td>\n",
       "      <td>0</td>\n",
       "      <td>0</td>\n",
       "      <td>0</td>\n",
       "      <td>0</td>\n",
       "      <td>1</td>\n",
       "      <td>0</td>\n",
       "      <td>1</td>\n",
       "      <td>0</td>\n",
       "    </tr>\n",
       "    <tr>\n",
       "      <th>2</th>\n",
       "      <td>3732</td>\n",
       "      <td>32</td>\n",
       "      <td>0</td>\n",
       "      <td>19</td>\n",
       "      <td>7450.0</td>\n",
       "      <td>1</td>\n",
       "      <td>0</td>\n",
       "      <td>0</td>\n",
       "      <td>0</td>\n",
       "      <td>0</td>\n",
       "      <td>...</td>\n",
       "      <td>0</td>\n",
       "      <td>0</td>\n",
       "      <td>0</td>\n",
       "      <td>0</td>\n",
       "      <td>0</td>\n",
       "      <td>0</td>\n",
       "      <td>0</td>\n",
       "      <td>0</td>\n",
       "      <td>0</td>\n",
       "      <td>0</td>\n",
       "    </tr>\n",
       "    <tr>\n",
       "      <th>3</th>\n",
       "      <td>4378</td>\n",
       "      <td>52</td>\n",
       "      <td>5</td>\n",
       "      <td>19</td>\n",
       "      <td>17780.0</td>\n",
       "      <td>0</td>\n",
       "      <td>0</td>\n",
       "      <td>0</td>\n",
       "      <td>0</td>\n",
       "      <td>0</td>\n",
       "      <td>...</td>\n",
       "      <td>0</td>\n",
       "      <td>0</td>\n",
       "      <td>0</td>\n",
       "      <td>0</td>\n",
       "      <td>1</td>\n",
       "      <td>0</td>\n",
       "      <td>0</td>\n",
       "      <td>0</td>\n",
       "      <td>1</td>\n",
       "      <td>0</td>\n",
       "    </tr>\n",
       "    <tr>\n",
       "      <th>4</th>\n",
       "      <td>2190</td>\n",
       "      <td>44</td>\n",
       "      <td>9</td>\n",
       "      <td>16</td>\n",
       "      <td>10404.0</td>\n",
       "      <td>0</td>\n",
       "      <td>0</td>\n",
       "      <td>0</td>\n",
       "      <td>0</td>\n",
       "      <td>0</td>\n",
       "      <td>...</td>\n",
       "      <td>0</td>\n",
       "      <td>0</td>\n",
       "      <td>0</td>\n",
       "      <td>0</td>\n",
       "      <td>0</td>\n",
       "      <td>0</td>\n",
       "      <td>0</td>\n",
       "      <td>1</td>\n",
       "      <td>0</td>\n",
       "      <td>0</td>\n",
       "    </tr>\n",
       "  </tbody>\n",
       "</table>\n",
       "<p>5 rows × 57 columns</p>\n",
       "</div>"
      ],
      "text/plain": [
       "   Region_Code  Upper_Age  Holding_Policy_Duration  Reco_Policy_Cat  \\\n",
       "0         3213         36                        5               22   \n",
       "1         1117         75                        7               22   \n",
       "2         3732         32                        0               19   \n",
       "3         4378         52                        5               19   \n",
       "4         2190         44                        9               16   \n",
       "\n",
       "   Reco_Policy_Premium  Response  City_Code_C10  City_Code_C11  City_Code_C12  \\\n",
       "0              11628.0         0              0              0              0   \n",
       "1              30510.0         0              0              0              0   \n",
       "2               7450.0         1              0              0              0   \n",
       "3              17780.0         0              0              0              0   \n",
       "4              10404.0         0              0              0              0   \n",
       "\n",
       "   City_Code_C13  ...  Health Indicator_X7  Health Indicator_X8  \\\n",
       "0              0  ...                    0                    0   \n",
       "1              0  ...                    0                    0   \n",
       "2              0  ...                    0                    0   \n",
       "3              0  ...                    0                    0   \n",
       "4              0  ...                    0                    0   \n",
       "\n",
       "   Health Indicator_X9  Holding_Policy_Type_2.0  Holding_Policy_Type_3.0  \\\n",
       "0                    0                        0                        1   \n",
       "1                    0                        0                        0   \n",
       "2                    0                        0                        0   \n",
       "3                    0                        0                        1   \n",
       "4                    0                        0                        0   \n",
       "\n",
       "   Holding_Policy_Type_4.0  Holding_Policy_Type_5.0  Accomodation_Type_Rented  \\\n",
       "0                        0                        0                         1   \n",
       "1                        0                        1                         0   \n",
       "2                        0                        0                         0   \n",
       "3                        0                        0                         0   \n",
       "4                        0                        0                         1   \n",
       "\n",
       "   Reco_Insurance_Type_Joint  Is_Spouse_Yes  \n",
       "0                          0              0  \n",
       "1                          1              0  \n",
       "2                          0              0  \n",
       "3                          1              0  \n",
       "4                          0              0  \n",
       "\n",
       "[5 rows x 57 columns]"
      ]
     },
     "execution_count": 70,
     "metadata": {},
     "output_type": "execute_result"
    }
   ],
   "source": [
    "dataset.head()"
   ]
  },
  {
   "cell_type": "code",
   "execution_count": 71,
   "metadata": {
    "scrolled": true
   },
   "outputs": [
    {
     "data": {
      "text/plain": [
       "(50882, 57)"
      ]
     },
     "execution_count": 71,
     "metadata": {},
     "output_type": "execute_result"
    }
   ],
   "source": [
    "dataset.shape"
   ]
  },
  {
   "cell_type": "code",
   "execution_count": 72,
   "metadata": {},
   "outputs": [],
   "source": [
    "from sklearn.preprocessing import MinMaxScaler"
   ]
  },
  {
   "cell_type": "code",
   "execution_count": 73,
   "metadata": {},
   "outputs": [
    {
     "data": {
      "text/plain": [
       "MinMaxScaler()"
      ]
     },
     "execution_count": 73,
     "metadata": {},
     "output_type": "execute_result"
    }
   ],
   "source": [
    "scaler=MinMaxScaler()\n",
    "scaler.fit(dataset)"
   ]
  },
  {
   "cell_type": "code",
   "execution_count": 74,
   "metadata": {},
   "outputs": [],
   "source": [
    "scaled_data = pd.DataFrame(scaler.transform(dataset),columns=dataset.columns)"
   ]
  },
  {
   "cell_type": "code",
   "execution_count": 75,
   "metadata": {
    "scrolled": false
   },
   "outputs": [
    {
     "data": {
      "text/html": [
       "<div>\n",
       "<style scoped>\n",
       "    .dataframe tbody tr th:only-of-type {\n",
       "        vertical-align: middle;\n",
       "    }\n",
       "\n",
       "    .dataframe tbody tr th {\n",
       "        vertical-align: top;\n",
       "    }\n",
       "\n",
       "    .dataframe thead th {\n",
       "        text-align: right;\n",
       "    }\n",
       "</style>\n",
       "<table border=\"1\" class=\"dataframe\">\n",
       "  <thead>\n",
       "    <tr style=\"text-align: right;\">\n",
       "      <th></th>\n",
       "      <th>Region_Code</th>\n",
       "      <th>Upper_Age</th>\n",
       "      <th>Holding_Policy_Duration</th>\n",
       "      <th>Reco_Policy_Cat</th>\n",
       "      <th>Reco_Policy_Premium</th>\n",
       "      <th>Response</th>\n",
       "      <th>City_Code_C10</th>\n",
       "      <th>City_Code_C11</th>\n",
       "      <th>City_Code_C12</th>\n",
       "      <th>City_Code_C13</th>\n",
       "      <th>...</th>\n",
       "      <th>Health Indicator_X7</th>\n",
       "      <th>Health Indicator_X8</th>\n",
       "      <th>Health Indicator_X9</th>\n",
       "      <th>Holding_Policy_Type_2.0</th>\n",
       "      <th>Holding_Policy_Type_3.0</th>\n",
       "      <th>Holding_Policy_Type_4.0</th>\n",
       "      <th>Holding_Policy_Type_5.0</th>\n",
       "      <th>Accomodation_Type_Rented</th>\n",
       "      <th>Reco_Insurance_Type_Joint</th>\n",
       "      <th>Is_Spouse_Yes</th>\n",
       "    </tr>\n",
       "  </thead>\n",
       "  <tbody>\n",
       "    <tr>\n",
       "      <th>0</th>\n",
       "      <td>0.518650</td>\n",
       "      <td>0.315789</td>\n",
       "      <td>0.333333</td>\n",
       "      <td>1.000000</td>\n",
       "      <td>0.227609</td>\n",
       "      <td>0.0</td>\n",
       "      <td>0.0</td>\n",
       "      <td>0.0</td>\n",
       "      <td>0.0</td>\n",
       "      <td>0.0</td>\n",
       "      <td>...</td>\n",
       "      <td>0.0</td>\n",
       "      <td>0.0</td>\n",
       "      <td>0.0</td>\n",
       "      <td>0.0</td>\n",
       "      <td>1.0</td>\n",
       "      <td>0.0</td>\n",
       "      <td>0.0</td>\n",
       "      <td>1.0</td>\n",
       "      <td>0.0</td>\n",
       "      <td>0.0</td>\n",
       "    </tr>\n",
       "    <tr>\n",
       "      <th>1</th>\n",
       "      <td>0.180203</td>\n",
       "      <td>1.000000</td>\n",
       "      <td>0.466667</td>\n",
       "      <td>1.000000</td>\n",
       "      <td>0.687356</td>\n",
       "      <td>0.0</td>\n",
       "      <td>0.0</td>\n",
       "      <td>0.0</td>\n",
       "      <td>0.0</td>\n",
       "      <td>0.0</td>\n",
       "      <td>...</td>\n",
       "      <td>0.0</td>\n",
       "      <td>0.0</td>\n",
       "      <td>0.0</td>\n",
       "      <td>0.0</td>\n",
       "      <td>0.0</td>\n",
       "      <td>0.0</td>\n",
       "      <td>1.0</td>\n",
       "      <td>0.0</td>\n",
       "      <td>1.0</td>\n",
       "      <td>0.0</td>\n",
       "    </tr>\n",
       "    <tr>\n",
       "      <th>2</th>\n",
       "      <td>0.602454</td>\n",
       "      <td>0.245614</td>\n",
       "      <td>0.000000</td>\n",
       "      <td>0.857143</td>\n",
       "      <td>0.125881</td>\n",
       "      <td>1.0</td>\n",
       "      <td>0.0</td>\n",
       "      <td>0.0</td>\n",
       "      <td>0.0</td>\n",
       "      <td>0.0</td>\n",
       "      <td>...</td>\n",
       "      <td>0.0</td>\n",
       "      <td>0.0</td>\n",
       "      <td>0.0</td>\n",
       "      <td>0.0</td>\n",
       "      <td>0.0</td>\n",
       "      <td>0.0</td>\n",
       "      <td>0.0</td>\n",
       "      <td>0.0</td>\n",
       "      <td>0.0</td>\n",
       "      <td>0.0</td>\n",
       "    </tr>\n",
       "    <tr>\n",
       "      <th>3</th>\n",
       "      <td>0.706766</td>\n",
       "      <td>0.596491</td>\n",
       "      <td>0.333333</td>\n",
       "      <td>0.857143</td>\n",
       "      <td>0.377401</td>\n",
       "      <td>0.0</td>\n",
       "      <td>0.0</td>\n",
       "      <td>0.0</td>\n",
       "      <td>0.0</td>\n",
       "      <td>0.0</td>\n",
       "      <td>...</td>\n",
       "      <td>0.0</td>\n",
       "      <td>0.0</td>\n",
       "      <td>0.0</td>\n",
       "      <td>0.0</td>\n",
       "      <td>1.0</td>\n",
       "      <td>0.0</td>\n",
       "      <td>0.0</td>\n",
       "      <td>0.0</td>\n",
       "      <td>1.0</td>\n",
       "      <td>0.0</td>\n",
       "    </tr>\n",
       "    <tr>\n",
       "      <th>4</th>\n",
       "      <td>0.353464</td>\n",
       "      <td>0.456140</td>\n",
       "      <td>0.600000</td>\n",
       "      <td>0.714286</td>\n",
       "      <td>0.197807</td>\n",
       "      <td>0.0</td>\n",
       "      <td>0.0</td>\n",
       "      <td>0.0</td>\n",
       "      <td>0.0</td>\n",
       "      <td>0.0</td>\n",
       "      <td>...</td>\n",
       "      <td>0.0</td>\n",
       "      <td>0.0</td>\n",
       "      <td>0.0</td>\n",
       "      <td>0.0</td>\n",
       "      <td>0.0</td>\n",
       "      <td>0.0</td>\n",
       "      <td>0.0</td>\n",
       "      <td>1.0</td>\n",
       "      <td>0.0</td>\n",
       "      <td>0.0</td>\n",
       "    </tr>\n",
       "  </tbody>\n",
       "</table>\n",
       "<p>5 rows × 57 columns</p>\n",
       "</div>"
      ],
      "text/plain": [
       "   Region_Code  Upper_Age  Holding_Policy_Duration  Reco_Policy_Cat  \\\n",
       "0     0.518650   0.315789                 0.333333         1.000000   \n",
       "1     0.180203   1.000000                 0.466667         1.000000   \n",
       "2     0.602454   0.245614                 0.000000         0.857143   \n",
       "3     0.706766   0.596491                 0.333333         0.857143   \n",
       "4     0.353464   0.456140                 0.600000         0.714286   \n",
       "\n",
       "   Reco_Policy_Premium  Response  City_Code_C10  City_Code_C11  City_Code_C12  \\\n",
       "0             0.227609       0.0            0.0            0.0            0.0   \n",
       "1             0.687356       0.0            0.0            0.0            0.0   \n",
       "2             0.125881       1.0            0.0            0.0            0.0   \n",
       "3             0.377401       0.0            0.0            0.0            0.0   \n",
       "4             0.197807       0.0            0.0            0.0            0.0   \n",
       "\n",
       "   City_Code_C13  ...  Health Indicator_X7  Health Indicator_X8  \\\n",
       "0            0.0  ...                  0.0                  0.0   \n",
       "1            0.0  ...                  0.0                  0.0   \n",
       "2            0.0  ...                  0.0                  0.0   \n",
       "3            0.0  ...                  0.0                  0.0   \n",
       "4            0.0  ...                  0.0                  0.0   \n",
       "\n",
       "   Health Indicator_X9  Holding_Policy_Type_2.0  Holding_Policy_Type_3.0  \\\n",
       "0                  0.0                      0.0                      1.0   \n",
       "1                  0.0                      0.0                      0.0   \n",
       "2                  0.0                      0.0                      0.0   \n",
       "3                  0.0                      0.0                      1.0   \n",
       "4                  0.0                      0.0                      0.0   \n",
       "\n",
       "   Holding_Policy_Type_4.0  Holding_Policy_Type_5.0  Accomodation_Type_Rented  \\\n",
       "0                      0.0                      0.0                       1.0   \n",
       "1                      0.0                      1.0                       0.0   \n",
       "2                      0.0                      0.0                       0.0   \n",
       "3                      0.0                      0.0                       0.0   \n",
       "4                      0.0                      0.0                       1.0   \n",
       "\n",
       "   Reco_Insurance_Type_Joint  Is_Spouse_Yes  \n",
       "0                        0.0            0.0  \n",
       "1                        1.0            0.0  \n",
       "2                        0.0            0.0  \n",
       "3                        1.0            0.0  \n",
       "4                        0.0            0.0  \n",
       "\n",
       "[5 rows x 57 columns]"
      ]
     },
     "execution_count": 75,
     "metadata": {},
     "output_type": "execute_result"
    }
   ],
   "source": [
    "scaled_data.head()"
   ]
  },
  {
   "cell_type": "code",
   "execution_count": null,
   "metadata": {},
   "outputs": [],
   "source": []
  },
  {
   "cell_type": "code",
   "execution_count": null,
   "metadata": {},
   "outputs": [],
   "source": []
  },
  {
   "cell_type": "code",
   "execution_count": null,
   "metadata": {},
   "outputs": [],
   "source": []
  },
  {
   "cell_type": "markdown",
   "metadata": {},
   "source": [
    "## Importing and applying same preprocessing to test data"
   ]
  },
  {
   "cell_type": "code",
   "execution_count": 76,
   "metadata": {},
   "outputs": [
    {
     "data": {
      "text/html": [
       "<div>\n",
       "<style scoped>\n",
       "    .dataframe tbody tr th:only-of-type {\n",
       "        vertical-align: middle;\n",
       "    }\n",
       "\n",
       "    .dataframe tbody tr th {\n",
       "        vertical-align: top;\n",
       "    }\n",
       "\n",
       "    .dataframe thead th {\n",
       "        text-align: right;\n",
       "    }\n",
       "</style>\n",
       "<table border=\"1\" class=\"dataframe\">\n",
       "  <thead>\n",
       "    <tr style=\"text-align: right;\">\n",
       "      <th></th>\n",
       "      <th>ID</th>\n",
       "      <th>City_Code</th>\n",
       "      <th>Region_Code</th>\n",
       "      <th>Accomodation_Type</th>\n",
       "      <th>Reco_Insurance_Type</th>\n",
       "      <th>Upper_Age</th>\n",
       "      <th>Lower_Age</th>\n",
       "      <th>Is_Spouse</th>\n",
       "      <th>Health Indicator</th>\n",
       "      <th>Holding_Policy_Duration</th>\n",
       "      <th>Holding_Policy_Type</th>\n",
       "      <th>Reco_Policy_Cat</th>\n",
       "      <th>Reco_Policy_Premium</th>\n",
       "    </tr>\n",
       "  </thead>\n",
       "  <tbody>\n",
       "    <tr>\n",
       "      <th>0</th>\n",
       "      <td>50883</td>\n",
       "      <td>C1</td>\n",
       "      <td>156</td>\n",
       "      <td>Owned</td>\n",
       "      <td>Individual</td>\n",
       "      <td>30</td>\n",
       "      <td>30</td>\n",
       "      <td>No</td>\n",
       "      <td>NaN</td>\n",
       "      <td>6.0</td>\n",
       "      <td>3.0</td>\n",
       "      <td>5</td>\n",
       "      <td>11934.0</td>\n",
       "    </tr>\n",
       "    <tr>\n",
       "      <th>1</th>\n",
       "      <td>50884</td>\n",
       "      <td>C4</td>\n",
       "      <td>7</td>\n",
       "      <td>Owned</td>\n",
       "      <td>Joint</td>\n",
       "      <td>69</td>\n",
       "      <td>68</td>\n",
       "      <td>Yes</td>\n",
       "      <td>X1</td>\n",
       "      <td>3.0</td>\n",
       "      <td>3.0</td>\n",
       "      <td>18</td>\n",
       "      <td>32204.8</td>\n",
       "    </tr>\n",
       "    <tr>\n",
       "      <th>2</th>\n",
       "      <td>50885</td>\n",
       "      <td>C1</td>\n",
       "      <td>564</td>\n",
       "      <td>Rented</td>\n",
       "      <td>Individual</td>\n",
       "      <td>28</td>\n",
       "      <td>28</td>\n",
       "      <td>No</td>\n",
       "      <td>X3</td>\n",
       "      <td>2.0</td>\n",
       "      <td>4.0</td>\n",
       "      <td>17</td>\n",
       "      <td>9240.0</td>\n",
       "    </tr>\n",
       "    <tr>\n",
       "      <th>3</th>\n",
       "      <td>50886</td>\n",
       "      <td>C3</td>\n",
       "      <td>1177</td>\n",
       "      <td>Rented</td>\n",
       "      <td>Individual</td>\n",
       "      <td>23</td>\n",
       "      <td>23</td>\n",
       "      <td>No</td>\n",
       "      <td>X3</td>\n",
       "      <td>3.0</td>\n",
       "      <td>3.0</td>\n",
       "      <td>18</td>\n",
       "      <td>9086.0</td>\n",
       "    </tr>\n",
       "    <tr>\n",
       "      <th>4</th>\n",
       "      <td>50887</td>\n",
       "      <td>C1</td>\n",
       "      <td>951</td>\n",
       "      <td>Owned</td>\n",
       "      <td>Individual</td>\n",
       "      <td>75</td>\n",
       "      <td>75</td>\n",
       "      <td>No</td>\n",
       "      <td>X3</td>\n",
       "      <td>NaN</td>\n",
       "      <td>NaN</td>\n",
       "      <td>5</td>\n",
       "      <td>22534.0</td>\n",
       "    </tr>\n",
       "  </tbody>\n",
       "</table>\n",
       "</div>"
      ],
      "text/plain": [
       "      ID City_Code  Region_Code Accomodation_Type Reco_Insurance_Type  \\\n",
       "0  50883        C1          156             Owned          Individual   \n",
       "1  50884        C4            7             Owned               Joint   \n",
       "2  50885        C1          564            Rented          Individual   \n",
       "3  50886        C3         1177            Rented          Individual   \n",
       "4  50887        C1          951             Owned          Individual   \n",
       "\n",
       "   Upper_Age  Lower_Age Is_Spouse Health Indicator Holding_Policy_Duration  \\\n",
       "0         30         30        No              NaN                     6.0   \n",
       "1         69         68       Yes               X1                     3.0   \n",
       "2         28         28        No               X3                     2.0   \n",
       "3         23         23        No               X3                     3.0   \n",
       "4         75         75        No               X3                     NaN   \n",
       "\n",
       "   Holding_Policy_Type  Reco_Policy_Cat  Reco_Policy_Premium  \n",
       "0                  3.0                5              11934.0  \n",
       "1                  3.0               18              32204.8  \n",
       "2                  4.0               17               9240.0  \n",
       "3                  3.0               18               9086.0  \n",
       "4                  NaN                5              22534.0  "
      ]
     },
     "execution_count": 76,
     "metadata": {},
     "output_type": "execute_result"
    }
   ],
   "source": [
    "data_test = pd.read_csv(r\"C:\\Users\\Admin\\Downloads\\Analytics Vidya Hackathon (Feb 2021)\\test_data.csv\")\n",
    "data_test.head()"
   ]
  },
  {
   "cell_type": "code",
   "execution_count": 77,
   "metadata": {},
   "outputs": [
    {
     "data": {
      "text/plain": [
       "(21805, 13)"
      ]
     },
     "execution_count": 77,
     "metadata": {},
     "output_type": "execute_result"
    }
   ],
   "source": [
    "data_test.shape"
   ]
  },
  {
   "cell_type": "code",
   "execution_count": 78,
   "metadata": {},
   "outputs": [],
   "source": [
    "# Quantile calculations"
   ]
  },
  {
   "cell_type": "code",
   "execution_count": 79,
   "metadata": {},
   "outputs": [],
   "source": [
    "Q1 = data_test.quantile(0.25)\n",
    "Q3 = data_test.quantile(0.75)\n",
    "IQR = Q3 - Q1"
   ]
  },
  {
   "cell_type": "code",
   "execution_count": 80,
   "metadata": {},
   "outputs": [],
   "source": [
    "# Number of extreme outliers in each variable"
   ]
  },
  {
   "cell_type": "code",
   "execution_count": 81,
   "metadata": {},
   "outputs": [
    {
     "data": {
      "text/plain": [
       "Accomodation_Type            0\n",
       "City_Code                    0\n",
       "Health Indicator             0\n",
       "Holding_Policy_Duration      0\n",
       "Holding_Policy_Type          0\n",
       "ID                           0\n",
       "Is_Spouse                    0\n",
       "Lower_Age                    0\n",
       "Reco_Insurance_Type          0\n",
       "Reco_Policy_Cat              0\n",
       "Reco_Policy_Premium        291\n",
       "Region_Code                 58\n",
       "Upper_Age                    0\n",
       "dtype: int64"
      ]
     },
     "execution_count": 81,
     "metadata": {},
     "output_type": "execute_result"
    }
   ],
   "source": [
    "((data_test < (Q1 - 1.5 * IQR)) | (data_test > (Q3 + 1.5 * IQR))).sum()"
   ]
  },
  {
   "cell_type": "code",
   "execution_count": 82,
   "metadata": {},
   "outputs": [
    {
     "name": "stdout",
     "output_type": "stream",
     "text": [
      "Holding_Policy_Duration -4089.899999999998\n",
      "Holding_Policy_Duration 31576.499999999996\n"
     ]
    },
    {
     "data": {
      "text/plain": [
       "(None, None)"
      ]
     },
     "execution_count": 82,
     "metadata": {},
     "output_type": "execute_result"
    }
   ],
   "source": [
    "IQR = data_test['Reco_Policy_Premium'].quantile(0.75)-data_test['Reco_Policy_Premium'].quantile(0.25)\n",
    "lower_bridge=data_test['Reco_Policy_Premium'].quantile(0.25)-(IQR*1.5)\n",
    "upper_bridge=data_test['Reco_Policy_Premium'].quantile(0.75)+(IQR*1.5)\n",
    "print(feature, lower_bridge), print(feature,upper_bridge)"
   ]
  },
  {
   "cell_type": "code",
   "execution_count": 83,
   "metadata": {},
   "outputs": [
    {
     "name": "stderr",
     "output_type": "stream",
     "text": [
      "C:\\Users\\Admin\\Anaconda3\\lib\\site-packages\\pandas\\core\\indexing.py:670: SettingWithCopyWarning: \n",
      "A value is trying to be set on a copy of a slice from a DataFrame\n",
      "\n",
      "See the caveats in the documentation: https://pandas.pydata.org/pandas-docs/stable/user_guide/indexing.html#returning-a-view-versus-a-copy\n",
      "  iloc._setitem_with_indexer(indexer, value)\n"
     ]
    }
   ],
   "source": [
    "data_test['Reco_Policy_Premium'].loc[data_test['Reco_Policy_Premium']> upper_bridge]=upper_bridge"
   ]
  },
  {
   "cell_type": "code",
   "execution_count": 84,
   "metadata": {},
   "outputs": [],
   "source": [
    "data_test = data_test.drop(columns=[\"ID\"], axis=1)"
   ]
  },
  {
   "cell_type": "code",
   "execution_count": 85,
   "metadata": {},
   "outputs": [],
   "source": [
    "data_test = data_test.drop(columns=[\"Lower_Age\"], axis =1)"
   ]
  },
  {
   "cell_type": "code",
   "execution_count": 86,
   "metadata": {},
   "outputs": [],
   "source": [
    "# Categorical variables missing values imputation"
   ]
  },
  {
   "cell_type": "code",
   "execution_count": 87,
   "metadata": {},
   "outputs": [
    {
     "data": {
      "text/plain": [
       "X1    5614\n",
       "X2    4516\n",
       "X3    2846\n",
       "X4    2442\n",
       "X5     681\n",
       "X6     514\n",
       "X7      96\n",
       "X8      41\n",
       "X9      28\n",
       "Name: Health Indicator, dtype: int64"
      ]
     },
     "execution_count": 87,
     "metadata": {},
     "output_type": "execute_result"
    }
   ],
   "source": [
    "data_test[\"Health Indicator\"].value_counts()"
   ]
  },
  {
   "cell_type": "code",
   "execution_count": 88,
   "metadata": {},
   "outputs": [],
   "source": [
    "data_test[\"Health Indicator\"].fillna(\"X10\", inplace = True)"
   ]
  },
  {
   "cell_type": "code",
   "execution_count": 89,
   "metadata": {},
   "outputs": [],
   "source": [
    "# Holding_Policy_Duration"
   ]
  },
  {
   "cell_type": "code",
   "execution_count": 90,
   "metadata": {
    "scrolled": false
   },
   "outputs": [
    {
     "data": {
      "text/plain": [
       "14+     1892\n",
       "1.0     1891\n",
       "2.0     1772\n",
       "3.0     1606\n",
       "4.0     1205\n",
       "5.0      992\n",
       "6.0      903\n",
       "7.0      664\n",
       "8.0      569\n",
       "9.0      493\n",
       "10.0     333\n",
       "11.0     254\n",
       "13.0     221\n",
       "14.0     211\n",
       "12.0     196\n",
       "Name: Holding_Policy_Duration, dtype: int64"
      ]
     },
     "execution_count": 90,
     "metadata": {},
     "output_type": "execute_result"
    }
   ],
   "source": [
    "data_test[\"Holding_Policy_Duration\"].value_counts()"
   ]
  },
  {
   "cell_type": "code",
   "execution_count": 91,
   "metadata": {},
   "outputs": [],
   "source": [
    "data_test[\"Holding_Policy_Duration\"].fillna(\"15.0\", inplace = True)"
   ]
  },
  {
   "cell_type": "code",
   "execution_count": 92,
   "metadata": {
    "scrolled": false
   },
   "outputs": [
    {
     "data": {
      "text/plain": [
       "3.0    5572\n",
       "1.0    3574\n",
       "2.0    2150\n",
       "4.0    1906\n",
       "Name: Holding_Policy_Type, dtype: int64"
      ]
     },
     "execution_count": 92,
     "metadata": {},
     "output_type": "execute_result"
    }
   ],
   "source": [
    "data_test[\"Holding_Policy_Type\"].value_counts()"
   ]
  },
  {
   "cell_type": "code",
   "execution_count": 93,
   "metadata": {},
   "outputs": [],
   "source": [
    "data_test[\"Holding_Policy_Type\"].fillna(5.0, inplace = True)"
   ]
  },
  {
   "cell_type": "code",
   "execution_count": 94,
   "metadata": {},
   "outputs": [
    {
     "data": {
      "text/plain": [
       "City_Code                  0\n",
       "Region_Code                0\n",
       "Accomodation_Type          0\n",
       "Reco_Insurance_Type        0\n",
       "Upper_Age                  0\n",
       "Is_Spouse                  0\n",
       "Health Indicator           0\n",
       "Holding_Policy_Duration    0\n",
       "Holding_Policy_Type        0\n",
       "Reco_Policy_Cat            0\n",
       "Reco_Policy_Premium        0\n",
       "dtype: int64"
      ]
     },
     "execution_count": 94,
     "metadata": {},
     "output_type": "execute_result"
    }
   ],
   "source": [
    "data_test.isna().sum()"
   ]
  },
  {
   "cell_type": "markdown",
   "metadata": {},
   "source": [
    "#### All the missing values have been imputed"
   ]
  },
  {
   "cell_type": "markdown",
   "metadata": {},
   "source": [
    "### Encoding of categorial variables"
   ]
  },
  {
   "cell_type": "code",
   "execution_count": 95,
   "metadata": {},
   "outputs": [],
   "source": [
    "encoder = LabelEncoder()"
   ]
  },
  {
   "cell_type": "code",
   "execution_count": 96,
   "metadata": {},
   "outputs": [],
   "source": [
    "# Holding_Policy_Duration"
   ]
  },
  {
   "cell_type": "code",
   "execution_count": 97,
   "metadata": {},
   "outputs": [],
   "source": [
    "hpd = asarray(data_test['Holding_Policy_Duration'])"
   ]
  },
  {
   "cell_type": "code",
   "execution_count": 98,
   "metadata": {},
   "outputs": [],
   "source": [
    "# transform data\n",
    "hpd = encoder.fit_transform(hpd)"
   ]
  },
  {
   "cell_type": "code",
   "execution_count": 99,
   "metadata": {},
   "outputs": [],
   "source": [
    "data_test['Holding_Policy_Duration'] = hpd"
   ]
  },
  {
   "cell_type": "code",
   "execution_count": 100,
   "metadata": {},
   "outputs": [],
   "source": [
    "# Encoding other categorical variables"
   ]
  },
  {
   "cell_type": "code",
   "execution_count": 101,
   "metadata": {
    "scrolled": true
   },
   "outputs": [
    {
     "data": {
      "text/html": [
       "<div>\n",
       "<style scoped>\n",
       "    .dataframe tbody tr th:only-of-type {\n",
       "        vertical-align: middle;\n",
       "    }\n",
       "\n",
       "    .dataframe tbody tr th {\n",
       "        vertical-align: top;\n",
       "    }\n",
       "\n",
       "    .dataframe thead th {\n",
       "        text-align: right;\n",
       "    }\n",
       "</style>\n",
       "<table border=\"1\" class=\"dataframe\">\n",
       "  <thead>\n",
       "    <tr style=\"text-align: right;\">\n",
       "      <th></th>\n",
       "      <th>City_Code</th>\n",
       "      <th>Region_Code</th>\n",
       "      <th>Accomodation_Type</th>\n",
       "      <th>Reco_Insurance_Type</th>\n",
       "      <th>Upper_Age</th>\n",
       "      <th>Is_Spouse</th>\n",
       "      <th>Health Indicator</th>\n",
       "      <th>Holding_Policy_Duration</th>\n",
       "      <th>Holding_Policy_Type</th>\n",
       "      <th>Reco_Policy_Cat</th>\n",
       "      <th>Reco_Policy_Premium</th>\n",
       "    </tr>\n",
       "  </thead>\n",
       "  <tbody>\n",
       "    <tr>\n",
       "      <th>0</th>\n",
       "      <td>C1</td>\n",
       "      <td>156</td>\n",
       "      <td>Owned</td>\n",
       "      <td>Individual</td>\n",
       "      <td>30</td>\n",
       "      <td>No</td>\n",
       "      <td>X10</td>\n",
       "      <td>12</td>\n",
       "      <td>3.0</td>\n",
       "      <td>5</td>\n",
       "      <td>11934.0</td>\n",
       "    </tr>\n",
       "    <tr>\n",
       "      <th>1</th>\n",
       "      <td>C4</td>\n",
       "      <td>7</td>\n",
       "      <td>Owned</td>\n",
       "      <td>Joint</td>\n",
       "      <td>69</td>\n",
       "      <td>Yes</td>\n",
       "      <td>X1</td>\n",
       "      <td>9</td>\n",
       "      <td>3.0</td>\n",
       "      <td>18</td>\n",
       "      <td>31576.5</td>\n",
       "    </tr>\n",
       "    <tr>\n",
       "      <th>2</th>\n",
       "      <td>C1</td>\n",
       "      <td>564</td>\n",
       "      <td>Rented</td>\n",
       "      <td>Individual</td>\n",
       "      <td>28</td>\n",
       "      <td>No</td>\n",
       "      <td>X3</td>\n",
       "      <td>8</td>\n",
       "      <td>4.0</td>\n",
       "      <td>17</td>\n",
       "      <td>9240.0</td>\n",
       "    </tr>\n",
       "    <tr>\n",
       "      <th>3</th>\n",
       "      <td>C3</td>\n",
       "      <td>1177</td>\n",
       "      <td>Rented</td>\n",
       "      <td>Individual</td>\n",
       "      <td>23</td>\n",
       "      <td>No</td>\n",
       "      <td>X3</td>\n",
       "      <td>9</td>\n",
       "      <td>3.0</td>\n",
       "      <td>18</td>\n",
       "      <td>9086.0</td>\n",
       "    </tr>\n",
       "    <tr>\n",
       "      <th>4</th>\n",
       "      <td>C1</td>\n",
       "      <td>951</td>\n",
       "      <td>Owned</td>\n",
       "      <td>Individual</td>\n",
       "      <td>75</td>\n",
       "      <td>No</td>\n",
       "      <td>X3</td>\n",
       "      <td>7</td>\n",
       "      <td>5.0</td>\n",
       "      <td>5</td>\n",
       "      <td>22534.0</td>\n",
       "    </tr>\n",
       "  </tbody>\n",
       "</table>\n",
       "</div>"
      ],
      "text/plain": [
       "  City_Code  Region_Code Accomodation_Type Reco_Insurance_Type  Upper_Age  \\\n",
       "0        C1          156             Owned          Individual         30   \n",
       "1        C4            7             Owned               Joint         69   \n",
       "2        C1          564            Rented          Individual         28   \n",
       "3        C3         1177            Rented          Individual         23   \n",
       "4        C1          951             Owned          Individual         75   \n",
       "\n",
       "  Is_Spouse Health Indicator  Holding_Policy_Duration  Holding_Policy_Type  \\\n",
       "0        No              X10                       12                  3.0   \n",
       "1       Yes               X1                        9                  3.0   \n",
       "2        No               X3                        8                  4.0   \n",
       "3        No               X3                        9                  3.0   \n",
       "4        No               X3                        7                  5.0   \n",
       "\n",
       "   Reco_Policy_Cat  Reco_Policy_Premium  \n",
       "0                5              11934.0  \n",
       "1               18              31576.5  \n",
       "2               17               9240.0  \n",
       "3               18               9086.0  \n",
       "4                5              22534.0  "
      ]
     },
     "execution_count": 101,
     "metadata": {},
     "output_type": "execute_result"
    }
   ],
   "source": [
    "data_test.head()"
   ]
  },
  {
   "cell_type": "code",
   "execution_count": 102,
   "metadata": {},
   "outputs": [],
   "source": [
    "dataset_test = pd.get_dummies(data_test, columns=[\"City_Code\",'Health Indicator','Holding_Policy_Type','Accomodation_Type', 'Reco_Insurance_Type','Is_Spouse'], drop_first=True)"
   ]
  },
  {
   "cell_type": "code",
   "execution_count": 103,
   "metadata": {},
   "outputs": [
    {
     "data": {
      "text/html": [
       "<div>\n",
       "<style scoped>\n",
       "    .dataframe tbody tr th:only-of-type {\n",
       "        vertical-align: middle;\n",
       "    }\n",
       "\n",
       "    .dataframe tbody tr th {\n",
       "        vertical-align: top;\n",
       "    }\n",
       "\n",
       "    .dataframe thead th {\n",
       "        text-align: right;\n",
       "    }\n",
       "</style>\n",
       "<table border=\"1\" class=\"dataframe\">\n",
       "  <thead>\n",
       "    <tr style=\"text-align: right;\">\n",
       "      <th></th>\n",
       "      <th>Region_Code</th>\n",
       "      <th>Upper_Age</th>\n",
       "      <th>Holding_Policy_Duration</th>\n",
       "      <th>Reco_Policy_Cat</th>\n",
       "      <th>Reco_Policy_Premium</th>\n",
       "      <th>City_Code_C10</th>\n",
       "      <th>City_Code_C11</th>\n",
       "      <th>City_Code_C12</th>\n",
       "      <th>City_Code_C13</th>\n",
       "      <th>City_Code_C14</th>\n",
       "      <th>...</th>\n",
       "      <th>Health Indicator_X7</th>\n",
       "      <th>Health Indicator_X8</th>\n",
       "      <th>Health Indicator_X9</th>\n",
       "      <th>Holding_Policy_Type_2.0</th>\n",
       "      <th>Holding_Policy_Type_3.0</th>\n",
       "      <th>Holding_Policy_Type_4.0</th>\n",
       "      <th>Holding_Policy_Type_5.0</th>\n",
       "      <th>Accomodation_Type_Rented</th>\n",
       "      <th>Reco_Insurance_Type_Joint</th>\n",
       "      <th>Is_Spouse_Yes</th>\n",
       "    </tr>\n",
       "  </thead>\n",
       "  <tbody>\n",
       "    <tr>\n",
       "      <th>0</th>\n",
       "      <td>156</td>\n",
       "      <td>30</td>\n",
       "      <td>12</td>\n",
       "      <td>5</td>\n",
       "      <td>11934.0</td>\n",
       "      <td>0</td>\n",
       "      <td>0</td>\n",
       "      <td>0</td>\n",
       "      <td>0</td>\n",
       "      <td>0</td>\n",
       "      <td>...</td>\n",
       "      <td>0</td>\n",
       "      <td>0</td>\n",
       "      <td>0</td>\n",
       "      <td>0</td>\n",
       "      <td>1</td>\n",
       "      <td>0</td>\n",
       "      <td>0</td>\n",
       "      <td>0</td>\n",
       "      <td>0</td>\n",
       "      <td>0</td>\n",
       "    </tr>\n",
       "    <tr>\n",
       "      <th>1</th>\n",
       "      <td>7</td>\n",
       "      <td>69</td>\n",
       "      <td>9</td>\n",
       "      <td>18</td>\n",
       "      <td>31576.5</td>\n",
       "      <td>0</td>\n",
       "      <td>0</td>\n",
       "      <td>0</td>\n",
       "      <td>0</td>\n",
       "      <td>0</td>\n",
       "      <td>...</td>\n",
       "      <td>0</td>\n",
       "      <td>0</td>\n",
       "      <td>0</td>\n",
       "      <td>0</td>\n",
       "      <td>1</td>\n",
       "      <td>0</td>\n",
       "      <td>0</td>\n",
       "      <td>0</td>\n",
       "      <td>1</td>\n",
       "      <td>1</td>\n",
       "    </tr>\n",
       "    <tr>\n",
       "      <th>2</th>\n",
       "      <td>564</td>\n",
       "      <td>28</td>\n",
       "      <td>8</td>\n",
       "      <td>17</td>\n",
       "      <td>9240.0</td>\n",
       "      <td>0</td>\n",
       "      <td>0</td>\n",
       "      <td>0</td>\n",
       "      <td>0</td>\n",
       "      <td>0</td>\n",
       "      <td>...</td>\n",
       "      <td>0</td>\n",
       "      <td>0</td>\n",
       "      <td>0</td>\n",
       "      <td>0</td>\n",
       "      <td>0</td>\n",
       "      <td>1</td>\n",
       "      <td>0</td>\n",
       "      <td>1</td>\n",
       "      <td>0</td>\n",
       "      <td>0</td>\n",
       "    </tr>\n",
       "    <tr>\n",
       "      <th>3</th>\n",
       "      <td>1177</td>\n",
       "      <td>23</td>\n",
       "      <td>9</td>\n",
       "      <td>18</td>\n",
       "      <td>9086.0</td>\n",
       "      <td>0</td>\n",
       "      <td>0</td>\n",
       "      <td>0</td>\n",
       "      <td>0</td>\n",
       "      <td>0</td>\n",
       "      <td>...</td>\n",
       "      <td>0</td>\n",
       "      <td>0</td>\n",
       "      <td>0</td>\n",
       "      <td>0</td>\n",
       "      <td>1</td>\n",
       "      <td>0</td>\n",
       "      <td>0</td>\n",
       "      <td>1</td>\n",
       "      <td>0</td>\n",
       "      <td>0</td>\n",
       "    </tr>\n",
       "    <tr>\n",
       "      <th>4</th>\n",
       "      <td>951</td>\n",
       "      <td>75</td>\n",
       "      <td>7</td>\n",
       "      <td>5</td>\n",
       "      <td>22534.0</td>\n",
       "      <td>0</td>\n",
       "      <td>0</td>\n",
       "      <td>0</td>\n",
       "      <td>0</td>\n",
       "      <td>0</td>\n",
       "      <td>...</td>\n",
       "      <td>0</td>\n",
       "      <td>0</td>\n",
       "      <td>0</td>\n",
       "      <td>0</td>\n",
       "      <td>0</td>\n",
       "      <td>0</td>\n",
       "      <td>1</td>\n",
       "      <td>0</td>\n",
       "      <td>0</td>\n",
       "      <td>0</td>\n",
       "    </tr>\n",
       "  </tbody>\n",
       "</table>\n",
       "<p>5 rows × 56 columns</p>\n",
       "</div>"
      ],
      "text/plain": [
       "   Region_Code  Upper_Age  Holding_Policy_Duration  Reco_Policy_Cat  \\\n",
       "0          156         30                       12                5   \n",
       "1            7         69                        9               18   \n",
       "2          564         28                        8               17   \n",
       "3         1177         23                        9               18   \n",
       "4          951         75                        7                5   \n",
       "\n",
       "   Reco_Policy_Premium  City_Code_C10  City_Code_C11  City_Code_C12  \\\n",
       "0              11934.0              0              0              0   \n",
       "1              31576.5              0              0              0   \n",
       "2               9240.0              0              0              0   \n",
       "3               9086.0              0              0              0   \n",
       "4              22534.0              0              0              0   \n",
       "\n",
       "   City_Code_C13  City_Code_C14  ...  Health Indicator_X7  \\\n",
       "0              0              0  ...                    0   \n",
       "1              0              0  ...                    0   \n",
       "2              0              0  ...                    0   \n",
       "3              0              0  ...                    0   \n",
       "4              0              0  ...                    0   \n",
       "\n",
       "   Health Indicator_X8  Health Indicator_X9  Holding_Policy_Type_2.0  \\\n",
       "0                    0                    0                        0   \n",
       "1                    0                    0                        0   \n",
       "2                    0                    0                        0   \n",
       "3                    0                    0                        0   \n",
       "4                    0                    0                        0   \n",
       "\n",
       "   Holding_Policy_Type_3.0  Holding_Policy_Type_4.0  Holding_Policy_Type_5.0  \\\n",
       "0                        1                        0                        0   \n",
       "1                        1                        0                        0   \n",
       "2                        0                        1                        0   \n",
       "3                        1                        0                        0   \n",
       "4                        0                        0                        1   \n",
       "\n",
       "   Accomodation_Type_Rented  Reco_Insurance_Type_Joint  Is_Spouse_Yes  \n",
       "0                         0                          0              0  \n",
       "1                         0                          1              1  \n",
       "2                         1                          0              0  \n",
       "3                         1                          0              0  \n",
       "4                         0                          0              0  \n",
       "\n",
       "[5 rows x 56 columns]"
      ]
     },
     "execution_count": 103,
     "metadata": {},
     "output_type": "execute_result"
    }
   ],
   "source": [
    "dataset_test.head()"
   ]
  },
  {
   "cell_type": "code",
   "execution_count": 104,
   "metadata": {
    "scrolled": false
   },
   "outputs": [
    {
     "data": {
      "text/plain": [
       "(21805, 56)"
      ]
     },
     "execution_count": 104,
     "metadata": {},
     "output_type": "execute_result"
    }
   ],
   "source": [
    "dataset_test.shape"
   ]
  },
  {
   "cell_type": "code",
   "execution_count": 105,
   "metadata": {},
   "outputs": [
    {
     "data": {
      "text/plain": [
       "MinMaxScaler()"
      ]
     },
     "execution_count": 105,
     "metadata": {},
     "output_type": "execute_result"
    }
   ],
   "source": [
    "scaler=MinMaxScaler()\n",
    "scaler.fit(dataset_test)"
   ]
  },
  {
   "cell_type": "code",
   "execution_count": 106,
   "metadata": {},
   "outputs": [],
   "source": [
    "scaled_test_data = pd.DataFrame(scaler.transform(dataset_test),columns=dataset_test.columns)"
   ]
  },
  {
   "cell_type": "code",
   "execution_count": 107,
   "metadata": {},
   "outputs": [
    {
     "data": {
      "text/html": [
       "<div>\n",
       "<style scoped>\n",
       "    .dataframe tbody tr th:only-of-type {\n",
       "        vertical-align: middle;\n",
       "    }\n",
       "\n",
       "    .dataframe tbody tr th {\n",
       "        vertical-align: top;\n",
       "    }\n",
       "\n",
       "    .dataframe thead th {\n",
       "        text-align: right;\n",
       "    }\n",
       "</style>\n",
       "<table border=\"1\" class=\"dataframe\">\n",
       "  <thead>\n",
       "    <tr style=\"text-align: right;\">\n",
       "      <th></th>\n",
       "      <th>Region_Code</th>\n",
       "      <th>Upper_Age</th>\n",
       "      <th>Holding_Policy_Duration</th>\n",
       "      <th>Reco_Policy_Cat</th>\n",
       "      <th>Reco_Policy_Premium</th>\n",
       "      <th>City_Code_C10</th>\n",
       "      <th>City_Code_C11</th>\n",
       "      <th>City_Code_C12</th>\n",
       "      <th>City_Code_C13</th>\n",
       "      <th>City_Code_C14</th>\n",
       "      <th>...</th>\n",
       "      <th>Health Indicator_X7</th>\n",
       "      <th>Health Indicator_X8</th>\n",
       "      <th>Health Indicator_X9</th>\n",
       "      <th>Holding_Policy_Type_2.0</th>\n",
       "      <th>Holding_Policy_Type_3.0</th>\n",
       "      <th>Holding_Policy_Type_4.0</th>\n",
       "      <th>Holding_Policy_Type_5.0</th>\n",
       "      <th>Accomodation_Type_Rented</th>\n",
       "      <th>Reco_Insurance_Type_Joint</th>\n",
       "      <th>Is_Spouse_Yes</th>\n",
       "    </tr>\n",
       "  </thead>\n",
       "  <tbody>\n",
       "    <tr>\n",
       "      <th>0</th>\n",
       "      <td>0.025065</td>\n",
       "      <td>0.210526</td>\n",
       "      <td>0.800000</td>\n",
       "      <td>0.190476</td>\n",
       "      <td>0.332444</td>\n",
       "      <td>0.0</td>\n",
       "      <td>0.0</td>\n",
       "      <td>0.0</td>\n",
       "      <td>0.0</td>\n",
       "      <td>0.0</td>\n",
       "      <td>...</td>\n",
       "      <td>0.0</td>\n",
       "      <td>0.0</td>\n",
       "      <td>0.0</td>\n",
       "      <td>0.0</td>\n",
       "      <td>1.0</td>\n",
       "      <td>0.0</td>\n",
       "      <td>0.0</td>\n",
       "      <td>0.0</td>\n",
       "      <td>0.0</td>\n",
       "      <td>0.0</td>\n",
       "    </tr>\n",
       "    <tr>\n",
       "      <th>1</th>\n",
       "      <td>0.000970</td>\n",
       "      <td>0.894737</td>\n",
       "      <td>0.600000</td>\n",
       "      <td>0.809524</td>\n",
       "      <td>1.000000</td>\n",
       "      <td>0.0</td>\n",
       "      <td>0.0</td>\n",
       "      <td>0.0</td>\n",
       "      <td>0.0</td>\n",
       "      <td>0.0</td>\n",
       "      <td>...</td>\n",
       "      <td>0.0</td>\n",
       "      <td>0.0</td>\n",
       "      <td>0.0</td>\n",
       "      <td>0.0</td>\n",
       "      <td>1.0</td>\n",
       "      <td>0.0</td>\n",
       "      <td>0.0</td>\n",
       "      <td>0.0</td>\n",
       "      <td>1.0</td>\n",
       "      <td>1.0</td>\n",
       "    </tr>\n",
       "    <tr>\n",
       "      <th>2</th>\n",
       "      <td>0.091041</td>\n",
       "      <td>0.175439</td>\n",
       "      <td>0.533333</td>\n",
       "      <td>0.761905</td>\n",
       "      <td>0.240888</td>\n",
       "      <td>0.0</td>\n",
       "      <td>0.0</td>\n",
       "      <td>0.0</td>\n",
       "      <td>0.0</td>\n",
       "      <td>0.0</td>\n",
       "      <td>...</td>\n",
       "      <td>0.0</td>\n",
       "      <td>0.0</td>\n",
       "      <td>0.0</td>\n",
       "      <td>0.0</td>\n",
       "      <td>0.0</td>\n",
       "      <td>1.0</td>\n",
       "      <td>0.0</td>\n",
       "      <td>1.0</td>\n",
       "      <td>0.0</td>\n",
       "      <td>0.0</td>\n",
       "    </tr>\n",
       "    <tr>\n",
       "      <th>3</th>\n",
       "      <td>0.190168</td>\n",
       "      <td>0.087719</td>\n",
       "      <td>0.600000</td>\n",
       "      <td>0.809524</td>\n",
       "      <td>0.235654</td>\n",
       "      <td>0.0</td>\n",
       "      <td>0.0</td>\n",
       "      <td>0.0</td>\n",
       "      <td>0.0</td>\n",
       "      <td>0.0</td>\n",
       "      <td>...</td>\n",
       "      <td>0.0</td>\n",
       "      <td>0.0</td>\n",
       "      <td>0.0</td>\n",
       "      <td>0.0</td>\n",
       "      <td>1.0</td>\n",
       "      <td>0.0</td>\n",
       "      <td>0.0</td>\n",
       "      <td>1.0</td>\n",
       "      <td>0.0</td>\n",
       "      <td>0.0</td>\n",
       "    </tr>\n",
       "    <tr>\n",
       "      <th>4</th>\n",
       "      <td>0.153622</td>\n",
       "      <td>1.000000</td>\n",
       "      <td>0.466667</td>\n",
       "      <td>0.190476</td>\n",
       "      <td>0.692688</td>\n",
       "      <td>0.0</td>\n",
       "      <td>0.0</td>\n",
       "      <td>0.0</td>\n",
       "      <td>0.0</td>\n",
       "      <td>0.0</td>\n",
       "      <td>...</td>\n",
       "      <td>0.0</td>\n",
       "      <td>0.0</td>\n",
       "      <td>0.0</td>\n",
       "      <td>0.0</td>\n",
       "      <td>0.0</td>\n",
       "      <td>0.0</td>\n",
       "      <td>1.0</td>\n",
       "      <td>0.0</td>\n",
       "      <td>0.0</td>\n",
       "      <td>0.0</td>\n",
       "    </tr>\n",
       "  </tbody>\n",
       "</table>\n",
       "<p>5 rows × 56 columns</p>\n",
       "</div>"
      ],
      "text/plain": [
       "   Region_Code  Upper_Age  Holding_Policy_Duration  Reco_Policy_Cat  \\\n",
       "0     0.025065   0.210526                 0.800000         0.190476   \n",
       "1     0.000970   0.894737                 0.600000         0.809524   \n",
       "2     0.091041   0.175439                 0.533333         0.761905   \n",
       "3     0.190168   0.087719                 0.600000         0.809524   \n",
       "4     0.153622   1.000000                 0.466667         0.190476   \n",
       "\n",
       "   Reco_Policy_Premium  City_Code_C10  City_Code_C11  City_Code_C12  \\\n",
       "0             0.332444            0.0            0.0            0.0   \n",
       "1             1.000000            0.0            0.0            0.0   \n",
       "2             0.240888            0.0            0.0            0.0   \n",
       "3             0.235654            0.0            0.0            0.0   \n",
       "4             0.692688            0.0            0.0            0.0   \n",
       "\n",
       "   City_Code_C13  City_Code_C14  ...  Health Indicator_X7  \\\n",
       "0            0.0            0.0  ...                  0.0   \n",
       "1            0.0            0.0  ...                  0.0   \n",
       "2            0.0            0.0  ...                  0.0   \n",
       "3            0.0            0.0  ...                  0.0   \n",
       "4            0.0            0.0  ...                  0.0   \n",
       "\n",
       "   Health Indicator_X8  Health Indicator_X9  Holding_Policy_Type_2.0  \\\n",
       "0                  0.0                  0.0                      0.0   \n",
       "1                  0.0                  0.0                      0.0   \n",
       "2                  0.0                  0.0                      0.0   \n",
       "3                  0.0                  0.0                      0.0   \n",
       "4                  0.0                  0.0                      0.0   \n",
       "\n",
       "   Holding_Policy_Type_3.0  Holding_Policy_Type_4.0  Holding_Policy_Type_5.0  \\\n",
       "0                      1.0                      0.0                      0.0   \n",
       "1                      1.0                      0.0                      0.0   \n",
       "2                      0.0                      1.0                      0.0   \n",
       "3                      1.0                      0.0                      0.0   \n",
       "4                      0.0                      0.0                      1.0   \n",
       "\n",
       "   Accomodation_Type_Rented  Reco_Insurance_Type_Joint  Is_Spouse_Yes  \n",
       "0                       0.0                        0.0            0.0  \n",
       "1                       0.0                        1.0            1.0  \n",
       "2                       1.0                        0.0            0.0  \n",
       "3                       1.0                        0.0            0.0  \n",
       "4                       0.0                        0.0            0.0  \n",
       "\n",
       "[5 rows x 56 columns]"
      ]
     },
     "execution_count": 107,
     "metadata": {},
     "output_type": "execute_result"
    }
   ],
   "source": [
    "scaled_test_data.head()"
   ]
  },
  {
   "cell_type": "code",
   "execution_count": 108,
   "metadata": {},
   "outputs": [],
   "source": [
    "# Assigning the train and test data "
   ]
  },
  {
   "cell_type": "code",
   "execution_count": 109,
   "metadata": {},
   "outputs": [],
   "source": [
    "X_train = scaled_data.drop(columns=[\"Response\"],axis=1)\n",
    "y_train = scaled_data['Response']"
   ]
  },
  {
   "cell_type": "code",
   "execution_count": 110,
   "metadata": {},
   "outputs": [],
   "source": [
    "X_test = scaled_test_data"
   ]
  },
  {
   "cell_type": "markdown",
   "metadata": {},
   "source": [
    "## Building the Random Forest  model"
   ]
  },
  {
   "cell_type": "code",
   "execution_count": 111,
   "metadata": {},
   "outputs": [],
   "source": [
    "from sklearn.ensemble import RandomForestClassifier"
   ]
  },
  {
   "cell_type": "code",
   "execution_count": 112,
   "metadata": {},
   "outputs": [],
   "source": [
    "clf = RandomForestClassifier(n_estimators=200, random_state=0)"
   ]
  },
  {
   "cell_type": "code",
   "execution_count": 113,
   "metadata": {
    "scrolled": false
   },
   "outputs": [
    {
     "data": {
      "text/plain": [
       "RandomForestClassifier(n_estimators=200, random_state=0)"
      ]
     },
     "execution_count": 113,
     "metadata": {},
     "output_type": "execute_result"
    }
   ],
   "source": [
    "clf.fit(X_train, y_train)"
   ]
  },
  {
   "cell_type": "code",
   "execution_count": 114,
   "metadata": {},
   "outputs": [],
   "source": [
    "# Predicting trained values"
   ]
  },
  {
   "cell_type": "code",
   "execution_count": 115,
   "metadata": {},
   "outputs": [],
   "source": [
    "y_train_pred = clf.predict_proba(X_train)"
   ]
  },
  {
   "cell_type": "code",
   "execution_count": 116,
   "metadata": {},
   "outputs": [],
   "source": [
    "# Predicting y values for test dataset"
   ]
  },
  {
   "cell_type": "code",
   "execution_count": 117,
   "metadata": {},
   "outputs": [],
   "source": [
    "y_pred = clf.predict_proba(X_test)"
   ]
  },
  {
   "cell_type": "code",
   "execution_count": 118,
   "metadata": {
    "scrolled": true
   },
   "outputs": [
    {
     "data": {
      "text/plain": [
       "array([[0.63 , 0.37 ],\n",
       "       [0.725, 0.275],\n",
       "       [0.68 , 0.32 ],\n",
       "       ...,\n",
       "       [0.9  , 0.1  ],\n",
       "       [0.755, 0.245],\n",
       "       [0.845, 0.155]])"
      ]
     },
     "execution_count": 118,
     "metadata": {},
     "output_type": "execute_result"
    }
   ],
   "source": [
    "y_pred"
   ]
  },
  {
   "cell_type": "code",
   "execution_count": 119,
   "metadata": {},
   "outputs": [],
   "source": [
    "pred = pd.DataFrame(y_pred)"
   ]
  },
  {
   "cell_type": "code",
   "execution_count": 120,
   "metadata": {},
   "outputs": [],
   "source": [
    "from sklearn import metrics"
   ]
  },
  {
   "cell_type": "code",
   "execution_count": 121,
   "metadata": {},
   "outputs": [],
   "source": [
    "# calculate the fpr and tpr for all thresholds of the classification\n",
    "probs = clf.predict_proba(X_train)\n",
    "preds = probs[:,1]\n",
    "fpr, tpr, threshold = metrics.roc_curve(y_train, preds)\n",
    "roc_auc = metrics.auc(fpr, tpr)"
   ]
  },
  {
   "cell_type": "code",
   "execution_count": 122,
   "metadata": {},
   "outputs": [],
   "source": [
    "# ROC curve"
   ]
  },
  {
   "cell_type": "code",
   "execution_count": 123,
   "metadata": {},
   "outputs": [
    {
     "data": {
      "image/png": "[encoded data removed]",
      "text/plain": [
       "<Figure size 432x288 with 1 Axes>"
      ]
     },
     "metadata": {
      "needs_background": "light"
     },
     "output_type": "display_data"
    }
   ],
   "source": [
    "import matplotlib.pyplot as plt\n",
    "plt.title('Receiver Operating Characteristic')\n",
    "plt.plot(fpr, tpr, 'b', label = 'AUC = %0.2f' % roc_auc)\n",
    "plt.legend(loc = 'lower right')\n",
    "plt.plot([0, 1], [0, 1],'r--')\n",
    "plt.xlim([0, 1])\n",
    "plt.ylim([0, 1])\n",
    "plt.ylabel('True Positive Rate')\n",
    "plt.xlabel('False Positive Rate')\n",
    "plt.show()"
   ]
  },
  {
   "cell_type": "code",
   "execution_count": 124,
   "metadata": {},
   "outputs": [],
   "source": [
    "pred = clf.predict_proba (X_test) [:,1]"
   ]
  },
  {
   "cell_type": "code",
   "execution_count": 125,
   "metadata": {},
   "outputs": [],
   "source": [
    "pred = pd.DataFrame(pred)"
   ]
  },
  {
   "cell_type": "code",
   "execution_count": 126,
   "metadata": {
    "scrolled": true
   },
   "outputs": [
    {
     "data": {
      "text/html": [
       "<div>\n",
       "<style scoped>\n",
       "    .dataframe tbody tr th:only-of-type {\n",
       "        vertical-align: middle;\n",
       "    }\n",
       "\n",
       "    .dataframe tbody tr th {\n",
       "        vertical-align: top;\n",
       "    }\n",
       "\n",
       "    .dataframe thead th {\n",
       "        text-align: right;\n",
       "    }\n",
       "</style>\n",
       "<table border=\"1\" class=\"dataframe\">\n",
       "  <thead>\n",
       "    <tr style=\"text-align: right;\">\n",
       "      <th></th>\n",
       "      <th>0</th>\n",
       "    </tr>\n",
       "  </thead>\n",
       "  <tbody>\n",
       "    <tr>\n",
       "      <th>0</th>\n",
       "      <td>0.370</td>\n",
       "    </tr>\n",
       "    <tr>\n",
       "      <th>1</th>\n",
       "      <td>0.275</td>\n",
       "    </tr>\n",
       "    <tr>\n",
       "      <th>2</th>\n",
       "      <td>0.320</td>\n",
       "    </tr>\n",
       "    <tr>\n",
       "      <th>3</th>\n",
       "      <td>0.235</td>\n",
       "    </tr>\n",
       "    <tr>\n",
       "      <th>4</th>\n",
       "      <td>0.225</td>\n",
       "    </tr>\n",
       "  </tbody>\n",
       "</table>\n",
       "</div>"
      ],
      "text/plain": [
       "       0\n",
       "0  0.370\n",
       "1  0.275\n",
       "2  0.320\n",
       "3  0.235\n",
       "4  0.225"
      ]
     },
     "execution_count": 126,
     "metadata": {},
     "output_type": "execute_result"
    }
   ],
   "source": [
    "pred.head()"
   ]
  },
  {
   "cell_type": "markdown",
   "metadata": {},
   "source": [
    "## XG Boost Classifier"
   ]
  },
  {
   "cell_type": "code",
   "execution_count": 127,
   "metadata": {
    "scrolled": true
   },
   "outputs": [
    {
     "name": "stderr",
     "output_type": "stream",
     "text": [
      "C:\\Users\\Admin\\Anaconda3\\lib\\site-packages\\dask\\dataframe\\utils.py:14: FutureWarning: pandas.util.testing is deprecated. Use the functions in the public API at pandas.testing instead.\n",
      "  import pandas.util.testing as tm\n"
     ]
    }
   ],
   "source": [
    "from xgboost import XGBClassifier"
   ]
  },
  {
   "cell_type": "code",
   "execution_count": 128,
   "metadata": {
    "scrolled": true
   },
   "outputs": [
    {
     "data": {
      "text/plain": [
       "XGBClassifier(base_score=0.5, booster='gbtree', colsample_bylevel=1,\n",
       "              colsample_bynode=1, colsample_bytree=1, gamma=0, gpu_id=-1,\n",
       "              importance_type='gain', interaction_constraints='',\n",
       "              learning_rate=0.300000012, max_delta_step=0, max_depth=6,\n",
       "              min_child_weight=1, missing=nan, monotone_constraints='()',\n",
       "              n_estimators=500, n_jobs=0, num_parallel_tree=1, random_state=0,\n",
       "              reg_alpha=2, reg_lambda=1, scale_pos_weight=1, subsample=1,\n",
       "              tree_method='exact', validate_parameters=1, verbosity=None)"
      ]
     },
     "execution_count": 128,
     "metadata": {},
     "output_type": "execute_result"
    }
   ],
   "source": [
    "# fit model no training data\n",
    "model = XGBClassifier(objective=\"binary:logistic\",booster='gbtree', n_estimators = 500,reg_alpha=2 )\n",
    "model.fit(X_train, y_train)"
   ]
  },
  {
   "cell_type": "code",
   "execution_count": 129,
   "metadata": {},
   "outputs": [],
   "source": [
    "# Predicting trained values"
   ]
  },
  {
   "cell_type": "code",
   "execution_count": 130,
   "metadata": {},
   "outputs": [],
   "source": [
    "y_train_pred = model.predict_proba(X_train)"
   ]
  },
  {
   "cell_type": "code",
   "execution_count": 131,
   "metadata": {},
   "outputs": [],
   "source": [
    "# Predicting y values for test dataset"
   ]
  },
  {
   "cell_type": "code",
   "execution_count": 132,
   "metadata": {},
   "outputs": [],
   "source": [
    "y_pred = model.predict_proba(X_test)"
   ]
  },
  {
   "cell_type": "code",
   "execution_count": 133,
   "metadata": {
    "scrolled": true
   },
   "outputs": [
    {
     "data": {
      "text/plain": [
       "array([[0.7606578 , 0.23934223],\n",
       "       [0.8222906 , 0.17770942],\n",
       "       [0.6915203 , 0.30847973],\n",
       "       ...,\n",
       "       [0.9934732 , 0.00652681],\n",
       "       [0.8319167 , 0.16808333],\n",
       "       [0.8902718 , 0.1097282 ]], dtype=float32)"
      ]
     },
     "execution_count": 133,
     "metadata": {},
     "output_type": "execute_result"
    }
   ],
   "source": [
    "y_pred"
   ]
  },
  {
   "cell_type": "code",
   "execution_count": 134,
   "metadata": {},
   "outputs": [],
   "source": [
    "pred = pd.DataFrame(y_pred)"
   ]
  },
  {
   "cell_type": "code",
   "execution_count": 135,
   "metadata": {},
   "outputs": [],
   "source": [
    "from sklearn import metrics"
   ]
  },
  {
   "cell_type": "code",
   "execution_count": 136,
   "metadata": {},
   "outputs": [],
   "source": [
    "# calculate the fpr and tpr for all thresholds of the classification\n",
    "probs = model.predict_proba(X_train)\n",
    "preds = probs[:,1]\n",
    "fpr, tpr, threshold = metrics.roc_curve(y_train, preds)\n",
    "roc_auc = metrics.auc(fpr, tpr)"
   ]
  },
  {
   "cell_type": "code",
   "execution_count": 137,
   "metadata": {},
   "outputs": [],
   "source": [
    "# ROC curve"
   ]
  },
  {
   "cell_type": "code",
   "execution_count": 138,
   "metadata": {},
   "outputs": [
    {
     "data": {
      "image/png": "[encoded data removed]",
      "text/plain": [
       "<Figure size 432x288 with 1 Axes>"
      ]
     },
     "metadata": {
      "needs_background": "light"
     },
     "output_type": "display_data"
    }
   ],
   "source": [
    "import matplotlib.pyplot as plt\n",
    "plt.title('Receiver Operating Characteristic')\n",
    "plt.plot(fpr, tpr, 'b', label = 'AUC = %0.2f' % roc_auc)\n",
    "plt.legend(loc = 'lower right')\n",
    "plt.plot([0, 1], [0, 1],'r--')\n",
    "plt.xlim([0, 1])\n",
    "plt.ylim([0, 1])\n",
    "plt.ylabel('True Positive Rate')\n",
    "plt.xlabel('False Positive Rate')\n",
    "plt.show()"
   ]
  },
  {
   "cell_type": "code",
   "execution_count": 139,
   "metadata": {},
   "outputs": [],
   "source": [
    "pred = model.predict_proba (X_test) [:,1]"
   ]
  },
  {
   "cell_type": "code",
   "execution_count": 140,
   "metadata": {},
   "outputs": [],
   "source": [
    "pred = pd.DataFrame(pred)"
   ]
  },
  {
   "cell_type": "code",
   "execution_count": 141,
   "metadata": {},
   "outputs": [
    {
     "data": {
      "text/html": [
       "<div>\n",
       "<style scoped>\n",
       "    .dataframe tbody tr th:only-of-type {\n",
       "        vertical-align: middle;\n",
       "    }\n",
       "\n",
       "    .dataframe tbody tr th {\n",
       "        vertical-align: top;\n",
       "    }\n",
       "\n",
       "    .dataframe thead th {\n",
       "        text-align: right;\n",
       "    }\n",
       "</style>\n",
       "<table border=\"1\" class=\"dataframe\">\n",
       "  <thead>\n",
       "    <tr style=\"text-align: right;\">\n",
       "      <th></th>\n",
       "      <th>0</th>\n",
       "    </tr>\n",
       "  </thead>\n",
       "  <tbody>\n",
       "    <tr>\n",
       "      <th>0</th>\n",
       "      <td>0.239342</td>\n",
       "    </tr>\n",
       "    <tr>\n",
       "      <th>1</th>\n",
       "      <td>0.177709</td>\n",
       "    </tr>\n",
       "    <tr>\n",
       "      <th>2</th>\n",
       "      <td>0.308480</td>\n",
       "    </tr>\n",
       "    <tr>\n",
       "      <th>3</th>\n",
       "      <td>0.129555</td>\n",
       "    </tr>\n",
       "    <tr>\n",
       "      <th>4</th>\n",
       "      <td>0.057726</td>\n",
       "    </tr>\n",
       "  </tbody>\n",
       "</table>\n",
       "</div>"
      ],
      "text/plain": [
       "          0\n",
       "0  0.239342\n",
       "1  0.177709\n",
       "2  0.308480\n",
       "3  0.129555\n",
       "4  0.057726"
      ]
     },
     "execution_count": 141,
     "metadata": {},
     "output_type": "execute_result"
    }
   ],
   "source": [
    "pred.head()"
   ]
  },
  {
   "cell_type": "markdown",
   "metadata": {},
   "source": [
    "## Hyperparameter tuning of XGBoost Classifier"
   ]
  },
  {
   "cell_type": "code",
   "execution_count": 142,
   "metadata": {},
   "outputs": [],
   "source": [
    "clf = XGBClassifier(objective=\"binary:logistic\")"
   ]
  },
  {
   "cell_type": "code",
   "execution_count": 143,
   "metadata": {},
   "outputs": [],
   "source": [
    "booster=['gbtree']\n",
    "base_score=[0.3, 0.5]"
   ]
  },
  {
   "cell_type": "code",
   "execution_count": 144,
   "metadata": {},
   "outputs": [],
   "source": [
    "n_estimators = [200, 300]\n",
    "max_depth = [4, 5]\n",
    "learning_rate=[0.1,0.2]"
   ]
  },
  {
   "cell_type": "code",
   "execution_count": 145,
   "metadata": {},
   "outputs": [],
   "source": [
    "# Define the grid of hyperparameters to search\n",
    "hyperparameter_grid = {\n",
    "    'n_estimators': n_estimators,\n",
    "    'max_depth':max_depth,\n",
    "    'learning_rate':learning_rate,\n",
    "    'booster':booster,\n",
    "    'base_score':base_score\n",
    "    }"
   ]
  },
  {
   "cell_type": "code",
   "execution_count": 146,
   "metadata": {},
   "outputs": [],
   "source": [
    "from sklearn.model_selection import RandomizedSearchCV"
   ]
  },
  {
   "cell_type": "code",
   "execution_count": 147,
   "metadata": {},
   "outputs": [],
   "source": [
    "from sklearn.metrics import make_scorer\n",
    "from sklearn.metrics import roc_curve, auc\n",
    "\n",
    "# define scoring function \n",
    "def custom_auc(ground_truth, predictions):\n",
    "     fpr, tpr, _ = roc_curve(ground_truth, predictions[:,1], pos_label=1)    \n",
    "     return auc(fpr, tpr)\n",
    "\n",
    "# to be standart sklearn's scorer        \n",
    "my_auc = make_scorer(custom_auc, greater_is_better=True, needs_proba=True)\n"
   ]
  },
  {
   "cell_type": "code",
   "execution_count": 148,
   "metadata": {},
   "outputs": [],
   "source": [
    "# Set up the random search with 3-fold cross validation\n",
    "random_cv = RandomizedSearchCV(estimator=clf,\n",
    "            param_distributions=hyperparameter_grid,\n",
    "            cv=3, n_iter=10,\n",
    "            scoring = 'roc_auc',n_jobs = 3,\n",
    "            verbose = 5, \n",
    "            return_train_score = True,\n",
    "            random_state=24)"
   ]
  },
  {
   "cell_type": "code",
   "execution_count": 149,
   "metadata": {},
   "outputs": [
    {
     "name": "stdout",
     "output_type": "stream",
     "text": [
      "Fitting 3 folds for each of 10 candidates, totalling 30 fits\n"
     ]
    },
    {
     "name": "stderr",
     "output_type": "stream",
     "text": [
      "[Parallel(n_jobs=3)]: Using backend LokyBackend with 3 concurrent workers.\n",
      "[Parallel(n_jobs=3)]: Done  12 tasks      | elapsed:  2.2min\n",
      "[Parallel(n_jobs=3)]: Done  30 out of  30 | elapsed:  4.8min finished\n"
     ]
    },
    {
     "data": {
      "text/plain": [
       "RandomizedSearchCV(cv=3,\n",
       "                   estimator=XGBClassifier(base_score=None, booster=None,\n",
       "                                           colsample_bylevel=None,\n",
       "                                           colsample_bynode=None,\n",
       "                                           colsample_bytree=None, gamma=None,\n",
       "                                           gpu_id=None, importance_type='gain',\n",
       "                                           interaction_constraints=None,\n",
       "                                           learning_rate=None,\n",
       "                                           max_delta_step=None, max_depth=None,\n",
       "                                           min_child_weight=None, missing=nan,\n",
       "                                           monotone_constraints=None,\n",
       "                                           n_estimators=100,...\n",
       "                                           random_state=None, reg_alpha=None,\n",
       "                                           reg_lambda=None,\n",
       "                                           scale_pos_weight=None,\n",
       "                                           subsample=None, tree_method=None,\n",
       "                                           validate_parameters=None,\n",
       "                                           verbosity=None),\n",
       "                   n_jobs=3,\n",
       "                   param_distributions={'base_score': [0.3, 0.5],\n",
       "                                        'booster': ['gbtree'],\n",
       "                                        'learning_rate': [0.1, 0.2],\n",
       "                                        'max_depth': [4, 5],\n",
       "                                        'n_estimators': [200, 300]},\n",
       "                   random_state=24, return_train_score=True, scoring='roc_auc',\n",
       "                   verbose=5)"
      ]
     },
     "execution_count": 149,
     "metadata": {},
     "output_type": "execute_result"
    }
   ],
   "source": [
    "random_cv.fit(X_train,y_train)"
   ]
  },
  {
   "cell_type": "code",
   "execution_count": 150,
   "metadata": {},
   "outputs": [
    {
     "data": {
      "text/plain": [
       "XGBClassifier(base_score=0.5, booster='gbtree', colsample_bylevel=1,\n",
       "              colsample_bynode=1, colsample_bytree=1, gamma=0, gpu_id=-1,\n",
       "              importance_type='gain', interaction_constraints='',\n",
       "              learning_rate=0.1, max_delta_step=0, max_depth=5,\n",
       "              min_child_weight=1, missing=nan, monotone_constraints='()',\n",
       "              n_estimators=200, n_jobs=0, num_parallel_tree=1, random_state=0,\n",
       "              reg_alpha=0, reg_lambda=1, scale_pos_weight=1, subsample=1,\n",
       "              tree_method='exact', validate_parameters=1, verbosity=None)"
      ]
     },
     "execution_count": 150,
     "metadata": {},
     "output_type": "execute_result"
    }
   ],
   "source": [
    "random_cv.best_estimator_"
   ]
  },
  {
   "cell_type": "code",
   "execution_count": 151,
   "metadata": {},
   "outputs": [],
   "source": [
    "classifier = XGBClassifier(base_score=0.6, booster='gbtree', colsample_bylevel=1,\n",
    "              colsample_bynode=1, colsample_bytree=1, gamma=0.2, gpu_id=-1,\n",
    "              importance_type='gain', interaction_constraints='',\n",
    "              learning_rate=0.1, max_delta_step=0, max_depth=3,\n",
    "              min_child_weight=1.5, monotone_constraints='()',\n",
    "              n_estimators=200, n_jobs=0, num_parallel_tree=1, random_state=0,\n",
    "              reg_alpha=1.5, reg_lambda=1, scale_pos_weight=1, subsample=1,\n",
    "              tree_method='auto', validate_parameters=1, verbosity=None)"
   ]
  },
  {
   "cell_type": "code",
   "execution_count": 152,
   "metadata": {
    "scrolled": true
   },
   "outputs": [
    {
     "data": {
      "text/plain": [
       "XGBClassifier(base_score=0.6, booster='gbtree', colsample_bylevel=1,\n",
       "              colsample_bynode=1, colsample_bytree=1, gamma=0.2, gpu_id=-1,\n",
       "              importance_type='gain', interaction_constraints='',\n",
       "              learning_rate=0.1, max_delta_step=0, max_depth=3,\n",
       "              min_child_weight=1.5, missing=nan, monotone_constraints='()',\n",
       "              n_estimators=200, n_jobs=0, num_parallel_tree=1, random_state=0,\n",
       "              reg_alpha=1.5, reg_lambda=1, scale_pos_weight=1, subsample=1,\n",
       "              tree_method='auto', validate_parameters=1, verbosity=None)"
      ]
     },
     "execution_count": 152,
     "metadata": {},
     "output_type": "execute_result"
    }
   ],
   "source": [
    "classifier.fit(X_train,y_train)"
   ]
  },
  {
   "cell_type": "code",
   "execution_count": 153,
   "metadata": {},
   "outputs": [],
   "source": [
    "# Predicting trained values"
   ]
  },
  {
   "cell_type": "code",
   "execution_count": 154,
   "metadata": {},
   "outputs": [],
   "source": [
    "y_train_pred = classifier.predict_proba(X_train)"
   ]
  },
  {
   "cell_type": "code",
   "execution_count": 155,
   "metadata": {},
   "outputs": [],
   "source": [
    "# Predicting y values for test dataset"
   ]
  },
  {
   "cell_type": "code",
   "execution_count": 156,
   "metadata": {},
   "outputs": [],
   "source": [
    "y_pred = classifier.predict_proba(X_test)"
   ]
  },
  {
   "cell_type": "code",
   "execution_count": 157,
   "metadata": {
    "scrolled": true
   },
   "outputs": [
    {
     "data": {
      "text/plain": [
       "array([[0.67442775, 0.32557225],\n",
       "       [0.71749175, 0.28250828],\n",
       "       [0.73893154, 0.26106846],\n",
       "       ...,\n",
       "       [0.99329007, 0.00670995],\n",
       "       [0.7674576 , 0.2325424 ],\n",
       "       [0.8838305 , 0.11616949]], dtype=float32)"
      ]
     },
     "execution_count": 157,
     "metadata": {},
     "output_type": "execute_result"
    }
   ],
   "source": [
    "y_pred"
   ]
  },
  {
   "cell_type": "code",
   "execution_count": 158,
   "metadata": {},
   "outputs": [],
   "source": [
    "pred = pd.DataFrame(y_pred)"
   ]
  },
  {
   "cell_type": "code",
   "execution_count": 159,
   "metadata": {},
   "outputs": [],
   "source": [
    "from sklearn import metrics"
   ]
  },
  {
   "cell_type": "code",
   "execution_count": 160,
   "metadata": {},
   "outputs": [],
   "source": [
    "# calculate the fpr and tpr for all thresholds of the classification\n",
    "probs = classifier.predict_proba(X_train)\n",
    "preds = probs[:,1]\n",
    "fpr, tpr, threshold = metrics.roc_curve(y_train, preds)\n",
    "roc_auc = metrics.auc(fpr, tpr)"
   ]
  },
  {
   "cell_type": "code",
   "execution_count": 161,
   "metadata": {},
   "outputs": [],
   "source": [
    "# ROC curve"
   ]
  },
  {
   "cell_type": "code",
   "execution_count": 162,
   "metadata": {},
   "outputs": [
    {
     "data": {
      "image/png": "[encoded data removed]",
      "text/plain": [
       "<Figure size 432x288 with 1 Axes>"
      ]
     },
     "metadata": {
      "needs_background": "light"
     },
     "output_type": "display_data"
    }
   ],
   "source": [
    "import matplotlib.pyplot as plt\n",
    "plt.title('Receiver Operating Characteristic')\n",
    "plt.plot(fpr, tpr, 'b', label = 'AUC = %0.2f' % roc_auc)\n",
    "plt.legend(loc = 'lower right')\n",
    "plt.plot([0, 1], [0, 1],'r--')\n",
    "plt.xlim([0, 1])\n",
    "plt.ylim([0, 1])\n",
    "plt.ylabel('True Positive Rate')\n",
    "plt.xlabel('False Positive Rate')\n",
    "plt.show()"
   ]
  },
  {
   "cell_type": "code",
   "execution_count": 163,
   "metadata": {},
   "outputs": [],
   "source": [
    "pred = classifier.predict_proba (X_test) [:,1]"
   ]
  },
  {
   "cell_type": "code",
   "execution_count": 164,
   "metadata": {},
   "outputs": [],
   "source": [
    "pred = pd.DataFrame(pred)"
   ]
  },
  {
   "cell_type": "code",
   "execution_count": 165,
   "metadata": {
    "scrolled": true
   },
   "outputs": [
    {
     "data": {
      "text/html": [
       "<div>\n",
       "<style scoped>\n",
       "    .dataframe tbody tr th:only-of-type {\n",
       "        vertical-align: middle;\n",
       "    }\n",
       "\n",
       "    .dataframe tbody tr th {\n",
       "        vertical-align: top;\n",
       "    }\n",
       "\n",
       "    .dataframe thead th {\n",
       "        text-align: right;\n",
       "    }\n",
       "</style>\n",
       "<table border=\"1\" class=\"dataframe\">\n",
       "  <thead>\n",
       "    <tr style=\"text-align: right;\">\n",
       "      <th></th>\n",
       "      <th>0</th>\n",
       "    </tr>\n",
       "  </thead>\n",
       "  <tbody>\n",
       "    <tr>\n",
       "      <th>0</th>\n",
       "      <td>0.325572</td>\n",
       "    </tr>\n",
       "    <tr>\n",
       "      <th>1</th>\n",
       "      <td>0.282508</td>\n",
       "    </tr>\n",
       "    <tr>\n",
       "      <th>2</th>\n",
       "      <td>0.261068</td>\n",
       "    </tr>\n",
       "    <tr>\n",
       "      <th>3</th>\n",
       "      <td>0.201697</td>\n",
       "    </tr>\n",
       "    <tr>\n",
       "      <th>4</th>\n",
       "      <td>0.213367</td>\n",
       "    </tr>\n",
       "    <tr>\n",
       "      <th>5</th>\n",
       "      <td>0.204824</td>\n",
       "    </tr>\n",
       "    <tr>\n",
       "      <th>6</th>\n",
       "      <td>0.271225</td>\n",
       "    </tr>\n",
       "    <tr>\n",
       "      <th>7</th>\n",
       "      <td>0.318242</td>\n",
       "    </tr>\n",
       "    <tr>\n",
       "      <th>8</th>\n",
       "      <td>0.317681</td>\n",
       "    </tr>\n",
       "    <tr>\n",
       "      <th>9</th>\n",
       "      <td>0.366897</td>\n",
       "    </tr>\n",
       "  </tbody>\n",
       "</table>\n",
       "</div>"
      ],
      "text/plain": [
       "          0\n",
       "0  0.325572\n",
       "1  0.282508\n",
       "2  0.261068\n",
       "3  0.201697\n",
       "4  0.213367\n",
       "5  0.204824\n",
       "6  0.271225\n",
       "7  0.318242\n",
       "8  0.317681\n",
       "9  0.366897"
      ]
     },
     "execution_count": 165,
     "metadata": {},
     "output_type": "execute_result"
    }
   ],
   "source": [
    "pred.head(10)"
   ]
  },
  {
   "cell_type": "markdown",
   "metadata": {},
   "source": [
    "## CatBoost model"
   ]
  },
  {
   "cell_type": "code",
   "execution_count": 167,
   "metadata": {},
   "outputs": [
    {
     "name": "stdout",
     "output_type": "stream",
     "text": [
      "Collecting catboost\n",
      "  Downloading https://files.pythonhosted.org/packages/dd/6c/e2ab72e1b5730533a0980352816cc781351c21dfa5478b130d99d99d7ce2/catboost-0.24.4-cp37-none-win_amd64.whl (65.4MB)\n",
      "Requirement already satisfied: plotly in c:\\users\\admin\\anaconda3\\lib\\site-packages (from catboost) (4.13.0)\n",
      "Collecting graphviz (from catboost)\n",
      "  Downloading https://files.pythonhosted.org/packages/86/86/89ba50ba65928001d3161f23bfa03945ed18ea13a1d1d44a772ff1fa4e7a/graphviz-0.16-py2.py3-none-any.whl\n",
      "Requirement already satisfied: numpy>=1.16.0 in c:\\users\\admin\\anaconda3\\lib\\site-packages (from catboost) (1.19.2)\n",
      "Requirement already satisfied: six in c:\\users\\admin\\anaconda3\\lib\\site-packages (from catboost) (1.15.0)\n",
      "Requirement already satisfied: pandas>=0.24.0 in c:\\users\\admin\\anaconda3\\lib\\site-packages (from catboost) (1.1.3)\n",
      "Requirement already satisfied: matplotlib in c:\\users\\admin\\anaconda3\\lib\\site-packages (from catboost) (3.1.1)\n",
      "Requirement already satisfied: scipy in c:\\users\\admin\\anaconda3\\lib\\site-packages (from catboost) (1.5.2)\n",
      "Requirement already satisfied: retrying>=1.3.3 in c:\\users\\admin\\anaconda3\\lib\\site-packages (from plotly->catboost) (1.3.3)\n",
      "Requirement already satisfied: pytz>=2017.2 in c:\\users\\admin\\anaconda3\\lib\\site-packages (from pandas>=0.24.0->catboost) (2019.3)\n",
      "Requirement already satisfied: python-dateutil>=2.7.3 in c:\\users\\admin\\anaconda3\\lib\\site-packages (from pandas>=0.24.0->catboost) (2.8.0)\n",
      "Requirement already satisfied: cycler>=0.10 in c:\\users\\admin\\anaconda3\\lib\\site-packages (from matplotlib->catboost) (0.10.0)\n",
      "Requirement already satisfied: kiwisolver>=1.0.1 in c:\\users\\admin\\anaconda3\\lib\\site-packages (from matplotlib->catboost) (1.1.0)\n",
      "Requirement already satisfied: pyparsing!=2.0.4,!=2.1.2,!=2.1.6,>=2.0.1 in c:\\users\\admin\\anaconda3\\lib\\site-packages (from matplotlib->catboost) (2.4.2)\n",
      "Requirement already satisfied: setuptools in c:\\users\\admin\\anaconda3\\lib\\site-packages (from kiwisolver>=1.0.1->matplotlib->catboost) (41.4.0)\n",
      "Installing collected packages: graphviz, catboost\n",
      "Successfully installed catboost-0.24.4 graphviz-0.16\n"
     ]
    }
   ],
   "source": [
    "!pip install catboost"
   ]
  },
  {
   "cell_type": "code",
   "execution_count": 168,
   "metadata": {
    "scrolled": true
   },
   "outputs": [],
   "source": [
    "from catboost import CatBoostClassifier"
   ]
  },
  {
   "cell_type": "code",
   "execution_count": 203,
   "metadata": {},
   "outputs": [],
   "source": [
    "model = CatBoostClassifier(n_estimators=3000, \n",
    "                           learning_rate=0.05,\n",
    "                           depth=3,eval_metric='AUC')"
   ]
  },
  {
   "cell_type": "code",
   "execution_count": 204,
   "metadata": {},
   "outputs": [
    {
     "name": "stdout",
     "output_type": "stream",
     "text": [
      "0:\ttotal: 15.4ms\tremaining: 46.3s\n",
      "1:\ttotal: 33.6ms\tremaining: 50.4s\n",
      "2:\ttotal: 50.6ms\tremaining: 50.5s\n",
      "3:\ttotal: 64.1ms\tremaining: 48s\n",
      "4:\ttotal: 79.2ms\tremaining: 47.5s\n",
      "5:\ttotal: 96.1ms\tremaining: 47.9s\n",
      "6:\ttotal: 110ms\tremaining: 47.2s\n",
      "7:\ttotal: 128ms\tremaining: 47.8s\n",
      "8:\ttotal: 142ms\tremaining: 47.2s\n",
      "9:\ttotal: 159ms\tremaining: 47.6s\n",
      "10:\ttotal: 173ms\tremaining: 47.1s\n",
      "11:\ttotal: 189ms\tremaining: 47s\n",
      "12:\ttotal: 206ms\tremaining: 47.3s\n",
      "13:\ttotal: 227ms\tremaining: 48.4s\n",
      "14:\ttotal: 244ms\tremaining: 48.6s\n",
      "15:\ttotal: 264ms\tremaining: 49.3s\n",
      "16:\ttotal: 283ms\tremaining: 49.7s\n",
      "17:\ttotal: 306ms\tremaining: 50.7s\n",
      "18:\ttotal: 321ms\tremaining: 50.4s\n",
      "19:\ttotal: 336ms\tremaining: 50.1s\n",
      "20:\ttotal: 351ms\tremaining: 49.8s\n",
      "21:\ttotal: 374ms\tremaining: 50.6s\n",
      "22:\ttotal: 388ms\tremaining: 50.3s\n",
      "23:\ttotal: 407ms\tremaining: 50.5s\n",
      "24:\ttotal: 423ms\tremaining: 50.3s\n",
      "25:\ttotal: 438ms\tremaining: 50.1s\n",
      "26:\ttotal: 452ms\tremaining: 49.8s\n",
      "27:\ttotal: 467ms\tremaining: 49.6s\n",
      "28:\ttotal: 485ms\tremaining: 49.7s\n",
      "29:\ttotal: 500ms\tremaining: 49.5s\n",
      "30:\ttotal: 515ms\tremaining: 49.3s\n",
      "31:\ttotal: 530ms\tremaining: 49.2s\n",
      "32:\ttotal: 552ms\tremaining: 49.6s\n",
      "33:\ttotal: 566ms\tremaining: 49.4s\n",
      "34:\ttotal: 580ms\tremaining: 49.1s\n",
      "35:\ttotal: 594ms\tremaining: 48.9s\n",
      "36:\ttotal: 609ms\tremaining: 48.8s\n",
      "37:\ttotal: 625ms\tremaining: 48.7s\n",
      "38:\ttotal: 640ms\tremaining: 48.6s\n",
      "39:\ttotal: 655ms\tremaining: 48.5s\n",
      "40:\ttotal: 671ms\tremaining: 48.4s\n",
      "41:\ttotal: 684ms\tremaining: 48.2s\n",
      "42:\ttotal: 699ms\tremaining: 48.1s\n",
      "43:\ttotal: 723ms\tremaining: 48.5s\n",
      "44:\ttotal: 738ms\tremaining: 48.5s\n",
      "45:\ttotal: 756ms\tremaining: 48.5s\n",
      "46:\ttotal: 774ms\tremaining: 48.6s\n",
      "47:\ttotal: 789ms\tremaining: 48.5s\n",
      "48:\ttotal: 803ms\tremaining: 48.4s\n",
      "49:\ttotal: 818ms\tremaining: 48.3s\n",
      "50:\ttotal: 835ms\tremaining: 48.3s\n",
      "51:\ttotal: 853ms\tremaining: 48.4s\n",
      "52:\ttotal: 868ms\tremaining: 48.3s\n",
      "53:\ttotal: 884ms\tremaining: 48.2s\n",
      "54:\ttotal: 901ms\tremaining: 48.2s\n",
      "55:\ttotal: 917ms\tremaining: 48.2s\n",
      "56:\ttotal: 931ms\tremaining: 48.1s\n",
      "57:\ttotal: 946ms\tremaining: 48s\n",
      "58:\ttotal: 962ms\tremaining: 47.9s\n",
      "59:\ttotal: 976ms\tremaining: 47.8s\n",
      "60:\ttotal: 1s\tremaining: 48.3s\n",
      "61:\ttotal: 1.02s\tremaining: 48.3s\n",
      "62:\ttotal: 1.04s\tremaining: 48.3s\n",
      "63:\ttotal: 1.05s\tremaining: 48.2s\n",
      "64:\ttotal: 1.07s\tremaining: 48.2s\n",
      "65:\ttotal: 1.08s\tremaining: 48.1s\n",
      "66:\ttotal: 1.09s\tremaining: 47.9s\n",
      "67:\ttotal: 1.11s\tremaining: 47.9s\n",
      "68:\ttotal: 1.13s\tremaining: 47.9s\n",
      "69:\ttotal: 1.14s\tremaining: 47.8s\n",
      "70:\ttotal: 1.16s\tremaining: 47.7s\n",
      "71:\ttotal: 1.17s\tremaining: 47.8s\n",
      "72:\ttotal: 1.19s\tremaining: 47.7s\n",
      "73:\ttotal: 1.2s\tremaining: 47.6s\n",
      "74:\ttotal: 1.22s\tremaining: 47.8s\n",
      "75:\ttotal: 1.24s\tremaining: 47.7s\n",
      "76:\ttotal: 1.25s\tremaining: 47.6s\n",
      "77:\ttotal: 1.28s\tremaining: 47.8s\n",
      "78:\ttotal: 1.29s\tremaining: 47.8s\n",
      "79:\ttotal: 1.31s\tremaining: 47.9s\n",
      "80:\ttotal: 1.33s\tremaining: 47.9s\n",
      "81:\ttotal: 1.35s\tremaining: 48s\n",
      "82:\ttotal: 1.36s\tremaining: 47.9s\n",
      "83:\ttotal: 1.38s\tremaining: 48s\n",
      "84:\ttotal: 1.4s\tremaining: 48.1s\n",
      "85:\ttotal: 1.42s\tremaining: 48.1s\n",
      "86:\ttotal: 1.43s\tremaining: 48s\n",
      "87:\ttotal: 1.45s\tremaining: 48s\n",
      "88:\ttotal: 1.46s\tremaining: 47.9s\n",
      "89:\ttotal: 1.49s\tremaining: 48s\n",
      "90:\ttotal: 1.5s\tremaining: 47.9s\n",
      "91:\ttotal: 1.51s\tremaining: 47.9s\n",
      "92:\ttotal: 1.53s\tremaining: 47.8s\n",
      "93:\ttotal: 1.54s\tremaining: 47.7s\n",
      "94:\ttotal: 1.56s\tremaining: 47.9s\n",
      "95:\ttotal: 1.58s\tremaining: 47.8s\n",
      "96:\ttotal: 1.6s\tremaining: 47.9s\n",
      "97:\ttotal: 1.61s\tremaining: 47.8s\n",
      "98:\ttotal: 1.63s\tremaining: 47.7s\n",
      "99:\ttotal: 1.65s\tremaining: 47.8s\n",
      "100:\ttotal: 1.67s\tremaining: 48s\n",
      "101:\ttotal: 1.69s\tremaining: 47.9s\n",
      "102:\ttotal: 1.7s\tremaining: 47.9s\n",
      "103:\ttotal: 1.72s\tremaining: 47.9s\n",
      "104:\ttotal: 1.74s\tremaining: 47.8s\n",
      "105:\ttotal: 1.75s\tremaining: 47.9s\n",
      "106:\ttotal: 1.77s\tremaining: 47.9s\n",
      "107:\ttotal: 1.79s\tremaining: 47.9s\n",
      "108:\ttotal: 1.8s\tremaining: 47.9s\n",
      "109:\ttotal: 1.82s\tremaining: 47.9s\n",
      "110:\ttotal: 1.84s\tremaining: 48s\n",
      "111:\ttotal: 1.86s\tremaining: 47.9s\n",
      "112:\ttotal: 1.88s\tremaining: 47.9s\n",
      "113:\ttotal: 1.9s\tremaining: 48s\n",
      "114:\ttotal: 1.91s\tremaining: 48s\n",
      "115:\ttotal: 1.93s\tremaining: 48s\n",
      "116:\ttotal: 1.95s\tremaining: 48s\n",
      "117:\ttotal: 1.96s\tremaining: 47.9s\n",
      "118:\ttotal: 1.98s\tremaining: 47.9s\n",
      "119:\ttotal: 1.99s\tremaining: 47.8s\n",
      "120:\ttotal: 2.01s\tremaining: 47.8s\n",
      "121:\ttotal: 2.03s\tremaining: 47.8s\n",
      "122:\ttotal: 2.05s\tremaining: 47.9s\n",
      "123:\ttotal: 2.06s\tremaining: 47.8s\n",
      "124:\ttotal: 2.08s\tremaining: 47.8s\n",
      "125:\ttotal: 2.1s\tremaining: 47.8s\n",
      "126:\ttotal: 2.11s\tremaining: 47.8s\n",
      "127:\ttotal: 2.13s\tremaining: 47.8s\n",
      "128:\ttotal: 2.14s\tremaining: 47.7s\n",
      "129:\ttotal: 2.16s\tremaining: 47.7s\n",
      "130:\ttotal: 2.18s\tremaining: 47.7s\n",
      "131:\ttotal: 2.19s\tremaining: 47.6s\n",
      "132:\ttotal: 2.21s\tremaining: 47.6s\n",
      "133:\ttotal: 2.22s\tremaining: 47.5s\n",
      "134:\ttotal: 2.24s\tremaining: 47.5s\n",
      "135:\ttotal: 2.25s\tremaining: 47.5s\n",
      "136:\ttotal: 2.27s\tremaining: 47.4s\n",
      "137:\ttotal: 2.29s\tremaining: 47.5s\n",
      "138:\ttotal: 2.3s\tremaining: 47.4s\n",
      "139:\ttotal: 2.32s\tremaining: 47.4s\n",
      "140:\ttotal: 2.34s\tremaining: 47.4s\n",
      "141:\ttotal: 2.36s\tremaining: 47.6s\n",
      "142:\ttotal: 2.38s\tremaining: 47.6s\n",
      "143:\ttotal: 2.4s\tremaining: 47.6s\n",
      "144:\ttotal: 2.42s\tremaining: 47.6s\n",
      "145:\ttotal: 2.43s\tremaining: 47.6s\n",
      "146:\ttotal: 2.46s\tremaining: 47.7s\n",
      "147:\ttotal: 2.47s\tremaining: 47.6s\n",
      "148:\ttotal: 2.49s\tremaining: 47.6s\n",
      "149:\ttotal: 2.51s\tremaining: 47.6s\n",
      "150:\ttotal: 2.53s\tremaining: 47.7s\n",
      "151:\ttotal: 2.54s\tremaining: 47.6s\n",
      "152:\ttotal: 2.56s\tremaining: 47.6s\n",
      "153:\ttotal: 2.58s\tremaining: 47.6s\n",
      "154:\ttotal: 2.6s\tremaining: 47.7s\n",
      "155:\ttotal: 2.61s\tremaining: 47.6s\n",
      "156:\ttotal: 2.63s\tremaining: 47.6s\n",
      "157:\ttotal: 2.64s\tremaining: 47.6s\n",
      "158:\ttotal: 2.66s\tremaining: 47.6s\n",
      "159:\ttotal: 2.68s\tremaining: 47.5s\n",
      "160:\ttotal: 2.69s\tremaining: 47.5s\n",
      "161:\ttotal: 2.72s\tremaining: 47.6s\n",
      "162:\ttotal: 2.73s\tremaining: 47.6s\n",
      "163:\ttotal: 2.75s\tremaining: 47.5s\n",
      "164:\ttotal: 2.77s\tremaining: 47.5s\n",
      "165:\ttotal: 2.78s\tremaining: 47.5s\n",
      "166:\ttotal: 2.8s\tremaining: 47.5s\n",
      "167:\ttotal: 2.81s\tremaining: 47.4s\n",
      "168:\ttotal: 2.83s\tremaining: 47.4s\n",
      "169:\ttotal: 2.84s\tremaining: 47.3s\n",
      "170:\ttotal: 2.86s\tremaining: 47.3s\n",
      "171:\ttotal: 2.88s\tremaining: 47.3s\n",
      "172:\ttotal: 2.89s\tremaining: 47.3s\n",
      "173:\ttotal: 2.91s\tremaining: 47.3s\n",
      "174:\ttotal: 2.93s\tremaining: 47.2s\n",
      "175:\ttotal: 2.94s\tremaining: 47.2s\n",
      "176:\ttotal: 2.96s\tremaining: 47.2s\n",
      "177:\ttotal: 2.98s\tremaining: 47.2s\n",
      "178:\ttotal: 2.99s\tremaining: 47.2s\n",
      "179:\ttotal: 3.01s\tremaining: 47.2s\n",
      "180:\ttotal: 3.03s\tremaining: 47.2s\n",
      "181:\ttotal: 3.05s\tremaining: 47.2s\n",
      "182:\ttotal: 3.07s\tremaining: 47.3s\n",
      "183:\ttotal: 3.08s\tremaining: 47.2s\n",
      "184:\ttotal: 3.1s\tremaining: 47.2s\n",
      "185:\ttotal: 3.12s\tremaining: 47.2s\n",
      "186:\ttotal: 3.15s\tremaining: 47.4s\n",
      "187:\ttotal: 3.16s\tremaining: 47.3s\n",
      "188:\ttotal: 3.18s\tremaining: 47.3s\n",
      "189:\ttotal: 3.2s\tremaining: 47.3s\n",
      "190:\ttotal: 3.22s\tremaining: 47.3s\n",
      "191:\ttotal: 3.23s\tremaining: 47.3s\n",
      "192:\ttotal: 3.25s\tremaining: 47.3s\n",
      "193:\ttotal: 3.27s\tremaining: 47.3s\n",
      "194:\ttotal: 3.29s\tremaining: 47.3s\n",
      "195:\ttotal: 3.3s\tremaining: 47.3s\n",
      "196:\ttotal: 3.33s\tremaining: 47.3s\n",
      "197:\ttotal: 3.34s\tremaining: 47.3s\n",
      "198:\ttotal: 3.36s\tremaining: 47.3s\n",
      "199:\ttotal: 3.38s\tremaining: 47.3s\n",
      "200:\ttotal: 3.4s\tremaining: 47.4s\n",
      "201:\ttotal: 3.42s\tremaining: 47.4s\n",
      "202:\ttotal: 3.44s\tremaining: 47.4s\n",
      "203:\ttotal: 3.45s\tremaining: 47.3s\n",
      "204:\ttotal: 3.47s\tremaining: 47.4s\n",
      "205:\ttotal: 3.49s\tremaining: 47.4s\n",
      "206:\ttotal: 3.51s\tremaining: 47.4s\n",
      "207:\ttotal: 3.53s\tremaining: 47.4s\n",
      "208:\ttotal: 3.55s\tremaining: 47.4s\n",
      "209:\ttotal: 3.57s\tremaining: 47.4s\n",
      "210:\ttotal: 3.58s\tremaining: 47.4s\n",
      "211:\ttotal: 3.6s\tremaining: 47.4s\n",
      "212:\ttotal: 3.62s\tremaining: 47.4s\n",
      "213:\ttotal: 3.64s\tremaining: 47.4s\n",
      "214:\ttotal: 3.66s\tremaining: 47.4s\n",
      "215:\ttotal: 3.68s\tremaining: 47.5s\n",
      "216:\ttotal: 3.71s\tremaining: 47.5s\n",
      "217:\ttotal: 3.72s\tremaining: 47.5s\n",
      "218:\ttotal: 3.74s\tremaining: 47.5s\n",
      "219:\ttotal: 3.76s\tremaining: 47.5s\n",
      "220:\ttotal: 3.79s\tremaining: 47.6s\n",
      "221:\ttotal: 3.8s\tremaining: 47.6s\n",
      "222:\ttotal: 3.82s\tremaining: 47.6s\n",
      "223:\ttotal: 3.84s\tremaining: 47.6s\n",
      "224:\ttotal: 3.86s\tremaining: 47.6s\n",
      "225:\ttotal: 3.87s\tremaining: 47.5s\n",
      "226:\ttotal: 3.89s\tremaining: 47.5s\n",
      "227:\ttotal: 3.91s\tremaining: 47.5s\n",
      "228:\ttotal: 3.92s\tremaining: 47.5s\n",
      "229:\ttotal: 3.94s\tremaining: 47.5s\n",
      "230:\ttotal: 3.96s\tremaining: 47.5s\n",
      "231:\ttotal: 3.98s\tremaining: 47.5s\n",
      "232:\ttotal: 3.99s\tremaining: 47.4s\n",
      "233:\ttotal: 4.01s\tremaining: 47.4s\n",
      "234:\ttotal: 4.02s\tremaining: 47.4s\n",
      "235:\ttotal: 4.04s\tremaining: 47.3s\n",
      "236:\ttotal: 4.06s\tremaining: 47.3s\n",
      "237:\ttotal: 4.08s\tremaining: 47.3s\n",
      "238:\ttotal: 4.09s\tremaining: 47.3s\n",
      "239:\ttotal: 4.11s\tremaining: 47.2s\n",
      "240:\ttotal: 4.13s\tremaining: 47.2s\n",
      "241:\ttotal: 4.15s\tremaining: 47.3s\n",
      "242:\ttotal: 4.17s\tremaining: 47.3s\n",
      "243:\ttotal: 4.18s\tremaining: 47.2s\n",
      "244:\ttotal: 4.2s\tremaining: 47.2s\n",
      "245:\ttotal: 4.22s\tremaining: 47.2s\n",
      "246:\ttotal: 4.24s\tremaining: 47.3s\n"
     ]
    },
    {
     "name": "stdout",
     "output_type": "stream",
     "text": [
      "247:\ttotal: 4.26s\tremaining: 47.3s\n",
      "248:\ttotal: 4.29s\tremaining: 47.4s\n",
      "249:\ttotal: 4.31s\tremaining: 47.4s\n",
      "250:\ttotal: 4.33s\tremaining: 47.4s\n",
      "251:\ttotal: 4.34s\tremaining: 47.4s\n",
      "252:\ttotal: 4.37s\tremaining: 47.4s\n",
      "253:\ttotal: 4.38s\tremaining: 47.4s\n",
      "254:\ttotal: 4.41s\tremaining: 47.5s\n",
      "255:\ttotal: 4.43s\tremaining: 47.5s\n",
      "256:\ttotal: 4.45s\tremaining: 47.5s\n",
      "257:\ttotal: 4.47s\tremaining: 47.5s\n",
      "258:\ttotal: 4.49s\tremaining: 47.5s\n",
      "259:\ttotal: 4.5s\tremaining: 47.4s\n",
      "260:\ttotal: 4.52s\tremaining: 47.5s\n",
      "261:\ttotal: 4.54s\tremaining: 47.5s\n",
      "262:\ttotal: 4.56s\tremaining: 47.5s\n",
      "263:\ttotal: 4.58s\tremaining: 47.5s\n",
      "264:\ttotal: 4.61s\tremaining: 47.5s\n",
      "265:\ttotal: 4.63s\tremaining: 47.6s\n",
      "266:\ttotal: 4.65s\tremaining: 47.6s\n",
      "267:\ttotal: 4.68s\tremaining: 47.7s\n",
      "268:\ttotal: 4.7s\tremaining: 47.7s\n",
      "269:\ttotal: 4.72s\tremaining: 47.8s\n",
      "270:\ttotal: 4.74s\tremaining: 47.7s\n",
      "271:\ttotal: 4.76s\tremaining: 47.8s\n",
      "272:\ttotal: 4.78s\tremaining: 47.7s\n",
      "273:\ttotal: 4.8s\tremaining: 47.7s\n",
      "274:\ttotal: 4.81s\tremaining: 47.7s\n",
      "275:\ttotal: 4.83s\tremaining: 47.7s\n",
      "276:\ttotal: 4.85s\tremaining: 47.6s\n",
      "277:\ttotal: 4.87s\tremaining: 47.6s\n",
      "278:\ttotal: 4.88s\tremaining: 47.6s\n",
      "279:\ttotal: 4.89s\tremaining: 47.6s\n",
      "280:\ttotal: 4.91s\tremaining: 47.5s\n",
      "281:\ttotal: 4.93s\tremaining: 47.5s\n",
      "282:\ttotal: 4.96s\tremaining: 47.6s\n",
      "283:\ttotal: 4.98s\tremaining: 47.6s\n",
      "284:\ttotal: 5s\tremaining: 47.7s\n",
      "285:\ttotal: 5.02s\tremaining: 47.6s\n",
      "286:\ttotal: 5.04s\tremaining: 47.6s\n",
      "287:\ttotal: 5.05s\tremaining: 47.6s\n",
      "288:\ttotal: 5.07s\tremaining: 47.6s\n",
      "289:\ttotal: 5.1s\tremaining: 47.6s\n",
      "290:\ttotal: 5.11s\tremaining: 47.6s\n",
      "291:\ttotal: 5.13s\tremaining: 47.6s\n",
      "292:\ttotal: 5.15s\tremaining: 47.6s\n",
      "293:\ttotal: 5.17s\tremaining: 47.6s\n",
      "294:\ttotal: 5.19s\tremaining: 47.6s\n",
      "295:\ttotal: 5.2s\tremaining: 47.5s\n",
      "296:\ttotal: 5.22s\tremaining: 47.5s\n",
      "297:\ttotal: 5.24s\tremaining: 47.5s\n",
      "298:\ttotal: 5.25s\tremaining: 47.5s\n",
      "299:\ttotal: 5.28s\tremaining: 47.5s\n",
      "300:\ttotal: 5.29s\tremaining: 47.5s\n",
      "301:\ttotal: 5.31s\tremaining: 47.4s\n",
      "302:\ttotal: 5.33s\tremaining: 47.4s\n",
      "303:\ttotal: 5.34s\tremaining: 47.4s\n",
      "304:\ttotal: 5.36s\tremaining: 47.4s\n",
      "305:\ttotal: 5.38s\tremaining: 47.4s\n",
      "306:\ttotal: 5.4s\tremaining: 47.4s\n",
      "307:\ttotal: 5.42s\tremaining: 47.3s\n",
      "308:\ttotal: 5.43s\tremaining: 47.3s\n",
      "309:\ttotal: 5.46s\tremaining: 47.3s\n",
      "310:\ttotal: 5.47s\tremaining: 47.3s\n",
      "311:\ttotal: 5.49s\tremaining: 47.3s\n",
      "312:\ttotal: 5.51s\tremaining: 47.3s\n",
      "313:\ttotal: 5.53s\tremaining: 47.3s\n",
      "314:\ttotal: 5.54s\tremaining: 47.3s\n",
      "315:\ttotal: 5.57s\tremaining: 47.3s\n",
      "316:\ttotal: 5.59s\tremaining: 47.3s\n",
      "317:\ttotal: 5.62s\tremaining: 47.4s\n",
      "318:\ttotal: 5.63s\tremaining: 47.3s\n",
      "319:\ttotal: 5.65s\tremaining: 47.3s\n",
      "320:\ttotal: 5.67s\tremaining: 47.3s\n",
      "321:\ttotal: 5.68s\tremaining: 47.3s\n",
      "322:\ttotal: 5.7s\tremaining: 47.3s\n",
      "323:\ttotal: 5.72s\tremaining: 47.3s\n",
      "324:\ttotal: 5.74s\tremaining: 47.2s\n",
      "325:\ttotal: 5.75s\tremaining: 47.2s\n",
      "326:\ttotal: 5.77s\tremaining: 47.2s\n",
      "327:\ttotal: 5.79s\tremaining: 47.1s\n",
      "328:\ttotal: 5.8s\tremaining: 47.1s\n",
      "329:\ttotal: 5.83s\tremaining: 47.1s\n",
      "330:\ttotal: 5.84s\tremaining: 47.1s\n",
      "331:\ttotal: 5.86s\tremaining: 47.1s\n",
      "332:\ttotal: 5.88s\tremaining: 47.1s\n",
      "333:\ttotal: 5.89s\tremaining: 47s\n",
      "334:\ttotal: 5.91s\tremaining: 47s\n",
      "335:\ttotal: 5.93s\tremaining: 47s\n",
      "336:\ttotal: 5.95s\tremaining: 47s\n",
      "337:\ttotal: 5.97s\tremaining: 47s\n",
      "338:\ttotal: 5.99s\tremaining: 47s\n",
      "339:\ttotal: 6.01s\tremaining: 47s\n",
      "340:\ttotal: 6.02s\tremaining: 47s\n",
      "341:\ttotal: 6.04s\tremaining: 47s\n",
      "342:\ttotal: 6.06s\tremaining: 47s\n",
      "343:\ttotal: 6.08s\tremaining: 46.9s\n",
      "344:\ttotal: 6.1s\tremaining: 46.9s\n",
      "345:\ttotal: 6.12s\tremaining: 47s\n",
      "346:\ttotal: 6.14s\tremaining: 47s\n",
      "347:\ttotal: 6.16s\tremaining: 47s\n",
      "348:\ttotal: 6.18s\tremaining: 47s\n",
      "349:\ttotal: 6.21s\tremaining: 47s\n",
      "350:\ttotal: 6.22s\tremaining: 47s\n",
      "351:\ttotal: 6.24s\tremaining: 46.9s\n",
      "352:\ttotal: 6.25s\tremaining: 46.9s\n",
      "353:\ttotal: 6.27s\tremaining: 46.9s\n",
      "354:\ttotal: 6.29s\tremaining: 46.9s\n",
      "355:\ttotal: 6.31s\tremaining: 46.9s\n",
      "356:\ttotal: 6.33s\tremaining: 46.8s\n",
      "357:\ttotal: 6.34s\tremaining: 46.8s\n",
      "358:\ttotal: 6.36s\tremaining: 46.8s\n",
      "359:\ttotal: 6.38s\tremaining: 46.8s\n",
      "360:\ttotal: 6.39s\tremaining: 46.8s\n",
      "361:\ttotal: 6.41s\tremaining: 46.7s\n",
      "362:\ttotal: 6.43s\tremaining: 46.7s\n",
      "363:\ttotal: 6.45s\tremaining: 46.7s\n",
      "364:\ttotal: 6.47s\tremaining: 46.7s\n",
      "365:\ttotal: 6.49s\tremaining: 46.7s\n",
      "366:\ttotal: 6.51s\tremaining: 46.7s\n",
      "367:\ttotal: 6.53s\tremaining: 46.7s\n",
      "368:\ttotal: 6.55s\tremaining: 46.7s\n",
      "369:\ttotal: 6.57s\tremaining: 46.7s\n",
      "370:\ttotal: 6.59s\tremaining: 46.7s\n",
      "371:\ttotal: 6.62s\tremaining: 46.7s\n",
      "372:\ttotal: 6.63s\tremaining: 46.7s\n",
      "373:\ttotal: 6.66s\tremaining: 46.7s\n",
      "374:\ttotal: 6.67s\tremaining: 46.7s\n",
      "375:\ttotal: 6.7s\tremaining: 46.7s\n",
      "376:\ttotal: 6.71s\tremaining: 46.7s\n",
      "377:\ttotal: 6.73s\tremaining: 46.7s\n",
      "378:\ttotal: 6.75s\tremaining: 46.7s\n",
      "379:\ttotal: 6.77s\tremaining: 46.7s\n",
      "380:\ttotal: 6.79s\tremaining: 46.6s\n",
      "381:\ttotal: 6.81s\tremaining: 46.6s\n",
      "382:\ttotal: 6.82s\tremaining: 46.6s\n",
      "383:\ttotal: 6.84s\tremaining: 46.6s\n",
      "384:\ttotal: 6.86s\tremaining: 46.6s\n",
      "385:\ttotal: 6.88s\tremaining: 46.6s\n",
      "386:\ttotal: 6.9s\tremaining: 46.6s\n",
      "387:\ttotal: 6.92s\tremaining: 46.6s\n",
      "388:\ttotal: 6.94s\tremaining: 46.6s\n",
      "389:\ttotal: 6.97s\tremaining: 46.6s\n",
      "390:\ttotal: 6.99s\tremaining: 46.6s\n",
      "391:\ttotal: 7.01s\tremaining: 46.7s\n",
      "392:\ttotal: 7.03s\tremaining: 46.7s\n",
      "393:\ttotal: 7.06s\tremaining: 46.7s\n",
      "394:\ttotal: 7.08s\tremaining: 46.7s\n",
      "395:\ttotal: 7.1s\tremaining: 46.7s\n",
      "396:\ttotal: 7.11s\tremaining: 46.6s\n",
      "397:\ttotal: 7.13s\tremaining: 46.6s\n",
      "398:\ttotal: 7.15s\tremaining: 46.6s\n",
      "399:\ttotal: 7.16s\tremaining: 46.6s\n",
      "400:\ttotal: 7.19s\tremaining: 46.6s\n",
      "401:\ttotal: 7.2s\tremaining: 46.6s\n",
      "402:\ttotal: 7.22s\tremaining: 46.5s\n",
      "403:\ttotal: 7.24s\tremaining: 46.5s\n",
      "404:\ttotal: 7.26s\tremaining: 46.5s\n",
      "405:\ttotal: 7.28s\tremaining: 46.5s\n",
      "406:\ttotal: 7.3s\tremaining: 46.5s\n",
      "407:\ttotal: 7.32s\tremaining: 46.5s\n",
      "408:\ttotal: 7.34s\tremaining: 46.5s\n",
      "409:\ttotal: 7.35s\tremaining: 46.5s\n",
      "410:\ttotal: 7.37s\tremaining: 46.4s\n",
      "411:\ttotal: 7.38s\tremaining: 46.4s\n",
      "412:\ttotal: 7.4s\tremaining: 46.4s\n",
      "413:\ttotal: 7.42s\tremaining: 46.4s\n",
      "414:\ttotal: 7.44s\tremaining: 46.4s\n",
      "415:\ttotal: 7.46s\tremaining: 46.3s\n",
      "416:\ttotal: 7.48s\tremaining: 46.3s\n",
      "417:\ttotal: 7.5s\tremaining: 46.3s\n",
      "418:\ttotal: 7.51s\tremaining: 46.3s\n",
      "419:\ttotal: 7.53s\tremaining: 46.3s\n",
      "420:\ttotal: 7.56s\tremaining: 46.3s\n",
      "421:\ttotal: 7.58s\tremaining: 46.3s\n",
      "422:\ttotal: 7.59s\tremaining: 46.3s\n",
      "423:\ttotal: 7.61s\tremaining: 46.2s\n",
      "424:\ttotal: 7.63s\tremaining: 46.3s\n",
      "425:\ttotal: 7.65s\tremaining: 46.2s\n",
      "426:\ttotal: 7.66s\tremaining: 46.2s\n",
      "427:\ttotal: 7.67s\tremaining: 46.1s\n",
      "428:\ttotal: 7.69s\tremaining: 46.1s\n",
      "429:\ttotal: 7.71s\tremaining: 46.1s\n",
      "430:\ttotal: 7.72s\tremaining: 46s\n",
      "431:\ttotal: 7.75s\tremaining: 46.1s\n",
      "432:\ttotal: 7.77s\tremaining: 46.1s\n",
      "433:\ttotal: 7.8s\tremaining: 46.1s\n",
      "434:\ttotal: 7.82s\tremaining: 46.1s\n",
      "435:\ttotal: 7.84s\tremaining: 46.1s\n",
      "436:\ttotal: 7.85s\tremaining: 46.1s\n",
      "437:\ttotal: 7.87s\tremaining: 46s\n",
      "438:\ttotal: 7.89s\tremaining: 46s\n",
      "439:\ttotal: 7.91s\tremaining: 46s\n",
      "440:\ttotal: 7.93s\tremaining: 46s\n",
      "441:\ttotal: 7.94s\tremaining: 46s\n",
      "442:\ttotal: 7.96s\tremaining: 46s\n",
      "443:\ttotal: 7.98s\tremaining: 45.9s\n",
      "444:\ttotal: 7.99s\tremaining: 45.9s\n",
      "445:\ttotal: 8.01s\tremaining: 45.9s\n",
      "446:\ttotal: 8.03s\tremaining: 45.9s\n",
      "447:\ttotal: 8.05s\tremaining: 45.9s\n",
      "448:\ttotal: 8.07s\tremaining: 45.9s\n",
      "449:\ttotal: 8.09s\tremaining: 45.8s\n",
      "450:\ttotal: 8.11s\tremaining: 45.8s\n",
      "451:\ttotal: 8.12s\tremaining: 45.8s\n",
      "452:\ttotal: 8.14s\tremaining: 45.7s\n",
      "453:\ttotal: 8.15s\tremaining: 45.7s\n",
      "454:\ttotal: 8.17s\tremaining: 45.7s\n",
      "455:\ttotal: 8.19s\tremaining: 45.7s\n",
      "456:\ttotal: 8.21s\tremaining: 45.7s\n",
      "457:\ttotal: 8.23s\tremaining: 45.7s\n",
      "458:\ttotal: 8.24s\tremaining: 45.6s\n",
      "459:\ttotal: 8.26s\tremaining: 45.6s\n",
      "460:\ttotal: 8.28s\tremaining: 45.6s\n",
      "461:\ttotal: 8.29s\tremaining: 45.5s\n",
      "462:\ttotal: 8.31s\tremaining: 45.5s\n",
      "463:\ttotal: 8.33s\tremaining: 45.5s\n",
      "464:\ttotal: 8.35s\tremaining: 45.5s\n",
      "465:\ttotal: 8.37s\tremaining: 45.5s\n",
      "466:\ttotal: 8.38s\tremaining: 45.5s\n",
      "467:\ttotal: 8.4s\tremaining: 45.5s\n",
      "468:\ttotal: 8.42s\tremaining: 45.5s\n",
      "469:\ttotal: 8.44s\tremaining: 45.5s\n",
      "470:\ttotal: 8.47s\tremaining: 45.5s\n",
      "471:\ttotal: 8.49s\tremaining: 45.5s\n",
      "472:\ttotal: 8.51s\tremaining: 45.5s\n",
      "473:\ttotal: 8.53s\tremaining: 45.4s\n",
      "474:\ttotal: 8.54s\tremaining: 45.4s\n",
      "475:\ttotal: 8.56s\tremaining: 45.4s\n",
      "476:\ttotal: 8.58s\tremaining: 45.4s\n",
      "477:\ttotal: 8.59s\tremaining: 45.3s\n",
      "478:\ttotal: 8.61s\tremaining: 45.3s\n",
      "479:\ttotal: 8.63s\tremaining: 45.3s\n",
      "480:\ttotal: 8.65s\tremaining: 45.3s\n",
      "481:\ttotal: 8.67s\tremaining: 45.3s\n",
      "482:\ttotal: 8.68s\tremaining: 45.3s\n",
      "483:\ttotal: 8.7s\tremaining: 45.2s\n",
      "484:\ttotal: 8.72s\tremaining: 45.2s\n",
      "485:\ttotal: 8.73s\tremaining: 45.2s\n"
     ]
    },
    {
     "name": "stdout",
     "output_type": "stream",
     "text": [
      "486:\ttotal: 8.75s\tremaining: 45.2s\n",
      "487:\ttotal: 8.77s\tremaining: 45.1s\n",
      "488:\ttotal: 8.79s\tremaining: 45.1s\n",
      "489:\ttotal: 8.8s\tremaining: 45.1s\n",
      "490:\ttotal: 8.81s\tremaining: 45s\n",
      "491:\ttotal: 8.84s\tremaining: 45s\n",
      "492:\ttotal: 8.86s\tremaining: 45s\n",
      "493:\ttotal: 8.87s\tremaining: 45s\n",
      "494:\ttotal: 8.89s\tremaining: 45s\n",
      "495:\ttotal: 8.9s\tremaining: 44.9s\n",
      "496:\ttotal: 8.92s\tremaining: 44.9s\n",
      "497:\ttotal: 8.94s\tremaining: 44.9s\n",
      "498:\ttotal: 8.96s\tremaining: 44.9s\n",
      "499:\ttotal: 8.98s\tremaining: 44.9s\n",
      "500:\ttotal: 9s\tremaining: 44.9s\n",
      "501:\ttotal: 9.01s\tremaining: 44.9s\n",
      "502:\ttotal: 9.03s\tremaining: 44.8s\n",
      "503:\ttotal: 9.05s\tremaining: 44.8s\n",
      "504:\ttotal: 9.06s\tremaining: 44.8s\n",
      "505:\ttotal: 9.08s\tremaining: 44.7s\n",
      "506:\ttotal: 9.09s\tremaining: 44.7s\n",
      "507:\ttotal: 9.11s\tremaining: 44.7s\n",
      "508:\ttotal: 9.13s\tremaining: 44.7s\n",
      "509:\ttotal: 9.14s\tremaining: 44.7s\n",
      "510:\ttotal: 9.16s\tremaining: 44.6s\n",
      "511:\ttotal: 9.18s\tremaining: 44.6s\n",
      "512:\ttotal: 9.2s\tremaining: 44.6s\n",
      "513:\ttotal: 9.22s\tremaining: 44.6s\n",
      "514:\ttotal: 9.24s\tremaining: 44.6s\n",
      "515:\ttotal: 9.26s\tremaining: 44.6s\n",
      "516:\ttotal: 9.27s\tremaining: 44.5s\n",
      "517:\ttotal: 9.29s\tremaining: 44.5s\n",
      "518:\ttotal: 9.31s\tremaining: 44.5s\n",
      "519:\ttotal: 9.33s\tremaining: 44.5s\n",
      "520:\ttotal: 9.35s\tremaining: 44.5s\n",
      "521:\ttotal: 9.37s\tremaining: 44.5s\n",
      "522:\ttotal: 9.38s\tremaining: 44.4s\n",
      "523:\ttotal: 9.4s\tremaining: 44.4s\n",
      "524:\ttotal: 9.42s\tremaining: 44.4s\n",
      "525:\ttotal: 9.44s\tremaining: 44.4s\n",
      "526:\ttotal: 9.45s\tremaining: 44.4s\n",
      "527:\ttotal: 9.47s\tremaining: 44.4s\n",
      "528:\ttotal: 9.5s\tremaining: 44.4s\n",
      "529:\ttotal: 9.52s\tremaining: 44.3s\n",
      "530:\ttotal: 9.53s\tremaining: 44.3s\n",
      "531:\ttotal: 9.55s\tremaining: 44.3s\n",
      "532:\ttotal: 9.56s\tremaining: 44.3s\n",
      "533:\ttotal: 9.58s\tremaining: 44.3s\n",
      "534:\ttotal: 9.6s\tremaining: 44.2s\n",
      "535:\ttotal: 9.61s\tremaining: 44.2s\n",
      "536:\ttotal: 9.62s\tremaining: 44.1s\n",
      "537:\ttotal: 9.66s\tremaining: 44.2s\n",
      "538:\ttotal: 9.69s\tremaining: 44.2s\n",
      "539:\ttotal: 9.71s\tremaining: 44.3s\n",
      "540:\ttotal: 9.73s\tremaining: 44.2s\n",
      "541:\ttotal: 9.75s\tremaining: 44.2s\n",
      "542:\ttotal: 9.76s\tremaining: 44.2s\n",
      "543:\ttotal: 9.78s\tremaining: 44.2s\n",
      "544:\ttotal: 9.8s\tremaining: 44.1s\n",
      "545:\ttotal: 9.81s\tremaining: 44.1s\n",
      "546:\ttotal: 9.83s\tremaining: 44.1s\n",
      "547:\ttotal: 9.85s\tremaining: 44.1s\n",
      "548:\ttotal: 9.87s\tremaining: 44s\n",
      "549:\ttotal: 9.89s\tremaining: 44s\n",
      "550:\ttotal: 9.9s\tremaining: 44s\n",
      "551:\ttotal: 9.92s\tremaining: 44s\n",
      "552:\ttotal: 9.94s\tremaining: 44s\n",
      "553:\ttotal: 9.95s\tremaining: 43.9s\n",
      "554:\ttotal: 9.97s\tremaining: 43.9s\n",
      "555:\ttotal: 9.98s\tremaining: 43.9s\n",
      "556:\ttotal: 10s\tremaining: 43.9s\n",
      "557:\ttotal: 10s\tremaining: 43.8s\n",
      "558:\ttotal: 10s\tremaining: 43.8s\n",
      "559:\ttotal: 10s\tremaining: 43.8s\n",
      "560:\ttotal: 10.1s\tremaining: 43.8s\n",
      "561:\ttotal: 10.1s\tremaining: 43.8s\n",
      "562:\ttotal: 10.1s\tremaining: 43.8s\n",
      "563:\ttotal: 10.1s\tremaining: 43.7s\n",
      "564:\ttotal: 10.1s\tremaining: 43.7s\n",
      "565:\ttotal: 10.2s\tremaining: 43.7s\n",
      "566:\ttotal: 10.2s\tremaining: 43.7s\n",
      "567:\ttotal: 10.2s\tremaining: 43.7s\n",
      "568:\ttotal: 10.2s\tremaining: 43.7s\n",
      "569:\ttotal: 10.2s\tremaining: 43.7s\n",
      "570:\ttotal: 10.3s\tremaining: 43.7s\n",
      "571:\ttotal: 10.3s\tremaining: 43.6s\n",
      "572:\ttotal: 10.3s\tremaining: 43.6s\n",
      "573:\ttotal: 10.3s\tremaining: 43.6s\n",
      "574:\ttotal: 10.3s\tremaining: 43.6s\n",
      "575:\ttotal: 10.3s\tremaining: 43.5s\n",
      "576:\ttotal: 10.4s\tremaining: 43.5s\n",
      "577:\ttotal: 10.4s\tremaining: 43.5s\n",
      "578:\ttotal: 10.4s\tremaining: 43.5s\n",
      "579:\ttotal: 10.4s\tremaining: 43.5s\n",
      "580:\ttotal: 10.4s\tremaining: 43.5s\n",
      "581:\ttotal: 10.5s\tremaining: 43.5s\n",
      "582:\ttotal: 10.5s\tremaining: 43.4s\n",
      "583:\ttotal: 10.5s\tremaining: 43.4s\n",
      "584:\ttotal: 10.5s\tremaining: 43.4s\n",
      "585:\ttotal: 10.5s\tremaining: 43.4s\n",
      "586:\ttotal: 10.6s\tremaining: 43.4s\n",
      "587:\ttotal: 10.6s\tremaining: 43.4s\n",
      "588:\ttotal: 10.6s\tremaining: 43.4s\n",
      "589:\ttotal: 10.6s\tremaining: 43.4s\n",
      "590:\ttotal: 10.7s\tremaining: 43.4s\n",
      "591:\ttotal: 10.7s\tremaining: 43.4s\n",
      "592:\ttotal: 10.7s\tremaining: 43.4s\n",
      "593:\ttotal: 10.7s\tremaining: 43.5s\n",
      "594:\ttotal: 10.8s\tremaining: 43.5s\n",
      "595:\ttotal: 10.8s\tremaining: 43.5s\n",
      "596:\ttotal: 10.8s\tremaining: 43.4s\n",
      "597:\ttotal: 10.8s\tremaining: 43.5s\n",
      "598:\ttotal: 10.8s\tremaining: 43.5s\n",
      "599:\ttotal: 10.9s\tremaining: 43.4s\n",
      "600:\ttotal: 10.9s\tremaining: 43.4s\n",
      "601:\ttotal: 10.9s\tremaining: 43.4s\n",
      "602:\ttotal: 10.9s\tremaining: 43.4s\n",
      "603:\ttotal: 10.9s\tremaining: 43.4s\n",
      "604:\ttotal: 11s\tremaining: 43.4s\n",
      "605:\ttotal: 11s\tremaining: 43.4s\n",
      "606:\ttotal: 11s\tremaining: 43.4s\n",
      "607:\ttotal: 11s\tremaining: 43.4s\n",
      "608:\ttotal: 11.1s\tremaining: 43.4s\n",
      "609:\ttotal: 11.1s\tremaining: 43.4s\n",
      "610:\ttotal: 11.1s\tremaining: 43.4s\n",
      "611:\ttotal: 11.1s\tremaining: 43.4s\n",
      "612:\ttotal: 11.1s\tremaining: 43.4s\n",
      "613:\ttotal: 11.2s\tremaining: 43.5s\n",
      "614:\ttotal: 11.2s\tremaining: 43.6s\n",
      "615:\ttotal: 11.3s\tremaining: 43.8s\n",
      "616:\ttotal: 11.4s\tremaining: 44s\n",
      "617:\ttotal: 11.4s\tremaining: 44s\n",
      "618:\ttotal: 11.4s\tremaining: 44s\n",
      "619:\ttotal: 11.4s\tremaining: 43.9s\n",
      "620:\ttotal: 11.5s\tremaining: 43.9s\n",
      "621:\ttotal: 11.5s\tremaining: 43.9s\n",
      "622:\ttotal: 11.5s\tremaining: 43.9s\n",
      "623:\ttotal: 11.5s\tremaining: 43.9s\n",
      "624:\ttotal: 11.5s\tremaining: 43.9s\n",
      "625:\ttotal: 11.6s\tremaining: 43.9s\n",
      "626:\ttotal: 11.6s\tremaining: 43.9s\n",
      "627:\ttotal: 11.6s\tremaining: 43.8s\n",
      "628:\ttotal: 11.6s\tremaining: 43.8s\n",
      "629:\ttotal: 11.6s\tremaining: 43.8s\n",
      "630:\ttotal: 11.7s\tremaining: 43.8s\n",
      "631:\ttotal: 11.7s\tremaining: 43.8s\n",
      "632:\ttotal: 11.7s\tremaining: 43.8s\n",
      "633:\ttotal: 11.7s\tremaining: 43.7s\n",
      "634:\ttotal: 11.7s\tremaining: 43.7s\n",
      "635:\ttotal: 11.8s\tremaining: 43.7s\n",
      "636:\ttotal: 11.8s\tremaining: 43.7s\n",
      "637:\ttotal: 11.8s\tremaining: 43.7s\n",
      "638:\ttotal: 11.8s\tremaining: 43.7s\n",
      "639:\ttotal: 11.8s\tremaining: 43.7s\n",
      "640:\ttotal: 11.9s\tremaining: 43.7s\n",
      "641:\ttotal: 11.9s\tremaining: 43.7s\n",
      "642:\ttotal: 11.9s\tremaining: 43.7s\n",
      "643:\ttotal: 11.9s\tremaining: 43.6s\n",
      "644:\ttotal: 11.9s\tremaining: 43.6s\n",
      "645:\ttotal: 12s\tremaining: 43.6s\n",
      "646:\ttotal: 12s\tremaining: 43.6s\n",
      "647:\ttotal: 12s\tremaining: 43.6s\n",
      "648:\ttotal: 12s\tremaining: 43.6s\n",
      "649:\ttotal: 12.1s\tremaining: 43.6s\n",
      "650:\ttotal: 12.1s\tremaining: 43.6s\n",
      "651:\ttotal: 12.1s\tremaining: 43.6s\n",
      "652:\ttotal: 12.1s\tremaining: 43.5s\n",
      "653:\ttotal: 12.1s\tremaining: 43.5s\n",
      "654:\ttotal: 12.1s\tremaining: 43.5s\n",
      "655:\ttotal: 12.2s\tremaining: 43.5s\n",
      "656:\ttotal: 12.2s\tremaining: 43.5s\n",
      "657:\ttotal: 12.2s\tremaining: 43.5s\n",
      "658:\ttotal: 12.2s\tremaining: 43.5s\n",
      "659:\ttotal: 12.3s\tremaining: 43.5s\n",
      "660:\ttotal: 12.3s\tremaining: 43.5s\n",
      "661:\ttotal: 12.3s\tremaining: 43.4s\n",
      "662:\ttotal: 12.3s\tremaining: 43.4s\n",
      "663:\ttotal: 12.3s\tremaining: 43.4s\n",
      "664:\ttotal: 12.4s\tremaining: 43.4s\n",
      "665:\ttotal: 12.4s\tremaining: 43.4s\n",
      "666:\ttotal: 12.4s\tremaining: 43.4s\n",
      "667:\ttotal: 12.4s\tremaining: 43.4s\n",
      "668:\ttotal: 12.5s\tremaining: 43.4s\n",
      "669:\ttotal: 12.5s\tremaining: 43.4s\n",
      "670:\ttotal: 12.5s\tremaining: 43.4s\n",
      "671:\ttotal: 12.5s\tremaining: 43.3s\n",
      "672:\ttotal: 12.5s\tremaining: 43.3s\n",
      "673:\ttotal: 12.6s\tremaining: 43.3s\n",
      "674:\ttotal: 12.6s\tremaining: 43.3s\n",
      "675:\ttotal: 12.6s\tremaining: 43.3s\n",
      "676:\ttotal: 12.6s\tremaining: 43.3s\n",
      "677:\ttotal: 12.7s\tremaining: 43.3s\n",
      "678:\ttotal: 12.7s\tremaining: 43.4s\n",
      "679:\ttotal: 12.7s\tremaining: 43.3s\n",
      "680:\ttotal: 12.7s\tremaining: 43.3s\n",
      "681:\ttotal: 12.7s\tremaining: 43.3s\n",
      "682:\ttotal: 12.8s\tremaining: 43.3s\n",
      "683:\ttotal: 12.8s\tremaining: 43.3s\n",
      "684:\ttotal: 12.8s\tremaining: 43.3s\n",
      "685:\ttotal: 12.9s\tremaining: 43.4s\n",
      "686:\ttotal: 12.9s\tremaining: 43.4s\n",
      "687:\ttotal: 12.9s\tremaining: 43.4s\n",
      "688:\ttotal: 12.9s\tremaining: 43.4s\n",
      "689:\ttotal: 13s\tremaining: 43.4s\n",
      "690:\ttotal: 13s\tremaining: 43.4s\n",
      "691:\ttotal: 13s\tremaining: 43.4s\n",
      "692:\ttotal: 13s\tremaining: 43.4s\n",
      "693:\ttotal: 13.1s\tremaining: 43.4s\n",
      "694:\ttotal: 13.1s\tremaining: 43.4s\n",
      "695:\ttotal: 13.1s\tremaining: 43.4s\n",
      "696:\ttotal: 13.1s\tremaining: 43.4s\n",
      "697:\ttotal: 13.2s\tremaining: 43.4s\n",
      "698:\ttotal: 13.2s\tremaining: 43.4s\n",
      "699:\ttotal: 13.2s\tremaining: 43.4s\n",
      "700:\ttotal: 13.2s\tremaining: 43.4s\n",
      "701:\ttotal: 13.2s\tremaining: 43.4s\n",
      "702:\ttotal: 13.3s\tremaining: 43.3s\n",
      "703:\ttotal: 13.3s\tremaining: 43.3s\n",
      "704:\ttotal: 13.3s\tremaining: 43.3s\n",
      "705:\ttotal: 13.3s\tremaining: 43.3s\n",
      "706:\ttotal: 13.4s\tremaining: 43.3s\n",
      "707:\ttotal: 13.4s\tremaining: 43.3s\n",
      "708:\ttotal: 13.4s\tremaining: 43.3s\n",
      "709:\ttotal: 13.4s\tremaining: 43.3s\n",
      "710:\ttotal: 13.4s\tremaining: 43.3s\n",
      "711:\ttotal: 13.5s\tremaining: 43.3s\n",
      "712:\ttotal: 13.5s\tremaining: 43.3s\n",
      "713:\ttotal: 13.5s\tremaining: 43.3s\n",
      "714:\ttotal: 13.5s\tremaining: 43.3s\n",
      "715:\ttotal: 13.6s\tremaining: 43.2s\n",
      "716:\ttotal: 13.6s\tremaining: 43.2s\n",
      "717:\ttotal: 13.6s\tremaining: 43.2s\n",
      "718:\ttotal: 13.6s\tremaining: 43.2s\n",
      "719:\ttotal: 13.6s\tremaining: 43.2s\n",
      "720:\ttotal: 13.6s\tremaining: 43.1s\n",
      "721:\ttotal: 13.7s\tremaining: 43.1s\n",
      "722:\ttotal: 13.7s\tremaining: 43.1s\n",
      "723:\ttotal: 13.7s\tremaining: 43.1s\n",
      "724:\ttotal: 13.7s\tremaining: 43s\n",
      "725:\ttotal: 13.7s\tremaining: 43s\n",
      "726:\ttotal: 13.8s\tremaining: 43s\n"
     ]
    },
    {
     "name": "stdout",
     "output_type": "stream",
     "text": [
      "727:\ttotal: 13.8s\tremaining: 43s\n",
      "728:\ttotal: 13.8s\tremaining: 43s\n",
      "729:\ttotal: 13.8s\tremaining: 43s\n",
      "730:\ttotal: 13.8s\tremaining: 42.9s\n",
      "731:\ttotal: 13.8s\tremaining: 42.9s\n",
      "732:\ttotal: 13.9s\tremaining: 42.9s\n",
      "733:\ttotal: 13.9s\tremaining: 42.9s\n",
      "734:\ttotal: 13.9s\tremaining: 42.8s\n",
      "735:\ttotal: 13.9s\tremaining: 42.8s\n",
      "736:\ttotal: 13.9s\tremaining: 42.8s\n",
      "737:\ttotal: 14s\tremaining: 42.8s\n",
      "738:\ttotal: 14s\tremaining: 42.8s\n",
      "739:\ttotal: 14s\tremaining: 42.7s\n",
      "740:\ttotal: 14s\tremaining: 42.7s\n",
      "741:\ttotal: 14s\tremaining: 42.7s\n",
      "742:\ttotal: 14s\tremaining: 42.7s\n",
      "743:\ttotal: 14.1s\tremaining: 42.7s\n",
      "744:\ttotal: 14.1s\tremaining: 42.6s\n",
      "745:\ttotal: 14.1s\tremaining: 42.6s\n",
      "746:\ttotal: 14.1s\tremaining: 42.6s\n",
      "747:\ttotal: 14.1s\tremaining: 42.6s\n",
      "748:\ttotal: 14.2s\tremaining: 42.6s\n",
      "749:\ttotal: 14.2s\tremaining: 42.5s\n",
      "750:\ttotal: 14.2s\tremaining: 42.5s\n",
      "751:\ttotal: 14.2s\tremaining: 42.5s\n",
      "752:\ttotal: 14.2s\tremaining: 42.5s\n",
      "753:\ttotal: 14.3s\tremaining: 42.5s\n",
      "754:\ttotal: 14.3s\tremaining: 42.4s\n",
      "755:\ttotal: 14.3s\tremaining: 42.4s\n",
      "756:\ttotal: 14.3s\tremaining: 42.4s\n",
      "757:\ttotal: 14.3s\tremaining: 42.4s\n",
      "758:\ttotal: 14.3s\tremaining: 42.4s\n",
      "759:\ttotal: 14.4s\tremaining: 42.4s\n",
      "760:\ttotal: 14.4s\tremaining: 42.4s\n",
      "761:\ttotal: 14.4s\tremaining: 42.3s\n",
      "762:\ttotal: 14.4s\tremaining: 42.3s\n",
      "763:\ttotal: 14.5s\tremaining: 42.3s\n",
      "764:\ttotal: 14.5s\tremaining: 42.3s\n",
      "765:\ttotal: 14.5s\tremaining: 42.3s\n",
      "766:\ttotal: 14.5s\tremaining: 42.3s\n",
      "767:\ttotal: 14.6s\tremaining: 42.3s\n",
      "768:\ttotal: 14.6s\tremaining: 42.3s\n",
      "769:\ttotal: 14.6s\tremaining: 42.3s\n",
      "770:\ttotal: 14.6s\tremaining: 42.3s\n",
      "771:\ttotal: 14.6s\tremaining: 42.3s\n",
      "772:\ttotal: 14.7s\tremaining: 42.2s\n",
      "773:\ttotal: 14.7s\tremaining: 42.2s\n",
      "774:\ttotal: 14.7s\tremaining: 42.2s\n",
      "775:\ttotal: 14.7s\tremaining: 42.2s\n",
      "776:\ttotal: 14.7s\tremaining: 42.2s\n",
      "777:\ttotal: 14.8s\tremaining: 42.2s\n",
      "778:\ttotal: 14.8s\tremaining: 42.2s\n",
      "779:\ttotal: 14.8s\tremaining: 42.1s\n",
      "780:\ttotal: 14.8s\tremaining: 42.1s\n",
      "781:\ttotal: 14.8s\tremaining: 42.1s\n",
      "782:\ttotal: 14.9s\tremaining: 42.1s\n",
      "783:\ttotal: 14.9s\tremaining: 42.1s\n",
      "784:\ttotal: 14.9s\tremaining: 42s\n",
      "785:\ttotal: 14.9s\tremaining: 42s\n",
      "786:\ttotal: 14.9s\tremaining: 42s\n",
      "787:\ttotal: 15s\tremaining: 42s\n",
      "788:\ttotal: 15s\tremaining: 42s\n",
      "789:\ttotal: 15s\tremaining: 41.9s\n",
      "790:\ttotal: 15s\tremaining: 41.9s\n",
      "791:\ttotal: 15s\tremaining: 41.9s\n",
      "792:\ttotal: 15s\tremaining: 41.9s\n",
      "793:\ttotal: 15.1s\tremaining: 41.9s\n",
      "794:\ttotal: 15.1s\tremaining: 41.8s\n",
      "795:\ttotal: 15.1s\tremaining: 41.8s\n",
      "796:\ttotal: 15.1s\tremaining: 41.8s\n",
      "797:\ttotal: 15.1s\tremaining: 41.8s\n",
      "798:\ttotal: 15.2s\tremaining: 41.8s\n",
      "799:\ttotal: 15.2s\tremaining: 41.7s\n",
      "800:\ttotal: 15.2s\tremaining: 41.7s\n",
      "801:\ttotal: 15.2s\tremaining: 41.7s\n",
      "802:\ttotal: 15.2s\tremaining: 41.7s\n",
      "803:\ttotal: 15.3s\tremaining: 41.7s\n",
      "804:\ttotal: 15.3s\tremaining: 41.7s\n",
      "805:\ttotal: 15.3s\tremaining: 41.6s\n",
      "806:\ttotal: 15.3s\tremaining: 41.6s\n",
      "807:\ttotal: 15.3s\tremaining: 41.6s\n",
      "808:\ttotal: 15.4s\tremaining: 41.6s\n",
      "809:\ttotal: 15.4s\tremaining: 41.6s\n",
      "810:\ttotal: 15.4s\tremaining: 41.5s\n",
      "811:\ttotal: 15.4s\tremaining: 41.5s\n",
      "812:\ttotal: 15.4s\tremaining: 41.5s\n",
      "813:\ttotal: 15.4s\tremaining: 41.5s\n",
      "814:\ttotal: 15.5s\tremaining: 41.5s\n",
      "815:\ttotal: 15.5s\tremaining: 41.4s\n",
      "816:\ttotal: 15.5s\tremaining: 41.4s\n",
      "817:\ttotal: 15.5s\tremaining: 41.4s\n",
      "818:\ttotal: 15.5s\tremaining: 41.4s\n",
      "819:\ttotal: 15.6s\tremaining: 41.4s\n",
      "820:\ttotal: 15.6s\tremaining: 41.3s\n",
      "821:\ttotal: 15.6s\tremaining: 41.3s\n",
      "822:\ttotal: 15.6s\tremaining: 41.3s\n",
      "823:\ttotal: 15.6s\tremaining: 41.3s\n",
      "824:\ttotal: 15.7s\tremaining: 41.3s\n",
      "825:\ttotal: 15.7s\tremaining: 41.3s\n",
      "826:\ttotal: 15.7s\tremaining: 41.2s\n",
      "827:\ttotal: 15.7s\tremaining: 41.2s\n",
      "828:\ttotal: 15.7s\tremaining: 41.2s\n",
      "829:\ttotal: 15.7s\tremaining: 41.2s\n",
      "830:\ttotal: 15.8s\tremaining: 41.1s\n",
      "831:\ttotal: 15.8s\tremaining: 41.1s\n",
      "832:\ttotal: 15.8s\tremaining: 41.1s\n",
      "833:\ttotal: 15.8s\tremaining: 41.1s\n",
      "834:\ttotal: 15.8s\tremaining: 41.1s\n",
      "835:\ttotal: 15.9s\tremaining: 41s\n",
      "836:\ttotal: 15.9s\tremaining: 41s\n",
      "837:\ttotal: 15.9s\tremaining: 41s\n",
      "838:\ttotal: 15.9s\tremaining: 41s\n",
      "839:\ttotal: 15.9s\tremaining: 40.9s\n",
      "840:\ttotal: 15.9s\tremaining: 40.9s\n",
      "841:\ttotal: 16s\tremaining: 40.9s\n",
      "842:\ttotal: 16s\tremaining: 40.9s\n",
      "843:\ttotal: 16s\tremaining: 40.9s\n",
      "844:\ttotal: 16s\tremaining: 40.9s\n",
      "845:\ttotal: 16s\tremaining: 40.8s\n",
      "846:\ttotal: 16.1s\tremaining: 40.8s\n",
      "847:\ttotal: 16.1s\tremaining: 40.8s\n",
      "848:\ttotal: 16.1s\tremaining: 40.8s\n",
      "849:\ttotal: 16.1s\tremaining: 40.8s\n",
      "850:\ttotal: 16.2s\tremaining: 40.8s\n",
      "851:\ttotal: 16.2s\tremaining: 40.8s\n",
      "852:\ttotal: 16.2s\tremaining: 40.8s\n",
      "853:\ttotal: 16.2s\tremaining: 40.7s\n",
      "854:\ttotal: 16.2s\tremaining: 40.7s\n",
      "855:\ttotal: 16.2s\tremaining: 40.7s\n",
      "856:\ttotal: 16.3s\tremaining: 40.7s\n",
      "857:\ttotal: 16.3s\tremaining: 40.7s\n",
      "858:\ttotal: 16.3s\tremaining: 40.6s\n",
      "859:\ttotal: 16.3s\tremaining: 40.6s\n",
      "860:\ttotal: 16.3s\tremaining: 40.6s\n",
      "861:\ttotal: 16.4s\tremaining: 40.6s\n",
      "862:\ttotal: 16.4s\tremaining: 40.6s\n",
      "863:\ttotal: 16.4s\tremaining: 40.5s\n",
      "864:\ttotal: 16.4s\tremaining: 40.5s\n",
      "865:\ttotal: 16.4s\tremaining: 40.5s\n",
      "866:\ttotal: 16.5s\tremaining: 40.5s\n",
      "867:\ttotal: 16.5s\tremaining: 40.5s\n",
      "868:\ttotal: 16.5s\tremaining: 40.4s\n",
      "869:\ttotal: 16.5s\tremaining: 40.4s\n",
      "870:\ttotal: 16.5s\tremaining: 40.4s\n",
      "871:\ttotal: 16.6s\tremaining: 40.4s\n",
      "872:\ttotal: 16.6s\tremaining: 40.4s\n",
      "873:\ttotal: 16.6s\tremaining: 40.4s\n",
      "874:\ttotal: 16.6s\tremaining: 40.4s\n",
      "875:\ttotal: 16.6s\tremaining: 40.3s\n",
      "876:\ttotal: 16.7s\tremaining: 40.3s\n",
      "877:\ttotal: 16.7s\tremaining: 40.3s\n",
      "878:\ttotal: 16.7s\tremaining: 40.3s\n",
      "879:\ttotal: 16.7s\tremaining: 40.3s\n",
      "880:\ttotal: 16.7s\tremaining: 40.3s\n",
      "881:\ttotal: 16.8s\tremaining: 40.3s\n",
      "882:\ttotal: 16.8s\tremaining: 40.2s\n",
      "883:\ttotal: 16.8s\tremaining: 40.2s\n",
      "884:\ttotal: 16.8s\tremaining: 40.2s\n",
      "885:\ttotal: 16.8s\tremaining: 40.2s\n",
      "886:\ttotal: 16.9s\tremaining: 40.2s\n",
      "887:\ttotal: 16.9s\tremaining: 40.2s\n",
      "888:\ttotal: 16.9s\tremaining: 40.2s\n",
      "889:\ttotal: 16.9s\tremaining: 40.1s\n",
      "890:\ttotal: 17s\tremaining: 40.1s\n",
      "891:\ttotal: 17s\tremaining: 40.1s\n",
      "892:\ttotal: 17s\tremaining: 40.1s\n",
      "893:\ttotal: 17s\tremaining: 40.1s\n",
      "894:\ttotal: 17s\tremaining: 40s\n",
      "895:\ttotal: 17s\tremaining: 40s\n",
      "896:\ttotal: 17.1s\tremaining: 40s\n",
      "897:\ttotal: 17.1s\tremaining: 40s\n",
      "898:\ttotal: 17.1s\tremaining: 39.9s\n",
      "899:\ttotal: 17.1s\tremaining: 39.9s\n",
      "900:\ttotal: 17.1s\tremaining: 39.9s\n",
      "901:\ttotal: 17.2s\tremaining: 39.9s\n",
      "902:\ttotal: 17.2s\tremaining: 39.9s\n",
      "903:\ttotal: 17.2s\tremaining: 39.9s\n",
      "904:\ttotal: 17.2s\tremaining: 39.8s\n",
      "905:\ttotal: 17.2s\tremaining: 39.8s\n",
      "906:\ttotal: 17.3s\tremaining: 39.8s\n",
      "907:\ttotal: 17.3s\tremaining: 39.8s\n",
      "908:\ttotal: 17.3s\tremaining: 39.8s\n",
      "909:\ttotal: 17.3s\tremaining: 39.7s\n",
      "910:\ttotal: 17.3s\tremaining: 39.7s\n",
      "911:\ttotal: 17.3s\tremaining: 39.7s\n",
      "912:\ttotal: 17.4s\tremaining: 39.7s\n",
      "913:\ttotal: 17.4s\tremaining: 39.7s\n",
      "914:\ttotal: 17.4s\tremaining: 39.6s\n",
      "915:\ttotal: 17.4s\tremaining: 39.6s\n",
      "916:\ttotal: 17.4s\tremaining: 39.6s\n",
      "917:\ttotal: 17.4s\tremaining: 39.6s\n",
      "918:\ttotal: 17.5s\tremaining: 39.6s\n",
      "919:\ttotal: 17.5s\tremaining: 39.5s\n",
      "920:\ttotal: 17.5s\tremaining: 39.5s\n",
      "921:\ttotal: 17.5s\tremaining: 39.5s\n",
      "922:\ttotal: 17.5s\tremaining: 39.5s\n",
      "923:\ttotal: 17.6s\tremaining: 39.5s\n",
      "924:\ttotal: 17.6s\tremaining: 39.4s\n",
      "925:\ttotal: 17.6s\tremaining: 39.4s\n",
      "926:\ttotal: 17.6s\tremaining: 39.4s\n",
      "927:\ttotal: 17.6s\tremaining: 39.4s\n",
      "928:\ttotal: 17.7s\tremaining: 39.4s\n",
      "929:\ttotal: 17.7s\tremaining: 39.3s\n",
      "930:\ttotal: 17.7s\tremaining: 39.3s\n",
      "931:\ttotal: 17.7s\tremaining: 39.3s\n",
      "932:\ttotal: 17.7s\tremaining: 39.3s\n",
      "933:\ttotal: 17.8s\tremaining: 39.3s\n",
      "934:\ttotal: 17.8s\tremaining: 39.2s\n",
      "935:\ttotal: 17.8s\tremaining: 39.2s\n",
      "936:\ttotal: 17.8s\tremaining: 39.2s\n",
      "937:\ttotal: 17.8s\tremaining: 39.2s\n",
      "938:\ttotal: 17.8s\tremaining: 39.2s\n",
      "939:\ttotal: 17.9s\tremaining: 39.1s\n",
      "940:\ttotal: 17.9s\tremaining: 39.1s\n",
      "941:\ttotal: 17.9s\tremaining: 39.1s\n",
      "942:\ttotal: 17.9s\tremaining: 39.1s\n",
      "943:\ttotal: 17.9s\tremaining: 39.1s\n",
      "944:\ttotal: 18s\tremaining: 39.1s\n",
      "945:\ttotal: 18s\tremaining: 39s\n",
      "946:\ttotal: 18s\tremaining: 39s\n",
      "947:\ttotal: 18s\tremaining: 39s\n",
      "948:\ttotal: 18s\tremaining: 39s\n",
      "949:\ttotal: 18s\tremaining: 38.9s\n",
      "950:\ttotal: 18.1s\tremaining: 38.9s\n",
      "951:\ttotal: 18.1s\tremaining: 38.9s\n",
      "952:\ttotal: 18.1s\tremaining: 38.9s\n",
      "953:\ttotal: 18.1s\tremaining: 38.9s\n",
      "954:\ttotal: 18.1s\tremaining: 38.8s\n",
      "955:\ttotal: 18.2s\tremaining: 38.8s\n",
      "956:\ttotal: 18.2s\tremaining: 38.8s\n",
      "957:\ttotal: 18.2s\tremaining: 38.8s\n",
      "958:\ttotal: 18.2s\tremaining: 38.8s\n",
      "959:\ttotal: 18.2s\tremaining: 38.7s\n",
      "960:\ttotal: 18.3s\tremaining: 38.7s\n",
      "961:\ttotal: 18.3s\tremaining: 38.7s\n",
      "962:\ttotal: 18.3s\tremaining: 38.7s\n",
      "963:\ttotal: 18.3s\tremaining: 38.7s\n",
      "964:\ttotal: 18.3s\tremaining: 38.6s\n"
     ]
    },
    {
     "name": "stdout",
     "output_type": "stream",
     "text": [
      "965:\ttotal: 18.3s\tremaining: 38.6s\n",
      "966:\ttotal: 18.4s\tremaining: 38.6s\n",
      "967:\ttotal: 18.4s\tremaining: 38.6s\n",
      "968:\ttotal: 18.4s\tremaining: 38.5s\n",
      "969:\ttotal: 18.4s\tremaining: 38.5s\n",
      "970:\ttotal: 18.4s\tremaining: 38.5s\n",
      "971:\ttotal: 18.4s\tremaining: 38.5s\n",
      "972:\ttotal: 18.5s\tremaining: 38.5s\n",
      "973:\ttotal: 18.5s\tremaining: 38.5s\n",
      "974:\ttotal: 18.5s\tremaining: 38.4s\n",
      "975:\ttotal: 18.5s\tremaining: 38.4s\n",
      "976:\ttotal: 18.6s\tremaining: 38.4s\n",
      "977:\ttotal: 18.6s\tremaining: 38.4s\n",
      "978:\ttotal: 18.6s\tremaining: 38.4s\n",
      "979:\ttotal: 18.6s\tremaining: 38.4s\n",
      "980:\ttotal: 18.7s\tremaining: 38.4s\n",
      "981:\ttotal: 18.7s\tremaining: 38.4s\n",
      "982:\ttotal: 18.7s\tremaining: 38.4s\n",
      "983:\ttotal: 18.7s\tremaining: 38.4s\n",
      "984:\ttotal: 18.7s\tremaining: 38.3s\n",
      "985:\ttotal: 18.8s\tremaining: 38.3s\n",
      "986:\ttotal: 18.8s\tremaining: 38.3s\n",
      "987:\ttotal: 18.8s\tremaining: 38.3s\n",
      "988:\ttotal: 18.8s\tremaining: 38.3s\n",
      "989:\ttotal: 18.8s\tremaining: 38.2s\n",
      "990:\ttotal: 18.9s\tremaining: 38.2s\n",
      "991:\ttotal: 18.9s\tremaining: 38.2s\n",
      "992:\ttotal: 18.9s\tremaining: 38.2s\n",
      "993:\ttotal: 18.9s\tremaining: 38.2s\n",
      "994:\ttotal: 18.9s\tremaining: 38.2s\n",
      "995:\ttotal: 19s\tremaining: 38.1s\n",
      "996:\ttotal: 19s\tremaining: 38.1s\n",
      "997:\ttotal: 19s\tremaining: 38.1s\n",
      "998:\ttotal: 19s\tremaining: 38.1s\n",
      "999:\ttotal: 19.1s\tremaining: 38.1s\n",
      "1000:\ttotal: 19.1s\tremaining: 38.1s\n",
      "1001:\ttotal: 19.1s\tremaining: 38.1s\n",
      "1002:\ttotal: 19.1s\tremaining: 38.1s\n",
      "1003:\ttotal: 19.1s\tremaining: 38s\n",
      "1004:\ttotal: 19.2s\tremaining: 38s\n",
      "1005:\ttotal: 19.2s\tremaining: 38s\n",
      "1006:\ttotal: 19.2s\tremaining: 38s\n",
      "1007:\ttotal: 19.2s\tremaining: 38s\n",
      "1008:\ttotal: 19.2s\tremaining: 38s\n",
      "1009:\ttotal: 19.3s\tremaining: 38s\n",
      "1010:\ttotal: 19.3s\tremaining: 38s\n",
      "1011:\ttotal: 19.3s\tremaining: 38s\n",
      "1012:\ttotal: 19.3s\tremaining: 37.9s\n",
      "1013:\ttotal: 19.4s\tremaining: 37.9s\n",
      "1014:\ttotal: 19.4s\tremaining: 37.9s\n",
      "1015:\ttotal: 19.4s\tremaining: 37.9s\n",
      "1016:\ttotal: 19.4s\tremaining: 37.9s\n",
      "1017:\ttotal: 19.4s\tremaining: 37.9s\n",
      "1018:\ttotal: 19.5s\tremaining: 37.8s\n",
      "1019:\ttotal: 19.5s\tremaining: 37.8s\n",
      "1020:\ttotal: 19.5s\tremaining: 37.8s\n",
      "1021:\ttotal: 19.5s\tremaining: 37.8s\n",
      "1022:\ttotal: 19.5s\tremaining: 37.8s\n",
      "1023:\ttotal: 19.6s\tremaining: 37.8s\n",
      "1024:\ttotal: 19.6s\tremaining: 37.7s\n",
      "1025:\ttotal: 19.6s\tremaining: 37.7s\n",
      "1026:\ttotal: 19.6s\tremaining: 37.7s\n",
      "1027:\ttotal: 19.6s\tremaining: 37.7s\n",
      "1028:\ttotal: 19.6s\tremaining: 37.6s\n",
      "1029:\ttotal: 19.7s\tremaining: 37.6s\n",
      "1030:\ttotal: 19.7s\tremaining: 37.6s\n",
      "1031:\ttotal: 19.7s\tremaining: 37.6s\n",
      "1032:\ttotal: 19.7s\tremaining: 37.5s\n",
      "1033:\ttotal: 19.7s\tremaining: 37.5s\n",
      "1034:\ttotal: 19.8s\tremaining: 37.5s\n",
      "1035:\ttotal: 19.8s\tremaining: 37.5s\n",
      "1036:\ttotal: 19.8s\tremaining: 37.5s\n",
      "1037:\ttotal: 19.8s\tremaining: 37.4s\n",
      "1038:\ttotal: 19.8s\tremaining: 37.4s\n",
      "1039:\ttotal: 19.8s\tremaining: 37.4s\n",
      "1040:\ttotal: 19.8s\tremaining: 37.3s\n",
      "1041:\ttotal: 19.9s\tremaining: 37.3s\n",
      "1042:\ttotal: 19.9s\tremaining: 37.3s\n",
      "1043:\ttotal: 19.9s\tremaining: 37.3s\n",
      "1044:\ttotal: 19.9s\tremaining: 37.3s\n",
      "1045:\ttotal: 19.9s\tremaining: 37.2s\n",
      "1046:\ttotal: 19.9s\tremaining: 37.2s\n",
      "1047:\ttotal: 20s\tremaining: 37.2s\n",
      "1048:\ttotal: 20s\tremaining: 37.2s\n",
      "1049:\ttotal: 20s\tremaining: 37.1s\n",
      "1050:\ttotal: 20s\tremaining: 37.1s\n",
      "1051:\ttotal: 20s\tremaining: 37.1s\n",
      "1052:\ttotal: 20.1s\tremaining: 37.1s\n",
      "1053:\ttotal: 20.1s\tremaining: 37.1s\n",
      "1054:\ttotal: 20.1s\tremaining: 37s\n",
      "1055:\ttotal: 20.1s\tremaining: 37s\n",
      "1056:\ttotal: 20.1s\tremaining: 37s\n",
      "1057:\ttotal: 20.1s\tremaining: 37s\n",
      "1058:\ttotal: 20.2s\tremaining: 36.9s\n",
      "1059:\ttotal: 20.2s\tremaining: 36.9s\n",
      "1060:\ttotal: 20.2s\tremaining: 36.9s\n",
      "1061:\ttotal: 20.2s\tremaining: 36.9s\n",
      "1062:\ttotal: 20.2s\tremaining: 36.8s\n",
      "1063:\ttotal: 20.2s\tremaining: 36.8s\n",
      "1064:\ttotal: 20.2s\tremaining: 36.8s\n",
      "1065:\ttotal: 20.3s\tremaining: 36.8s\n",
      "1066:\ttotal: 20.3s\tremaining: 36.7s\n",
      "1067:\ttotal: 20.3s\tremaining: 36.7s\n",
      "1068:\ttotal: 20.3s\tremaining: 36.7s\n",
      "1069:\ttotal: 20.3s\tremaining: 36.7s\n",
      "1070:\ttotal: 20.3s\tremaining: 36.6s\n",
      "1071:\ttotal: 20.4s\tremaining: 36.6s\n",
      "1072:\ttotal: 20.4s\tremaining: 36.6s\n",
      "1073:\ttotal: 20.4s\tremaining: 36.6s\n",
      "1074:\ttotal: 20.4s\tremaining: 36.5s\n",
      "1075:\ttotal: 20.4s\tremaining: 36.5s\n",
      "1076:\ttotal: 20.4s\tremaining: 36.5s\n",
      "1077:\ttotal: 20.5s\tremaining: 36.5s\n",
      "1078:\ttotal: 20.5s\tremaining: 36.4s\n",
      "1079:\ttotal: 20.5s\tremaining: 36.4s\n",
      "1080:\ttotal: 20.5s\tremaining: 36.4s\n",
      "1081:\ttotal: 20.5s\tremaining: 36.4s\n",
      "1082:\ttotal: 20.5s\tremaining: 36.4s\n",
      "1083:\ttotal: 20.6s\tremaining: 36.3s\n",
      "1084:\ttotal: 20.6s\tremaining: 36.3s\n",
      "1085:\ttotal: 20.6s\tremaining: 36.3s\n",
      "1086:\ttotal: 20.6s\tremaining: 36.3s\n",
      "1087:\ttotal: 20.6s\tremaining: 36.2s\n",
      "1088:\ttotal: 20.6s\tremaining: 36.2s\n",
      "1089:\ttotal: 20.7s\tremaining: 36.2s\n",
      "1090:\ttotal: 20.7s\tremaining: 36.2s\n",
      "1091:\ttotal: 20.7s\tremaining: 36.1s\n",
      "1092:\ttotal: 20.7s\tremaining: 36.1s\n",
      "1093:\ttotal: 20.7s\tremaining: 36.1s\n",
      "1094:\ttotal: 20.7s\tremaining: 36.1s\n",
      "1095:\ttotal: 20.7s\tremaining: 36s\n",
      "1096:\ttotal: 20.8s\tremaining: 36s\n",
      "1097:\ttotal: 20.8s\tremaining: 36s\n",
      "1098:\ttotal: 20.8s\tremaining: 36s\n",
      "1099:\ttotal: 20.8s\tremaining: 35.9s\n",
      "1100:\ttotal: 20.8s\tremaining: 35.9s\n",
      "1101:\ttotal: 20.8s\tremaining: 35.9s\n",
      "1102:\ttotal: 20.9s\tremaining: 35.9s\n",
      "1103:\ttotal: 20.9s\tremaining: 35.8s\n",
      "1104:\ttotal: 20.9s\tremaining: 35.8s\n",
      "1105:\ttotal: 20.9s\tremaining: 35.8s\n",
      "1106:\ttotal: 20.9s\tremaining: 35.8s\n",
      "1107:\ttotal: 20.9s\tremaining: 35.8s\n",
      "1108:\ttotal: 21s\tremaining: 35.7s\n",
      "1109:\ttotal: 21s\tremaining: 35.7s\n",
      "1110:\ttotal: 21s\tremaining: 35.7s\n",
      "1111:\ttotal: 21s\tremaining: 35.7s\n",
      "1112:\ttotal: 21s\tremaining: 35.7s\n",
      "1113:\ttotal: 21s\tremaining: 35.6s\n",
      "1114:\ttotal: 21.1s\tremaining: 35.6s\n",
      "1115:\ttotal: 21.1s\tremaining: 35.6s\n",
      "1116:\ttotal: 21.1s\tremaining: 35.6s\n",
      "1117:\ttotal: 21.1s\tremaining: 35.5s\n",
      "1118:\ttotal: 21.1s\tremaining: 35.5s\n",
      "1119:\ttotal: 21.1s\tremaining: 35.5s\n",
      "1120:\ttotal: 21.2s\tremaining: 35.5s\n",
      "1121:\ttotal: 21.2s\tremaining: 35.4s\n",
      "1122:\ttotal: 21.2s\tremaining: 35.4s\n",
      "1123:\ttotal: 21.2s\tremaining: 35.4s\n",
      "1124:\ttotal: 21.2s\tremaining: 35.4s\n",
      "1125:\ttotal: 21.2s\tremaining: 35.4s\n",
      "1126:\ttotal: 21.3s\tremaining: 35.3s\n",
      "1127:\ttotal: 21.3s\tremaining: 35.3s\n",
      "1128:\ttotal: 21.3s\tremaining: 35.3s\n",
      "1129:\ttotal: 21.3s\tremaining: 35.3s\n",
      "1130:\ttotal: 21.3s\tremaining: 35.2s\n",
      "1131:\ttotal: 21.3s\tremaining: 35.2s\n",
      "1132:\ttotal: 21.4s\tremaining: 35.2s\n",
      "1133:\ttotal: 21.4s\tremaining: 35.2s\n",
      "1134:\ttotal: 21.4s\tremaining: 35.2s\n",
      "1135:\ttotal: 21.4s\tremaining: 35.1s\n",
      "1136:\ttotal: 21.4s\tremaining: 35.1s\n",
      "1137:\ttotal: 21.4s\tremaining: 35.1s\n",
      "1138:\ttotal: 21.5s\tremaining: 35.1s\n",
      "1139:\ttotal: 21.5s\tremaining: 35s\n",
      "1140:\ttotal: 21.5s\tremaining: 35s\n",
      "1141:\ttotal: 21.5s\tremaining: 35s\n",
      "1142:\ttotal: 21.5s\tremaining: 35s\n",
      "1143:\ttotal: 21.5s\tremaining: 35s\n",
      "1144:\ttotal: 21.6s\tremaining: 34.9s\n",
      "1145:\ttotal: 21.6s\tremaining: 34.9s\n",
      "1146:\ttotal: 21.6s\tremaining: 34.9s\n",
      "1147:\ttotal: 21.6s\tremaining: 34.9s\n",
      "1148:\ttotal: 21.6s\tremaining: 34.8s\n",
      "1149:\ttotal: 21.6s\tremaining: 34.8s\n",
      "1150:\ttotal: 21.7s\tremaining: 34.8s\n",
      "1151:\ttotal: 21.7s\tremaining: 34.8s\n",
      "1152:\ttotal: 21.7s\tremaining: 34.8s\n",
      "1153:\ttotal: 21.7s\tremaining: 34.7s\n",
      "1154:\ttotal: 21.7s\tremaining: 34.7s\n",
      "1155:\ttotal: 21.8s\tremaining: 34.7s\n",
      "1156:\ttotal: 21.8s\tremaining: 34.7s\n",
      "1157:\ttotal: 21.8s\tremaining: 34.7s\n",
      "1158:\ttotal: 21.8s\tremaining: 34.6s\n",
      "1159:\ttotal: 21.8s\tremaining: 34.6s\n",
      "1160:\ttotal: 21.8s\tremaining: 34.6s\n",
      "1161:\ttotal: 21.8s\tremaining: 34.6s\n",
      "1162:\ttotal: 21.9s\tremaining: 34.5s\n",
      "1163:\ttotal: 21.9s\tremaining: 34.5s\n",
      "1164:\ttotal: 21.9s\tremaining: 34.5s\n",
      "1165:\ttotal: 21.9s\tremaining: 34.5s\n",
      "1166:\ttotal: 21.9s\tremaining: 34.5s\n",
      "1167:\ttotal: 21.9s\tremaining: 34.4s\n",
      "1168:\ttotal: 22s\tremaining: 34.4s\n",
      "1169:\ttotal: 22s\tremaining: 34.4s\n",
      "1170:\ttotal: 22s\tremaining: 34.4s\n",
      "1171:\ttotal: 22s\tremaining: 34.3s\n",
      "1172:\ttotal: 22s\tremaining: 34.3s\n",
      "1173:\ttotal: 22s\tremaining: 34.3s\n",
      "1174:\ttotal: 22.1s\tremaining: 34.3s\n",
      "1175:\ttotal: 22.1s\tremaining: 34.2s\n",
      "1176:\ttotal: 22.1s\tremaining: 34.2s\n",
      "1177:\ttotal: 22.1s\tremaining: 34.2s\n",
      "1178:\ttotal: 22.1s\tremaining: 34.2s\n",
      "1179:\ttotal: 22.1s\tremaining: 34.2s\n",
      "1180:\ttotal: 22.2s\tremaining: 34.1s\n",
      "1181:\ttotal: 22.2s\tremaining: 34.1s\n",
      "1182:\ttotal: 22.2s\tremaining: 34.1s\n",
      "1183:\ttotal: 22.2s\tremaining: 34.1s\n",
      "1184:\ttotal: 22.2s\tremaining: 34s\n",
      "1185:\ttotal: 22.2s\tremaining: 34s\n",
      "1186:\ttotal: 22.3s\tremaining: 34s\n",
      "1187:\ttotal: 22.3s\tremaining: 34s\n",
      "1188:\ttotal: 22.3s\tremaining: 34s\n",
      "1189:\ttotal: 22.3s\tremaining: 33.9s\n",
      "1190:\ttotal: 22.3s\tremaining: 33.9s\n",
      "1191:\ttotal: 22.3s\tremaining: 33.9s\n",
      "1192:\ttotal: 22.4s\tremaining: 33.9s\n",
      "1193:\ttotal: 22.4s\tremaining: 33.9s\n",
      "1194:\ttotal: 22.4s\tremaining: 33.8s\n",
      "1195:\ttotal: 22.4s\tremaining: 33.8s\n",
      "1196:\ttotal: 22.5s\tremaining: 33.8s\n",
      "1197:\ttotal: 22.5s\tremaining: 33.8s\n",
      "1198:\ttotal: 22.5s\tremaining: 33.8s\n",
      "1199:\ttotal: 22.5s\tremaining: 33.8s\n",
      "1200:\ttotal: 22.5s\tremaining: 33.7s\n",
      "1201:\ttotal: 22.5s\tremaining: 33.7s\n",
      "1202:\ttotal: 22.6s\tremaining: 33.7s\n"
     ]
    },
    {
     "name": "stdout",
     "output_type": "stream",
     "text": [
      "1203:\ttotal: 22.6s\tremaining: 33.7s\n",
      "1204:\ttotal: 22.6s\tremaining: 33.7s\n",
      "1205:\ttotal: 22.6s\tremaining: 33.6s\n",
      "1206:\ttotal: 22.6s\tremaining: 33.6s\n",
      "1207:\ttotal: 22.6s\tremaining: 33.6s\n",
      "1208:\ttotal: 22.7s\tremaining: 33.6s\n",
      "1209:\ttotal: 22.7s\tremaining: 33.6s\n",
      "1210:\ttotal: 22.7s\tremaining: 33.5s\n",
      "1211:\ttotal: 22.7s\tremaining: 33.5s\n",
      "1212:\ttotal: 22.7s\tremaining: 33.5s\n",
      "1213:\ttotal: 22.7s\tremaining: 33.5s\n",
      "1214:\ttotal: 22.8s\tremaining: 33.4s\n",
      "1215:\ttotal: 22.8s\tremaining: 33.4s\n",
      "1216:\ttotal: 22.8s\tremaining: 33.4s\n",
      "1217:\ttotal: 22.8s\tremaining: 33.4s\n",
      "1218:\ttotal: 22.8s\tremaining: 33.4s\n",
      "1219:\ttotal: 22.8s\tremaining: 33.3s\n",
      "1220:\ttotal: 22.9s\tremaining: 33.3s\n",
      "1221:\ttotal: 22.9s\tremaining: 33.3s\n",
      "1222:\ttotal: 22.9s\tremaining: 33.3s\n",
      "1223:\ttotal: 22.9s\tremaining: 33.2s\n",
      "1224:\ttotal: 22.9s\tremaining: 33.2s\n",
      "1225:\ttotal: 22.9s\tremaining: 33.2s\n",
      "1226:\ttotal: 23s\tremaining: 33.2s\n",
      "1227:\ttotal: 23s\tremaining: 33.1s\n",
      "1228:\ttotal: 23s\tremaining: 33.1s\n",
      "1229:\ttotal: 23s\tremaining: 33.1s\n",
      "1230:\ttotal: 23s\tremaining: 33.1s\n",
      "1231:\ttotal: 23s\tremaining: 33.1s\n",
      "1232:\ttotal: 23.1s\tremaining: 33s\n",
      "1233:\ttotal: 23.1s\tremaining: 33s\n",
      "1234:\ttotal: 23.1s\tremaining: 33s\n",
      "1235:\ttotal: 23.1s\tremaining: 33s\n",
      "1236:\ttotal: 23.1s\tremaining: 32.9s\n",
      "1237:\ttotal: 23.1s\tremaining: 32.9s\n",
      "1238:\ttotal: 23.1s\tremaining: 32.9s\n",
      "1239:\ttotal: 23.2s\tremaining: 32.9s\n",
      "1240:\ttotal: 23.2s\tremaining: 32.8s\n",
      "1241:\ttotal: 23.2s\tremaining: 32.8s\n",
      "1242:\ttotal: 23.2s\tremaining: 32.8s\n",
      "1243:\ttotal: 23.2s\tremaining: 32.8s\n",
      "1244:\ttotal: 23.2s\tremaining: 32.8s\n",
      "1245:\ttotal: 23.3s\tremaining: 32.7s\n",
      "1246:\ttotal: 23.3s\tremaining: 32.7s\n",
      "1247:\ttotal: 23.3s\tremaining: 32.7s\n",
      "1248:\ttotal: 23.3s\tremaining: 32.7s\n",
      "1249:\ttotal: 23.3s\tremaining: 32.6s\n",
      "1250:\ttotal: 23.3s\tremaining: 32.6s\n",
      "1251:\ttotal: 23.3s\tremaining: 32.6s\n",
      "1252:\ttotal: 23.4s\tremaining: 32.6s\n",
      "1253:\ttotal: 23.4s\tremaining: 32.6s\n",
      "1254:\ttotal: 23.4s\tremaining: 32.5s\n",
      "1255:\ttotal: 23.4s\tremaining: 32.5s\n",
      "1256:\ttotal: 23.4s\tremaining: 32.5s\n",
      "1257:\ttotal: 23.4s\tremaining: 32.5s\n",
      "1258:\ttotal: 23.5s\tremaining: 32.4s\n",
      "1259:\ttotal: 23.5s\tremaining: 32.4s\n",
      "1260:\ttotal: 23.5s\tremaining: 32.4s\n",
      "1261:\ttotal: 23.5s\tremaining: 32.4s\n",
      "1262:\ttotal: 23.5s\tremaining: 32.4s\n",
      "1263:\ttotal: 23.5s\tremaining: 32.3s\n",
      "1264:\ttotal: 23.6s\tremaining: 32.3s\n",
      "1265:\ttotal: 23.6s\tremaining: 32.3s\n",
      "1266:\ttotal: 23.6s\tremaining: 32.3s\n",
      "1267:\ttotal: 23.6s\tremaining: 32.3s\n",
      "1268:\ttotal: 23.6s\tremaining: 32.2s\n",
      "1269:\ttotal: 23.6s\tremaining: 32.2s\n",
      "1270:\ttotal: 23.7s\tremaining: 32.2s\n",
      "1271:\ttotal: 23.7s\tremaining: 32.2s\n",
      "1272:\ttotal: 23.7s\tremaining: 32.1s\n",
      "1273:\ttotal: 23.7s\tremaining: 32.1s\n",
      "1274:\ttotal: 23.7s\tremaining: 32.1s\n",
      "1275:\ttotal: 23.7s\tremaining: 32.1s\n",
      "1276:\ttotal: 23.8s\tremaining: 32.1s\n",
      "1277:\ttotal: 23.8s\tremaining: 32s\n",
      "1278:\ttotal: 23.8s\tremaining: 32s\n",
      "1279:\ttotal: 23.8s\tremaining: 32s\n",
      "1280:\ttotal: 23.8s\tremaining: 32s\n",
      "1281:\ttotal: 23.8s\tremaining: 32s\n",
      "1282:\ttotal: 23.9s\tremaining: 31.9s\n",
      "1283:\ttotal: 23.9s\tremaining: 31.9s\n",
      "1284:\ttotal: 23.9s\tremaining: 31.9s\n",
      "1285:\ttotal: 23.9s\tremaining: 31.9s\n",
      "1286:\ttotal: 23.9s\tremaining: 31.8s\n",
      "1287:\ttotal: 23.9s\tremaining: 31.8s\n",
      "1288:\ttotal: 24s\tremaining: 31.8s\n",
      "1289:\ttotal: 24s\tremaining: 31.8s\n",
      "1290:\ttotal: 24s\tremaining: 31.8s\n",
      "1291:\ttotal: 24s\tremaining: 31.7s\n",
      "1292:\ttotal: 24s\tremaining: 31.7s\n",
      "1293:\ttotal: 24s\tremaining: 31.7s\n",
      "1294:\ttotal: 24.1s\tremaining: 31.7s\n",
      "1295:\ttotal: 24.1s\tremaining: 31.6s\n",
      "1296:\ttotal: 24.1s\tremaining: 31.6s\n",
      "1297:\ttotal: 24.1s\tremaining: 31.6s\n",
      "1298:\ttotal: 24.1s\tremaining: 31.6s\n",
      "1299:\ttotal: 24.1s\tremaining: 31.6s\n",
      "1300:\ttotal: 24.1s\tremaining: 31.5s\n",
      "1301:\ttotal: 24.2s\tremaining: 31.5s\n",
      "1302:\ttotal: 24.2s\tremaining: 31.5s\n",
      "1303:\ttotal: 24.2s\tremaining: 31.5s\n",
      "1304:\ttotal: 24.2s\tremaining: 31.4s\n",
      "1305:\ttotal: 24.2s\tremaining: 31.4s\n",
      "1306:\ttotal: 24.2s\tremaining: 31.4s\n",
      "1307:\ttotal: 24.3s\tremaining: 31.4s\n",
      "1308:\ttotal: 24.3s\tremaining: 31.4s\n",
      "1309:\ttotal: 24.3s\tremaining: 31.3s\n",
      "1310:\ttotal: 24.3s\tremaining: 31.3s\n",
      "1311:\ttotal: 24.3s\tremaining: 31.3s\n",
      "1312:\ttotal: 24.3s\tremaining: 31.3s\n",
      "1313:\ttotal: 24.4s\tremaining: 31.3s\n",
      "1314:\ttotal: 24.4s\tremaining: 31.2s\n",
      "1315:\ttotal: 24.4s\tremaining: 31.2s\n",
      "1316:\ttotal: 24.4s\tremaining: 31.2s\n",
      "1317:\ttotal: 24.4s\tremaining: 31.2s\n",
      "1318:\ttotal: 24.4s\tremaining: 31.1s\n",
      "1319:\ttotal: 24.5s\tremaining: 31.1s\n",
      "1320:\ttotal: 24.5s\tremaining: 31.1s\n",
      "1321:\ttotal: 24.5s\tremaining: 31.1s\n",
      "1322:\ttotal: 24.5s\tremaining: 31.1s\n",
      "1323:\ttotal: 24.5s\tremaining: 31s\n",
      "1324:\ttotal: 24.5s\tremaining: 31s\n",
      "1325:\ttotal: 24.5s\tremaining: 31s\n",
      "1326:\ttotal: 24.6s\tremaining: 31s\n",
      "1327:\ttotal: 24.6s\tremaining: 30.9s\n",
      "1328:\ttotal: 24.6s\tremaining: 30.9s\n",
      "1329:\ttotal: 24.6s\tremaining: 30.9s\n",
      "1330:\ttotal: 24.6s\tremaining: 30.9s\n",
      "1331:\ttotal: 24.6s\tremaining: 30.9s\n",
      "1332:\ttotal: 24.7s\tremaining: 30.8s\n",
      "1333:\ttotal: 24.7s\tremaining: 30.8s\n",
      "1334:\ttotal: 24.7s\tremaining: 30.8s\n",
      "1335:\ttotal: 24.7s\tremaining: 30.8s\n",
      "1336:\ttotal: 24.7s\tremaining: 30.7s\n",
      "1337:\ttotal: 24.7s\tremaining: 30.7s\n",
      "1338:\ttotal: 24.7s\tremaining: 30.7s\n",
      "1339:\ttotal: 24.8s\tremaining: 30.7s\n",
      "1340:\ttotal: 24.8s\tremaining: 30.7s\n",
      "1341:\ttotal: 24.8s\tremaining: 30.6s\n",
      "1342:\ttotal: 24.8s\tremaining: 30.6s\n",
      "1343:\ttotal: 24.8s\tremaining: 30.6s\n",
      "1344:\ttotal: 24.9s\tremaining: 30.6s\n",
      "1345:\ttotal: 24.9s\tremaining: 30.6s\n",
      "1346:\ttotal: 24.9s\tremaining: 30.5s\n",
      "1347:\ttotal: 24.9s\tremaining: 30.5s\n",
      "1348:\ttotal: 24.9s\tremaining: 30.5s\n",
      "1349:\ttotal: 24.9s\tremaining: 30.5s\n",
      "1350:\ttotal: 25s\tremaining: 30.5s\n",
      "1351:\ttotal: 25s\tremaining: 30.4s\n",
      "1352:\ttotal: 25s\tremaining: 30.4s\n",
      "1353:\ttotal: 25s\tremaining: 30.4s\n",
      "1354:\ttotal: 25s\tremaining: 30.4s\n",
      "1355:\ttotal: 25s\tremaining: 30.4s\n",
      "1356:\ttotal: 25.1s\tremaining: 30.3s\n",
      "1357:\ttotal: 25.1s\tremaining: 30.3s\n",
      "1358:\ttotal: 25.1s\tremaining: 30.3s\n",
      "1359:\ttotal: 25.1s\tremaining: 30.3s\n",
      "1360:\ttotal: 25.1s\tremaining: 30.2s\n",
      "1361:\ttotal: 25.1s\tremaining: 30.2s\n",
      "1362:\ttotal: 25.1s\tremaining: 30.2s\n",
      "1363:\ttotal: 25.2s\tremaining: 30.2s\n",
      "1364:\ttotal: 25.2s\tremaining: 30.2s\n",
      "1365:\ttotal: 25.2s\tremaining: 30.1s\n",
      "1366:\ttotal: 25.2s\tremaining: 30.1s\n",
      "1367:\ttotal: 25.2s\tremaining: 30.1s\n",
      "1368:\ttotal: 25.2s\tremaining: 30.1s\n",
      "1369:\ttotal: 25.3s\tremaining: 30.1s\n",
      "1370:\ttotal: 25.3s\tremaining: 30s\n",
      "1371:\ttotal: 25.3s\tremaining: 30s\n",
      "1372:\ttotal: 25.3s\tremaining: 30s\n",
      "1373:\ttotal: 25.3s\tremaining: 30s\n",
      "1374:\ttotal: 25.3s\tremaining: 30s\n",
      "1375:\ttotal: 25.4s\tremaining: 29.9s\n",
      "1376:\ttotal: 25.4s\tremaining: 29.9s\n",
      "1377:\ttotal: 25.4s\tremaining: 29.9s\n",
      "1378:\ttotal: 25.4s\tremaining: 29.9s\n",
      "1379:\ttotal: 25.4s\tremaining: 29.9s\n",
      "1380:\ttotal: 25.4s\tremaining: 29.8s\n",
      "1381:\ttotal: 25.5s\tremaining: 29.8s\n",
      "1382:\ttotal: 25.5s\tremaining: 29.8s\n",
      "1383:\ttotal: 25.5s\tremaining: 29.8s\n",
      "1384:\ttotal: 25.5s\tremaining: 29.8s\n",
      "1385:\ttotal: 25.5s\tremaining: 29.7s\n",
      "1386:\ttotal: 25.5s\tremaining: 29.7s\n",
      "1387:\ttotal: 25.6s\tremaining: 29.7s\n",
      "1388:\ttotal: 25.6s\tremaining: 29.7s\n",
      "1389:\ttotal: 25.6s\tremaining: 29.6s\n",
      "1390:\ttotal: 25.6s\tremaining: 29.6s\n",
      "1391:\ttotal: 25.6s\tremaining: 29.6s\n",
      "1392:\ttotal: 25.6s\tremaining: 29.6s\n",
      "1393:\ttotal: 25.7s\tremaining: 29.6s\n",
      "1394:\ttotal: 25.7s\tremaining: 29.5s\n",
      "1395:\ttotal: 25.7s\tremaining: 29.5s\n",
      "1396:\ttotal: 25.7s\tremaining: 29.5s\n",
      "1397:\ttotal: 25.7s\tremaining: 29.5s\n",
      "1398:\ttotal: 25.7s\tremaining: 29.5s\n",
      "1399:\ttotal: 25.8s\tremaining: 29.4s\n",
      "1400:\ttotal: 25.8s\tremaining: 29.4s\n",
      "1401:\ttotal: 25.8s\tremaining: 29.4s\n",
      "1402:\ttotal: 25.8s\tremaining: 29.4s\n",
      "1403:\ttotal: 25.8s\tremaining: 29.4s\n",
      "1404:\ttotal: 25.8s\tremaining: 29.3s\n",
      "1405:\ttotal: 25.9s\tremaining: 29.3s\n",
      "1406:\ttotal: 25.9s\tremaining: 29.3s\n",
      "1407:\ttotal: 25.9s\tremaining: 29.3s\n",
      "1408:\ttotal: 25.9s\tremaining: 29.2s\n",
      "1409:\ttotal: 25.9s\tremaining: 29.2s\n",
      "1410:\ttotal: 25.9s\tremaining: 29.2s\n",
      "1411:\ttotal: 26s\tremaining: 29.2s\n",
      "1412:\ttotal: 26s\tremaining: 29.2s\n",
      "1413:\ttotal: 26s\tremaining: 29.1s\n",
      "1414:\ttotal: 26s\tremaining: 29.1s\n",
      "1415:\ttotal: 26s\tremaining: 29.1s\n",
      "1416:\ttotal: 26s\tremaining: 29.1s\n",
      "1417:\ttotal: 26s\tremaining: 29.1s\n",
      "1418:\ttotal: 26.1s\tremaining: 29s\n",
      "1419:\ttotal: 26.1s\tremaining: 29s\n",
      "1420:\ttotal: 26.1s\tremaining: 29s\n",
      "1421:\ttotal: 26.1s\tremaining: 29s\n",
      "1422:\ttotal: 26.1s\tremaining: 29s\n",
      "1423:\ttotal: 26.1s\tremaining: 28.9s\n",
      "1424:\ttotal: 26.2s\tremaining: 28.9s\n",
      "1425:\ttotal: 26.2s\tremaining: 28.9s\n",
      "1426:\ttotal: 26.2s\tremaining: 28.9s\n",
      "1427:\ttotal: 26.2s\tremaining: 28.9s\n",
      "1428:\ttotal: 26.2s\tremaining: 28.8s\n",
      "1429:\ttotal: 26.2s\tremaining: 28.8s\n",
      "1430:\ttotal: 26.3s\tremaining: 28.8s\n",
      "1431:\ttotal: 26.3s\tremaining: 28.8s\n",
      "1432:\ttotal: 26.3s\tremaining: 28.8s\n",
      "1433:\ttotal: 26.4s\tremaining: 28.8s\n",
      "1434:\ttotal: 26.4s\tremaining: 28.8s\n",
      "1435:\ttotal: 26.4s\tremaining: 28.8s\n",
      "1436:\ttotal: 26.4s\tremaining: 28.8s\n",
      "1437:\ttotal: 26.5s\tremaining: 28.7s\n",
      "1438:\ttotal: 26.5s\tremaining: 28.7s\n",
      "1439:\ttotal: 26.5s\tremaining: 28.7s\n",
      "1440:\ttotal: 26.5s\tremaining: 28.7s\n",
      "1441:\ttotal: 26.5s\tremaining: 28.7s\n",
      "1442:\ttotal: 26.5s\tremaining: 28.6s\n"
     ]
    },
    {
     "name": "stdout",
     "output_type": "stream",
     "text": [
      "1443:\ttotal: 26.6s\tremaining: 28.6s\n",
      "1444:\ttotal: 26.6s\tremaining: 28.6s\n",
      "1445:\ttotal: 26.6s\tremaining: 28.6s\n",
      "1446:\ttotal: 26.6s\tremaining: 28.6s\n",
      "1447:\ttotal: 26.6s\tremaining: 28.5s\n",
      "1448:\ttotal: 26.7s\tremaining: 28.5s\n",
      "1449:\ttotal: 26.7s\tremaining: 28.5s\n",
      "1450:\ttotal: 26.7s\tremaining: 28.5s\n",
      "1451:\ttotal: 26.7s\tremaining: 28.5s\n",
      "1452:\ttotal: 26.7s\tremaining: 28.5s\n",
      "1453:\ttotal: 26.8s\tremaining: 28.4s\n",
      "1454:\ttotal: 26.8s\tremaining: 28.4s\n",
      "1455:\ttotal: 26.8s\tremaining: 28.4s\n",
      "1456:\ttotal: 26.8s\tremaining: 28.4s\n",
      "1457:\ttotal: 26.8s\tremaining: 28.4s\n",
      "1458:\ttotal: 26.8s\tremaining: 28.3s\n",
      "1459:\ttotal: 26.8s\tremaining: 28.3s\n",
      "1460:\ttotal: 26.9s\tremaining: 28.3s\n",
      "1461:\ttotal: 26.9s\tremaining: 28.3s\n",
      "1462:\ttotal: 26.9s\tremaining: 28.3s\n",
      "1463:\ttotal: 26.9s\tremaining: 28.2s\n",
      "1464:\ttotal: 26.9s\tremaining: 28.2s\n",
      "1465:\ttotal: 27s\tremaining: 28.2s\n",
      "1466:\ttotal: 27s\tremaining: 28.2s\n",
      "1467:\ttotal: 27s\tremaining: 28.2s\n",
      "1468:\ttotal: 27s\tremaining: 28.1s\n",
      "1469:\ttotal: 27s\tremaining: 28.1s\n",
      "1470:\ttotal: 27s\tremaining: 28.1s\n",
      "1471:\ttotal: 27.1s\tremaining: 28.1s\n",
      "1472:\ttotal: 27.1s\tremaining: 28.1s\n",
      "1473:\ttotal: 27.1s\tremaining: 28.1s\n",
      "1474:\ttotal: 27.1s\tremaining: 28s\n",
      "1475:\ttotal: 27.1s\tremaining: 28s\n",
      "1476:\ttotal: 27.2s\tremaining: 28s\n",
      "1477:\ttotal: 27.2s\tremaining: 28s\n",
      "1478:\ttotal: 27.2s\tremaining: 28s\n",
      "1479:\ttotal: 27.2s\tremaining: 27.9s\n",
      "1480:\ttotal: 27.2s\tremaining: 27.9s\n",
      "1481:\ttotal: 27.2s\tremaining: 27.9s\n",
      "1482:\ttotal: 27.3s\tremaining: 27.9s\n",
      "1483:\ttotal: 27.3s\tremaining: 27.9s\n",
      "1484:\ttotal: 27.3s\tremaining: 27.8s\n",
      "1485:\ttotal: 27.3s\tremaining: 27.8s\n",
      "1486:\ttotal: 27.3s\tremaining: 27.8s\n",
      "1487:\ttotal: 27.4s\tremaining: 27.8s\n",
      "1488:\ttotal: 27.4s\tremaining: 27.8s\n",
      "1489:\ttotal: 27.4s\tremaining: 27.8s\n",
      "1490:\ttotal: 27.4s\tremaining: 27.7s\n",
      "1491:\ttotal: 27.4s\tremaining: 27.7s\n",
      "1492:\ttotal: 27.5s\tremaining: 27.7s\n",
      "1493:\ttotal: 27.5s\tremaining: 27.7s\n",
      "1494:\ttotal: 27.5s\tremaining: 27.7s\n",
      "1495:\ttotal: 27.5s\tremaining: 27.7s\n",
      "1496:\ttotal: 27.5s\tremaining: 27.6s\n",
      "1497:\ttotal: 27.5s\tremaining: 27.6s\n",
      "1498:\ttotal: 27.6s\tremaining: 27.6s\n",
      "1499:\ttotal: 27.6s\tremaining: 27.6s\n",
      "1500:\ttotal: 27.6s\tremaining: 27.6s\n",
      "1501:\ttotal: 27.6s\tremaining: 27.5s\n",
      "1502:\ttotal: 27.6s\tremaining: 27.5s\n",
      "1503:\ttotal: 27.6s\tremaining: 27.5s\n",
      "1504:\ttotal: 27.7s\tremaining: 27.5s\n",
      "1505:\ttotal: 27.7s\tremaining: 27.5s\n",
      "1506:\ttotal: 27.7s\tremaining: 27.5s\n",
      "1507:\ttotal: 27.7s\tremaining: 27.4s\n",
      "1508:\ttotal: 27.7s\tremaining: 27.4s\n",
      "1509:\ttotal: 27.8s\tremaining: 27.4s\n",
      "1510:\ttotal: 27.8s\tremaining: 27.4s\n",
      "1511:\ttotal: 27.8s\tremaining: 27.4s\n",
      "1512:\ttotal: 27.8s\tremaining: 27.3s\n",
      "1513:\ttotal: 27.8s\tremaining: 27.3s\n",
      "1514:\ttotal: 27.8s\tremaining: 27.3s\n",
      "1515:\ttotal: 27.9s\tremaining: 27.3s\n",
      "1516:\ttotal: 27.9s\tremaining: 27.3s\n",
      "1517:\ttotal: 27.9s\tremaining: 27.2s\n",
      "1518:\ttotal: 27.9s\tremaining: 27.2s\n",
      "1519:\ttotal: 27.9s\tremaining: 27.2s\n",
      "1520:\ttotal: 27.9s\tremaining: 27.2s\n",
      "1521:\ttotal: 28s\tremaining: 27.2s\n",
      "1522:\ttotal: 28s\tremaining: 27.1s\n",
      "1523:\ttotal: 28s\tremaining: 27.1s\n",
      "1524:\ttotal: 28s\tremaining: 27.1s\n",
      "1525:\ttotal: 28s\tremaining: 27.1s\n",
      "1526:\ttotal: 28.1s\tremaining: 27.1s\n",
      "1527:\ttotal: 28.1s\tremaining: 27.1s\n",
      "1528:\ttotal: 28.1s\tremaining: 27s\n",
      "1529:\ttotal: 28.1s\tremaining: 27s\n",
      "1530:\ttotal: 28.1s\tremaining: 27s\n",
      "1531:\ttotal: 28.2s\tremaining: 27s\n",
      "1532:\ttotal: 28.2s\tremaining: 27s\n",
      "1533:\ttotal: 28.2s\tremaining: 26.9s\n",
      "1534:\ttotal: 28.2s\tremaining: 26.9s\n",
      "1535:\ttotal: 28.2s\tremaining: 26.9s\n",
      "1536:\ttotal: 28.2s\tremaining: 26.9s\n",
      "1537:\ttotal: 28.3s\tremaining: 26.9s\n",
      "1538:\ttotal: 28.3s\tremaining: 26.9s\n",
      "1539:\ttotal: 28.3s\tremaining: 26.8s\n",
      "1540:\ttotal: 28.3s\tremaining: 26.8s\n",
      "1541:\ttotal: 28.3s\tremaining: 26.8s\n",
      "1542:\ttotal: 28.4s\tremaining: 26.8s\n",
      "1543:\ttotal: 28.4s\tremaining: 26.8s\n",
      "1544:\ttotal: 28.4s\tremaining: 26.8s\n",
      "1545:\ttotal: 28.4s\tremaining: 26.7s\n",
      "1546:\ttotal: 28.4s\tremaining: 26.7s\n",
      "1547:\ttotal: 28.5s\tremaining: 26.7s\n",
      "1548:\ttotal: 28.5s\tremaining: 26.7s\n",
      "1549:\ttotal: 28.5s\tremaining: 26.7s\n",
      "1550:\ttotal: 28.5s\tremaining: 26.6s\n",
      "1551:\ttotal: 28.5s\tremaining: 26.6s\n",
      "1552:\ttotal: 28.6s\tremaining: 26.6s\n",
      "1553:\ttotal: 28.6s\tremaining: 26.6s\n",
      "1554:\ttotal: 28.6s\tremaining: 26.6s\n",
      "1555:\ttotal: 28.6s\tremaining: 26.6s\n",
      "1556:\ttotal: 28.7s\tremaining: 26.6s\n",
      "1557:\ttotal: 28.7s\tremaining: 26.5s\n",
      "1558:\ttotal: 28.7s\tremaining: 26.5s\n",
      "1559:\ttotal: 28.7s\tremaining: 26.5s\n",
      "1560:\ttotal: 28.7s\tremaining: 26.5s\n",
      "1561:\ttotal: 28.7s\tremaining: 26.5s\n",
      "1562:\ttotal: 28.8s\tremaining: 26.4s\n",
      "1563:\ttotal: 28.8s\tremaining: 26.4s\n",
      "1564:\ttotal: 28.8s\tremaining: 26.4s\n",
      "1565:\ttotal: 28.8s\tremaining: 26.4s\n",
      "1566:\ttotal: 28.8s\tremaining: 26.4s\n",
      "1567:\ttotal: 28.9s\tremaining: 26.4s\n",
      "1568:\ttotal: 28.9s\tremaining: 26.3s\n",
      "1569:\ttotal: 28.9s\tremaining: 26.3s\n",
      "1570:\ttotal: 28.9s\tremaining: 26.3s\n",
      "1571:\ttotal: 28.9s\tremaining: 26.3s\n",
      "1572:\ttotal: 28.9s\tremaining: 26.3s\n",
      "1573:\ttotal: 29s\tremaining: 26.2s\n",
      "1574:\ttotal: 29s\tremaining: 26.2s\n",
      "1575:\ttotal: 29s\tremaining: 26.2s\n",
      "1576:\ttotal: 29s\tremaining: 26.2s\n",
      "1577:\ttotal: 29s\tremaining: 26.2s\n",
      "1578:\ttotal: 29s\tremaining: 26.1s\n",
      "1579:\ttotal: 29.1s\tremaining: 26.1s\n",
      "1580:\ttotal: 29.1s\tremaining: 26.1s\n",
      "1581:\ttotal: 29.1s\tremaining: 26.1s\n",
      "1582:\ttotal: 29.1s\tremaining: 26.1s\n",
      "1583:\ttotal: 29.1s\tremaining: 26s\n",
      "1584:\ttotal: 29.2s\tremaining: 26s\n",
      "1585:\ttotal: 29.2s\tremaining: 26s\n",
      "1586:\ttotal: 29.2s\tremaining: 26s\n",
      "1587:\ttotal: 29.2s\tremaining: 26s\n",
      "1588:\ttotal: 29.2s\tremaining: 26s\n",
      "1589:\ttotal: 29.3s\tremaining: 25.9s\n",
      "1590:\ttotal: 29.3s\tremaining: 25.9s\n",
      "1591:\ttotal: 29.3s\tremaining: 25.9s\n",
      "1592:\ttotal: 29.3s\tremaining: 25.9s\n",
      "1593:\ttotal: 29.3s\tremaining: 25.9s\n",
      "1594:\ttotal: 29.4s\tremaining: 25.9s\n",
      "1595:\ttotal: 29.4s\tremaining: 25.8s\n",
      "1596:\ttotal: 29.4s\tremaining: 25.8s\n",
      "1597:\ttotal: 29.4s\tremaining: 25.8s\n",
      "1598:\ttotal: 29.4s\tremaining: 25.8s\n",
      "1599:\ttotal: 29.4s\tremaining: 25.8s\n",
      "1600:\ttotal: 29.5s\tremaining: 25.7s\n",
      "1601:\ttotal: 29.5s\tremaining: 25.7s\n",
      "1602:\ttotal: 29.5s\tremaining: 25.7s\n",
      "1603:\ttotal: 29.5s\tremaining: 25.7s\n",
      "1604:\ttotal: 29.5s\tremaining: 25.7s\n",
      "1605:\ttotal: 29.5s\tremaining: 25.6s\n",
      "1606:\ttotal: 29.6s\tremaining: 25.6s\n",
      "1607:\ttotal: 29.6s\tremaining: 25.6s\n",
      "1608:\ttotal: 29.6s\tremaining: 25.6s\n",
      "1609:\ttotal: 29.6s\tremaining: 25.6s\n",
      "1610:\ttotal: 29.6s\tremaining: 25.5s\n",
      "1611:\ttotal: 29.6s\tremaining: 25.5s\n",
      "1612:\ttotal: 29.7s\tremaining: 25.5s\n",
      "1613:\ttotal: 29.7s\tremaining: 25.5s\n",
      "1614:\ttotal: 29.7s\tremaining: 25.5s\n",
      "1615:\ttotal: 29.7s\tremaining: 25.5s\n",
      "1616:\ttotal: 29.7s\tremaining: 25.4s\n",
      "1617:\ttotal: 29.8s\tremaining: 25.4s\n",
      "1618:\ttotal: 29.8s\tremaining: 25.4s\n",
      "1619:\ttotal: 29.8s\tremaining: 25.4s\n",
      "1620:\ttotal: 29.8s\tremaining: 25.4s\n",
      "1621:\ttotal: 29.8s\tremaining: 25.3s\n",
      "1622:\ttotal: 29.8s\tremaining: 25.3s\n",
      "1623:\ttotal: 29.9s\tremaining: 25.3s\n",
      "1624:\ttotal: 29.9s\tremaining: 25.3s\n",
      "1625:\ttotal: 29.9s\tremaining: 25.3s\n",
      "1626:\ttotal: 29.9s\tremaining: 25.2s\n",
      "1627:\ttotal: 29.9s\tremaining: 25.2s\n",
      "1628:\ttotal: 30s\tremaining: 25.2s\n",
      "1629:\ttotal: 30s\tremaining: 25.2s\n",
      "1630:\ttotal: 30s\tremaining: 25.2s\n",
      "1631:\ttotal: 30s\tremaining: 25.2s\n",
      "1632:\ttotal: 30s\tremaining: 25.1s\n",
      "1633:\ttotal: 30.1s\tremaining: 25.1s\n",
      "1634:\ttotal: 30.1s\tremaining: 25.1s\n",
      "1635:\ttotal: 30.1s\tremaining: 25.1s\n",
      "1636:\ttotal: 30.1s\tremaining: 25.1s\n",
      "1637:\ttotal: 30.1s\tremaining: 25s\n",
      "1638:\ttotal: 30.1s\tremaining: 25s\n",
      "1639:\ttotal: 30.1s\tremaining: 25s\n",
      "1640:\ttotal: 30.2s\tremaining: 25s\n",
      "1641:\ttotal: 30.2s\tremaining: 25s\n",
      "1642:\ttotal: 30.2s\tremaining: 24.9s\n",
      "1643:\ttotal: 30.2s\tremaining: 24.9s\n",
      "1644:\ttotal: 30.2s\tremaining: 24.9s\n",
      "1645:\ttotal: 30.3s\tremaining: 24.9s\n",
      "1646:\ttotal: 30.3s\tremaining: 24.9s\n",
      "1647:\ttotal: 30.3s\tremaining: 24.9s\n",
      "1648:\ttotal: 30.3s\tremaining: 24.8s\n",
      "1649:\ttotal: 30.3s\tremaining: 24.8s\n",
      "1650:\ttotal: 30.3s\tremaining: 24.8s\n",
      "1651:\ttotal: 30.4s\tremaining: 24.8s\n",
      "1652:\ttotal: 30.4s\tremaining: 24.8s\n",
      "1653:\ttotal: 30.4s\tremaining: 24.7s\n",
      "1654:\ttotal: 30.4s\tremaining: 24.7s\n",
      "1655:\ttotal: 30.4s\tremaining: 24.7s\n",
      "1656:\ttotal: 30.4s\tremaining: 24.7s\n",
      "1657:\ttotal: 30.5s\tremaining: 24.7s\n",
      "1658:\ttotal: 30.5s\tremaining: 24.6s\n",
      "1659:\ttotal: 30.5s\tremaining: 24.6s\n",
      "1660:\ttotal: 30.5s\tremaining: 24.6s\n",
      "1661:\ttotal: 30.5s\tremaining: 24.6s\n",
      "1662:\ttotal: 30.6s\tremaining: 24.6s\n",
      "1663:\ttotal: 30.6s\tremaining: 24.6s\n",
      "1664:\ttotal: 30.6s\tremaining: 24.5s\n",
      "1665:\ttotal: 30.6s\tremaining: 24.5s\n",
      "1666:\ttotal: 30.6s\tremaining: 24.5s\n",
      "1667:\ttotal: 30.7s\tremaining: 24.5s\n",
      "1668:\ttotal: 30.7s\tremaining: 24.5s\n",
      "1669:\ttotal: 30.7s\tremaining: 24.4s\n",
      "1670:\ttotal: 30.7s\tremaining: 24.4s\n",
      "1671:\ttotal: 30.7s\tremaining: 24.4s\n",
      "1672:\ttotal: 30.8s\tremaining: 24.4s\n",
      "1673:\ttotal: 30.8s\tremaining: 24.4s\n",
      "1674:\ttotal: 30.8s\tremaining: 24.4s\n",
      "1675:\ttotal: 30.8s\tremaining: 24.3s\n",
      "1676:\ttotal: 30.8s\tremaining: 24.3s\n",
      "1677:\ttotal: 30.8s\tremaining: 24.3s\n"
     ]
    },
    {
     "name": "stdout",
     "output_type": "stream",
     "text": [
      "1678:\ttotal: 30.9s\tremaining: 24.3s\n",
      "1679:\ttotal: 30.9s\tremaining: 24.3s\n",
      "1680:\ttotal: 30.9s\tremaining: 24.2s\n",
      "1681:\ttotal: 30.9s\tremaining: 24.2s\n",
      "1682:\ttotal: 30.9s\tremaining: 24.2s\n",
      "1683:\ttotal: 31s\tremaining: 24.2s\n",
      "1684:\ttotal: 31s\tremaining: 24.2s\n",
      "1685:\ttotal: 31s\tremaining: 24.1s\n",
      "1686:\ttotal: 31s\tremaining: 24.1s\n",
      "1687:\ttotal: 31s\tremaining: 24.1s\n",
      "1688:\ttotal: 31s\tremaining: 24.1s\n",
      "1689:\ttotal: 31.1s\tremaining: 24.1s\n",
      "1690:\ttotal: 31.1s\tremaining: 24.1s\n",
      "1691:\ttotal: 31.1s\tremaining: 24s\n",
      "1692:\ttotal: 31.1s\tremaining: 24s\n",
      "1693:\ttotal: 31.1s\tremaining: 24s\n",
      "1694:\ttotal: 31.2s\tremaining: 24s\n",
      "1695:\ttotal: 31.2s\tremaining: 24s\n",
      "1696:\ttotal: 31.2s\tremaining: 24s\n",
      "1697:\ttotal: 31.2s\tremaining: 23.9s\n",
      "1698:\ttotal: 31.2s\tremaining: 23.9s\n",
      "1699:\ttotal: 31.2s\tremaining: 23.9s\n",
      "1700:\ttotal: 31.3s\tremaining: 23.9s\n",
      "1701:\ttotal: 31.3s\tremaining: 23.9s\n",
      "1702:\ttotal: 31.3s\tremaining: 23.8s\n",
      "1703:\ttotal: 31.3s\tremaining: 23.8s\n",
      "1704:\ttotal: 31.3s\tremaining: 23.8s\n",
      "1705:\ttotal: 31.4s\tremaining: 23.8s\n",
      "1706:\ttotal: 31.4s\tremaining: 23.8s\n",
      "1707:\ttotal: 31.4s\tremaining: 23.7s\n",
      "1708:\ttotal: 31.4s\tremaining: 23.7s\n",
      "1709:\ttotal: 31.4s\tremaining: 23.7s\n",
      "1710:\ttotal: 31.4s\tremaining: 23.7s\n",
      "1711:\ttotal: 31.5s\tremaining: 23.7s\n",
      "1712:\ttotal: 31.5s\tremaining: 23.6s\n",
      "1713:\ttotal: 31.5s\tremaining: 23.6s\n",
      "1714:\ttotal: 31.5s\tremaining: 23.6s\n",
      "1715:\ttotal: 31.5s\tremaining: 23.6s\n",
      "1716:\ttotal: 31.5s\tremaining: 23.6s\n",
      "1717:\ttotal: 31.6s\tremaining: 23.6s\n",
      "1718:\ttotal: 31.6s\tremaining: 23.5s\n",
      "1719:\ttotal: 31.6s\tremaining: 23.5s\n",
      "1720:\ttotal: 31.6s\tremaining: 23.5s\n",
      "1721:\ttotal: 31.6s\tremaining: 23.5s\n",
      "1722:\ttotal: 31.6s\tremaining: 23.5s\n",
      "1723:\ttotal: 31.7s\tremaining: 23.4s\n",
      "1724:\ttotal: 31.7s\tremaining: 23.4s\n",
      "1725:\ttotal: 31.7s\tremaining: 23.4s\n",
      "1726:\ttotal: 31.7s\tremaining: 23.4s\n",
      "1727:\ttotal: 31.7s\tremaining: 23.4s\n",
      "1728:\ttotal: 31.8s\tremaining: 23.3s\n",
      "1729:\ttotal: 31.8s\tremaining: 23.3s\n",
      "1730:\ttotal: 31.8s\tremaining: 23.3s\n",
      "1731:\ttotal: 31.8s\tremaining: 23.3s\n",
      "1732:\ttotal: 31.8s\tremaining: 23.3s\n",
      "1733:\ttotal: 31.8s\tremaining: 23.2s\n",
      "1734:\ttotal: 31.9s\tremaining: 23.2s\n",
      "1735:\ttotal: 31.9s\tremaining: 23.2s\n",
      "1736:\ttotal: 31.9s\tremaining: 23.2s\n",
      "1737:\ttotal: 31.9s\tremaining: 23.2s\n",
      "1738:\ttotal: 31.9s\tremaining: 23.2s\n",
      "1739:\ttotal: 32s\tremaining: 23.1s\n",
      "1740:\ttotal: 32s\tremaining: 23.1s\n",
      "1741:\ttotal: 32s\tremaining: 23.1s\n",
      "1742:\ttotal: 32s\tremaining: 23.1s\n",
      "1743:\ttotal: 32s\tremaining: 23.1s\n",
      "1744:\ttotal: 32s\tremaining: 23s\n",
      "1745:\ttotal: 32.1s\tremaining: 23s\n",
      "1746:\ttotal: 32.1s\tremaining: 23s\n",
      "1747:\ttotal: 32.1s\tremaining: 23s\n",
      "1748:\ttotal: 32.1s\tremaining: 23s\n",
      "1749:\ttotal: 32.1s\tremaining: 23s\n",
      "1750:\ttotal: 32.2s\tremaining: 22.9s\n",
      "1751:\ttotal: 32.2s\tremaining: 22.9s\n",
      "1752:\ttotal: 32.2s\tremaining: 22.9s\n",
      "1753:\ttotal: 32.2s\tremaining: 22.9s\n",
      "1754:\ttotal: 32.2s\tremaining: 22.9s\n",
      "1755:\ttotal: 32.2s\tremaining: 22.8s\n",
      "1756:\ttotal: 32.3s\tremaining: 22.8s\n",
      "1757:\ttotal: 32.3s\tremaining: 22.8s\n",
      "1758:\ttotal: 32.3s\tremaining: 22.8s\n",
      "1759:\ttotal: 32.3s\tremaining: 22.8s\n",
      "1760:\ttotal: 32.3s\tremaining: 22.7s\n",
      "1761:\ttotal: 32.3s\tremaining: 22.7s\n",
      "1762:\ttotal: 32.4s\tremaining: 22.7s\n",
      "1763:\ttotal: 32.4s\tremaining: 22.7s\n",
      "1764:\ttotal: 32.4s\tremaining: 22.7s\n",
      "1765:\ttotal: 32.4s\tremaining: 22.6s\n",
      "1766:\ttotal: 32.4s\tremaining: 22.6s\n",
      "1767:\ttotal: 32.4s\tremaining: 22.6s\n",
      "1768:\ttotal: 32.5s\tremaining: 22.6s\n",
      "1769:\ttotal: 32.5s\tremaining: 22.6s\n",
      "1770:\ttotal: 32.5s\tremaining: 22.5s\n",
      "1771:\ttotal: 32.5s\tremaining: 22.5s\n",
      "1772:\ttotal: 32.5s\tremaining: 22.5s\n",
      "1773:\ttotal: 32.6s\tremaining: 22.5s\n",
      "1774:\ttotal: 32.6s\tremaining: 22.5s\n",
      "1775:\ttotal: 32.6s\tremaining: 22.5s\n",
      "1776:\ttotal: 32.6s\tremaining: 22.4s\n",
      "1777:\ttotal: 32.6s\tremaining: 22.4s\n",
      "1778:\ttotal: 32.6s\tremaining: 22.4s\n",
      "1779:\ttotal: 32.6s\tremaining: 22.4s\n",
      "1780:\ttotal: 32.7s\tremaining: 22.4s\n",
      "1781:\ttotal: 32.7s\tremaining: 22.3s\n",
      "1782:\ttotal: 32.7s\tremaining: 22.3s\n",
      "1783:\ttotal: 32.7s\tremaining: 22.3s\n",
      "1784:\ttotal: 32.7s\tremaining: 22.3s\n",
      "1785:\ttotal: 32.8s\tremaining: 22.3s\n",
      "1786:\ttotal: 32.8s\tremaining: 22.2s\n",
      "1787:\ttotal: 32.8s\tremaining: 22.2s\n",
      "1788:\ttotal: 32.8s\tremaining: 22.2s\n",
      "1789:\ttotal: 32.8s\tremaining: 22.2s\n",
      "1790:\ttotal: 32.8s\tremaining: 22.2s\n",
      "1791:\ttotal: 32.8s\tremaining: 22.1s\n",
      "1792:\ttotal: 32.9s\tremaining: 22.1s\n",
      "1793:\ttotal: 32.9s\tremaining: 22.1s\n",
      "1794:\ttotal: 32.9s\tremaining: 22.1s\n",
      "1795:\ttotal: 32.9s\tremaining: 22.1s\n",
      "1796:\ttotal: 32.9s\tremaining: 22.1s\n",
      "1797:\ttotal: 33s\tremaining: 22s\n",
      "1798:\ttotal: 33s\tremaining: 22s\n",
      "1799:\ttotal: 33s\tremaining: 22s\n",
      "1800:\ttotal: 33s\tremaining: 22s\n",
      "1801:\ttotal: 33s\tremaining: 22s\n",
      "1802:\ttotal: 33s\tremaining: 21.9s\n",
      "1803:\ttotal: 33.1s\tremaining: 21.9s\n",
      "1804:\ttotal: 33.1s\tremaining: 21.9s\n",
      "1805:\ttotal: 33.1s\tremaining: 21.9s\n",
      "1806:\ttotal: 33.1s\tremaining: 21.9s\n",
      "1807:\ttotal: 33.1s\tremaining: 21.8s\n",
      "1808:\ttotal: 33.2s\tremaining: 21.8s\n",
      "1809:\ttotal: 33.2s\tremaining: 21.8s\n",
      "1810:\ttotal: 33.2s\tremaining: 21.8s\n",
      "1811:\ttotal: 33.2s\tremaining: 21.8s\n",
      "1812:\ttotal: 33.2s\tremaining: 21.7s\n",
      "1813:\ttotal: 33.2s\tremaining: 21.7s\n",
      "1814:\ttotal: 33.3s\tremaining: 21.7s\n",
      "1815:\ttotal: 33.3s\tremaining: 21.7s\n",
      "1816:\ttotal: 33.3s\tremaining: 21.7s\n",
      "1817:\ttotal: 33.3s\tremaining: 21.7s\n",
      "1818:\ttotal: 33.3s\tremaining: 21.6s\n",
      "1819:\ttotal: 33.3s\tremaining: 21.6s\n",
      "1820:\ttotal: 33.4s\tremaining: 21.6s\n",
      "1821:\ttotal: 33.4s\tremaining: 21.6s\n",
      "1822:\ttotal: 33.4s\tremaining: 21.6s\n",
      "1823:\ttotal: 33.4s\tremaining: 21.5s\n",
      "1824:\ttotal: 33.4s\tremaining: 21.5s\n",
      "1825:\ttotal: 33.4s\tremaining: 21.5s\n",
      "1826:\ttotal: 33.5s\tremaining: 21.5s\n",
      "1827:\ttotal: 33.5s\tremaining: 21.5s\n",
      "1828:\ttotal: 33.5s\tremaining: 21.4s\n",
      "1829:\ttotal: 33.5s\tremaining: 21.4s\n",
      "1830:\ttotal: 33.5s\tremaining: 21.4s\n",
      "1831:\ttotal: 33.5s\tremaining: 21.4s\n",
      "1832:\ttotal: 33.6s\tremaining: 21.4s\n",
      "1833:\ttotal: 33.6s\tremaining: 21.3s\n",
      "1834:\ttotal: 33.6s\tremaining: 21.3s\n",
      "1835:\ttotal: 33.6s\tremaining: 21.3s\n",
      "1836:\ttotal: 33.6s\tremaining: 21.3s\n",
      "1837:\ttotal: 33.6s\tremaining: 21.3s\n",
      "1838:\ttotal: 33.7s\tremaining: 21.3s\n",
      "1839:\ttotal: 33.7s\tremaining: 21.2s\n",
      "1840:\ttotal: 33.7s\tremaining: 21.2s\n",
      "1841:\ttotal: 33.7s\tremaining: 21.2s\n",
      "1842:\ttotal: 33.7s\tremaining: 21.2s\n",
      "1843:\ttotal: 33.7s\tremaining: 21.2s\n",
      "1844:\ttotal: 33.8s\tremaining: 21.1s\n",
      "1845:\ttotal: 33.8s\tremaining: 21.1s\n",
      "1846:\ttotal: 33.8s\tremaining: 21.1s\n",
      "1847:\ttotal: 33.8s\tremaining: 21.1s\n",
      "1848:\ttotal: 33.8s\tremaining: 21.1s\n",
      "1849:\ttotal: 33.8s\tremaining: 21s\n",
      "1850:\ttotal: 33.9s\tremaining: 21s\n",
      "1851:\ttotal: 33.9s\tremaining: 21s\n",
      "1852:\ttotal: 33.9s\tremaining: 21s\n",
      "1853:\ttotal: 33.9s\tremaining: 21s\n",
      "1854:\ttotal: 33.9s\tremaining: 20.9s\n",
      "1855:\ttotal: 33.9s\tremaining: 20.9s\n",
      "1856:\ttotal: 34s\tremaining: 20.9s\n",
      "1857:\ttotal: 34s\tremaining: 20.9s\n",
      "1858:\ttotal: 34s\tremaining: 20.9s\n",
      "1859:\ttotal: 34s\tremaining: 20.9s\n",
      "1860:\ttotal: 34s\tremaining: 20.8s\n",
      "1861:\ttotal: 34.1s\tremaining: 20.8s\n",
      "1862:\ttotal: 34.1s\tremaining: 20.8s\n",
      "1863:\ttotal: 34.1s\tremaining: 20.8s\n",
      "1864:\ttotal: 34.1s\tremaining: 20.8s\n",
      "1865:\ttotal: 34.1s\tremaining: 20.7s\n",
      "1866:\ttotal: 34.1s\tremaining: 20.7s\n",
      "1867:\ttotal: 34.2s\tremaining: 20.7s\n",
      "1868:\ttotal: 34.2s\tremaining: 20.7s\n",
      "1869:\ttotal: 34.2s\tremaining: 20.7s\n",
      "1870:\ttotal: 34.2s\tremaining: 20.6s\n",
      "1871:\ttotal: 34.2s\tremaining: 20.6s\n",
      "1872:\ttotal: 34.3s\tremaining: 20.6s\n",
      "1873:\ttotal: 34.3s\tremaining: 20.6s\n",
      "1874:\ttotal: 34.3s\tremaining: 20.6s\n",
      "1875:\ttotal: 34.3s\tremaining: 20.6s\n",
      "1876:\ttotal: 34.3s\tremaining: 20.5s\n",
      "1877:\ttotal: 34.3s\tremaining: 20.5s\n",
      "1878:\ttotal: 34.4s\tremaining: 20.5s\n",
      "1879:\ttotal: 34.4s\tremaining: 20.5s\n",
      "1880:\ttotal: 34.4s\tremaining: 20.5s\n",
      "1881:\ttotal: 34.4s\tremaining: 20.4s\n",
      "1882:\ttotal: 34.4s\tremaining: 20.4s\n",
      "1883:\ttotal: 34.5s\tremaining: 20.4s\n",
      "1884:\ttotal: 34.5s\tremaining: 20.4s\n",
      "1885:\ttotal: 34.5s\tremaining: 20.4s\n",
      "1886:\ttotal: 34.5s\tremaining: 20.3s\n",
      "1887:\ttotal: 34.5s\tremaining: 20.3s\n",
      "1888:\ttotal: 34.5s\tremaining: 20.3s\n",
      "1889:\ttotal: 34.6s\tremaining: 20.3s\n",
      "1890:\ttotal: 34.6s\tremaining: 20.3s\n",
      "1891:\ttotal: 34.6s\tremaining: 20.3s\n",
      "1892:\ttotal: 34.6s\tremaining: 20.2s\n",
      "1893:\ttotal: 34.6s\tremaining: 20.2s\n",
      "1894:\ttotal: 34.6s\tremaining: 20.2s\n",
      "1895:\ttotal: 34.7s\tremaining: 20.2s\n",
      "1896:\ttotal: 34.7s\tremaining: 20.2s\n",
      "1897:\ttotal: 34.7s\tremaining: 20.1s\n",
      "1898:\ttotal: 34.7s\tremaining: 20.1s\n",
      "1899:\ttotal: 34.7s\tremaining: 20.1s\n",
      "1900:\ttotal: 34.8s\tremaining: 20.1s\n",
      "1901:\ttotal: 34.8s\tremaining: 20.1s\n",
      "1902:\ttotal: 34.8s\tremaining: 20.1s\n",
      "1903:\ttotal: 34.8s\tremaining: 20s\n",
      "1904:\ttotal: 34.8s\tremaining: 20s\n",
      "1905:\ttotal: 34.8s\tremaining: 20s\n",
      "1906:\ttotal: 34.9s\tremaining: 20s\n",
      "1907:\ttotal: 34.9s\tremaining: 20s\n",
      "1908:\ttotal: 34.9s\tremaining: 19.9s\n",
      "1909:\ttotal: 34.9s\tremaining: 19.9s\n",
      "1910:\ttotal: 34.9s\tremaining: 19.9s\n",
      "1911:\ttotal: 34.9s\tremaining: 19.9s\n",
      "1912:\ttotal: 35s\tremaining: 19.9s\n",
      "1913:\ttotal: 35s\tremaining: 19.8s\n",
      "1914:\ttotal: 35s\tremaining: 19.8s\n",
      "1915:\ttotal: 35s\tremaining: 19.8s\n",
      "1916:\ttotal: 35s\tremaining: 19.8s\n",
      "1917:\ttotal: 35s\tremaining: 19.8s\n",
      "1918:\ttotal: 35.1s\tremaining: 19.7s\n"
     ]
    },
    {
     "name": "stdout",
     "output_type": "stream",
     "text": [
      "1919:\ttotal: 35.1s\tremaining: 19.7s\n",
      "1920:\ttotal: 35.1s\tremaining: 19.7s\n",
      "1921:\ttotal: 35.1s\tremaining: 19.7s\n",
      "1922:\ttotal: 35.1s\tremaining: 19.7s\n",
      "1923:\ttotal: 35.1s\tremaining: 19.7s\n",
      "1924:\ttotal: 35.2s\tremaining: 19.6s\n",
      "1925:\ttotal: 35.2s\tremaining: 19.6s\n",
      "1926:\ttotal: 35.2s\tremaining: 19.6s\n",
      "1927:\ttotal: 35.2s\tremaining: 19.6s\n",
      "1928:\ttotal: 35.2s\tremaining: 19.6s\n",
      "1929:\ttotal: 35.2s\tremaining: 19.5s\n",
      "1930:\ttotal: 35.3s\tremaining: 19.5s\n",
      "1931:\ttotal: 35.3s\tremaining: 19.5s\n",
      "1932:\ttotal: 35.3s\tremaining: 19.5s\n",
      "1933:\ttotal: 35.3s\tremaining: 19.5s\n",
      "1934:\ttotal: 35.3s\tremaining: 19.5s\n",
      "1935:\ttotal: 35.4s\tremaining: 19.4s\n",
      "1936:\ttotal: 35.4s\tremaining: 19.4s\n",
      "1937:\ttotal: 35.4s\tremaining: 19.4s\n",
      "1938:\ttotal: 35.4s\tremaining: 19.4s\n",
      "1939:\ttotal: 35.4s\tremaining: 19.4s\n",
      "1940:\ttotal: 35.4s\tremaining: 19.3s\n",
      "1941:\ttotal: 35.5s\tremaining: 19.3s\n",
      "1942:\ttotal: 35.5s\tremaining: 19.3s\n",
      "1943:\ttotal: 35.5s\tremaining: 19.3s\n",
      "1944:\ttotal: 35.5s\tremaining: 19.3s\n",
      "1945:\ttotal: 35.5s\tremaining: 19.2s\n",
      "1946:\ttotal: 35.6s\tremaining: 19.2s\n",
      "1947:\ttotal: 35.6s\tremaining: 19.2s\n",
      "1948:\ttotal: 35.6s\tremaining: 19.2s\n",
      "1949:\ttotal: 35.6s\tremaining: 19.2s\n",
      "1950:\ttotal: 35.6s\tremaining: 19.1s\n",
      "1951:\ttotal: 35.6s\tremaining: 19.1s\n",
      "1952:\ttotal: 35.7s\tremaining: 19.1s\n",
      "1953:\ttotal: 35.7s\tremaining: 19.1s\n",
      "1954:\ttotal: 35.7s\tremaining: 19.1s\n",
      "1955:\ttotal: 35.7s\tremaining: 19.1s\n",
      "1956:\ttotal: 35.7s\tremaining: 19s\n",
      "1957:\ttotal: 35.7s\tremaining: 19s\n",
      "1958:\ttotal: 35.7s\tremaining: 19s\n",
      "1959:\ttotal: 35.8s\tremaining: 19s\n",
      "1960:\ttotal: 35.8s\tremaining: 19s\n",
      "1961:\ttotal: 35.8s\tremaining: 18.9s\n",
      "1962:\ttotal: 35.8s\tremaining: 18.9s\n",
      "1963:\ttotal: 35.8s\tremaining: 18.9s\n",
      "1964:\ttotal: 35.9s\tremaining: 18.9s\n",
      "1965:\ttotal: 35.9s\tremaining: 18.9s\n",
      "1966:\ttotal: 35.9s\tremaining: 18.9s\n",
      "1967:\ttotal: 35.9s\tremaining: 18.8s\n",
      "1968:\ttotal: 35.9s\tremaining: 18.8s\n",
      "1969:\ttotal: 36s\tremaining: 18.8s\n",
      "1970:\ttotal: 36s\tremaining: 18.8s\n",
      "1971:\ttotal: 36s\tremaining: 18.8s\n",
      "1972:\ttotal: 36s\tremaining: 18.7s\n",
      "1973:\ttotal: 36s\tremaining: 18.7s\n",
      "1974:\ttotal: 36s\tremaining: 18.7s\n",
      "1975:\ttotal: 36.1s\tremaining: 18.7s\n",
      "1976:\ttotal: 36.1s\tremaining: 18.7s\n",
      "1977:\ttotal: 36.1s\tremaining: 18.7s\n",
      "1978:\ttotal: 36.1s\tremaining: 18.6s\n",
      "1979:\ttotal: 36.1s\tremaining: 18.6s\n",
      "1980:\ttotal: 36.2s\tremaining: 18.6s\n",
      "1981:\ttotal: 36.2s\tremaining: 18.6s\n",
      "1982:\ttotal: 36.2s\tremaining: 18.6s\n",
      "1983:\ttotal: 36.2s\tremaining: 18.5s\n",
      "1984:\ttotal: 36.2s\tremaining: 18.5s\n",
      "1985:\ttotal: 36.3s\tremaining: 18.5s\n",
      "1986:\ttotal: 36.3s\tremaining: 18.5s\n",
      "1987:\ttotal: 36.3s\tremaining: 18.5s\n",
      "1988:\ttotal: 36.3s\tremaining: 18.5s\n",
      "1989:\ttotal: 36.3s\tremaining: 18.4s\n",
      "1990:\ttotal: 36.3s\tremaining: 18.4s\n",
      "1991:\ttotal: 36.4s\tremaining: 18.4s\n",
      "1992:\ttotal: 36.4s\tremaining: 18.4s\n",
      "1993:\ttotal: 36.4s\tremaining: 18.4s\n",
      "1994:\ttotal: 36.4s\tremaining: 18.4s\n",
      "1995:\ttotal: 36.5s\tremaining: 18.3s\n",
      "1996:\ttotal: 36.5s\tremaining: 18.3s\n",
      "1997:\ttotal: 36.5s\tremaining: 18.3s\n",
      "1998:\ttotal: 36.5s\tremaining: 18.3s\n",
      "1999:\ttotal: 36.5s\tremaining: 18.3s\n",
      "2000:\ttotal: 36.5s\tremaining: 18.2s\n",
      "2001:\ttotal: 36.6s\tremaining: 18.2s\n",
      "2002:\ttotal: 36.6s\tremaining: 18.2s\n",
      "2003:\ttotal: 36.6s\tremaining: 18.2s\n",
      "2004:\ttotal: 36.6s\tremaining: 18.2s\n",
      "2005:\ttotal: 36.6s\tremaining: 18.1s\n",
      "2006:\ttotal: 36.6s\tremaining: 18.1s\n",
      "2007:\ttotal: 36.6s\tremaining: 18.1s\n",
      "2008:\ttotal: 36.7s\tremaining: 18.1s\n",
      "2009:\ttotal: 36.7s\tremaining: 18.1s\n",
      "2010:\ttotal: 36.7s\tremaining: 18s\n",
      "2011:\ttotal: 36.7s\tremaining: 18s\n",
      "2012:\ttotal: 36.7s\tremaining: 18s\n",
      "2013:\ttotal: 36.8s\tremaining: 18s\n",
      "2014:\ttotal: 36.8s\tremaining: 18s\n",
      "2015:\ttotal: 36.8s\tremaining: 18s\n",
      "2016:\ttotal: 36.8s\tremaining: 17.9s\n",
      "2017:\ttotal: 36.8s\tremaining: 17.9s\n",
      "2018:\ttotal: 36.8s\tremaining: 17.9s\n",
      "2019:\ttotal: 36.9s\tremaining: 17.9s\n",
      "2020:\ttotal: 36.9s\tremaining: 17.9s\n",
      "2021:\ttotal: 36.9s\tremaining: 17.8s\n",
      "2022:\ttotal: 36.9s\tremaining: 17.8s\n",
      "2023:\ttotal: 36.9s\tremaining: 17.8s\n",
      "2024:\ttotal: 36.9s\tremaining: 17.8s\n",
      "2025:\ttotal: 37s\tremaining: 17.8s\n",
      "2026:\ttotal: 37s\tremaining: 17.7s\n",
      "2027:\ttotal: 37s\tremaining: 17.7s\n",
      "2028:\ttotal: 37s\tremaining: 17.7s\n",
      "2029:\ttotal: 37s\tremaining: 17.7s\n",
      "2030:\ttotal: 37s\tremaining: 17.7s\n",
      "2031:\ttotal: 37.1s\tremaining: 17.6s\n",
      "2032:\ttotal: 37.1s\tremaining: 17.6s\n",
      "2033:\ttotal: 37.1s\tremaining: 17.6s\n",
      "2034:\ttotal: 37.1s\tremaining: 17.6s\n",
      "2035:\ttotal: 37.1s\tremaining: 17.6s\n",
      "2036:\ttotal: 37.1s\tremaining: 17.6s\n",
      "2037:\ttotal: 37.2s\tremaining: 17.5s\n",
      "2038:\ttotal: 37.2s\tremaining: 17.5s\n",
      "2039:\ttotal: 37.2s\tremaining: 17.5s\n",
      "2040:\ttotal: 37.2s\tremaining: 17.5s\n",
      "2041:\ttotal: 37.2s\tremaining: 17.5s\n",
      "2042:\ttotal: 37.2s\tremaining: 17.4s\n",
      "2043:\ttotal: 37.3s\tremaining: 17.4s\n",
      "2044:\ttotal: 37.3s\tremaining: 17.4s\n",
      "2045:\ttotal: 37.3s\tremaining: 17.4s\n",
      "2046:\ttotal: 37.3s\tremaining: 17.4s\n",
      "2047:\ttotal: 37.3s\tremaining: 17.4s\n",
      "2048:\ttotal: 37.4s\tremaining: 17.3s\n",
      "2049:\ttotal: 37.4s\tremaining: 17.3s\n",
      "2050:\ttotal: 37.4s\tremaining: 17.3s\n",
      "2051:\ttotal: 37.4s\tremaining: 17.3s\n",
      "2052:\ttotal: 37.4s\tremaining: 17.3s\n",
      "2053:\ttotal: 37.4s\tremaining: 17.2s\n",
      "2054:\ttotal: 37.5s\tremaining: 17.2s\n",
      "2055:\ttotal: 37.5s\tremaining: 17.2s\n",
      "2056:\ttotal: 37.5s\tremaining: 17.2s\n",
      "2057:\ttotal: 37.5s\tremaining: 17.2s\n",
      "2058:\ttotal: 37.5s\tremaining: 17.2s\n",
      "2059:\ttotal: 37.6s\tremaining: 17.1s\n",
      "2060:\ttotal: 37.6s\tremaining: 17.1s\n",
      "2061:\ttotal: 37.6s\tremaining: 17.1s\n",
      "2062:\ttotal: 37.6s\tremaining: 17.1s\n",
      "2063:\ttotal: 37.6s\tremaining: 17.1s\n",
      "2064:\ttotal: 37.6s\tremaining: 17s\n",
      "2065:\ttotal: 37.7s\tremaining: 17s\n",
      "2066:\ttotal: 37.7s\tremaining: 17s\n",
      "2067:\ttotal: 37.7s\tremaining: 17s\n",
      "2068:\ttotal: 37.7s\tremaining: 17s\n",
      "2069:\ttotal: 37.7s\tremaining: 16.9s\n",
      "2070:\ttotal: 37.7s\tremaining: 16.9s\n",
      "2071:\ttotal: 37.8s\tremaining: 16.9s\n",
      "2072:\ttotal: 37.8s\tremaining: 16.9s\n",
      "2073:\ttotal: 37.8s\tremaining: 16.9s\n",
      "2074:\ttotal: 37.8s\tremaining: 16.9s\n",
      "2075:\ttotal: 37.8s\tremaining: 16.8s\n",
      "2076:\ttotal: 37.9s\tremaining: 16.8s\n",
      "2077:\ttotal: 37.9s\tremaining: 16.8s\n",
      "2078:\ttotal: 37.9s\tremaining: 16.8s\n",
      "2079:\ttotal: 37.9s\tremaining: 16.8s\n",
      "2080:\ttotal: 37.9s\tremaining: 16.7s\n",
      "2081:\ttotal: 37.9s\tremaining: 16.7s\n",
      "2082:\ttotal: 38s\tremaining: 16.7s\n",
      "2083:\ttotal: 38s\tremaining: 16.7s\n",
      "2084:\ttotal: 38s\tremaining: 16.7s\n",
      "2085:\ttotal: 38s\tremaining: 16.7s\n",
      "2086:\ttotal: 38s\tremaining: 16.6s\n",
      "2087:\ttotal: 38.1s\tremaining: 16.6s\n",
      "2088:\ttotal: 38.1s\tremaining: 16.6s\n",
      "2089:\ttotal: 38.1s\tremaining: 16.6s\n",
      "2090:\ttotal: 38.1s\tremaining: 16.6s\n",
      "2091:\ttotal: 38.1s\tremaining: 16.5s\n",
      "2092:\ttotal: 38.1s\tremaining: 16.5s\n",
      "2093:\ttotal: 38.2s\tremaining: 16.5s\n",
      "2094:\ttotal: 38.2s\tremaining: 16.5s\n",
      "2095:\ttotal: 38.2s\tremaining: 16.5s\n",
      "2096:\ttotal: 38.2s\tremaining: 16.5s\n",
      "2097:\ttotal: 38.2s\tremaining: 16.4s\n",
      "2098:\ttotal: 38.2s\tremaining: 16.4s\n",
      "2099:\ttotal: 38.3s\tremaining: 16.4s\n",
      "2100:\ttotal: 38.3s\tremaining: 16.4s\n",
      "2101:\ttotal: 38.3s\tremaining: 16.4s\n",
      "2102:\ttotal: 38.3s\tremaining: 16.3s\n",
      "2103:\ttotal: 38.3s\tremaining: 16.3s\n",
      "2104:\ttotal: 38.4s\tremaining: 16.3s\n",
      "2105:\ttotal: 38.4s\tremaining: 16.3s\n",
      "2106:\ttotal: 38.4s\tremaining: 16.3s\n",
      "2107:\ttotal: 38.4s\tremaining: 16.3s\n",
      "2108:\ttotal: 38.4s\tremaining: 16.2s\n",
      "2109:\ttotal: 38.5s\tremaining: 16.2s\n",
      "2110:\ttotal: 38.5s\tremaining: 16.2s\n",
      "2111:\ttotal: 38.5s\tremaining: 16.2s\n",
      "2112:\ttotal: 38.5s\tremaining: 16.2s\n",
      "2113:\ttotal: 38.5s\tremaining: 16.1s\n",
      "2114:\ttotal: 38.5s\tremaining: 16.1s\n",
      "2115:\ttotal: 38.6s\tremaining: 16.1s\n",
      "2116:\ttotal: 38.6s\tremaining: 16.1s\n",
      "2117:\ttotal: 38.6s\tremaining: 16.1s\n",
      "2118:\ttotal: 38.6s\tremaining: 16.1s\n",
      "2119:\ttotal: 38.6s\tremaining: 16s\n",
      "2120:\ttotal: 38.7s\tremaining: 16s\n",
      "2121:\ttotal: 38.7s\tremaining: 16s\n",
      "2122:\ttotal: 38.7s\tremaining: 16s\n",
      "2123:\ttotal: 38.7s\tremaining: 16s\n",
      "2124:\ttotal: 38.7s\tremaining: 15.9s\n",
      "2125:\ttotal: 38.7s\tremaining: 15.9s\n",
      "2126:\ttotal: 38.8s\tremaining: 15.9s\n",
      "2127:\ttotal: 38.8s\tremaining: 15.9s\n",
      "2128:\ttotal: 38.8s\tremaining: 15.9s\n",
      "2129:\ttotal: 38.8s\tremaining: 15.9s\n",
      "2130:\ttotal: 38.8s\tremaining: 15.8s\n",
      "2131:\ttotal: 38.9s\tremaining: 15.8s\n",
      "2132:\ttotal: 38.9s\tremaining: 15.8s\n",
      "2133:\ttotal: 38.9s\tremaining: 15.8s\n",
      "2134:\ttotal: 38.9s\tremaining: 15.8s\n",
      "2135:\ttotal: 38.9s\tremaining: 15.7s\n",
      "2136:\ttotal: 38.9s\tremaining: 15.7s\n",
      "2137:\ttotal: 39s\tremaining: 15.7s\n",
      "2138:\ttotal: 39s\tremaining: 15.7s\n",
      "2139:\ttotal: 39s\tremaining: 15.7s\n",
      "2140:\ttotal: 39s\tremaining: 15.7s\n",
      "2141:\ttotal: 39s\tremaining: 15.6s\n",
      "2142:\ttotal: 39.1s\tremaining: 15.6s\n",
      "2143:\ttotal: 39.1s\tremaining: 15.6s\n",
      "2144:\ttotal: 39.1s\tremaining: 15.6s\n",
      "2145:\ttotal: 39.1s\tremaining: 15.6s\n",
      "2146:\ttotal: 39.1s\tremaining: 15.5s\n",
      "2147:\ttotal: 39.1s\tremaining: 15.5s\n",
      "2148:\ttotal: 39.2s\tremaining: 15.5s\n",
      "2149:\ttotal: 39.2s\tremaining: 15.5s\n",
      "2150:\ttotal: 39.2s\tremaining: 15.5s\n",
      "2151:\ttotal: 39.2s\tremaining: 15.4s\n",
      "2152:\ttotal: 39.2s\tremaining: 15.4s\n",
      "2153:\ttotal: 39.2s\tremaining: 15.4s\n",
      "2154:\ttotal: 39.3s\tremaining: 15.4s\n"
     ]
    },
    {
     "name": "stdout",
     "output_type": "stream",
     "text": [
      "2155:\ttotal: 39.3s\tremaining: 15.4s\n",
      "2156:\ttotal: 39.3s\tremaining: 15.4s\n",
      "2157:\ttotal: 39.3s\tremaining: 15.3s\n",
      "2158:\ttotal: 39.3s\tremaining: 15.3s\n",
      "2159:\ttotal: 39.3s\tremaining: 15.3s\n",
      "2160:\ttotal: 39.4s\tremaining: 15.3s\n",
      "2161:\ttotal: 39.4s\tremaining: 15.3s\n",
      "2162:\ttotal: 39.4s\tremaining: 15.2s\n",
      "2163:\ttotal: 39.4s\tremaining: 15.2s\n",
      "2164:\ttotal: 39.4s\tremaining: 15.2s\n",
      "2165:\ttotal: 39.5s\tremaining: 15.2s\n",
      "2166:\ttotal: 39.5s\tremaining: 15.2s\n",
      "2167:\ttotal: 39.5s\tremaining: 15.2s\n",
      "2168:\ttotal: 39.5s\tremaining: 15.1s\n",
      "2169:\ttotal: 39.5s\tremaining: 15.1s\n",
      "2170:\ttotal: 39.5s\tremaining: 15.1s\n",
      "2171:\ttotal: 39.6s\tremaining: 15.1s\n",
      "2172:\ttotal: 39.6s\tremaining: 15.1s\n",
      "2173:\ttotal: 39.6s\tremaining: 15s\n",
      "2174:\ttotal: 39.6s\tremaining: 15s\n",
      "2175:\ttotal: 39.6s\tremaining: 15s\n",
      "2176:\ttotal: 39.6s\tremaining: 15s\n",
      "2177:\ttotal: 39.7s\tremaining: 15s\n",
      "2178:\ttotal: 39.7s\tremaining: 14.9s\n",
      "2179:\ttotal: 39.7s\tremaining: 14.9s\n",
      "2180:\ttotal: 39.7s\tremaining: 14.9s\n",
      "2181:\ttotal: 39.7s\tremaining: 14.9s\n",
      "2182:\ttotal: 39.7s\tremaining: 14.9s\n",
      "2183:\ttotal: 39.8s\tremaining: 14.9s\n",
      "2184:\ttotal: 39.8s\tremaining: 14.8s\n",
      "2185:\ttotal: 39.8s\tremaining: 14.8s\n",
      "2186:\ttotal: 39.8s\tremaining: 14.8s\n",
      "2187:\ttotal: 39.8s\tremaining: 14.8s\n",
      "2188:\ttotal: 39.9s\tremaining: 14.8s\n",
      "2189:\ttotal: 39.9s\tremaining: 14.7s\n",
      "2190:\ttotal: 39.9s\tremaining: 14.7s\n",
      "2191:\ttotal: 39.9s\tremaining: 14.7s\n",
      "2192:\ttotal: 39.9s\tremaining: 14.7s\n",
      "2193:\ttotal: 39.9s\tremaining: 14.7s\n",
      "2194:\ttotal: 40s\tremaining: 14.7s\n",
      "2195:\ttotal: 40s\tremaining: 14.6s\n",
      "2196:\ttotal: 40s\tremaining: 14.6s\n",
      "2197:\ttotal: 40s\tremaining: 14.6s\n",
      "2198:\ttotal: 40s\tremaining: 14.6s\n",
      "2199:\ttotal: 40.1s\tremaining: 14.6s\n",
      "2200:\ttotal: 40.1s\tremaining: 14.5s\n",
      "2201:\ttotal: 40.1s\tremaining: 14.5s\n",
      "2202:\ttotal: 40.1s\tremaining: 14.5s\n",
      "2203:\ttotal: 40.1s\tremaining: 14.5s\n",
      "2204:\ttotal: 40.1s\tremaining: 14.5s\n",
      "2205:\ttotal: 40.2s\tremaining: 14.5s\n",
      "2206:\ttotal: 40.2s\tremaining: 14.4s\n",
      "2207:\ttotal: 40.2s\tremaining: 14.4s\n",
      "2208:\ttotal: 40.2s\tremaining: 14.4s\n",
      "2209:\ttotal: 40.2s\tremaining: 14.4s\n",
      "2210:\ttotal: 40.2s\tremaining: 14.4s\n",
      "2211:\ttotal: 40.3s\tremaining: 14.3s\n",
      "2212:\ttotal: 40.3s\tremaining: 14.3s\n",
      "2213:\ttotal: 40.3s\tremaining: 14.3s\n",
      "2214:\ttotal: 40.3s\tremaining: 14.3s\n",
      "2215:\ttotal: 40.3s\tremaining: 14.3s\n",
      "2216:\ttotal: 40.3s\tremaining: 14.2s\n",
      "2217:\ttotal: 40.4s\tremaining: 14.2s\n",
      "2218:\ttotal: 40.4s\tremaining: 14.2s\n",
      "2219:\ttotal: 40.4s\tremaining: 14.2s\n",
      "2220:\ttotal: 40.4s\tremaining: 14.2s\n",
      "2221:\ttotal: 40.4s\tremaining: 14.2s\n",
      "2222:\ttotal: 40.5s\tremaining: 14.1s\n",
      "2223:\ttotal: 40.5s\tremaining: 14.1s\n",
      "2224:\ttotal: 40.5s\tremaining: 14.1s\n",
      "2225:\ttotal: 40.5s\tremaining: 14.1s\n",
      "2226:\ttotal: 40.5s\tremaining: 14.1s\n",
      "2227:\ttotal: 40.5s\tremaining: 14s\n",
      "2228:\ttotal: 40.6s\tremaining: 14s\n",
      "2229:\ttotal: 40.6s\tremaining: 14s\n",
      "2230:\ttotal: 40.6s\tremaining: 14s\n",
      "2231:\ttotal: 40.6s\tremaining: 14s\n",
      "2232:\ttotal: 40.6s\tremaining: 14s\n",
      "2233:\ttotal: 40.6s\tremaining: 13.9s\n",
      "2234:\ttotal: 40.7s\tremaining: 13.9s\n",
      "2235:\ttotal: 40.7s\tremaining: 13.9s\n",
      "2236:\ttotal: 40.7s\tremaining: 13.9s\n",
      "2237:\ttotal: 40.7s\tremaining: 13.9s\n",
      "2238:\ttotal: 40.7s\tremaining: 13.8s\n",
      "2239:\ttotal: 40.8s\tremaining: 13.8s\n",
      "2240:\ttotal: 40.8s\tremaining: 13.8s\n",
      "2241:\ttotal: 40.8s\tremaining: 13.8s\n",
      "2242:\ttotal: 40.8s\tremaining: 13.8s\n",
      "2243:\ttotal: 40.8s\tremaining: 13.8s\n",
      "2244:\ttotal: 40.9s\tremaining: 13.7s\n",
      "2245:\ttotal: 40.9s\tremaining: 13.7s\n",
      "2246:\ttotal: 40.9s\tremaining: 13.7s\n",
      "2247:\ttotal: 40.9s\tremaining: 13.7s\n",
      "2248:\ttotal: 40.9s\tremaining: 13.7s\n",
      "2249:\ttotal: 40.9s\tremaining: 13.6s\n",
      "2250:\ttotal: 41s\tremaining: 13.6s\n",
      "2251:\ttotal: 41s\tremaining: 13.6s\n",
      "2252:\ttotal: 41s\tremaining: 13.6s\n",
      "2253:\ttotal: 41s\tremaining: 13.6s\n",
      "2254:\ttotal: 41s\tremaining: 13.6s\n",
      "2255:\ttotal: 41s\tremaining: 13.5s\n",
      "2256:\ttotal: 41.1s\tremaining: 13.5s\n",
      "2257:\ttotal: 41.1s\tremaining: 13.5s\n",
      "2258:\ttotal: 41.1s\tremaining: 13.5s\n",
      "2259:\ttotal: 41.1s\tremaining: 13.5s\n",
      "2260:\ttotal: 41.1s\tremaining: 13.4s\n",
      "2261:\ttotal: 41.2s\tremaining: 13.4s\n",
      "2262:\ttotal: 41.2s\tremaining: 13.4s\n",
      "2263:\ttotal: 41.2s\tremaining: 13.4s\n",
      "2264:\ttotal: 41.2s\tremaining: 13.4s\n",
      "2265:\ttotal: 41.2s\tremaining: 13.4s\n",
      "2266:\ttotal: 41.2s\tremaining: 13.3s\n",
      "2267:\ttotal: 41.3s\tremaining: 13.3s\n",
      "2268:\ttotal: 41.3s\tremaining: 13.3s\n",
      "2269:\ttotal: 41.3s\tremaining: 13.3s\n",
      "2270:\ttotal: 41.3s\tremaining: 13.3s\n",
      "2271:\ttotal: 41.3s\tremaining: 13.2s\n",
      "2272:\ttotal: 41.3s\tremaining: 13.2s\n",
      "2273:\ttotal: 41.4s\tremaining: 13.2s\n",
      "2274:\ttotal: 41.4s\tremaining: 13.2s\n",
      "2275:\ttotal: 41.4s\tremaining: 13.2s\n",
      "2276:\ttotal: 41.4s\tremaining: 13.1s\n",
      "2277:\ttotal: 41.4s\tremaining: 13.1s\n",
      "2278:\ttotal: 41.4s\tremaining: 13.1s\n",
      "2279:\ttotal: 41.5s\tremaining: 13.1s\n",
      "2280:\ttotal: 41.5s\tremaining: 13.1s\n",
      "2281:\ttotal: 41.5s\tremaining: 13.1s\n",
      "2282:\ttotal: 41.5s\tremaining: 13s\n",
      "2283:\ttotal: 41.5s\tremaining: 13s\n",
      "2284:\ttotal: 41.5s\tremaining: 13s\n",
      "2285:\ttotal: 41.6s\tremaining: 13s\n",
      "2286:\ttotal: 41.6s\tremaining: 13s\n",
      "2287:\ttotal: 41.6s\tremaining: 12.9s\n",
      "2288:\ttotal: 41.6s\tremaining: 12.9s\n",
      "2289:\ttotal: 41.6s\tremaining: 12.9s\n",
      "2290:\ttotal: 41.7s\tremaining: 12.9s\n",
      "2291:\ttotal: 41.7s\tremaining: 12.9s\n",
      "2292:\ttotal: 41.7s\tremaining: 12.9s\n",
      "2293:\ttotal: 41.7s\tremaining: 12.8s\n",
      "2294:\ttotal: 41.7s\tremaining: 12.8s\n",
      "2295:\ttotal: 41.7s\tremaining: 12.8s\n",
      "2296:\ttotal: 41.8s\tremaining: 12.8s\n",
      "2297:\ttotal: 41.8s\tremaining: 12.8s\n",
      "2298:\ttotal: 41.8s\tremaining: 12.7s\n",
      "2299:\ttotal: 41.8s\tremaining: 12.7s\n",
      "2300:\ttotal: 41.8s\tremaining: 12.7s\n",
      "2301:\ttotal: 41.8s\tremaining: 12.7s\n",
      "2302:\ttotal: 41.9s\tremaining: 12.7s\n",
      "2303:\ttotal: 41.9s\tremaining: 12.7s\n",
      "2304:\ttotal: 41.9s\tremaining: 12.6s\n",
      "2305:\ttotal: 41.9s\tremaining: 12.6s\n",
      "2306:\ttotal: 41.9s\tremaining: 12.6s\n",
      "2307:\ttotal: 42s\tremaining: 12.6s\n",
      "2308:\ttotal: 42s\tremaining: 12.6s\n",
      "2309:\ttotal: 42s\tremaining: 12.5s\n",
      "2310:\ttotal: 42s\tremaining: 12.5s\n",
      "2311:\ttotal: 42s\tremaining: 12.5s\n",
      "2312:\ttotal: 42s\tremaining: 12.5s\n",
      "2313:\ttotal: 42.1s\tremaining: 12.5s\n",
      "2314:\ttotal: 42.1s\tremaining: 12.4s\n",
      "2315:\ttotal: 42.1s\tremaining: 12.4s\n",
      "2316:\ttotal: 42.1s\tremaining: 12.4s\n",
      "2317:\ttotal: 42.1s\tremaining: 12.4s\n",
      "2318:\ttotal: 42.1s\tremaining: 12.4s\n",
      "2319:\ttotal: 42.2s\tremaining: 12.4s\n",
      "2320:\ttotal: 42.2s\tremaining: 12.3s\n",
      "2321:\ttotal: 42.2s\tremaining: 12.3s\n",
      "2322:\ttotal: 42.2s\tremaining: 12.3s\n",
      "2323:\ttotal: 42.2s\tremaining: 12.3s\n",
      "2324:\ttotal: 42.2s\tremaining: 12.3s\n",
      "2325:\ttotal: 42.3s\tremaining: 12.2s\n",
      "2326:\ttotal: 42.3s\tremaining: 12.2s\n",
      "2327:\ttotal: 42.3s\tremaining: 12.2s\n",
      "2328:\ttotal: 42.3s\tremaining: 12.2s\n",
      "2329:\ttotal: 42.3s\tremaining: 12.2s\n",
      "2330:\ttotal: 42.3s\tremaining: 12.2s\n",
      "2331:\ttotal: 42.4s\tremaining: 12.1s\n",
      "2332:\ttotal: 42.4s\tremaining: 12.1s\n",
      "2333:\ttotal: 42.4s\tremaining: 12.1s\n",
      "2334:\ttotal: 42.4s\tremaining: 12.1s\n",
      "2335:\ttotal: 42.4s\tremaining: 12.1s\n",
      "2336:\ttotal: 42.5s\tremaining: 12s\n",
      "2337:\ttotal: 42.5s\tremaining: 12s\n",
      "2338:\ttotal: 42.5s\tremaining: 12s\n",
      "2339:\ttotal: 42.5s\tremaining: 12s\n",
      "2340:\ttotal: 42.5s\tremaining: 12s\n",
      "2341:\ttotal: 42.5s\tremaining: 11.9s\n",
      "2342:\ttotal: 42.6s\tremaining: 11.9s\n",
      "2343:\ttotal: 42.6s\tremaining: 11.9s\n",
      "2344:\ttotal: 42.6s\tremaining: 11.9s\n",
      "2345:\ttotal: 42.6s\tremaining: 11.9s\n",
      "2346:\ttotal: 42.6s\tremaining: 11.9s\n",
      "2347:\ttotal: 42.6s\tremaining: 11.8s\n",
      "2348:\ttotal: 42.7s\tremaining: 11.8s\n",
      "2349:\ttotal: 42.7s\tremaining: 11.8s\n",
      "2350:\ttotal: 42.7s\tremaining: 11.8s\n",
      "2351:\ttotal: 42.7s\tremaining: 11.8s\n",
      "2352:\ttotal: 42.7s\tremaining: 11.7s\n",
      "2353:\ttotal: 42.7s\tremaining: 11.7s\n",
      "2354:\ttotal: 42.8s\tremaining: 11.7s\n",
      "2355:\ttotal: 42.8s\tremaining: 11.7s\n",
      "2356:\ttotal: 42.8s\tremaining: 11.7s\n",
      "2357:\ttotal: 42.8s\tremaining: 11.7s\n",
      "2358:\ttotal: 42.8s\tremaining: 11.6s\n",
      "2359:\ttotal: 42.9s\tremaining: 11.6s\n",
      "2360:\ttotal: 42.9s\tremaining: 11.6s\n",
      "2361:\ttotal: 42.9s\tremaining: 11.6s\n",
      "2362:\ttotal: 42.9s\tremaining: 11.6s\n",
      "2363:\ttotal: 42.9s\tremaining: 11.5s\n",
      "2364:\ttotal: 42.9s\tremaining: 11.5s\n",
      "2365:\ttotal: 43s\tremaining: 11.5s\n",
      "2366:\ttotal: 43s\tremaining: 11.5s\n",
      "2367:\ttotal: 43s\tremaining: 11.5s\n",
      "2368:\ttotal: 43s\tremaining: 11.5s\n",
      "2369:\ttotal: 43s\tremaining: 11.4s\n",
      "2370:\ttotal: 43s\tremaining: 11.4s\n",
      "2371:\ttotal: 43.1s\tremaining: 11.4s\n",
      "2372:\ttotal: 43.1s\tremaining: 11.4s\n",
      "2373:\ttotal: 43.1s\tremaining: 11.4s\n",
      "2374:\ttotal: 43.1s\tremaining: 11.3s\n",
      "2375:\ttotal: 43.1s\tremaining: 11.3s\n",
      "2376:\ttotal: 43.1s\tremaining: 11.3s\n",
      "2377:\ttotal: 43.2s\tremaining: 11.3s\n",
      "2378:\ttotal: 43.2s\tremaining: 11.3s\n",
      "2379:\ttotal: 43.2s\tremaining: 11.3s\n",
      "2380:\ttotal: 43.2s\tremaining: 11.2s\n",
      "2381:\ttotal: 43.2s\tremaining: 11.2s\n",
      "2382:\ttotal: 43.2s\tremaining: 11.2s\n",
      "2383:\ttotal: 43.3s\tremaining: 11.2s\n",
      "2384:\ttotal: 43.3s\tremaining: 11.2s\n",
      "2385:\ttotal: 43.3s\tremaining: 11.1s\n",
      "2386:\ttotal: 43.3s\tremaining: 11.1s\n",
      "2387:\ttotal: 43.3s\tremaining: 11.1s\n",
      "2388:\ttotal: 43.4s\tremaining: 11.1s\n",
      "2389:\ttotal: 43.4s\tremaining: 11.1s\n",
      "2390:\ttotal: 43.4s\tremaining: 11.1s\n",
      "2391:\ttotal: 43.4s\tremaining: 11s\n",
      "2392:\ttotal: 43.4s\tremaining: 11s\n",
      "2393:\ttotal: 43.4s\tremaining: 11s\n",
      "2394:\ttotal: 43.5s\tremaining: 11s\n",
      "2395:\ttotal: 43.5s\tremaining: 11s\n"
     ]
    },
    {
     "name": "stdout",
     "output_type": "stream",
     "text": [
      "2396:\ttotal: 43.5s\tremaining: 10.9s\n",
      "2397:\ttotal: 43.5s\tremaining: 10.9s\n",
      "2398:\ttotal: 43.5s\tremaining: 10.9s\n",
      "2399:\ttotal: 43.6s\tremaining: 10.9s\n",
      "2400:\ttotal: 43.6s\tremaining: 10.9s\n",
      "2401:\ttotal: 43.6s\tremaining: 10.9s\n",
      "2402:\ttotal: 43.6s\tremaining: 10.8s\n",
      "2403:\ttotal: 43.6s\tremaining: 10.8s\n",
      "2404:\ttotal: 43.6s\tremaining: 10.8s\n",
      "2405:\ttotal: 43.7s\tremaining: 10.8s\n",
      "2406:\ttotal: 43.7s\tremaining: 10.8s\n",
      "2407:\ttotal: 43.7s\tremaining: 10.7s\n",
      "2408:\ttotal: 43.7s\tremaining: 10.7s\n",
      "2409:\ttotal: 43.7s\tremaining: 10.7s\n",
      "2410:\ttotal: 43.7s\tremaining: 10.7s\n",
      "2411:\ttotal: 43.8s\tremaining: 10.7s\n",
      "2412:\ttotal: 43.8s\tremaining: 10.6s\n",
      "2413:\ttotal: 43.8s\tremaining: 10.6s\n",
      "2414:\ttotal: 43.8s\tremaining: 10.6s\n",
      "2415:\ttotal: 43.8s\tremaining: 10.6s\n",
      "2416:\ttotal: 43.8s\tremaining: 10.6s\n",
      "2417:\ttotal: 43.9s\tremaining: 10.6s\n",
      "2418:\ttotal: 43.9s\tremaining: 10.5s\n",
      "2419:\ttotal: 43.9s\tremaining: 10.5s\n",
      "2420:\ttotal: 43.9s\tremaining: 10.5s\n",
      "2421:\ttotal: 43.9s\tremaining: 10.5s\n",
      "2422:\ttotal: 44s\tremaining: 10.5s\n",
      "2423:\ttotal: 44s\tremaining: 10.5s\n",
      "2424:\ttotal: 44s\tremaining: 10.4s\n",
      "2425:\ttotal: 44s\tremaining: 10.4s\n",
      "2426:\ttotal: 44.1s\tremaining: 10.4s\n",
      "2427:\ttotal: 44.1s\tremaining: 10.4s\n",
      "2428:\ttotal: 44.1s\tremaining: 10.4s\n",
      "2429:\ttotal: 44.1s\tremaining: 10.3s\n",
      "2430:\ttotal: 44.1s\tremaining: 10.3s\n",
      "2431:\ttotal: 44.2s\tremaining: 10.3s\n",
      "2432:\ttotal: 44.2s\tremaining: 10.3s\n",
      "2433:\ttotal: 44.2s\tremaining: 10.3s\n",
      "2434:\ttotal: 44.2s\tremaining: 10.3s\n",
      "2435:\ttotal: 44.2s\tremaining: 10.2s\n",
      "2436:\ttotal: 44.2s\tremaining: 10.2s\n",
      "2437:\ttotal: 44.3s\tremaining: 10.2s\n",
      "2438:\ttotal: 44.3s\tremaining: 10.2s\n",
      "2439:\ttotal: 44.3s\tremaining: 10.2s\n",
      "2440:\ttotal: 44.3s\tremaining: 10.1s\n",
      "2441:\ttotal: 44.3s\tremaining: 10.1s\n",
      "2442:\ttotal: 44.4s\tremaining: 10.1s\n",
      "2443:\ttotal: 44.4s\tremaining: 10.1s\n",
      "2444:\ttotal: 44.4s\tremaining: 10.1s\n",
      "2445:\ttotal: 44.4s\tremaining: 10.1s\n",
      "2446:\ttotal: 44.4s\tremaining: 10s\n",
      "2447:\ttotal: 44.5s\tremaining: 10s\n",
      "2448:\ttotal: 44.5s\tremaining: 10s\n",
      "2449:\ttotal: 44.5s\tremaining: 9.99s\n",
      "2450:\ttotal: 44.5s\tremaining: 9.97s\n",
      "2451:\ttotal: 44.5s\tremaining: 9.95s\n",
      "2452:\ttotal: 44.5s\tremaining: 9.93s\n",
      "2453:\ttotal: 44.6s\tremaining: 9.91s\n",
      "2454:\ttotal: 44.6s\tremaining: 9.89s\n",
      "2455:\ttotal: 44.6s\tremaining: 9.88s\n",
      "2456:\ttotal: 44.6s\tremaining: 9.86s\n",
      "2457:\ttotal: 44.6s\tremaining: 9.84s\n",
      "2458:\ttotal: 44.7s\tremaining: 9.82s\n",
      "2459:\ttotal: 44.7s\tremaining: 9.81s\n",
      "2460:\ttotal: 44.7s\tremaining: 9.79s\n",
      "2461:\ttotal: 44.7s\tremaining: 9.77s\n",
      "2462:\ttotal: 44.7s\tremaining: 9.75s\n",
      "2463:\ttotal: 44.8s\tremaining: 9.74s\n",
      "2464:\ttotal: 44.8s\tremaining: 9.72s\n",
      "2465:\ttotal: 44.8s\tremaining: 9.7s\n",
      "2466:\ttotal: 44.8s\tremaining: 9.69s\n",
      "2467:\ttotal: 44.9s\tremaining: 9.67s\n",
      "2468:\ttotal: 44.9s\tremaining: 9.65s\n",
      "2469:\ttotal: 44.9s\tremaining: 9.63s\n",
      "2470:\ttotal: 44.9s\tremaining: 9.62s\n",
      "2471:\ttotal: 44.9s\tremaining: 9.6s\n",
      "2472:\ttotal: 45s\tremaining: 9.58s\n",
      "2473:\ttotal: 45s\tremaining: 9.56s\n",
      "2474:\ttotal: 45s\tremaining: 9.55s\n",
      "2475:\ttotal: 45s\tremaining: 9.53s\n",
      "2476:\ttotal: 45s\tremaining: 9.51s\n",
      "2477:\ttotal: 45.1s\tremaining: 9.49s\n",
      "2478:\ttotal: 45.1s\tremaining: 9.48s\n",
      "2479:\ttotal: 45.1s\tremaining: 9.46s\n",
      "2480:\ttotal: 45.1s\tremaining: 9.44s\n",
      "2481:\ttotal: 45.1s\tremaining: 9.42s\n",
      "2482:\ttotal: 45.2s\tremaining: 9.4s\n",
      "2483:\ttotal: 45.2s\tremaining: 9.39s\n",
      "2484:\ttotal: 45.2s\tremaining: 9.37s\n",
      "2485:\ttotal: 45.2s\tremaining: 9.35s\n",
      "2486:\ttotal: 45.2s\tremaining: 9.33s\n",
      "2487:\ttotal: 45.3s\tremaining: 9.31s\n",
      "2488:\ttotal: 45.3s\tremaining: 9.29s\n",
      "2489:\ttotal: 45.3s\tremaining: 9.28s\n",
      "2490:\ttotal: 45.3s\tremaining: 9.26s\n",
      "2491:\ttotal: 45.3s\tremaining: 9.24s\n",
      "2492:\ttotal: 45.4s\tremaining: 9.22s\n",
      "2493:\ttotal: 45.4s\tremaining: 9.21s\n",
      "2494:\ttotal: 45.4s\tremaining: 9.19s\n",
      "2495:\ttotal: 45.4s\tremaining: 9.17s\n",
      "2496:\ttotal: 45.4s\tremaining: 9.15s\n",
      "2497:\ttotal: 45.5s\tremaining: 9.13s\n",
      "2498:\ttotal: 45.5s\tremaining: 9.12s\n",
      "2499:\ttotal: 45.5s\tremaining: 9.1s\n",
      "2500:\ttotal: 45.5s\tremaining: 9.08s\n",
      "2501:\ttotal: 45.5s\tremaining: 9.06s\n",
      "2502:\ttotal: 45.6s\tremaining: 9.05s\n",
      "2503:\ttotal: 45.6s\tremaining: 9.03s\n",
      "2504:\ttotal: 45.6s\tremaining: 9.01s\n",
      "2505:\ttotal: 45.6s\tremaining: 8.99s\n",
      "2506:\ttotal: 45.6s\tremaining: 8.97s\n",
      "2507:\ttotal: 45.7s\tremaining: 8.96s\n",
      "2508:\ttotal: 45.7s\tremaining: 8.94s\n",
      "2509:\ttotal: 45.7s\tremaining: 8.92s\n",
      "2510:\ttotal: 45.7s\tremaining: 8.9s\n",
      "2511:\ttotal: 45.7s\tremaining: 8.89s\n",
      "2512:\ttotal: 45.8s\tremaining: 8.87s\n",
      "2513:\ttotal: 45.8s\tremaining: 8.85s\n",
      "2514:\ttotal: 45.8s\tremaining: 8.83s\n",
      "2515:\ttotal: 45.8s\tremaining: 8.81s\n",
      "2516:\ttotal: 45.8s\tremaining: 8.8s\n",
      "2517:\ttotal: 45.9s\tremaining: 8.78s\n",
      "2518:\ttotal: 45.9s\tremaining: 8.76s\n",
      "2519:\ttotal: 45.9s\tremaining: 8.74s\n",
      "2520:\ttotal: 45.9s\tremaining: 8.73s\n",
      "2521:\ttotal: 45.9s\tremaining: 8.71s\n",
      "2522:\ttotal: 46s\tremaining: 8.69s\n",
      "2523:\ttotal: 46s\tremaining: 8.67s\n",
      "2524:\ttotal: 46s\tremaining: 8.65s\n",
      "2525:\ttotal: 46s\tremaining: 8.64s\n",
      "2526:\ttotal: 46s\tremaining: 8.62s\n",
      "2527:\ttotal: 46.1s\tremaining: 8.6s\n",
      "2528:\ttotal: 46.1s\tremaining: 8.59s\n",
      "2529:\ttotal: 46.1s\tremaining: 8.57s\n",
      "2530:\ttotal: 46.1s\tremaining: 8.55s\n",
      "2531:\ttotal: 46.2s\tremaining: 8.53s\n",
      "2532:\ttotal: 46.2s\tremaining: 8.51s\n",
      "2533:\ttotal: 46.2s\tremaining: 8.49s\n",
      "2534:\ttotal: 46.2s\tremaining: 8.48s\n",
      "2535:\ttotal: 46.2s\tremaining: 8.46s\n",
      "2536:\ttotal: 46.3s\tremaining: 8.44s\n",
      "2537:\ttotal: 46.3s\tremaining: 8.42s\n",
      "2538:\ttotal: 46.3s\tremaining: 8.4s\n",
      "2539:\ttotal: 46.3s\tremaining: 8.39s\n",
      "2540:\ttotal: 46.3s\tremaining: 8.37s\n",
      "2541:\ttotal: 46.4s\tremaining: 8.35s\n",
      "2542:\ttotal: 46.4s\tremaining: 8.33s\n",
      "2543:\ttotal: 46.4s\tremaining: 8.32s\n",
      "2544:\ttotal: 46.4s\tremaining: 8.3s\n",
      "2545:\ttotal: 46.4s\tremaining: 8.28s\n",
      "2546:\ttotal: 46.5s\tremaining: 8.26s\n",
      "2547:\ttotal: 46.5s\tremaining: 8.24s\n",
      "2548:\ttotal: 46.5s\tremaining: 8.23s\n",
      "2549:\ttotal: 46.5s\tremaining: 8.21s\n",
      "2550:\ttotal: 46.5s\tremaining: 8.19s\n",
      "2551:\ttotal: 46.6s\tremaining: 8.17s\n",
      "2552:\ttotal: 46.6s\tremaining: 8.15s\n",
      "2553:\ttotal: 46.6s\tremaining: 8.14s\n",
      "2554:\ttotal: 46.6s\tremaining: 8.12s\n",
      "2555:\ttotal: 46.6s\tremaining: 8.1s\n",
      "2556:\ttotal: 46.7s\tremaining: 8.09s\n",
      "2557:\ttotal: 46.7s\tremaining: 8.07s\n",
      "2558:\ttotal: 46.7s\tremaining: 8.05s\n",
      "2559:\ttotal: 46.7s\tremaining: 8.03s\n",
      "2560:\ttotal: 46.7s\tremaining: 8.01s\n",
      "2561:\ttotal: 46.8s\tremaining: 7.99s\n",
      "2562:\ttotal: 46.8s\tremaining: 7.98s\n",
      "2563:\ttotal: 46.8s\tremaining: 7.96s\n",
      "2564:\ttotal: 46.8s\tremaining: 7.94s\n",
      "2565:\ttotal: 46.9s\tremaining: 7.92s\n",
      "2566:\ttotal: 46.9s\tremaining: 7.91s\n",
      "2567:\ttotal: 46.9s\tremaining: 7.89s\n",
      "2568:\ttotal: 46.9s\tremaining: 7.87s\n",
      "2569:\ttotal: 46.9s\tremaining: 7.85s\n",
      "2570:\ttotal: 47s\tremaining: 7.83s\n",
      "2571:\ttotal: 47s\tremaining: 7.82s\n",
      "2572:\ttotal: 47s\tremaining: 7.8s\n",
      "2573:\ttotal: 47s\tremaining: 7.78s\n",
      "2574:\ttotal: 47s\tremaining: 7.76s\n",
      "2575:\ttotal: 47.1s\tremaining: 7.75s\n",
      "2576:\ttotal: 47.1s\tremaining: 7.73s\n",
      "2577:\ttotal: 47.1s\tremaining: 7.71s\n",
      "2578:\ttotal: 47.1s\tremaining: 7.69s\n",
      "2579:\ttotal: 47.1s\tremaining: 7.67s\n",
      "2580:\ttotal: 47.2s\tremaining: 7.66s\n",
      "2581:\ttotal: 47.2s\tremaining: 7.64s\n",
      "2582:\ttotal: 47.2s\tremaining: 7.62s\n",
      "2583:\ttotal: 47.2s\tremaining: 7.6s\n",
      "2584:\ttotal: 47.3s\tremaining: 7.58s\n",
      "2585:\ttotal: 47.3s\tremaining: 7.57s\n",
      "2586:\ttotal: 47.3s\tremaining: 7.55s\n",
      "2587:\ttotal: 47.3s\tremaining: 7.53s\n",
      "2588:\ttotal: 47.3s\tremaining: 7.51s\n",
      "2589:\ttotal: 47.3s\tremaining: 7.49s\n",
      "2590:\ttotal: 47.4s\tremaining: 7.48s\n",
      "2591:\ttotal: 47.4s\tremaining: 7.46s\n",
      "2592:\ttotal: 47.4s\tremaining: 7.44s\n",
      "2593:\ttotal: 47.4s\tremaining: 7.42s\n",
      "2594:\ttotal: 47.5s\tremaining: 7.41s\n",
      "2595:\ttotal: 47.5s\tremaining: 7.39s\n",
      "2596:\ttotal: 47.5s\tremaining: 7.37s\n",
      "2597:\ttotal: 47.5s\tremaining: 7.35s\n",
      "2598:\ttotal: 47.5s\tremaining: 7.33s\n",
      "2599:\ttotal: 47.6s\tremaining: 7.32s\n",
      "2600:\ttotal: 47.6s\tremaining: 7.3s\n",
      "2601:\ttotal: 47.6s\tremaining: 7.28s\n",
      "2602:\ttotal: 47.6s\tremaining: 7.26s\n",
      "2603:\ttotal: 47.6s\tremaining: 7.24s\n",
      "2604:\ttotal: 47.7s\tremaining: 7.23s\n",
      "2605:\ttotal: 47.7s\tremaining: 7.21s\n",
      "2606:\ttotal: 47.7s\tremaining: 7.19s\n",
      "2607:\ttotal: 47.7s\tremaining: 7.17s\n",
      "2608:\ttotal: 47.7s\tremaining: 7.15s\n",
      "2609:\ttotal: 47.8s\tremaining: 7.14s\n",
      "2610:\ttotal: 47.8s\tremaining: 7.12s\n",
      "2611:\ttotal: 47.8s\tremaining: 7.1s\n",
      "2612:\ttotal: 47.8s\tremaining: 7.08s\n",
      "2613:\ttotal: 47.8s\tremaining: 7.06s\n",
      "2614:\ttotal: 47.9s\tremaining: 7.04s\n",
      "2615:\ttotal: 47.9s\tremaining: 7.03s\n",
      "2616:\ttotal: 47.9s\tremaining: 7.01s\n",
      "2617:\ttotal: 47.9s\tremaining: 6.99s\n",
      "2618:\ttotal: 47.9s\tremaining: 6.97s\n",
      "2619:\ttotal: 48s\tremaining: 6.96s\n",
      "2620:\ttotal: 48s\tremaining: 6.94s\n",
      "2621:\ttotal: 48s\tremaining: 6.92s\n",
      "2622:\ttotal: 48s\tremaining: 6.9s\n",
      "2623:\ttotal: 48s\tremaining: 6.88s\n",
      "2624:\ttotal: 48.1s\tremaining: 6.87s\n",
      "2625:\ttotal: 48.1s\tremaining: 6.85s\n",
      "2626:\ttotal: 48.1s\tremaining: 6.83s\n"
     ]
    },
    {
     "name": "stdout",
     "output_type": "stream",
     "text": [
      "2627:\ttotal: 48.1s\tremaining: 6.81s\n",
      "2628:\ttotal: 48.1s\tremaining: 6.79s\n",
      "2629:\ttotal: 48.2s\tremaining: 6.77s\n",
      "2630:\ttotal: 48.2s\tremaining: 6.76s\n",
      "2631:\ttotal: 48.2s\tremaining: 6.74s\n",
      "2632:\ttotal: 48.2s\tremaining: 6.72s\n",
      "2633:\ttotal: 48.2s\tremaining: 6.7s\n",
      "2634:\ttotal: 48.3s\tremaining: 6.68s\n",
      "2635:\ttotal: 48.3s\tremaining: 6.67s\n",
      "2636:\ttotal: 48.3s\tremaining: 6.65s\n",
      "2637:\ttotal: 48.3s\tremaining: 6.63s\n",
      "2638:\ttotal: 48.3s\tremaining: 6.61s\n",
      "2639:\ttotal: 48.4s\tremaining: 6.59s\n",
      "2640:\ttotal: 48.4s\tremaining: 6.58s\n",
      "2641:\ttotal: 48.4s\tremaining: 6.56s\n",
      "2642:\ttotal: 48.4s\tremaining: 6.54s\n",
      "2643:\ttotal: 48.4s\tremaining: 6.52s\n",
      "2644:\ttotal: 48.4s\tremaining: 6.5s\n",
      "2645:\ttotal: 48.5s\tremaining: 6.48s\n",
      "2646:\ttotal: 48.5s\tremaining: 6.46s\n",
      "2647:\ttotal: 48.5s\tremaining: 6.45s\n",
      "2648:\ttotal: 48.5s\tremaining: 6.43s\n",
      "2649:\ttotal: 48.5s\tremaining: 6.41s\n",
      "2650:\ttotal: 48.5s\tremaining: 6.39s\n",
      "2651:\ttotal: 48.6s\tremaining: 6.37s\n",
      "2652:\ttotal: 48.6s\tremaining: 6.35s\n",
      "2653:\ttotal: 48.6s\tremaining: 6.34s\n",
      "2654:\ttotal: 48.6s\tremaining: 6.32s\n",
      "2655:\ttotal: 48.6s\tremaining: 6.3s\n",
      "2656:\ttotal: 48.7s\tremaining: 6.28s\n",
      "2657:\ttotal: 48.7s\tremaining: 6.26s\n",
      "2658:\ttotal: 48.7s\tremaining: 6.24s\n",
      "2659:\ttotal: 48.7s\tremaining: 6.23s\n",
      "2660:\ttotal: 48.7s\tremaining: 6.21s\n",
      "2661:\ttotal: 48.8s\tremaining: 6.19s\n",
      "2662:\ttotal: 48.8s\tremaining: 6.17s\n",
      "2663:\ttotal: 48.8s\tremaining: 6.15s\n",
      "2664:\ttotal: 48.8s\tremaining: 6.14s\n",
      "2665:\ttotal: 48.8s\tremaining: 6.12s\n",
      "2666:\ttotal: 48.9s\tremaining: 6.1s\n",
      "2667:\ttotal: 48.9s\tremaining: 6.08s\n",
      "2668:\ttotal: 48.9s\tremaining: 6.06s\n",
      "2669:\ttotal: 48.9s\tremaining: 6.05s\n",
      "2670:\ttotal: 48.9s\tremaining: 6.03s\n",
      "2671:\ttotal: 49s\tremaining: 6.01s\n",
      "2672:\ttotal: 49s\tremaining: 5.99s\n",
      "2673:\ttotal: 49s\tremaining: 5.97s\n",
      "2674:\ttotal: 49s\tremaining: 5.95s\n",
      "2675:\ttotal: 49s\tremaining: 5.94s\n",
      "2676:\ttotal: 49.1s\tremaining: 5.92s\n",
      "2677:\ttotal: 49.1s\tremaining: 5.9s\n",
      "2678:\ttotal: 49.1s\tremaining: 5.88s\n",
      "2679:\ttotal: 49.1s\tremaining: 5.87s\n",
      "2680:\ttotal: 49.1s\tremaining: 5.85s\n",
      "2681:\ttotal: 49.2s\tremaining: 5.83s\n",
      "2682:\ttotal: 49.2s\tremaining: 5.81s\n",
      "2683:\ttotal: 49.2s\tremaining: 5.79s\n",
      "2684:\ttotal: 49.2s\tremaining: 5.77s\n",
      "2685:\ttotal: 49.2s\tremaining: 5.76s\n",
      "2686:\ttotal: 49.3s\tremaining: 5.74s\n",
      "2687:\ttotal: 49.3s\tremaining: 5.72s\n",
      "2688:\ttotal: 49.3s\tremaining: 5.7s\n",
      "2689:\ttotal: 49.3s\tremaining: 5.68s\n",
      "2690:\ttotal: 49.3s\tremaining: 5.67s\n",
      "2691:\ttotal: 49.4s\tremaining: 5.65s\n",
      "2692:\ttotal: 49.4s\tremaining: 5.63s\n",
      "2693:\ttotal: 49.4s\tremaining: 5.61s\n",
      "2694:\ttotal: 49.4s\tremaining: 5.59s\n",
      "2695:\ttotal: 49.5s\tremaining: 5.58s\n",
      "2696:\ttotal: 49.5s\tremaining: 5.56s\n",
      "2697:\ttotal: 49.5s\tremaining: 5.54s\n",
      "2698:\ttotal: 49.5s\tremaining: 5.52s\n",
      "2699:\ttotal: 49.5s\tremaining: 5.5s\n",
      "2700:\ttotal: 49.5s\tremaining: 5.49s\n",
      "2701:\ttotal: 49.6s\tremaining: 5.47s\n",
      "2702:\ttotal: 49.6s\tremaining: 5.45s\n",
      "2703:\ttotal: 49.6s\tremaining: 5.43s\n",
      "2704:\ttotal: 49.6s\tremaining: 5.41s\n",
      "2705:\ttotal: 49.7s\tremaining: 5.39s\n",
      "2706:\ttotal: 49.7s\tremaining: 5.38s\n",
      "2707:\ttotal: 49.7s\tremaining: 5.36s\n",
      "2708:\ttotal: 49.7s\tremaining: 5.34s\n",
      "2709:\ttotal: 49.7s\tremaining: 5.32s\n",
      "2710:\ttotal: 49.8s\tremaining: 5.3s\n",
      "2711:\ttotal: 49.8s\tremaining: 5.29s\n",
      "2712:\ttotal: 49.8s\tremaining: 5.27s\n",
      "2713:\ttotal: 49.8s\tremaining: 5.25s\n",
      "2714:\ttotal: 49.8s\tremaining: 5.23s\n",
      "2715:\ttotal: 49.9s\tremaining: 5.21s\n",
      "2716:\ttotal: 49.9s\tremaining: 5.2s\n",
      "2717:\ttotal: 49.9s\tremaining: 5.18s\n",
      "2718:\ttotal: 49.9s\tremaining: 5.16s\n",
      "2719:\ttotal: 50s\tremaining: 5.14s\n",
      "2720:\ttotal: 50s\tremaining: 5.12s\n",
      "2721:\ttotal: 50s\tremaining: 5.11s\n",
      "2722:\ttotal: 50s\tremaining: 5.09s\n",
      "2723:\ttotal: 50s\tremaining: 5.07s\n",
      "2724:\ttotal: 50s\tremaining: 5.05s\n",
      "2725:\ttotal: 50.1s\tremaining: 5.03s\n",
      "2726:\ttotal: 50.1s\tremaining: 5.01s\n",
      "2727:\ttotal: 50.1s\tremaining: 5s\n",
      "2728:\ttotal: 50.1s\tremaining: 4.98s\n",
      "2729:\ttotal: 50.1s\tremaining: 4.96s\n",
      "2730:\ttotal: 50.2s\tremaining: 4.94s\n",
      "2731:\ttotal: 50.2s\tremaining: 4.92s\n",
      "2732:\ttotal: 50.2s\tremaining: 4.91s\n",
      "2733:\ttotal: 50.2s\tremaining: 4.89s\n",
      "2734:\ttotal: 50.2s\tremaining: 4.87s\n",
      "2735:\ttotal: 50.3s\tremaining: 4.85s\n",
      "2736:\ttotal: 50.3s\tremaining: 4.83s\n",
      "2737:\ttotal: 50.3s\tremaining: 4.81s\n",
      "2738:\ttotal: 50.3s\tremaining: 4.79s\n",
      "2739:\ttotal: 50.3s\tremaining: 4.78s\n",
      "2740:\ttotal: 50.4s\tremaining: 4.76s\n",
      "2741:\ttotal: 50.4s\tremaining: 4.74s\n",
      "2742:\ttotal: 50.4s\tremaining: 4.72s\n",
      "2743:\ttotal: 50.4s\tremaining: 4.7s\n",
      "2744:\ttotal: 50.4s\tremaining: 4.69s\n",
      "2745:\ttotal: 50.5s\tremaining: 4.67s\n",
      "2746:\ttotal: 50.5s\tremaining: 4.65s\n",
      "2747:\ttotal: 50.5s\tremaining: 4.63s\n",
      "2748:\ttotal: 50.5s\tremaining: 4.61s\n",
      "2749:\ttotal: 50.5s\tremaining: 4.59s\n",
      "2750:\ttotal: 50.6s\tremaining: 4.58s\n",
      "2751:\ttotal: 50.6s\tremaining: 4.56s\n",
      "2752:\ttotal: 50.6s\tremaining: 4.54s\n",
      "2753:\ttotal: 50.6s\tremaining: 4.52s\n",
      "2754:\ttotal: 50.6s\tremaining: 4.5s\n",
      "2755:\ttotal: 50.7s\tremaining: 4.49s\n",
      "2756:\ttotal: 50.7s\tremaining: 4.47s\n",
      "2757:\ttotal: 50.7s\tremaining: 4.45s\n",
      "2758:\ttotal: 50.7s\tremaining: 4.43s\n",
      "2759:\ttotal: 50.8s\tremaining: 4.41s\n",
      "2760:\ttotal: 50.8s\tremaining: 4.39s\n",
      "2761:\ttotal: 50.8s\tremaining: 4.38s\n",
      "2762:\ttotal: 50.8s\tremaining: 4.36s\n",
      "2763:\ttotal: 50.8s\tremaining: 4.34s\n",
      "2764:\ttotal: 50.8s\tremaining: 4.32s\n",
      "2765:\ttotal: 50.9s\tremaining: 4.3s\n",
      "2766:\ttotal: 50.9s\tremaining: 4.28s\n",
      "2767:\ttotal: 50.9s\tremaining: 4.27s\n",
      "2768:\ttotal: 50.9s\tremaining: 4.25s\n",
      "2769:\ttotal: 50.9s\tremaining: 4.23s\n",
      "2770:\ttotal: 51s\tremaining: 4.21s\n",
      "2771:\ttotal: 51s\tremaining: 4.19s\n",
      "2772:\ttotal: 51s\tremaining: 4.17s\n",
      "2773:\ttotal: 51s\tremaining: 4.16s\n",
      "2774:\ttotal: 51s\tremaining: 4.14s\n",
      "2775:\ttotal: 51.1s\tremaining: 4.12s\n",
      "2776:\ttotal: 51.1s\tremaining: 4.1s\n",
      "2777:\ttotal: 51.1s\tremaining: 4.08s\n",
      "2778:\ttotal: 51.1s\tremaining: 4.07s\n",
      "2779:\ttotal: 51.1s\tremaining: 4.05s\n",
      "2780:\ttotal: 51.2s\tremaining: 4.03s\n",
      "2781:\ttotal: 51.2s\tremaining: 4.01s\n",
      "2782:\ttotal: 51.2s\tremaining: 3.99s\n",
      "2783:\ttotal: 51.2s\tremaining: 3.97s\n",
      "2784:\ttotal: 51.2s\tremaining: 3.96s\n",
      "2785:\ttotal: 51.3s\tremaining: 3.94s\n",
      "2786:\ttotal: 51.3s\tremaining: 3.92s\n",
      "2787:\ttotal: 51.3s\tremaining: 3.9s\n",
      "2788:\ttotal: 51.3s\tremaining: 3.88s\n",
      "2789:\ttotal: 51.4s\tremaining: 3.87s\n",
      "2790:\ttotal: 51.4s\tremaining: 3.85s\n",
      "2791:\ttotal: 51.4s\tremaining: 3.83s\n",
      "2792:\ttotal: 51.4s\tremaining: 3.81s\n",
      "2793:\ttotal: 51.4s\tremaining: 3.79s\n",
      "2794:\ttotal: 51.5s\tremaining: 3.77s\n",
      "2795:\ttotal: 51.5s\tremaining: 3.76s\n",
      "2796:\ttotal: 51.5s\tremaining: 3.74s\n",
      "2797:\ttotal: 51.5s\tremaining: 3.72s\n",
      "2798:\ttotal: 51.5s\tremaining: 3.7s\n",
      "2799:\ttotal: 51.6s\tremaining: 3.68s\n",
      "2800:\ttotal: 51.6s\tremaining: 3.66s\n",
      "2801:\ttotal: 51.6s\tremaining: 3.65s\n",
      "2802:\ttotal: 51.6s\tremaining: 3.63s\n",
      "2803:\ttotal: 51.6s\tremaining: 3.61s\n",
      "2804:\ttotal: 51.7s\tremaining: 3.59s\n",
      "2805:\ttotal: 51.7s\tremaining: 3.57s\n",
      "2806:\ttotal: 51.7s\tremaining: 3.55s\n",
      "2807:\ttotal: 51.7s\tremaining: 3.54s\n",
      "2808:\ttotal: 51.7s\tremaining: 3.52s\n",
      "2809:\ttotal: 51.8s\tremaining: 3.5s\n",
      "2810:\ttotal: 51.8s\tremaining: 3.48s\n",
      "2811:\ttotal: 51.8s\tremaining: 3.46s\n",
      "2812:\ttotal: 51.8s\tremaining: 3.44s\n",
      "2813:\ttotal: 51.8s\tremaining: 3.42s\n",
      "2814:\ttotal: 51.9s\tremaining: 3.41s\n",
      "2815:\ttotal: 51.9s\tremaining: 3.39s\n",
      "2816:\ttotal: 51.9s\tremaining: 3.37s\n",
      "2817:\ttotal: 51.9s\tremaining: 3.35s\n",
      "2818:\ttotal: 51.9s\tremaining: 3.33s\n",
      "2819:\ttotal: 52s\tremaining: 3.32s\n",
      "2820:\ttotal: 52s\tremaining: 3.3s\n",
      "2821:\ttotal: 52s\tremaining: 3.28s\n",
      "2822:\ttotal: 52s\tremaining: 3.26s\n",
      "2823:\ttotal: 52s\tremaining: 3.24s\n",
      "2824:\ttotal: 52.1s\tremaining: 3.22s\n",
      "2825:\ttotal: 52.1s\tremaining: 3.21s\n",
      "2826:\ttotal: 52.1s\tremaining: 3.19s\n",
      "2827:\ttotal: 52.1s\tremaining: 3.17s\n",
      "2828:\ttotal: 52.1s\tremaining: 3.15s\n",
      "2829:\ttotal: 52.2s\tremaining: 3.13s\n",
      "2830:\ttotal: 52.2s\tremaining: 3.11s\n",
      "2831:\ttotal: 52.2s\tremaining: 3.1s\n",
      "2832:\ttotal: 52.2s\tremaining: 3.08s\n",
      "2833:\ttotal: 52.2s\tremaining: 3.06s\n",
      "2834:\ttotal: 52.3s\tremaining: 3.04s\n",
      "2835:\ttotal: 52.3s\tremaining: 3.02s\n",
      "2836:\ttotal: 52.3s\tremaining: 3s\n",
      "2837:\ttotal: 52.3s\tremaining: 2.99s\n",
      "2838:\ttotal: 52.3s\tremaining: 2.97s\n",
      "2839:\ttotal: 52.4s\tremaining: 2.95s\n",
      "2840:\ttotal: 52.4s\tremaining: 2.93s\n",
      "2841:\ttotal: 52.4s\tremaining: 2.91s\n",
      "2842:\ttotal: 52.4s\tremaining: 2.89s\n",
      "2843:\ttotal: 52.4s\tremaining: 2.88s\n",
      "2844:\ttotal: 52.5s\tremaining: 2.86s\n",
      "2845:\ttotal: 52.5s\tremaining: 2.84s\n",
      "2846:\ttotal: 52.5s\tremaining: 2.82s\n",
      "2847:\ttotal: 52.5s\tremaining: 2.8s\n",
      "2848:\ttotal: 52.5s\tremaining: 2.78s\n",
      "2849:\ttotal: 52.6s\tremaining: 2.77s\n",
      "2850:\ttotal: 52.6s\tremaining: 2.75s\n",
      "2851:\ttotal: 52.6s\tremaining: 2.73s\n",
      "2852:\ttotal: 52.6s\tremaining: 2.71s\n",
      "2853:\ttotal: 52.6s\tremaining: 2.69s\n",
      "2854:\ttotal: 52.7s\tremaining: 2.67s\n",
      "2855:\ttotal: 52.7s\tremaining: 2.66s\n",
      "2856:\ttotal: 52.7s\tremaining: 2.64s\n",
      "2857:\ttotal: 52.7s\tremaining: 2.62s\n"
     ]
    },
    {
     "name": "stdout",
     "output_type": "stream",
     "text": [
      "2858:\ttotal: 52.7s\tremaining: 2.6s\n",
      "2859:\ttotal: 52.8s\tremaining: 2.58s\n",
      "2860:\ttotal: 52.8s\tremaining: 2.56s\n",
      "2861:\ttotal: 52.8s\tremaining: 2.55s\n",
      "2862:\ttotal: 52.8s\tremaining: 2.53s\n",
      "2863:\ttotal: 52.9s\tremaining: 2.51s\n",
      "2864:\ttotal: 52.9s\tremaining: 2.49s\n",
      "2865:\ttotal: 52.9s\tremaining: 2.47s\n",
      "2866:\ttotal: 52.9s\tremaining: 2.46s\n",
      "2867:\ttotal: 53s\tremaining: 2.44s\n",
      "2868:\ttotal: 53s\tremaining: 2.42s\n",
      "2869:\ttotal: 53s\tremaining: 2.4s\n",
      "2870:\ttotal: 53s\tremaining: 2.38s\n",
      "2871:\ttotal: 53.1s\tremaining: 2.36s\n",
      "2872:\ttotal: 53.1s\tremaining: 2.35s\n",
      "2873:\ttotal: 53.1s\tremaining: 2.33s\n",
      "2874:\ttotal: 53.1s\tremaining: 2.31s\n",
      "2875:\ttotal: 53.2s\tremaining: 2.29s\n",
      "2876:\ttotal: 53.2s\tremaining: 2.27s\n",
      "2877:\ttotal: 53.2s\tremaining: 2.25s\n",
      "2878:\ttotal: 53.2s\tremaining: 2.24s\n",
      "2879:\ttotal: 53.2s\tremaining: 2.22s\n",
      "2880:\ttotal: 53.3s\tremaining: 2.2s\n",
      "2881:\ttotal: 53.3s\tremaining: 2.18s\n",
      "2882:\ttotal: 53.3s\tremaining: 2.16s\n",
      "2883:\ttotal: 53.4s\tremaining: 2.15s\n",
      "2884:\ttotal: 53.4s\tremaining: 2.13s\n",
      "2885:\ttotal: 53.4s\tremaining: 2.11s\n",
      "2886:\ttotal: 53.4s\tremaining: 2.09s\n",
      "2887:\ttotal: 53.4s\tremaining: 2.07s\n",
      "2888:\ttotal: 53.5s\tremaining: 2.05s\n",
      "2889:\ttotal: 53.5s\tremaining: 2.04s\n",
      "2890:\ttotal: 53.5s\tremaining: 2.02s\n",
      "2891:\ttotal: 53.5s\tremaining: 2s\n",
      "2892:\ttotal: 53.6s\tremaining: 1.98s\n",
      "2893:\ttotal: 53.6s\tremaining: 1.96s\n",
      "2894:\ttotal: 53.6s\tremaining: 1.94s\n",
      "2895:\ttotal: 53.6s\tremaining: 1.93s\n",
      "2896:\ttotal: 53.7s\tremaining: 1.91s\n",
      "2897:\ttotal: 53.7s\tremaining: 1.89s\n",
      "2898:\ttotal: 53.7s\tremaining: 1.87s\n",
      "2899:\ttotal: 53.7s\tremaining: 1.85s\n",
      "2900:\ttotal: 53.8s\tremaining: 1.83s\n",
      "2901:\ttotal: 53.8s\tremaining: 1.82s\n",
      "2902:\ttotal: 53.8s\tremaining: 1.8s\n",
      "2903:\ttotal: 53.8s\tremaining: 1.78s\n",
      "2904:\ttotal: 53.9s\tremaining: 1.76s\n",
      "2905:\ttotal: 53.9s\tremaining: 1.74s\n",
      "2906:\ttotal: 53.9s\tremaining: 1.72s\n",
      "2907:\ttotal: 53.9s\tremaining: 1.71s\n",
      "2908:\ttotal: 53.9s\tremaining: 1.69s\n",
      "2909:\ttotal: 54s\tremaining: 1.67s\n",
      "2910:\ttotal: 54s\tremaining: 1.65s\n",
      "2911:\ttotal: 54s\tremaining: 1.63s\n",
      "2912:\ttotal: 54s\tremaining: 1.61s\n",
      "2913:\ttotal: 54s\tremaining: 1.59s\n",
      "2914:\ttotal: 54s\tremaining: 1.57s\n",
      "2915:\ttotal: 54.1s\tremaining: 1.56s\n",
      "2916:\ttotal: 54.1s\tremaining: 1.54s\n",
      "2917:\ttotal: 54.1s\tremaining: 1.52s\n",
      "2918:\ttotal: 54.1s\tremaining: 1.5s\n",
      "2919:\ttotal: 54.1s\tremaining: 1.48s\n",
      "2920:\ttotal: 54.2s\tremaining: 1.46s\n",
      "2921:\ttotal: 54.2s\tremaining: 1.45s\n",
      "2922:\ttotal: 54.2s\tremaining: 1.43s\n",
      "2923:\ttotal: 54.2s\tremaining: 1.41s\n",
      "2924:\ttotal: 54.2s\tremaining: 1.39s\n",
      "2925:\ttotal: 54.2s\tremaining: 1.37s\n",
      "2926:\ttotal: 54.3s\tremaining: 1.35s\n",
      "2927:\ttotal: 54.3s\tremaining: 1.33s\n",
      "2928:\ttotal: 54.3s\tremaining: 1.31s\n",
      "2929:\ttotal: 54.3s\tremaining: 1.3s\n",
      "2930:\ttotal: 54.3s\tremaining: 1.28s\n",
      "2931:\ttotal: 54.3s\tremaining: 1.26s\n",
      "2932:\ttotal: 54.4s\tremaining: 1.24s\n",
      "2933:\ttotal: 54.4s\tremaining: 1.22s\n",
      "2934:\ttotal: 54.4s\tremaining: 1.2s\n",
      "2935:\ttotal: 54.4s\tremaining: 1.19s\n",
      "2936:\ttotal: 54.4s\tremaining: 1.17s\n",
      "2937:\ttotal: 54.4s\tremaining: 1.15s\n",
      "2938:\ttotal: 54.5s\tremaining: 1.13s\n",
      "2939:\ttotal: 54.5s\tremaining: 1.11s\n",
      "2940:\ttotal: 54.5s\tremaining: 1.09s\n",
      "2941:\ttotal: 54.5s\tremaining: 1.07s\n",
      "2942:\ttotal: 54.5s\tremaining: 1.06s\n",
      "2943:\ttotal: 54.5s\tremaining: 1.04s\n",
      "2944:\ttotal: 54.6s\tremaining: 1.02s\n",
      "2945:\ttotal: 54.6s\tremaining: 1s\n",
      "2946:\ttotal: 54.6s\tremaining: 982ms\n",
      "2947:\ttotal: 54.6s\tremaining: 964ms\n",
      "2948:\ttotal: 54.6s\tremaining: 945ms\n",
      "2949:\ttotal: 54.7s\tremaining: 927ms\n",
      "2950:\ttotal: 54.7s\tremaining: 908ms\n",
      "2951:\ttotal: 54.7s\tremaining: 890ms\n",
      "2952:\ttotal: 54.7s\tremaining: 871ms\n",
      "2953:\ttotal: 54.7s\tremaining: 852ms\n",
      "2954:\ttotal: 54.8s\tremaining: 834ms\n",
      "2955:\ttotal: 54.8s\tremaining: 815ms\n",
      "2956:\ttotal: 54.8s\tremaining: 797ms\n",
      "2957:\ttotal: 54.8s\tremaining: 778ms\n",
      "2958:\ttotal: 54.8s\tremaining: 760ms\n",
      "2959:\ttotal: 54.9s\tremaining: 741ms\n",
      "2960:\ttotal: 54.9s\tremaining: 723ms\n",
      "2961:\ttotal: 54.9s\tremaining: 704ms\n",
      "2962:\ttotal: 54.9s\tremaining: 686ms\n",
      "2963:\ttotal: 54.9s\tremaining: 667ms\n",
      "2964:\ttotal: 54.9s\tremaining: 649ms\n",
      "2965:\ttotal: 55s\tremaining: 630ms\n",
      "2966:\ttotal: 55s\tremaining: 611ms\n",
      "2967:\ttotal: 55s\tremaining: 593ms\n",
      "2968:\ttotal: 55s\tremaining: 574ms\n",
      "2969:\ttotal: 55s\tremaining: 556ms\n",
      "2970:\ttotal: 55s\tremaining: 537ms\n",
      "2971:\ttotal: 55.1s\tremaining: 519ms\n",
      "2972:\ttotal: 55.1s\tremaining: 500ms\n",
      "2973:\ttotal: 55.1s\tremaining: 482ms\n",
      "2974:\ttotal: 55.1s\tremaining: 463ms\n",
      "2975:\ttotal: 55.1s\tremaining: 445ms\n",
      "2976:\ttotal: 55.2s\tremaining: 426ms\n",
      "2977:\ttotal: 55.2s\tremaining: 408ms\n",
      "2978:\ttotal: 55.2s\tremaining: 389ms\n",
      "2979:\ttotal: 55.2s\tremaining: 371ms\n",
      "2980:\ttotal: 55.2s\tremaining: 352ms\n",
      "2981:\ttotal: 55.2s\tremaining: 333ms\n",
      "2982:\ttotal: 55.3s\tremaining: 315ms\n",
      "2983:\ttotal: 55.3s\tremaining: 296ms\n",
      "2984:\ttotal: 55.3s\tremaining: 278ms\n",
      "2985:\ttotal: 55.3s\tremaining: 259ms\n",
      "2986:\ttotal: 55.3s\tremaining: 241ms\n",
      "2987:\ttotal: 55.4s\tremaining: 222ms\n",
      "2988:\ttotal: 55.4s\tremaining: 204ms\n",
      "2989:\ttotal: 55.4s\tremaining: 185ms\n",
      "2990:\ttotal: 55.4s\tremaining: 167ms\n",
      "2991:\ttotal: 55.4s\tremaining: 148ms\n",
      "2992:\ttotal: 55.4s\tremaining: 130ms\n",
      "2993:\ttotal: 55.5s\tremaining: 111ms\n",
      "2994:\ttotal: 55.5s\tremaining: 92.6ms\n",
      "2995:\ttotal: 55.5s\tremaining: 74.1ms\n",
      "2996:\ttotal: 55.5s\tremaining: 55.6ms\n",
      "2997:\ttotal: 55.5s\tremaining: 37ms\n",
      "2998:\ttotal: 55.6s\tremaining: 18.5ms\n",
      "2999:\ttotal: 55.6s\tremaining: 0us\n"
     ]
    },
    {
     "data": {
      "text/plain": [
       "<catboost.core.CatBoostClassifier at 0x20c27507148>"
      ]
     },
     "execution_count": 204,
     "metadata": {},
     "output_type": "execute_result"
    }
   ],
   "source": [
    "model.fit(X_train, y_train)"
   ]
  },
  {
   "cell_type": "code",
   "execution_count": 205,
   "metadata": {},
   "outputs": [],
   "source": [
    "# Predicting trained values"
   ]
  },
  {
   "cell_type": "code",
   "execution_count": 206,
   "metadata": {},
   "outputs": [],
   "source": [
    "y_train_pred = model.predict_proba(X_train)"
   ]
  },
  {
   "cell_type": "code",
   "execution_count": 207,
   "metadata": {},
   "outputs": [],
   "source": [
    "# Predicting y values for test dataset"
   ]
  },
  {
   "cell_type": "code",
   "execution_count": 208,
   "metadata": {},
   "outputs": [],
   "source": [
    "y_pred = model.predict_proba(X_test)"
   ]
  },
  {
   "cell_type": "code",
   "execution_count": 209,
   "metadata": {
    "scrolled": true
   },
   "outputs": [
    {
     "data": {
      "text/plain": [
       "array([[0.67475715, 0.32524285],\n",
       "       [0.70146549, 0.29853451],\n",
       "       [0.73795701, 0.26204299],\n",
       "       ...,\n",
       "       [0.98587564, 0.01412436],\n",
       "       [0.82089199, 0.17910801],\n",
       "       [0.9309173 , 0.0690827 ]])"
      ]
     },
     "execution_count": 209,
     "metadata": {},
     "output_type": "execute_result"
    }
   ],
   "source": [
    "y_pred"
   ]
  },
  {
   "cell_type": "code",
   "execution_count": 210,
   "metadata": {},
   "outputs": [],
   "source": [
    "pred = pd.DataFrame(y_pred)"
   ]
  },
  {
   "cell_type": "code",
   "execution_count": 211,
   "metadata": {},
   "outputs": [],
   "source": [
    "from sklearn import metrics"
   ]
  },
  {
   "cell_type": "code",
   "execution_count": 212,
   "metadata": {},
   "outputs": [],
   "source": [
    "# calculate the fpr and tpr for all thresholds of the classification\n",
    "probs = model.predict_proba(X_train)\n",
    "preds = probs[:,1]\n",
    "fpr, tpr, threshold = metrics.roc_curve(y_train, preds)\n",
    "roc_auc = metrics.auc(fpr, tpr)"
   ]
  },
  {
   "cell_type": "code",
   "execution_count": 213,
   "metadata": {},
   "outputs": [],
   "source": [
    "# ROC curve"
   ]
  },
  {
   "cell_type": "code",
   "execution_count": 214,
   "metadata": {},
   "outputs": [
    {
     "data": {
      "image/png": "[encoded data removed]",
      "text/plain": [
       "<Figure size 432x288 with 1 Axes>"
      ]
     },
     "metadata": {
      "needs_background": "light"
     },
     "output_type": "display_data"
    }
   ],
   "source": [
    "import matplotlib.pyplot as plt\n",
    "plt.title('Receiver Operating Characteristic')\n",
    "plt.plot(fpr, tpr, 'b', label = 'AUC = %0.2f' % roc_auc)\n",
    "plt.legend(loc = 'lower right')\n",
    "plt.plot([0, 1], [0, 1],'r--')\n",
    "plt.xlim([0, 1])\n",
    "plt.ylim([0, 1])\n",
    "plt.ylabel('True Positive Rate')\n",
    "plt.xlabel('False Positive Rate')\n",
    "plt.show()"
   ]
  },
  {
   "cell_type": "code",
   "execution_count": 215,
   "metadata": {},
   "outputs": [],
   "source": [
    "pred = model.predict_proba (X_test) [:,1]"
   ]
  },
  {
   "cell_type": "code",
   "execution_count": 216,
   "metadata": {},
   "outputs": [],
   "source": [
    "pred = pd.DataFrame(pred)"
   ]
  },
  {
   "cell_type": "code",
   "execution_count": 217,
   "metadata": {},
   "outputs": [
    {
     "data": {
      "text/html": [
       "<div>\n",
       "<style scoped>\n",
       "    .dataframe tbody tr th:only-of-type {\n",
       "        vertical-align: middle;\n",
       "    }\n",
       "\n",
       "    .dataframe tbody tr th {\n",
       "        vertical-align: top;\n",
       "    }\n",
       "\n",
       "    .dataframe thead th {\n",
       "        text-align: right;\n",
       "    }\n",
       "</style>\n",
       "<table border=\"1\" class=\"dataframe\">\n",
       "  <thead>\n",
       "    <tr style=\"text-align: right;\">\n",
       "      <th></th>\n",
       "      <th>0</th>\n",
       "    </tr>\n",
       "  </thead>\n",
       "  <tbody>\n",
       "    <tr>\n",
       "      <th>0</th>\n",
       "      <td>0.325243</td>\n",
       "    </tr>\n",
       "    <tr>\n",
       "      <th>1</th>\n",
       "      <td>0.298535</td>\n",
       "    </tr>\n",
       "    <tr>\n",
       "      <th>2</th>\n",
       "      <td>0.262043</td>\n",
       "    </tr>\n",
       "    <tr>\n",
       "      <th>3</th>\n",
       "      <td>0.235434</td>\n",
       "    </tr>\n",
       "    <tr>\n",
       "      <th>4</th>\n",
       "      <td>0.174817</td>\n",
       "    </tr>\n",
       "  </tbody>\n",
       "</table>\n",
       "</div>"
      ],
      "text/plain": [
       "          0\n",
       "0  0.325243\n",
       "1  0.298535\n",
       "2  0.262043\n",
       "3  0.235434\n",
       "4  0.174817"
      ]
     },
     "execution_count": 217,
     "metadata": {},
     "output_type": "execute_result"
    }
   ],
   "source": [
    "pred.head()"
   ]
  },
  {
   "cell_type": "code",
   "execution_count": null,
   "metadata": {},
   "outputs": [],
   "source": []
  },
  {
   "cell_type": "code",
   "execution_count": null,
   "metadata": {},
   "outputs": [],
   "source": []
  },
  {
   "cell_type": "markdown",
   "metadata": {},
   "source": [
    "## KNN model"
   ]
  },
  {
   "cell_type": "code",
   "execution_count": 158,
   "metadata": {},
   "outputs": [],
   "source": [
    "from sklearn.neighbors import KNeighborsClassifier as KNC"
   ]
  },
  {
   "cell_type": "code",
   "execution_count": 159,
   "metadata": {},
   "outputs": [],
   "source": [
    "neigh = KNC(n_neighbors = 3)"
   ]
  },
  {
   "cell_type": "code",
   "execution_count": 160,
   "metadata": {},
   "outputs": [],
   "source": [
    "model = neigh.fit(X_train, y_train)"
   ]
  },
  {
   "cell_type": "code",
   "execution_count": 163,
   "metadata": {},
   "outputs": [],
   "source": [
    "# Predicting trained values"
   ]
  },
  {
   "cell_type": "code",
   "execution_count": 164,
   "metadata": {},
   "outputs": [],
   "source": [
    "y_train_pred = neigh.predict_proba(X_train)"
   ]
  },
  {
   "cell_type": "code",
   "execution_count": 165,
   "metadata": {},
   "outputs": [],
   "source": [
    "# Predicting y values for test dataset"
   ]
  },
  {
   "cell_type": "code",
   "execution_count": 166,
   "metadata": {},
   "outputs": [],
   "source": [
    "y_pred = neigh.predict_proba(X_test)"
   ]
  },
  {
   "cell_type": "code",
   "execution_count": 167,
   "metadata": {
    "scrolled": true
   },
   "outputs": [
    {
     "data": {
      "text/plain": [
       "array([[1.        , 0.        ],\n",
       "       [0.33333333, 0.66666667],\n",
       "       [0.66666667, 0.33333333],\n",
       "       ...,\n",
       "       [0.33333333, 0.66666667],\n",
       "       [0.33333333, 0.66666667],\n",
       "       [0.66666667, 0.33333333]])"
      ]
     },
     "execution_count": 167,
     "metadata": {},
     "output_type": "execute_result"
    }
   ],
   "source": [
    "y_pred"
   ]
  },
  {
   "cell_type": "code",
   "execution_count": 168,
   "metadata": {},
   "outputs": [],
   "source": [
    "pred = pd.DataFrame(y_pred)"
   ]
  },
  {
   "cell_type": "code",
   "execution_count": 169,
   "metadata": {},
   "outputs": [],
   "source": [
    "from sklearn import metrics"
   ]
  },
  {
   "cell_type": "code",
   "execution_count": 170,
   "metadata": {},
   "outputs": [],
   "source": [
    "# calculate the fpr and tpr for all thresholds of the classification\n",
    "probs = neigh.predict_proba(X_train)\n",
    "preds = probs[:,1]\n",
    "fpr, tpr, threshold = metrics.roc_curve(y_train, preds)\n",
    "roc_auc = metrics.auc(fpr, tpr)"
   ]
  },
  {
   "cell_type": "code",
   "execution_count": 171,
   "metadata": {},
   "outputs": [],
   "source": [
    "# ROC curve"
   ]
  },
  {
   "cell_type": "code",
   "execution_count": 172,
   "metadata": {},
   "outputs": [
    {
     "data": {
      "image/png": "[encoded data removed]",
      "text/plain": [
       "<Figure size 432x288 with 1 Axes>"
      ]
     },
     "metadata": {
      "needs_background": "light"
     },
     "output_type": "display_data"
    }
   ],
   "source": [
    "import matplotlib.pyplot as plt\n",
    "plt.title('Receiver Operating Characteristic')\n",
    "plt.plot(fpr, tpr, 'b', label = 'AUC = %0.2f' % roc_auc)\n",
    "plt.legend(loc = 'lower right')\n",
    "plt.plot([0, 1], [0, 1],'r--')\n",
    "plt.xlim([0, 1])\n",
    "plt.ylim([0, 1])\n",
    "plt.ylabel('True Positive Rate')\n",
    "plt.xlabel('False Positive Rate')\n",
    "plt.show()"
   ]
  },
  {
   "cell_type": "code",
   "execution_count": 173,
   "metadata": {},
   "outputs": [],
   "source": [
    "pred = neigh.predict_proba (X_test) [:,1]"
   ]
  },
  {
   "cell_type": "code",
   "execution_count": 174,
   "metadata": {},
   "outputs": [],
   "source": [
    "pred = pd.DataFrame(pred)"
   ]
  },
  {
   "cell_type": "code",
   "execution_count": 175,
   "metadata": {
    "scrolled": true
   },
   "outputs": [
    {
     "data": {
      "text/html": [
       "<div>\n",
       "<style scoped>\n",
       "    .dataframe tbody tr th:only-of-type {\n",
       "        vertical-align: middle;\n",
       "    }\n",
       "\n",
       "    .dataframe tbody tr th {\n",
       "        vertical-align: top;\n",
       "    }\n",
       "\n",
       "    .dataframe thead th {\n",
       "        text-align: right;\n",
       "    }\n",
       "</style>\n",
       "<table border=\"1\" class=\"dataframe\">\n",
       "  <thead>\n",
       "    <tr style=\"text-align: right;\">\n",
       "      <th></th>\n",
       "      <th>0</th>\n",
       "    </tr>\n",
       "  </thead>\n",
       "  <tbody>\n",
       "    <tr>\n",
       "      <th>0</th>\n",
       "      <td>0.000000</td>\n",
       "    </tr>\n",
       "    <tr>\n",
       "      <th>1</th>\n",
       "      <td>0.666667</td>\n",
       "    </tr>\n",
       "    <tr>\n",
       "      <th>2</th>\n",
       "      <td>0.333333</td>\n",
       "    </tr>\n",
       "    <tr>\n",
       "      <th>3</th>\n",
       "      <td>0.333333</td>\n",
       "    </tr>\n",
       "    <tr>\n",
       "      <th>4</th>\n",
       "      <td>0.333333</td>\n",
       "    </tr>\n",
       "    <tr>\n",
       "      <th>5</th>\n",
       "      <td>0.333333</td>\n",
       "    </tr>\n",
       "    <tr>\n",
       "      <th>6</th>\n",
       "      <td>0.333333</td>\n",
       "    </tr>\n",
       "    <tr>\n",
       "      <th>7</th>\n",
       "      <td>0.666667</td>\n",
       "    </tr>\n",
       "    <tr>\n",
       "      <th>8</th>\n",
       "      <td>0.666667</td>\n",
       "    </tr>\n",
       "    <tr>\n",
       "      <th>9</th>\n",
       "      <td>0.000000</td>\n",
       "    </tr>\n",
       "  </tbody>\n",
       "</table>\n",
       "</div>"
      ],
      "text/plain": [
       "          0\n",
       "0  0.000000\n",
       "1  0.666667\n",
       "2  0.333333\n",
       "3  0.333333\n",
       "4  0.333333\n",
       "5  0.333333\n",
       "6  0.333333\n",
       "7  0.666667\n",
       "8  0.666667\n",
       "9  0.000000"
      ]
     },
     "execution_count": 175,
     "metadata": {},
     "output_type": "execute_result"
    }
   ],
   "source": [
    "pred.head(10)"
   ]
  },
  {
   "cell_type": "markdown",
   "metadata": {},
   "source": [
    "## Logistic Regression model"
   ]
  },
  {
   "cell_type": "code",
   "execution_count": 185,
   "metadata": {},
   "outputs": [],
   "source": [
    "from sklearn.linear_model import LogisticRegression"
   ]
  },
  {
   "cell_type": "code",
   "execution_count": 258,
   "metadata": {},
   "outputs": [],
   "source": [
    "classifier = LogisticRegression(max_iter=200, multi_class=\"ovr\", solver=\"saga\")"
   ]
  },
  {
   "cell_type": "code",
   "execution_count": 259,
   "metadata": {},
   "outputs": [
    {
     "data": {
      "text/plain": [
       "LogisticRegression(max_iter=200, multi_class='ovr', solver='saga')"
      ]
     },
     "execution_count": 259,
     "metadata": {},
     "output_type": "execute_result"
    }
   ],
   "source": [
    "classifier.fit(X_train, y_train)"
   ]
  },
  {
   "cell_type": "code",
   "execution_count": 260,
   "metadata": {},
   "outputs": [
    {
     "data": {
      "text/plain": [
       "array([[ 0.08839248,  0.04972616,  0.01036666,  0.03128432, -0.00466239,\n",
       "         1.00731565, -0.17332395, -0.10059562, -0.04930556, -0.01529242,\n",
       "         0.16872755, -0.05358428, -0.18800336, -0.05672178,  0.04427905,\n",
       "        -0.00692253,  0.15267682,  0.01240188, -0.10201144, -0.11164645,\n",
       "        -0.11004191,  0.09044956,  0.06485162,  0.02809759, -0.08898209,\n",
       "         0.19884868,  0.04141284,  0.08941957, -0.01722151,  0.32196861,\n",
       "        -0.54163949,  0.35430649,  0.12181112,  0.34709835,  0.27904113,\n",
       "        -0.67645916,  0.09008916,  0.02895374, -0.05458013,  0.01854133,\n",
       "         0.02397661,  0.06862302, -0.00481488,  0.20573348, -0.15799043]])"
      ]
     },
     "execution_count": 260,
     "metadata": {},
     "output_type": "execute_result"
    }
   ],
   "source": [
    "classifier.coef_                  # coefficients of features "
   ]
  },
  {
   "cell_type": "code",
   "execution_count": 261,
   "metadata": {},
   "outputs": [
    {
     "data": {
      "text/plain": [
       "array([[0.70509386, 0.29490614],\n",
       "       [0.66516218, 0.33483782],\n",
       "       [0.72111135, 0.27888865],\n",
       "       ...,\n",
       "       [0.79321513, 0.20678487],\n",
       "       [0.73245211, 0.26754789],\n",
       "       [0.74156498, 0.25843502]])"
      ]
     },
     "execution_count": 261,
     "metadata": {},
     "output_type": "execute_result"
    }
   ],
   "source": [
    "classifier.predict_proba (X_train)            # Probability values "
   ]
  },
  {
   "cell_type": "code",
   "execution_count": 262,
   "metadata": {
    "scrolled": true
   },
   "outputs": [
    {
     "data": {
      "text/plain": [
       "array([[0.84546658, 0.15453342],\n",
       "       [0.73066388, 0.26933612],\n",
       "       [0.75409696, 0.24590304],\n",
       "       ...,\n",
       "       [0.86648272, 0.13351728],\n",
       "       [0.75304643, 0.24695357],\n",
       "       [0.85252647, 0.14747353]])"
      ]
     },
     "execution_count": 262,
     "metadata": {},
     "output_type": "execute_result"
    }
   ],
   "source": [
    "classifier.predict_proba (X_test) "
   ]
  },
  {
   "cell_type": "code",
   "execution_count": 263,
   "metadata": {},
   "outputs": [],
   "source": [
    "pred = classifier.predict_proba (X_test) [:,1]"
   ]
  },
  {
   "cell_type": "code",
   "execution_count": 264,
   "metadata": {},
   "outputs": [],
   "source": [
    "y_pred = classifier.predict(X_test)"
   ]
  },
  {
   "cell_type": "code",
   "execution_count": 265,
   "metadata": {
    "scrolled": true
   },
   "outputs": [
    {
     "data": {
      "text/plain": [
       "array([0., 0., 0., ..., 0., 0., 0.])"
      ]
     },
     "execution_count": 265,
     "metadata": {},
     "output_type": "execute_result"
    }
   ],
   "source": [
    "y_pred"
   ]
  },
  {
   "cell_type": "code",
   "execution_count": 266,
   "metadata": {},
   "outputs": [],
   "source": [
    "pred = pd.DataFrame(pred)"
   ]
  },
  {
   "cell_type": "code",
   "execution_count": 267,
   "metadata": {
    "scrolled": true
   },
   "outputs": [
    {
     "data": {
      "text/plain": [
       "0.295784    2\n",
       "0.401366    1\n",
       "0.226739    1\n",
       "0.226649    1\n",
       "0.226658    1\n",
       "           ..\n",
       "0.268339    1\n",
       "0.268341    1\n",
       "0.268344    1\n",
       "0.268351    1\n",
       "0.080285    1\n",
       "Length: 21804, dtype: int64"
      ]
     },
     "execution_count": 267,
     "metadata": {},
     "output_type": "execute_result"
    }
   ],
   "source": [
    "pred.value_counts()"
   ]
  },
  {
   "cell_type": "code",
   "execution_count": 268,
   "metadata": {},
   "outputs": [],
   "source": [
    "# Predicting trained values"
   ]
  },
  {
   "cell_type": "code",
   "execution_count": 269,
   "metadata": {},
   "outputs": [],
   "source": [
    "y_train_pred = classifier.predict(X_train)"
   ]
  },
  {
   "cell_type": "code",
   "execution_count": 270,
   "metadata": {},
   "outputs": [],
   "source": [
    "# Predicting y values for test dataset"
   ]
  },
  {
   "cell_type": "code",
   "execution_count": 271,
   "metadata": {},
   "outputs": [
    {
     "data": {
      "text/plain": [
       "array([[38673, 12209],\n",
       "       [    0,     0]], dtype=int64)"
      ]
     },
     "execution_count": 271,
     "metadata": {},
     "output_type": "execute_result"
    }
   ],
   "source": [
    "confusion_matrix(y_train_pred, y_train)"
   ]
  },
  {
   "cell_type": "code",
   "execution_count": 272,
   "metadata": {},
   "outputs": [
    {
     "data": {
      "text/plain": [
       "0.7600526708855784"
      ]
     },
     "execution_count": 272,
     "metadata": {},
     "output_type": "execute_result"
    }
   ],
   "source": [
    "Accuracy = accuracy_score(y_train_pred, y_train)\n",
    "Accuracy"
   ]
  },
  {
   "cell_type": "code",
   "execution_count": 273,
   "metadata": {},
   "outputs": [],
   "source": [
    "from sklearn import metrics"
   ]
  },
  {
   "cell_type": "code",
   "execution_count": 274,
   "metadata": {},
   "outputs": [],
   "source": [
    "# calculate the fpr and tpr for all thresholds of the classification\n",
    "probs = classifier.predict_proba(X_train)\n",
    "preds = probs[:,1]\n",
    "fpr, tpr, threshold = metrics.roc_curve(y_train, preds)\n",
    "roc_auc = metrics.auc(fpr, tpr)"
   ]
  },
  {
   "cell_type": "code",
   "execution_count": 275,
   "metadata": {},
   "outputs": [],
   "source": [
    "# ROC curve"
   ]
  },
  {
   "cell_type": "code",
   "execution_count": 276,
   "metadata": {},
   "outputs": [
    {
     "data": {
      "image/png": "[encoded data removed]",
      "text/plain": [
       "<Figure size 432x288 with 1 Axes>"
      ]
     },
     "metadata": {
      "needs_background": "light"
     },
     "output_type": "display_data"
    }
   ],
   "source": [
    "import matplotlib.pyplot as plt\n",
    "plt.title('Receiver Operating Characteristic')\n",
    "plt.plot(fpr, tpr, 'b', label = 'AUC = %0.2f' % roc_auc)\n",
    "plt.legend(loc = 'lower right')\n",
    "plt.plot([0, 1], [0, 1],'r--')\n",
    "plt.xlim([0, 1])\n",
    "plt.ylim([0, 1])\n",
    "plt.ylabel('True Positive Rate')\n",
    "plt.xlabel('False Positive Rate')\n",
    "plt.show()"
   ]
  },
  {
   "cell_type": "markdown",
   "metadata": {},
   "source": [
    "## SVM Model"
   ]
  },
  {
   "cell_type": "code",
   "execution_count": 186,
   "metadata": {},
   "outputs": [],
   "source": [
    "from sklearn.svm import SVC"
   ]
  },
  {
   "cell_type": "code",
   "execution_count": null,
   "metadata": {},
   "outputs": [],
   "source": [
    "model_poly = SVC(kernel = \"rbf\", probability=True)\n",
    "model_poly.fit(X_train,y_train)"
   ]
  },
  {
   "cell_type": "code",
   "execution_count": null,
   "metadata": {},
   "outputs": [],
   "source": [
    "# Predicting trained values"
   ]
  },
  {
   "cell_type": "code",
   "execution_count": null,
   "metadata": {},
   "outputs": [],
   "source": [
    "y_train_pred = model_poly.predict_proba(X_train)"
   ]
  },
  {
   "cell_type": "code",
   "execution_count": null,
   "metadata": {},
   "outputs": [],
   "source": [
    "# Predicting y values for test dataset"
   ]
  },
  {
   "cell_type": "code",
   "execution_count": null,
   "metadata": {},
   "outputs": [],
   "source": [
    "y_pred = model_poly.predict_proba(X_test)"
   ]
  },
  {
   "cell_type": "code",
   "execution_count": null,
   "metadata": {
    "scrolled": true
   },
   "outputs": [],
   "source": [
    "y_pred"
   ]
  },
  {
   "cell_type": "code",
   "execution_count": null,
   "metadata": {},
   "outputs": [],
   "source": [
    "pred = pd.DataFrame(y_pred)"
   ]
  },
  {
   "cell_type": "code",
   "execution_count": null,
   "metadata": {},
   "outputs": [],
   "source": [
    "from sklearn import metrics"
   ]
  },
  {
   "cell_type": "code",
   "execution_count": null,
   "metadata": {},
   "outputs": [],
   "source": [
    "# calculate the fpr and tpr for all thresholds of the classification\n",
    "probs = model_poly.predict_proba(X_train)\n",
    "preds = probs[:,1]\n",
    "fpr, tpr, threshold = metrics.roc_curve(y_train, preds)\n",
    "roc_auc = metrics.auc(fpr, tpr)"
   ]
  },
  {
   "cell_type": "code",
   "execution_count": null,
   "metadata": {},
   "outputs": [],
   "source": [
    "# ROC curve"
   ]
  },
  {
   "cell_type": "code",
   "execution_count": null,
   "metadata": {},
   "outputs": [],
   "source": [
    "import matplotlib.pyplot as plt\n",
    "plt.title('Receiver Operating Characteristic')\n",
    "plt.plot(fpr, tpr, 'b', label = 'AUC = %0.2f' % roc_auc)\n",
    "plt.legend(loc = 'lower right')\n",
    "plt.plot([0, 1], [0, 1],'r--')\n",
    "plt.xlim([0, 1])\n",
    "plt.ylim([0, 1])\n",
    "plt.ylabel('True Positive Rate')\n",
    "plt.xlabel('False Positive Rate')\n",
    "plt.show()"
   ]
  },
  {
   "cell_type": "code",
   "execution_count": null,
   "metadata": {},
   "outputs": [],
   "source": [
    "pred = classifier.predict_proba (X_test) [:,1]"
   ]
  },
  {
   "cell_type": "code",
   "execution_count": null,
   "metadata": {},
   "outputs": [],
   "source": [
    "pred = pd.DataFrame(pred)"
   ]
  },
  {
   "cell_type": "code",
   "execution_count": null,
   "metadata": {
    "scrolled": true
   },
   "outputs": [],
   "source": [
    "pred.head(10)"
   ]
  },
  {
   "cell_type": "code",
   "execution_count": null,
   "metadata": {},
   "outputs": [],
   "source": []
  },
  {
   "cell_type": "markdown",
   "metadata": {},
   "source": [
    "## Naive Bayes model"
   ]
  },
  {
   "cell_type": "code",
   "execution_count": 106,
   "metadata": {},
   "outputs": [],
   "source": [
    "from sklearn.naive_bayes import MultinomialNB"
   ]
  },
  {
   "cell_type": "code",
   "execution_count": 107,
   "metadata": {},
   "outputs": [],
   "source": [
    "nb_classifier = MultinomialNB()"
   ]
  },
  {
   "cell_type": "code",
   "execution_count": 108,
   "metadata": {},
   "outputs": [
    {
     "data": {
      "text/plain": [
       "MultinomialNB()"
      ]
     },
     "execution_count": 108,
     "metadata": {},
     "output_type": "execute_result"
    }
   ],
   "source": [
    "nb_classifier.fit(X_train, y_train)"
   ]
  },
  {
   "cell_type": "code",
   "execution_count": 109,
   "metadata": {},
   "outputs": [],
   "source": [
    "# Predicting trained values"
   ]
  },
  {
   "cell_type": "code",
   "execution_count": 110,
   "metadata": {},
   "outputs": [],
   "source": [
    "y_train_pred = nb_classifier.predict_proba(X_train)"
   ]
  },
  {
   "cell_type": "code",
   "execution_count": 111,
   "metadata": {},
   "outputs": [],
   "source": [
    "# Predicting y values for test dataset"
   ]
  },
  {
   "cell_type": "code",
   "execution_count": 112,
   "metadata": {},
   "outputs": [],
   "source": [
    "y_pred = nb_classifier.predict_proba(X_test)"
   ]
  },
  {
   "cell_type": "code",
   "execution_count": 113,
   "metadata": {
    "scrolled": true
   },
   "outputs": [
    {
     "data": {
      "text/plain": [
       "array([[0.76133514, 0.23866486],\n",
       "       [0.74828935, 0.25171065],\n",
       "       [0.75127807, 0.24872193],\n",
       "       ...,\n",
       "       [0.78550101, 0.21449899],\n",
       "       [0.77273063, 0.22726937],\n",
       "       [0.76998357, 0.23001643]])"
      ]
     },
     "execution_count": 113,
     "metadata": {},
     "output_type": "execute_result"
    }
   ],
   "source": [
    "y_pred"
   ]
  },
  {
   "cell_type": "code",
   "execution_count": 114,
   "metadata": {},
   "outputs": [],
   "source": [
    "pred = pd.DataFrame(y_pred)"
   ]
  },
  {
   "cell_type": "code",
   "execution_count": 115,
   "metadata": {},
   "outputs": [],
   "source": [
    "from sklearn import metrics"
   ]
  },
  {
   "cell_type": "code",
   "execution_count": 116,
   "metadata": {},
   "outputs": [],
   "source": [
    "# calculate the fpr and tpr for all thresholds of the classification\n",
    "probs = nb_classifier.predict_proba(X_train)\n",
    "preds = probs[:,1]\n",
    "fpr, tpr, threshold = metrics.roc_curve(y_train, preds)\n",
    "roc_auc = metrics.auc(fpr, tpr)"
   ]
  },
  {
   "cell_type": "code",
   "execution_count": 117,
   "metadata": {},
   "outputs": [],
   "source": [
    "# ROC curve"
   ]
  },
  {
   "cell_type": "code",
   "execution_count": 118,
   "metadata": {},
   "outputs": [
    {
     "data": {
      "image/png": "[encoded data removed]",
      "text/plain": [
       "<Figure size 432x288 with 1 Axes>"
      ]
     },
     "metadata": {
      "needs_background": "light"
     },
     "output_type": "display_data"
    }
   ],
   "source": [
    "import matplotlib.pyplot as plt\n",
    "plt.title('Receiver Operating Characteristic')\n",
    "plt.plot(fpr, tpr, 'b', label = 'AUC = %0.2f' % roc_auc)\n",
    "plt.legend(loc = 'lower right')\n",
    "plt.plot([0, 1], [0, 1],'r--')\n",
    "plt.xlim([0, 1])\n",
    "plt.ylim([0, 1])\n",
    "plt.ylabel('True Positive Rate')\n",
    "plt.xlabel('False Positive Rate')\n",
    "plt.show()"
   ]
  },
  {
   "cell_type": "code",
   "execution_count": 119,
   "metadata": {},
   "outputs": [],
   "source": [
    "pred = nb_classifier.predict_proba (X_test) [:,1]"
   ]
  },
  {
   "cell_type": "code",
   "execution_count": 120,
   "metadata": {},
   "outputs": [],
   "source": [
    "pred = pd.DataFrame(pred)"
   ]
  },
  {
   "cell_type": "code",
   "execution_count": 121,
   "metadata": {
    "scrolled": true
   },
   "outputs": [
    {
     "data": {
      "text/html": [
       "<div>\n",
       "<style scoped>\n",
       "    .dataframe tbody tr th:only-of-type {\n",
       "        vertical-align: middle;\n",
       "    }\n",
       "\n",
       "    .dataframe tbody tr th {\n",
       "        vertical-align: top;\n",
       "    }\n",
       "\n",
       "    .dataframe thead th {\n",
       "        text-align: right;\n",
       "    }\n",
       "</style>\n",
       "<table border=\"1\" class=\"dataframe\">\n",
       "  <thead>\n",
       "    <tr style=\"text-align: right;\">\n",
       "      <th></th>\n",
       "      <th>0</th>\n",
       "    </tr>\n",
       "  </thead>\n",
       "  <tbody>\n",
       "    <tr>\n",
       "      <th>0</th>\n",
       "      <td>0.238665</td>\n",
       "    </tr>\n",
       "    <tr>\n",
       "      <th>1</th>\n",
       "      <td>0.251711</td>\n",
       "    </tr>\n",
       "    <tr>\n",
       "      <th>2</th>\n",
       "      <td>0.248722</td>\n",
       "    </tr>\n",
       "    <tr>\n",
       "      <th>3</th>\n",
       "      <td>0.237353</td>\n",
       "    </tr>\n",
       "    <tr>\n",
       "      <th>4</th>\n",
       "      <td>0.232466</td>\n",
       "    </tr>\n",
       "    <tr>\n",
       "      <th>5</th>\n",
       "      <td>0.240681</td>\n",
       "    </tr>\n",
       "    <tr>\n",
       "      <th>6</th>\n",
       "      <td>0.252191</td>\n",
       "    </tr>\n",
       "    <tr>\n",
       "      <th>7</th>\n",
       "      <td>0.249351</td>\n",
       "    </tr>\n",
       "    <tr>\n",
       "      <th>8</th>\n",
       "      <td>0.245591</td>\n",
       "    </tr>\n",
       "    <tr>\n",
       "      <th>9</th>\n",
       "      <td>0.250687</td>\n",
       "    </tr>\n",
       "  </tbody>\n",
       "</table>\n",
       "</div>"
      ],
      "text/plain": [
       "          0\n",
       "0  0.238665\n",
       "1  0.251711\n",
       "2  0.248722\n",
       "3  0.237353\n",
       "4  0.232466\n",
       "5  0.240681\n",
       "6  0.252191\n",
       "7  0.249351\n",
       "8  0.245591\n",
       "9  0.250687"
      ]
     },
     "execution_count": 121,
     "metadata": {},
     "output_type": "execute_result"
    }
   ],
   "source": [
    "pred.head(10)"
   ]
  },
  {
   "cell_type": "code",
   "execution_count": 122,
   "metadata": {},
   "outputs": [],
   "source": [
    "### Hyperparameter tuning of Naive Bayes model"
   ]
  },
  {
   "cell_type": "code",
   "execution_count": 123,
   "metadata": {},
   "outputs": [],
   "source": [
    "# Tuning the parameter 'alpha' to improve the accuracy"
   ]
  },
  {
   "cell_type": "code",
   "execution_count": 126,
   "metadata": {},
   "outputs": [],
   "source": [
    "from sklearn.metrics import roc_auc_score"
   ]
  },
  {
   "cell_type": "code",
   "execution_count": 124,
   "metadata": {},
   "outputs": [],
   "source": [
    "classifier=MultinomialNB(alpha=0.1)"
   ]
  },
  {
   "cell_type": "code",
   "execution_count": 128,
   "metadata": {},
   "outputs": [
    {
     "name": "stdout",
     "output_type": "stream",
     "text": [
      "Alpha: 0.1, Score : 0.5\n",
      "Alpha: 0.2, Score : 0.5\n",
      "Alpha: 0.3, Score : 0.5\n",
      "Alpha: 0.4, Score : 0.5\n",
      "Alpha: 0.5, Score : 0.5\n",
      "Alpha: 0.6, Score : 0.5\n",
      "Alpha: 0.7, Score : 0.5\n",
      "Alpha: 0.8, Score : 0.5\n",
      "Alpha: 0.9, Score : 0.5\n",
      "Alpha: 1.0, Score : 0.5\n"
     ]
    }
   ],
   "source": [
    "previous_score=0\n",
    "for alpha in np.arange(0.1,1.1,0.1):\n",
    "    sub_classifier=MultinomialNB(alpha=alpha)\n",
    "    sub_classifier.fit(X_train,y_train)\n",
    "    y_pred=sub_classifier.predict(X_train)\n",
    "    score = roc_auc_score(y_train, y_pred)\n",
    "    if score>previous_score:\n",
    "        classifier=sub_classifier\n",
    "    print(\"Alpha: {}, Score : {}\".format(round(alpha,1),score))"
   ]
  },
  {
   "cell_type": "code",
   "execution_count": null,
   "metadata": {},
   "outputs": [],
   "source": []
  },
  {
   "cell_type": "code",
   "execution_count": null,
   "metadata": {},
   "outputs": [],
   "source": []
  },
  {
   "cell_type": "code",
   "execution_count": null,
   "metadata": {},
   "outputs": [],
   "source": []
  },
  {
   "cell_type": "code",
   "execution_count": 292,
   "metadata": {},
   "outputs": [],
   "source": [
    "### Saving the predicted values along with ID and Response"
   ]
  },
  {
   "cell_type": "code",
   "execution_count": 293,
   "metadata": {},
   "outputs": [],
   "source": [
    "df = pd.DataFrame(pred, columns = ['ID', 'Response'],index= None)"
   ]
  },
  {
   "cell_type": "code",
   "execution_count": 294,
   "metadata": {},
   "outputs": [],
   "source": [
    "df['Response'] = pred"
   ]
  },
  {
   "cell_type": "code",
   "execution_count": 295,
   "metadata": {},
   "outputs": [
    {
     "data": {
      "text/html": [
       "<div>\n",
       "<style scoped>\n",
       "    .dataframe tbody tr th:only-of-type {\n",
       "        vertical-align: middle;\n",
       "    }\n",
       "\n",
       "    .dataframe tbody tr th {\n",
       "        vertical-align: top;\n",
       "    }\n",
       "\n",
       "    .dataframe thead th {\n",
       "        text-align: right;\n",
       "    }\n",
       "</style>\n",
       "<table border=\"1\" class=\"dataframe\">\n",
       "  <thead>\n",
       "    <tr style=\"text-align: right;\">\n",
       "      <th></th>\n",
       "      <th>ID</th>\n",
       "      <th>Response</th>\n",
       "    </tr>\n",
       "  </thead>\n",
       "  <tbody>\n",
       "    <tr>\n",
       "      <th>0</th>\n",
       "      <td>NaN</td>\n",
       "      <td>0.239342</td>\n",
       "    </tr>\n",
       "    <tr>\n",
       "      <th>1</th>\n",
       "      <td>NaN</td>\n",
       "      <td>0.177709</td>\n",
       "    </tr>\n",
       "    <tr>\n",
       "      <th>2</th>\n",
       "      <td>NaN</td>\n",
       "      <td>0.308480</td>\n",
       "    </tr>\n",
       "    <tr>\n",
       "      <th>3</th>\n",
       "      <td>NaN</td>\n",
       "      <td>0.129555</td>\n",
       "    </tr>\n",
       "    <tr>\n",
       "      <th>4</th>\n",
       "      <td>NaN</td>\n",
       "      <td>0.057726</td>\n",
       "    </tr>\n",
       "  </tbody>\n",
       "</table>\n",
       "</div>"
      ],
      "text/plain": [
       "   ID  Response\n",
       "0 NaN  0.239342\n",
       "1 NaN  0.177709\n",
       "2 NaN  0.308480\n",
       "3 NaN  0.129555\n",
       "4 NaN  0.057726"
      ]
     },
     "execution_count": 295,
     "metadata": {},
     "output_type": "execute_result"
    }
   ],
   "source": [
    "df.head()"
   ]
  },
  {
   "cell_type": "code",
   "execution_count": 296,
   "metadata": {},
   "outputs": [
    {
     "data": {
      "text/plain": [
       "(21805, 2)"
      ]
     },
     "execution_count": 296,
     "metadata": {},
     "output_type": "execute_result"
    }
   ],
   "source": [
    "df.shape"
   ]
  },
  {
   "cell_type": "code",
   "execution_count": 297,
   "metadata": {},
   "outputs": [],
   "source": [
    "df[\"ID\"] = range(50883,72688)"
   ]
  },
  {
   "cell_type": "code",
   "execution_count": 298,
   "metadata": {},
   "outputs": [
    {
     "data": {
      "text/html": [
       "<div>\n",
       "<style scoped>\n",
       "    .dataframe tbody tr th:only-of-type {\n",
       "        vertical-align: middle;\n",
       "    }\n",
       "\n",
       "    .dataframe tbody tr th {\n",
       "        vertical-align: top;\n",
       "    }\n",
       "\n",
       "    .dataframe thead th {\n",
       "        text-align: right;\n",
       "    }\n",
       "</style>\n",
       "<table border=\"1\" class=\"dataframe\">\n",
       "  <thead>\n",
       "    <tr style=\"text-align: right;\">\n",
       "      <th></th>\n",
       "      <th>ID</th>\n",
       "      <th>Response</th>\n",
       "    </tr>\n",
       "  </thead>\n",
       "  <tbody>\n",
       "    <tr>\n",
       "      <th>0</th>\n",
       "      <td>50883</td>\n",
       "      <td>0.239342</td>\n",
       "    </tr>\n",
       "    <tr>\n",
       "      <th>1</th>\n",
       "      <td>50884</td>\n",
       "      <td>0.177709</td>\n",
       "    </tr>\n",
       "    <tr>\n",
       "      <th>2</th>\n",
       "      <td>50885</td>\n",
       "      <td>0.308480</td>\n",
       "    </tr>\n",
       "    <tr>\n",
       "      <th>3</th>\n",
       "      <td>50886</td>\n",
       "      <td>0.129555</td>\n",
       "    </tr>\n",
       "    <tr>\n",
       "      <th>4</th>\n",
       "      <td>50887</td>\n",
       "      <td>0.057726</td>\n",
       "    </tr>\n",
       "  </tbody>\n",
       "</table>\n",
       "</div>"
      ],
      "text/plain": [
       "      ID  Response\n",
       "0  50883  0.239342\n",
       "1  50884  0.177709\n",
       "2  50885  0.308480\n",
       "3  50886  0.129555\n",
       "4  50887  0.057726"
      ]
     },
     "execution_count": 298,
     "metadata": {},
     "output_type": "execute_result"
    }
   ],
   "source": [
    "df.head()"
   ]
  },
  {
   "cell_type": "code",
   "execution_count": 299,
   "metadata": {
    "scrolled": true
   },
   "outputs": [
    {
     "data": {
      "text/plain": [
       "(21805, 2)"
      ]
     },
     "execution_count": 299,
     "metadata": {},
     "output_type": "execute_result"
    }
   ],
   "source": [
    "df.shape"
   ]
  },
  {
   "cell_type": "code",
   "execution_count": 300,
   "metadata": {},
   "outputs": [],
   "source": [
    "df.to_csv('AV_health_prediction(17).csv', index = False) "
   ]
  },
  {
   "cell_type": "code",
   "execution_count": null,
   "metadata": {},
   "outputs": [],
   "source": []
  },
  {
   "cell_type": "code",
   "execution_count": null,
   "metadata": {},
   "outputs": [],
   "source": []
  },
  {
   "cell_type": "code",
   "execution_count": null,
   "metadata": {},
   "outputs": [],
   "source": []
  },
  {
   "cell_type": "code",
   "execution_count": null,
   "metadata": {},
   "outputs": [],
   "source": []
  }
 ],
 "metadata": {
  "kernelspec": {
   "display_name": "Python 3",
   "language": "python",
   "name": "python3"
  },
  "language_info": {
   "codemirror_mode": {
    "name": "ipython",
    "version": 3
   },
   "file_extension": ".py",
   "mimetype": "text/x-python",
   "name": "python",
   "nbconvert_exporter": "python",
   "pygments_lexer": "ipython3",
   "version": "3.7.4"
  }
 },
 "nbformat": 4,
 "nbformat_minor": 2
}
